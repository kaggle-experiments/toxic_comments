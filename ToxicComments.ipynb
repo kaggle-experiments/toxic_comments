{
 "cells": [
  {
   "cell_type": "code",
   "execution_count": 1,
   "metadata": {
    "collapsed": true
   },
   "outputs": [],
   "source": [
    "%load_ext autoreload"
   ]
  },
  {
   "cell_type": "code",
   "execution_count": 2,
   "metadata": {},
   "outputs": [
    {
     "name": "stderr",
     "output_type": "stream",
     "text": [
      "2018-01-29 11:27:47,145:root:INFO   :           getLogger:: creating logger for main under MODEL\n"
     ]
    }
   ],
   "source": [
    "from config import Config\n",
    "from pprint import pprint, pformat\n",
    "from logger import model_logger\n",
    "log = model_logger.getLogger('main')\n",
    "log.setLevel(Config.Log.MODEL.level)"
   ]
  },
  {
   "cell_type": "code",
   "execution_count": 3,
   "metadata": {},
   "outputs": [
    {
     "name": "stderr",
     "output_type": "stream",
     "text": [
      "2018-01-29 11:27:47,211:root:INFO   :           getLogger:: creating logger for main under TRAINER\n",
      "2018-01-29 11:27:47,428:root:INFO   :           getLogger:: creating logger for main under DATAFEED\n"
     ]
    }
   ],
   "source": [
    "%autoreload 2\n",
    "from trainer import Trainer, Feeder, Predictor\n",
    "from datafeed import DataFeed\n",
    "from torch import nn, optim\n",
    "from torch.nn import functional as F\n",
    "from torch.autograd import Variable\n",
    "import torch"
   ]
  },
  {
   "cell_type": "code",
   "execution_count": 4,
   "metadata": {
    "collapsed": true
   },
   "outputs": [],
   "source": [
    "import csv\n",
    "train_dataset = csv.reader(open('dataset/train.csv'))\n",
    "test_dataset = csv.reader(open('dataset/test.csv'))"
   ]
  },
  {
   "cell_type": "code",
   "execution_count": 5,
   "metadata": {
    "collapsed": true
   },
   "outputs": [],
   "source": [
    "from collections import namedtuple\n",
    "Sample = namedtuple('Sample', ['id','comment_text',\n",
    "                               'toxic','severe_toxic','obscene',\n",
    "                               'threat','insult','identity_hate'])"
   ]
  },
  {
   "cell_type": "markdown",
   "metadata": {},
   "source": [
    "### Unicode to ascii text"
   ]
  },
  {
   "cell_type": "code",
   "execution_count": 6,
   "metadata": {},
   "outputs": [
    {
     "data": {
      "text/plain": [
       "(159571, 153164)"
      ]
     },
     "execution_count": 6,
     "metadata": {},
     "output_type": "execute_result"
    }
   ],
   "source": [
    "import unicodedata\n",
    "train_datapoints = []\n",
    "for i in list(train_dataset)[1:]:\n",
    "    _id, c, t, st, o, t, ins, ih = i\n",
    "    t, st, o, t, ins, ih = (int(_) for _ in [t, st, o, t, ins, ih])\n",
    "    c = unicodedata.normalize('NFD', c).encode('ascii','ignore').decode()\n",
    "    train_datapoints.append(Sample(_id, c, t, st, o, t, ins, ih))\n",
    "\n",
    "test_datapoints = []\n",
    "for i in list(test_dataset)[1:]:\n",
    "    _id, c = i\n",
    "    c = unicodedata.normalize('NFD', c).encode('ascii','ignore').decode()\n",
    "    test_datapoints.append(Sample(_id, c, 0, 0, 0, 0, 0, 0))\n",
    "\n",
    "len(train_datapoints), len(test_datapoints)"
   ]
  },
  {
   "cell_type": "code",
   "execution_count": 7,
   "metadata": {
    "collapsed": true
   },
   "outputs": [],
   "source": [
    "#train_datapoints = train_datapoints[:1000]"
   ]
  },
  {
   "cell_type": "code",
   "execution_count": 8,
   "metadata": {},
   "outputs": [
    {
     "data": {
      "text/plain": [
       "[Sample(id='01ac9982edae9977', comment_text='\" \\n\\n Dear ,Welcome to Wikipedia!Unfortunately, using your e-mail address as your username is not a good idea. Wikipedia content is extensively copied and the site itself is one of the most visited sites in the world. Any edit you make on Wikipedia will have your username attached to it, and using your email address will make you a tempting target for spammers. We recommend that you change your username at Wikipedia:Changing username in order to prevent abuse.If you need any help, simply contact me on my talk page, or go to Wikipedia:Help desk. Another option is to place  on your own talk page, and someone will come shortly to help. Remember to sign your posts on talk pages with four tildes (~~~~). Again, welcome! -  at \"', toxic=0, severe_toxic=0, obscene=0, threat=0, insult=0, identity_hate=0),\n",
       " Sample(id='01ac9ea1271d7409', comment_text='Asshole, your dirty MF people tries to steal our glory and heavy persian (tajik) history by claiming us Awghans (mother/donkeyfuckers)', toxic=0, severe_toxic=0, obscene=0, threat=0, insult=0, identity_hate=0),\n",
       " Sample(id='01ad4ccccec8c8ad', comment_text='projective special orthogonal group needs to be written', toxic=0, severe_toxic=0, obscene=0, threat=0, insult=0, identity_hate=0),\n",
       " Sample(id='01adb423b7547078', comment_text='\":::: @RQG: A point you\\'re still missing is that there is more than one actual mathematical definition.  Different characterizations of a concept can be equivalent to each other, and which one is taken to be \"\"the\"\" definition may be a matter of convenience varying with the context.  As I pointed out above, one of the characterizations (as \"\"(A,V)\"\") superficially makes it appear that an affine space has more structure than a vector space (since the vector space is only \"\"V\"\" rather than \"\"(A,V)\"\").  But I explained why that is a superficial appearance, and that particular way of defining the concept of affine space is not the only way and is not sacred.    \\n \"', toxic=0, severe_toxic=0, obscene=0, threat=0, insult=0, identity_hate=0),\n",
       " Sample(id='01adfd302b3c8467', comment_text='August 2013 (UTC) \\n ::*Done.   17:20, 18', toxic=0, severe_toxic=0, obscene=0, threat=0, insult=0, identity_hate=0),\n",
       " Sample(id='01ae25c502702f12', comment_text='== Yet Another Frivolous Lawsuit == \\n\\n So what if the commercials had some false advertising in it. Eating yogurt as part of a balanced diet is still good for you. And that good bacteria that is in the yogurt has been there since the creation of yogurt.  The person suing was probably some fat idiot who ate like six serving of yogurt in one sitting everyday.  Just wait until we get some serious tort reform in America. It will put an end to this nonsense!', toxic=0, severe_toxic=0, obscene=0, threat=0, insult=0, identity_hate=0),\n",
       " Sample(id='01ae71463be0b983', comment_text=\"==Nottingham Panthers GA== \\n Thanks for your help on the Nottingham Panthers article GA review. I've now done all that was requested that you believed neccessary when the article was put on hold.\", toxic=0, severe_toxic=0, obscene=0, threat=0, insult=0, identity_hate=0),\n",
       " Sample(id='01ae75b51c6f104d', comment_text='\"Welcome! \\n\\n Hello, and welcome to Wikipedia. Thank you for your contributions. I hope you like the place and decide to stay. Here are a few good links for newcomers: \\n *The five pillars of Wikipedia \\n *How to edit a page \\n *Help pages \\n *Tutorial \\n *How to write a great article \\n *Manual of Style \\n I hope you enjoy editing here and being a Wikipedian! By the way, please be sure to sign your name on talk pages using four tildes (~~~~) to produce your name and the current date, or three tildes (~~~) for just your name. If you have any questions, you can post to the help desk or ask me on my talk page. Again, welcome!    \\n\\n Welcome to Wikipedia, the free encyclopedia! You don\\'t have to log in to read or edit articles on Wikipedia, but creating an account is quick, free and non-intrusive, requires no personal information, and gives you many benefits, including: \\n *The use of a username of your choice \\n *The ability to view all your contributions via a \"\"My contributions\"\" link  \\n *Your own user page  \\n *Your own talk page which, if you choose, also allows users to send you messages without knowing your e-mail address \\n *The use of your own personal watchlist to which you can add articles that interest you \\n *The ability to rename pages \\n *The ability to upload images  \\n *The ability to customize the appearance and behavior of the website \\n *The eligibility to become an administrator  \\n *The right to be heard in votes and elections \\n *Your IP address will no longer be visible to other users. \\n\\n We hope that you choose to become a Wikipedian and create an account.  We hope you enjoy your time here on Wikipedia as a Wikipedian! \\n\\n ==Australian Smelt== \\n\\n I did a little cleanup on the Australian Smelt article you wrote. Please write in complete sentances on wikipedia. please use proper stub tags on short articles  you can find the full list at Wikipedia:WikiProject Stub sorting/Stub types. Please try to come closer to our standard formatting. Thank you very much for contributing.   \"', toxic=0, severe_toxic=0, obscene=0, threat=0, insult=0, identity_hate=0),\n",
       " Sample(id='01aeddeab0ac923d', comment_text=\"Why would we dismiss all our usual, established reliable sources and scrabble around for others? As I and others have said, we don't need two ways to say the same thing, especially if one is in a foreign language.\", toxic=0, severe_toxic=0, obscene=0, threat=0, insult=0, identity_hate=0),\n",
       " Sample(id='01aeded1d76ab01c', comment_text='\" \\n\\n == Articles for Creation == \\n If you need an article created, you can list it in Wikipedia:Articles for creation, but please don\\'t create a new article like \"\"Paleolithic Revolution\"\" unless you\\'re actually adding content to it. Welcome, by the way!  \"', toxic=0, severe_toxic=0, obscene=0, threat=0, insult=0, identity_hate=0)]"
      ]
     },
     "execution_count": 8,
     "metadata": {},
     "output_type": "execute_result"
    }
   ],
   "source": [
    "test_datapoints[1000:1010]"
   ]
  },
  {
   "cell_type": "markdown",
   "metadata": {},
   "source": [
    "## Build vocabulary"
   ]
  },
  {
   "cell_type": "markdown",
   "metadata": {},
   "source": [
    "#### buils INPUT_VOCAB"
   ]
  },
  {
   "cell_type": "code",
   "execution_count": 9,
   "metadata": {
    "scrolled": true
   },
   "outputs": [
    {
     "name": "stderr",
     "output_type": "stream",
     "text": [
      "100%|██████████| 159571/159571 [01:28<00:00, 1800.43it/s]\n"
     ]
    },
    {
     "data": {
      "text/plain": [
       "299974"
      ]
     },
     "execution_count": 9,
     "metadata": {},
     "output_type": "execute_result"
    }
   ],
   "source": [
    "%timeit\n",
    "from nltk import word_tokenize\n",
    "from tqdm import tqdm\n",
    "datapoints = train_datapoints\n",
    "INPUT_VOCAB = [word for dp in tqdm(datapoints) for word in word_tokenize(dp.comment_text)]\n",
    "INPUT_VOCAB = list(set(INPUT_VOCAB))\n",
    "len(INPUT_VOCAB)"
   ]
  },
  {
   "cell_type": "code",
   "execution_count": 10,
   "metadata": {
    "scrolled": false
   },
   "outputs": [
    {
     "data": {
      "text/plain": [
       "['insane',\n",
       " 'ass/face',\n",
       " '*t',\n",
       " 'FLUID',\n",
       " 'members/archive1',\n",
       " 'cut-out.',\n",
       " \"'TS\",\n",
       " 'PED-OH-PHILE',\n",
       " 'Plainlist',\n",
       " 'AMAZING.']"
      ]
     },
     "execution_count": 10,
     "metadata": {},
     "output_type": "execute_result"
    }
   ],
   "source": [
    "INPUT_VOCAB[:10]"
   ]
  },
  {
   "cell_type": "code",
   "execution_count": 11,
   "metadata": {
    "collapsed": true
   },
   "outputs": [],
   "source": [
    "OUTPUT_VOCAB = ['toxic','severe_toxic','obscene', 'threat','insult','identity_hate']\n",
    "INPUT_VOCAB = ['<<PAD>>', '<<UNK>>'] + list(set(INPUT_VOCAB + OUTPUT_VOCAB))"
   ]
  },
  {
   "cell_type": "markdown",
   "metadata": {},
   "source": [
    "#### builds WORD_INDEX"
   ]
  },
  {
   "cell_type": "code",
   "execution_count": 12,
   "metadata": {
    "collapsed": true
   },
   "outputs": [],
   "source": [
    "WORD_INDEX = {w: i for i, w in enumerate(INPUT_VOCAB)}\n",
    "OUTPUT_IDS = [WORD_INDEX[i] for i in OUTPUT_VOCAB]"
   ]
  },
  {
   "cell_type": "code",
   "execution_count": 13,
   "metadata": {},
   "outputs": [
    {
     "data": {
      "text/plain": [
       "([('<<PAD>>', 0),\n",
       "  ('<<UNK>>', 1),\n",
       "  ('insane', 2),\n",
       "  ('FLUID', 3),\n",
       "  ('ass/face', 4),\n",
       "  ('*t', 5),\n",
       "  ('members/archive1', 6),\n",
       "  ('cut-out.', 7),\n",
       "  (\"'TS\", 8),\n",
       "  ('PED-OH-PHILE', 9)],\n",
       " 0,\n",
       " '<<PAD>>')"
      ]
     },
     "execution_count": 13,
     "metadata": {},
     "output_type": "execute_result"
    }
   ],
   "source": [
    "sorted(list(WORD_INDEX.items()), key=lambda x: x[1])[:10], WORD_INDEX['<<PAD>>'], INPUT_VOCAB[0]"
   ]
  },
  {
   "cell_type": "markdown",
   "metadata": {},
   "source": [
    "## tests INPUTVOCAB and WORD_INDEX mapping"
   ]
  },
  {
   "cell_type": "code",
   "execution_count": 14,
   "metadata": {},
   "outputs": [
    {
     "name": "stdout",
     "output_type": "stream",
     "text": [
      "Note to Eclecticology: Hum, you just brought to my attention a naming conflict for two cities named Paris over at List of places and things named Paris. Are their other such conflicts within Canada? And if so are most of these between Ontario and the rest of Canada? The city naming convention was debated and worked out on the wikipedia mailing list and in several other places  it would have been nice to know of any possible systemic internal naming conflicts within Canada. Maybe this is one of the few exceptions that we can disambiguate on a case-by-case basis What is the population of each of these Canadian Paris? Is it at all likely that either of these will become encyclopedia articles? maveric149\n",
      "\n",
      "\n",
      "\n",
      "\n",
      "Note to Eclecticology : Hum , you just brought to my attention a naming conflict for two cities named Paris over at List of places and things named Paris . Are their other such conflicts within Canada ? And if so are most of these between Ontario and the rest of Canada ? The city naming convention was debated and worked out on the wikipedia mailing list and in several other places it would have been nice to know of any possible systemic internal naming conflicts within Canada . Maybe this is one of the few exceptions that we can disambiguate on a case-by-case basis What is the population of each of these Canadian Paris ? Is it at all likely that either of these will become encyclopedia articles ? maveric149\n"
     ]
    }
   ],
   "source": [
    "import random\n",
    "_i = train_datapoints[random.choice(range(len(train_datapoints)))]\n",
    "print(_i.comment_text)\n",
    "print(\"\"\"\n",
    "\n",
    "\n",
    "\"\"\")\n",
    "print(\n",
    "      ' '.join( [INPUT_VOCAB[i] for i in \n",
    "                 [WORD_INDEX[j] for j in word_tokenize(_i.comment_text)]]\n",
    "              )\n",
    "     )"
   ]
  },
  {
   "cell_type": "markdown",
   "metadata": {},
   "source": [
    "## Baseline model"
   ]
  },
  {
   "cell_type": "code",
   "execution_count": 15,
   "metadata": {
    "collapsed": true
   },
   "outputs": [],
   "source": [
    "class Model(nn.Module):\n",
    "    def __init__(self, Config, input_vocab_size, output_vocab_size):\n",
    "        super(Model, self).__init__()\n",
    "        self.input_vocab_size = input_vocab_size\n",
    "        self.output_vocab_size = output_vocab_size\n",
    "        self.hidden_dim = Config.hidden_dim\n",
    "\n",
    "        self.embed = nn.Embedding(self.input_vocab_size, self.hidden_dim)\n",
    "        self.encode = nn.GRUCell(self.hidden_dim, self.hidden_dim)\n",
    "\n",
    "        self.classify = [nn.Linear(self.hidden_dim, 2)\n",
    "                         for i in range (self.output_vocab_size)]\n",
    "\n",
    "        self.log = model_logger.getLogger('model')\n",
    "        self.log.setLevel(logging.INFO)\n",
    "        if Config.cuda:\n",
    "            self.cuda()\n",
    "            [i.cuda() for i in self.classify]\n",
    "        \n",
    "    def init_hidden(self, batch_size):\n",
    "        ret = torch.zeros(batch_size, self.hidden_dim)\n",
    "        if Config().cuda: ret = ret.cuda()\n",
    "        return Variable(ret)\n",
    "    \n",
    "    def forward(self, seq):\n",
    "        seq = Variable(torch.LongTensor(seq))\n",
    "        if Config().cuda: seq = seq.cuda()\n",
    "        batch_size = seq.size()[0]\n",
    "        self.log.debug('{} seq size: {}'.format(type(seq.data), seq.size()))\n",
    "        seq_emb = self.embed(seq).transpose(1,0)\n",
    "        output = self.init_hidden(batch_size)\n",
    "        for token_emb in seq_emb:\n",
    "            self.log.debug('token_emb := {}'.format(token_emb))\n",
    "            self.log.debug('output := {}'.format(output))\n",
    "            output = self.encode(token_emb, output)\n",
    "                    \n",
    "        self.log.debug('output := {}'.format(output))\n",
    "    \n",
    "        ret = torch.stack([F.softmax(classify(output), dim=-1) \n",
    "                           for classify in self.classify])\n",
    "        self.log.debug('ret := {}'.format(ret))\n",
    "\n",
    "        self.log.debug('ret size: {}'.format(ret.size()))\n",
    "\n",
    "        return ret"
   ]
  },
  {
   "cell_type": "markdown",
   "metadata": {},
   "source": [
    "### Batching utils"
   ]
  },
  {
   "cell_type": "code",
   "execution_count": 16,
   "metadata": {},
   "outputs": [
    {
     "name": "stdout",
     "output_type": "stream",
     "text": [
      "0\n"
     ]
    }
   ],
   "source": [
    "import numpy as np\n",
    "def seq_maxlen(seqs):\n",
    "    return max([len(seq) for seq in seqs])\n",
    "\n",
    "PAD = WORD_INDEX[INPUT_VOCAB[0]]\n",
    "print(PAD)\n",
    "def pad_seq(seqs, maxlen=0, PAD=PAD):\n",
    "    if type(seqs[0]) == type([]):\n",
    "        maxlen = maxlen if maxlen else seq_maxlen(seqs)\n",
    "        def pad_seq_(seq):\n",
    "            return seq + [PAD]*(maxlen-len(seq))\n",
    "        seqs = [ pad_seq_(seq) for seq in seqs ]\n",
    "    return seqs\n",
    "\n",
    "def batchop(datapoints, *args, **kwargs):\n",
    "    indices = [d.id for d in datapoints]\n",
    "    seq   = pad_seq([ [WORD_INDEX[w] for w in word_tokenize(d.comment_text)]\n",
    "                     for d in datapoints])\n",
    "    target = [(d.toxic, d.severe_toxic, d.obscene, d.threat, d.insult, d.identity_hate)\n",
    "              for d in datapoints]\n",
    "    seq, target = np.array(seq), np.array(target)\n",
    "    return indices, (seq, ), (target,)"
   ]
  },
  {
   "cell_type": "markdown",
   "metadata": {},
   "source": [
    "## Attention based model"
   ]
  },
  {
   "cell_type": "code",
   "execution_count": 56,
   "metadata": {
    "collapsed": true
   },
   "outputs": [],
   "source": [
    "class AttModel(nn.Module):\n",
    "    def __init__(self, Config, input_vocab_size, output_vocab_size):\n",
    "        super(AttModel, self).__init__()\n",
    "        self.input_vocab_size = input_vocab_size\n",
    "        self.output_vocab_size = output_vocab_size\n",
    "        self.hidden_dim = Config.hidden_dim\n",
    "\n",
    "        self.embed = nn.Embedding(self.input_vocab_size, self.hidden_dim)\n",
    "        self.encode = nn.GRUCell(self.hidden_dim, self.hidden_dim)\n",
    "        self.attend = nn.Parameter(torch.FloatTensor(self.hidden_dim, self.hidden_dim))\n",
    "\n",
    "        self.classify = nn.Linear(self.hidden_dim, 2)\n",
    "        self.log = model_logger.getLogger('model')\n",
    "        self.size_log = self.log.getLogger('size')\n",
    "        self.log.setLevel(logging.DEBUG)\n",
    "        self.size_log.setLevel(logging.DEBUG)\n",
    "        if Config.cuda:\n",
    "            self.cuda()\n",
    "            \n",
    "    def logsize(self, tensor, name=''):\n",
    "        self.size_log.debug('{} <- {}'.format(tensor.size(), name))\n",
    "        \n",
    "    def init_hidden(self, batch_size):\n",
    "        ret = torch.zeros(batch_size, self.hidden_dim)\n",
    "        if Config().cuda: ret = ret.cuda()\n",
    "        return Variable(ret)\n",
    "    \n",
    "    def forward(self, seq, classes=OUTPUT_IDS):\n",
    "        seq = Variable(torch.LongTensor(seq))\n",
    "        classes = Variable(torch.LongTensor(classes))\n",
    "        if Config().cuda: \n",
    "            seq = seq.cuda()\n",
    "            classes = classes.cuda()\n",
    "            \n",
    "        batch_size = seq.size()[0]\n",
    "        self.log.debug('{} seq size: {}'.format(type(seq.data), seq.size()))\n",
    "        seq_emb = self.embed(seq).transpose(1,0)                  ;self.logsize(seq_emb, 'seq_emb')\n",
    "        seq_repr = []\n",
    "        output = self.init_hidden(batch_size)                     ;self.logsize(output, 'output')\n",
    "        for token_emb in seq_emb:\n",
    "            self.log.debug('token_emb := {}'.format(token_emb))\n",
    "            self.log.debug('output := {}'.format(output))\n",
    "            output = self.encode(token_emb, output)               ;self.logsize(output, 'output')\n",
    "            seq_repr.append(output)\n",
    "\n",
    "        seq_repr = torch.stack(seq_repr).transpose(1,0)           ;self.logsize(seq_repr, 'seq_repr')\n",
    "        outputs = []\n",
    "        attend = self.attend\n",
    "        self.logsize(attend, 'attend')\n",
    "        for class_ in classes:\n",
    "            class_emb = self.embed(class_)                  ;self.logsize(class_emb, 'class_emb')\n",
    "            attn = torch.mm(class_emb, attend)        ;self.logsize(attn, 'attn')\n",
    "            #attn = attn.expand_as(seq_repr) ;self.logsize(attn, 'attn')\n",
    "            attended_outputs = torch.bmm(attn.expand(seq_repr.size()[0], *attn.size()), seq_repr.transpose(1,2))                \n",
    "        \n",
    "            self.logsize(attended_outputs, 'attended_outputs')\n",
    "            self.log.debug('{}'.format(attended_outputs))\n",
    "            output = attended_outputs.transpose(-1, -2).expand_as * seq_repr\n",
    "            self.logsize(output, 'output')\n",
    "\n",
    "            output = output.sum(0).squeeze()                ;self.logsize(output, 'output')\n",
    "            output = self.classify(output)                  ;self.logsize(output, 'output')\n",
    "            output = F.softmax(output)\n",
    "            outputs.append(output)\n",
    "            \n",
    "        ret = torch.stack(outputs)\n",
    "        return ret"
   ]
  },
  {
   "cell_type": "markdown",
   "metadata": {},
   "source": [
    "## Loss and accuracy function"
   ]
  },
  {
   "cell_type": "code",
   "execution_count": 18,
   "metadata": {
    "collapsed": true
   },
   "outputs": [],
   "source": [
    "def loss(output, target, loss_function=nn.NLLLoss(), *args, **kwargs):\n",
    "    loss = 0\n",
    "    target = Variable(torch.LongTensor(target[0]))\n",
    "    if Config().cuda: target = target.cuda()\n",
    "    output = output.transpose(1,0)\n",
    "    batch_size = output.size()[0]\n",
    "    for i, t in zip(output, target):\n",
    "        log.debug('i, o sizes: {} {}'.format(i, t))\n",
    "        loss += loss_function(i, t.squeeze()).mean()\n",
    "        log.debug('loss size: {}'.format(loss))\n",
    "\n",
    "    return loss/batch_size\n",
    "\n",
    "def accuracy(output, target, *args, **kwargs):\n",
    "    accuracy = 0\n",
    "    target = Variable(torch.LongTensor(target[0]))\n",
    "    if Config().cuda: target = target.cuda()\n",
    "    output = output.transpose(1,0)\n",
    "    batch_size = output.size()[0]\n",
    "    class_size = output.size()[1]    \n",
    "    \n",
    "    for i, t in zip(output, target):\n",
    "        correct = (i.max(dim=1)[1] == t).sum()\n",
    "        accuracy += correct/class_size\n",
    "        \n",
    "    return (accuracy/batch_size).data[0]\n",
    "    "
   ]
  },
  {
   "cell_type": "markdown",
   "metadata": {},
   "source": [
    "### repr_function to build human readable output from model"
   ]
  },
  {
   "cell_type": "code",
   "execution_count": 19,
   "metadata": {
    "collapsed": true
   },
   "outputs": [],
   "source": [
    "from IPython.display import HTML\n",
    "from IPython.display import display\n",
    "def repr_function(output, feed, batch_index):\n",
    "    results = []\n",
    "    output = output.transpose(1,0)\n",
    "    indices, (seq,), (classes,) = feed.nth_batch(batch_index)\n",
    "    print(output.size(), len(indices), len(seq), len(classes))\n",
    "    for i, o, s, c in zip(indices, output, seq, classes):\n",
    "        orig_s = feed.data_dict[i].comment_text\n",
    "        s = [INPUT_VOCAB[i] for i in s]\n",
    "        s = ' '.join(s)\n",
    "        results.append([orig_s, s] + list(c))\n",
    "        o = o.max(dim=1)[1]\n",
    "        results.append([' ', '  '] + o.data.cpu().numpy().tolist())\n",
    "    return results"
   ]
  },
  {
   "cell_type": "code",
   "execution_count": 20,
   "metadata": {
    "collapsed": true
   },
   "outputs": [],
   "source": [
    "_train_datapoints = train_datapoints"
   ]
  },
  {
   "cell_type": "code",
   "execution_count": 21,
   "metadata": {
    "collapsed": true,
    "scrolled": true
   },
   "outputs": [],
   "source": [
    "import logging\n",
    "log.setLevel(logging.INFO)"
   ]
  },
  {
   "cell_type": "markdown",
   "metadata": {},
   "source": [
    "## Experiment on model 1"
   ]
  },
  {
   "cell_type": "code",
   "execution_count": 23,
   "metadata": {
    "collapsed": true
   },
   "outputs": [
    {
     "name": "stderr",
     "output_type": "stream",
     "text": [
      "2018-01-29 12:31:33,034:root:INFO   :           getLogger:: creating logger for model under MODEL\n"
     ]
    },
    {
     "name": "stdout",
     "output_type": "stream",
     "text": [
      "torch.Size([120, 6, 2]) 120 120 120\n",
      "torch.Size([120, 6, 2]) 120 120 120\n"
     ]
    },
    {
     "data": {
      "text/html": [
       "<table><tr><td>\"\n",
       "\n",
       " What's your opinion on professional wrestling? \n",
       "\n",
       "Out of interest.  Preceding unsigned comment added by  (talk  contribs)  \"</td><td>`` What 's your opinion on professional wrestling ? Out of interest . Preceding unsigned comment added by ( talk contribs ) `` <<PAD>> <<PAD>> <<PAD>> <<PAD>> <<PAD>> <<PAD>> <<PAD>> <<PAD>> <<PAD>> <<PAD>> <<PAD>> <<PAD>> <<PAD>> <<PAD>></td><td>0</td><td>0</td><td>0</td><td>0</td><td>0</td><td>0</td></tr><tr><td> </td><td>  </td><td>1</td><td>0</td><td>0</td><td>0</td><td>0</td><td>0</td></tr><tr><td>Looks like they have a real annoying javascript script to try and force you to use their frames. One less site I'll ever visit.</td><td>Looks like they have a real annoying javascript script to try and force you to use their frames . One less site I 'll ever visit . <<PAD>> <<PAD>> <<PAD>> <<PAD>> <<PAD>> <<PAD>> <<PAD>> <<PAD>> <<PAD>> <<PAD>></td><td>0</td><td>0</td><td>0</td><td>0</td><td>0</td><td>0</td></tr><tr><td> </td><td>  </td><td>1</td><td>0</td><td>0</td><td>0</td><td>0</td><td>0</td></tr><tr><td>They are known as Palestinian because of Arab propaganda. Real Palestinians are Jews. Arab Palestinians are frauds from Arabia.</td><td>They are known as Palestinian because of Arab propaganda . Real Palestinians are Jews . Arab Palestinians are frauds from Arabia . <<PAD>> <<PAD>> <<PAD>> <<PAD>> <<PAD>> <<PAD>> <<PAD>> <<PAD>> <<PAD>> <<PAD>> <<PAD>> <<PAD>> <<PAD>> <<PAD>> <<PAD>></td><td>0</td><td>0</td><td>0</td><td>0</td><td>0</td><td>0</td></tr><tr><td> </td><td>  </td><td>1</td><td>0</td><td>0</td><td>0</td><td>0</td><td>0</td></tr><tr><td>\"\n",
       "Alright, and thank you.  I do believe I shall, when you do get to sleep yourself, I hope you have a good one. dlus Contribs \"</td><td>`` Alright , and thank you . I do believe I shall , when you do get to sleep yourself , I hope you have a good one . dlus Contribs `` <<PAD>> <<PAD>> <<PAD>> <<PAD>> <<PAD>></td><td>0</td><td>0</td><td>0</td><td>0</td><td>0</td><td>0</td></tr><tr><td> </td><td>  </td><td>1</td><td>0</td><td>0</td><td>0</td><td>0</td><td>0</td></tr><tr><td>Your edits to Tourette syndrome \n",
       "\n",
       " Please stop. If you continue to vandalize Wikipedia, you will be blocked from editing.  (tc)</td><td>Your edits to Tourette syndrome Please stop . If you continue to vandalize Wikipedia , you will be blocked from editing . ( tc ) <<PAD>> <<PAD>> <<PAD>> <<PAD>> <<PAD>> <<PAD>> <<PAD>> <<PAD>> <<PAD>> <<PAD>> <<PAD>> <<PAD>></td><td>0</td><td>0</td><td>0</td><td>0</td><td>0</td><td>0</td></tr><tr><td> </td><td>  </td><td>1</td><td>0</td><td>0</td><td>0</td><td>0</td><td>0</td></tr><tr><td>That is not a relevant argument. Wikilinks are made up in that manner because the Firefox page has been linking to the browser.</td><td>That is not a relevant argument . Wikilinks are made up in that manner because the Firefox page has been linking to the browser . <<PAD>> <<PAD>> <<PAD>> <<PAD>> <<PAD>> <<PAD>> <<PAD>> <<PAD>> <<PAD>> <<PAD>> <<PAD>> <<PAD>></td><td>0</td><td>0</td><td>0</td><td>0</td><td>0</td><td>0</td></tr><tr><td> </td><td>  </td><td>1</td><td>0</td><td>0</td><td>0</td><td>0</td><td>0</td></tr><tr><td>User talk:Hesperian; Did anyone ask for your opinion. It would seem that Wackipedia is run along similar lines to NAZI Germany.</td><td>User talk : Hesperian ; Did anyone ask for your opinion . It would seem that Wackipedia is run along similar lines to NAZI Germany . <<PAD>> <<PAD>> <<PAD>> <<PAD>> <<PAD>> <<PAD>> <<PAD>> <<PAD>> <<PAD>> <<PAD>> <<PAD>></td><td>0</td><td>0</td><td>0</td><td>0</td><td>0</td><td>0</td></tr><tr><td> </td><td>  </td><td>1</td><td>0</td><td>0</td><td>0</td><td>0</td><td>0</td></tr><tr><td>english \n",
       "\n",
       "I am basically a native speaker of English, my mom is American. I found your condescension insulting and unnecessary.</td><td>english I am basically a native speaker of English , my mom is American . I found your condescension insulting and unnecessary . <<PAD>> <<PAD>> <<PAD>> <<PAD>> <<PAD>> <<PAD>> <<PAD>> <<PAD>> <<PAD>> <<PAD>> <<PAD>> <<PAD>> <<PAD>> <<PAD>></td><td>0</td><td>0</td><td>0</td><td>0</td><td>0</td><td>0</td></tr><tr><td> </td><td>  </td><td>1</td><td>0</td><td>0</td><td>0</td><td>0</td><td>0</td></tr><tr><td>Cocolacoste, dear its as if you descended from heaven you are so welcome and thoughtful. Victoria might like you to say hi too.</td><td>Cocolacoste , dear its as if you descended from heaven you are so welcome and thoughtful . Victoria might like you to say hi too . <<PAD>> <<PAD>> <<PAD>> <<PAD>> <<PAD>> <<PAD>> <<PAD>> <<PAD>> <<PAD>> <<PAD>> <<PAD>></td><td>0</td><td>0</td><td>0</td><td>0</td><td>0</td><td>0</td></tr><tr><td> </td><td>  </td><td>1</td><td>0</td><td>0</td><td>0</td><td>0</td><td>0</td></tr><tr><td>Seric you are a fanatic who serves Turkish interests. Ban me but you should always know you should feel guilty of what you love</td><td>Seric you are a fanatic who serves Turkish interests . Ban me but you should always know you should feel guilty of what you love <<PAD>> <<PAD>> <<PAD>> <<PAD>> <<PAD>> <<PAD>> <<PAD>> <<PAD>> <<PAD>> <<PAD>> <<PAD>> <<PAD>></td><td>0</td><td>0</td><td>0</td><td>0</td><td>0</td><td>0</td></tr><tr><td> </td><td>  </td><td>1</td><td>0</td><td>0</td><td>0</td><td>0</td><td>0</td></tr><tr><td>\"\n",
       "With your \"\"posting location\"\" argument hanging by the ropes, do you have any other explanation for this one-sided block?   \"</td><td>`` With your `` '' posting location '' '' argument hanging by the ropes , do you have any other explanation for this one-sided block ? `` <<PAD>> <<PAD>> <<PAD>> <<PAD>> <<PAD>> <<PAD>> <<PAD>> <<PAD>> <<PAD>> <<PAD>></td><td>0</td><td>0</td><td>0</td><td>0</td><td>0</td><td>0</td></tr><tr><td> </td><td>  </td><td>1</td><td>0</td><td>0</td><td>0</td><td>0</td><td>0</td></tr><tr><td>\"\n",
       " For the benefit of Iridescent's other TPSs, that's Wikipedia talk:WikiProject UK Railways#Privatisation of British Rail.   \"</td><td>`` For the benefit of Iridescent 's other TPSs , that 's Wikipedia talk : WikiProject UK Railways # Privatisation of British Rail. `` <<PAD>> <<PAD>> <<PAD>> <<PAD>> <<PAD>> <<PAD>> <<PAD>> <<PAD>> <<PAD>> <<PAD>> <<PAD>> <<PAD>> <<PAD>></td><td>0</td><td>0</td><td>0</td><td>0</td><td>0</td><td>0</td></tr><tr><td> </td><td>  </td><td>1</td><td>0</td><td>0</td><td>0</td><td>0</td><td>0</td></tr><tr><td>I think the header is self-explanatory.  Regarding your comments, can you clarify your issue?   | Talk 09:27, 30 Apr 2005 (UTC)</td><td>I think the header is self-explanatory . Regarding your comments , can you clarify your issue ? | Talk 09:27 , 30 Apr 2005 ( UTC ) <<PAD>> <<PAD>> <<PAD>> <<PAD>> <<PAD>> <<PAD>> <<PAD>> <<PAD>> <<PAD>> <<PAD>></td><td>0</td><td>0</td><td>0</td><td>0</td><td>0</td><td>0</td></tr><tr><td> </td><td>  </td><td>1</td><td>0</td><td>0</td><td>0</td><td>0</td><td>0</td></tr><tr><td>Wikipedia meetup:Tampa\n",
       "I'm writing to let you know that the Tampa meetup has officially been announced  Wikipedia:Meetup/Tampa2</td><td>Wikipedia meetup : Tampa I 'm writing to let you know that the Tampa meetup has officially been announced Wikipedia : Meetup/Tampa2 <<PAD>> <<PAD>> <<PAD>> <<PAD>> <<PAD>> <<PAD>> <<PAD>> <<PAD>> <<PAD>> <<PAD>> <<PAD>> <<PAD>> <<PAD>> <<PAD>> <<PAD>></td><td>0</td><td>0</td><td>0</td><td>0</td><td>0</td><td>0</td></tr><tr><td> </td><td>  </td><td>1</td><td>0</td><td>0</td><td>0</td><td>0</td><td>0</td></tr><tr><td>Alhambra High School   \n",
       "\n",
       "Per the school administration, the information on Ms. Sanchez was false. I have removed it. Thank you.</td><td>Alhambra High School Per the school administration , the information on Ms. Sanchez was false . I have removed it . Thank you . <<PAD>> <<PAD>> <<PAD>> <<PAD>> <<PAD>> <<PAD>> <<PAD>> <<PAD>> <<PAD>> <<PAD>> <<PAD>> <<PAD>> <<PAD>></td><td>0</td><td>0</td><td>0</td><td>0</td><td>0</td><td>0</td></tr><tr><td> </td><td>  </td><td>1</td><td>0</td><td>0</td><td>0</td><td>0</td><td>0</td></tr><tr><td>santhosh k\n",
       "\n",
       "If u need some information regarding sexual attraction between boys and girls then you can contact me....santhosh k</td><td>santhosh k If u need some information regarding sexual attraction between boys and girls then you can contact me ... .santhosh k <<PAD>> <<PAD>> <<PAD>> <<PAD>> <<PAD>> <<PAD>> <<PAD>> <<PAD>> <<PAD>> <<PAD>> <<PAD>> <<PAD>> <<PAD>> <<PAD>> <<PAD>></td><td>0</td><td>0</td><td>0</td><td>0</td><td>0</td><td>0</td></tr><tr><td> </td><td>  </td><td>1</td><td>0</td><td>0</td><td>0</td><td>0</td><td>0</td></tr><tr><td>\"\n",
       "\n",
       "Wanted articles\n",
       "Emmett Watson, to include a great explanation of the term \"\"Lesser Seattle\"\" or a Lesser Seattle article.  \"</td><td>`` Wanted articles Emmett Watson , to include a great explanation of the term `` '' Lesser Seattle '' '' or a Lesser Seattle article. `` <<PAD>> <<PAD>> <<PAD>> <<PAD>> <<PAD>> <<PAD>> <<PAD>> <<PAD>> <<PAD>> <<PAD>> <<PAD>></td><td>0</td><td>0</td><td>0</td><td>0</td><td>0</td><td>0</td></tr><tr><td> </td><td>  </td><td>1</td><td>0</td><td>0</td><td>0</td><td>0</td><td>0</td></tr><tr><td>To contact David Kelsey e-mail him at Davidjkelsey@gmail.com, epecially if you are bitter about all of kiruv for no good reason</td><td>To contact David Kelsey e-mail him at Davidjkelsey @ gmail.com , epecially if you are bitter about all of kiruv for no good reason <<PAD>> <<PAD>> <<PAD>> <<PAD>> <<PAD>> <<PAD>> <<PAD>> <<PAD>> <<PAD>> <<PAD>> <<PAD>> <<PAD>> <<PAD>></td><td>0</td><td>0</td><td>0</td><td>0</td><td>0</td><td>0</td></tr><tr><td> </td><td>  </td><td>1</td><td>0</td><td>0</td><td>0</td><td>0</td><td>0</td></tr><tr><td>\"\n",
       "\n",
       "This is a perennially tiresome request that has received stern responseshere and [].  In short; \"\"not going to happen\"\".   \"</td><td>`` This is a perennially tiresome request that has received stern responseshere and [ ] . In short ; `` '' not going to happen '' '' . `` <<PAD>> <<PAD>> <<PAD>> <<PAD>> <<PAD>> <<PAD>> <<PAD>> <<PAD>></td><td>0</td><td>0</td><td>0</td><td>0</td><td>0</td><td>0</td></tr><tr><td> </td><td>  </td><td>1</td><td>0</td><td>0</td><td>0</td><td>0</td><td>0</td></tr><tr><td>\"\n",
       "\n",
       "Your edit was important. It is true that I do not see and know negative parts of all things. Your edits are great!  Talk + \"</td><td>`` Your edit was important . It is true that I do not see and know negative parts of all things . Your edits are great ! Talk + `` <<PAD>> <<PAD>> <<PAD>> <<PAD>> <<PAD>> <<PAD>> <<PAD>></td><td>0</td><td>0</td><td>0</td><td>0</td><td>0</td><td>0</td></tr><tr><td> </td><td>  </td><td>1</td><td>0</td><td>0</td><td>0</td><td>0</td><td>0</td></tr><tr><td>\" January 2006 (UTC)\n",
       "\n",
       "I'm just not sure why Tony Sidaway is the sole arbiter of what's \"\"deleterious\"\" to Wikipedia.  01:47, 9\"</td><td>`` January 2006 ( UTC ) I 'm just not sure why Tony Sidaway is the sole arbiter of what 's `` '' deleterious '' '' to Wikipedia . 01:47 , 9 '' <<PAD>> <<PAD>> <<PAD>> <<PAD>></td><td>0</td><td>0</td><td>0</td><td>0</td><td>0</td><td>0</td></tr><tr><td> </td><td>  </td><td>1</td><td>0</td><td>0</td><td>0</td><td>0</td><td>0</td></tr><tr><td>http://en.wikipedia.org/w/index.php?title=Moira_Cameron&action;=historysubmit&diff;=323490716&oldid;=323490704 Why do I bother?</td><td>http : //en.wikipedia.org/w/index.php ? title=Moira_Cameron & action ; =historysubmit & diff ; =323490716 & oldid ; =323490704 Why do I bother ? <<PAD>> <<PAD>> <<PAD>> <<PAD>> <<PAD>> <<PAD>> <<PAD>> <<PAD>> <<PAD>> <<PAD>> <<PAD>> <<PAD>> <<PAD>> <<PAD>> <<PAD>></td><td>0</td><td>0</td><td>0</td><td>0</td><td>0</td><td>0</td></tr><tr><td> </td><td>  </td><td>1</td><td>0</td><td>0</td><td>0</td><td>0</td><td>0</td></tr><tr><td>\"\n",
       "\n",
       "It isn't surprising charlesmartel, this user likes to censor anything that go's against \"\"it's\"\" world view92.238.252.159  \"</td><td>`` It is n't surprising charlesmartel , this user likes to censor anything that go 's against `` '' it 's '' '' world view92.238.252.159 `` <<PAD>> <<PAD>> <<PAD>> <<PAD>> <<PAD>> <<PAD>> <<PAD>> <<PAD>> <<PAD>> <<PAD>> <<PAD>></td><td>0</td><td>0</td><td>0</td><td>0</td><td>0</td><td>0</td></tr><tr><td> </td><td>  </td><td>1</td><td>0</td><td>0</td><td>0</td><td>0</td><td>0</td></tr><tr><td>If you insist, we can keep going through the same routine forever. Personally, I'd rather compromise.  22:35, 18 Feb 2005 (UTC)</td><td>If you insist , we can keep going through the same routine forever . Personally , I 'd rather compromise . 22:35 , 18 Feb 2005 ( UTC ) <<PAD>> <<PAD>> <<PAD>> <<PAD>> <<PAD>> <<PAD>> <<PAD>> <<PAD>></td><td>0</td><td>0</td><td>0</td><td>0</td><td>0</td><td>0</td></tr><tr><td> </td><td>  </td><td>1</td><td>0</td><td>0</td><td>0</td><td>0</td><td>0</td></tr><tr><td>English, Scottish, Welsh, and Northern Irish nationality \n",
       "\n",
       "Is there an English, Scottish, Welsh, or Northern Irish nationality?</td><td>English , Scottish , Welsh , and Northern Irish nationality Is there an English , Scottish , Welsh , or Northern Irish nationality ? <<PAD>> <<PAD>> <<PAD>> <<PAD>> <<PAD>> <<PAD>> <<PAD>> <<PAD>> <<PAD>> <<PAD>> <<PAD>> <<PAD>> <<PAD>></td><td>0</td><td>0</td><td>0</td><td>0</td><td>0</td><td>0</td></tr><tr><td> </td><td>  </td><td>1</td><td>0</td><td>0</td><td>0</td><td>0</td><td>0</td></tr><tr><td>As I said, be specific about your PoV concerns Cool Cat, or do not add these tags. I also suggest that you stop harassasing me.</td><td>As I said , be specific about your PoV concerns Cool Cat , or do not add these tags . I also suggest that you stop harassasing me . <<PAD>> <<PAD>> <<PAD>> <<PAD>> <<PAD>> <<PAD>> <<PAD>> <<PAD>></td><td>0</td><td>0</td><td>0</td><td>0</td><td>0</td><td>0</td></tr><tr><td> </td><td>  </td><td>1</td><td>0</td><td>0</td><td>0</td><td>0</td><td>0</td></tr><tr><td>League leader/NFL record markers \n",
       "\n",
       "Why were those removed from the stats tables? They're still there for, e.g., Peyton Manning.</td><td>League leader/NFL record markers Why were those removed from the stats tables ? They 're still there for , e.g. , Peyton Manning . <<PAD>> <<PAD>> <<PAD>> <<PAD>> <<PAD>> <<PAD>> <<PAD>> <<PAD>> <<PAD>> <<PAD>> <<PAD>> <<PAD>> <<PAD>></td><td>0</td><td>0</td><td>0</td><td>0</td><td>0</td><td>0</td></tr><tr><td> </td><td>  </td><td>1</td><td>0</td><td>0</td><td>0</td><td>0</td><td>0</td></tr><tr><td>United States home front during World War II.  If there are no significant objections I'll move it accordingly in a day or two.</td><td>United States home front during World War II . If there are no significant objections I 'll move it accordingly in a day or two . <<PAD>> <<PAD>> <<PAD>> <<PAD>> <<PAD>> <<PAD>> <<PAD>> <<PAD>> <<PAD>> <<PAD>> <<PAD>></td><td>0</td><td>0</td><td>0</td><td>0</td><td>0</td><td>0</td></tr><tr><td> </td><td>  </td><td>1</td><td>0</td><td>0</td><td>0</td><td>0</td><td>0</td></tr><tr><td>Dude, you are probably right about the outcome of infinite crisis, but give this up, you aren't going to win.  Save your energy</td><td>Dude , you are probably right about the outcome of infinite crisis , but give this up , you are n't going to win . Save your energy <<PAD>> <<PAD>> <<PAD>> <<PAD>> <<PAD>> <<PAD>> <<PAD>> <<PAD>> <<PAD>></td><td>0</td><td>0</td><td>0</td><td>0</td><td>0</td><td>0</td></tr><tr><td> </td><td>  </td><td>1</td><td>0</td><td>0</td><td>0</td><td>0</td><td>0</td></tr><tr><td>? \n",
       "Can you come back with a reasonable debate to this? I'm just going to keep editing your pov out until you can show othewise.</td><td>? Can you come back with a reasonable debate to this ? I 'm just going to keep editing your pov out until you can show othewise . <<PAD>> <<PAD>> <<PAD>> <<PAD>> <<PAD>> <<PAD>> <<PAD>> <<PAD>> <<PAD>></td><td>0</td><td>0</td><td>0</td><td>0</td><td>0</td><td>0</td></tr><tr><td> </td><td>  </td><td>1</td><td>0</td><td>0</td><td>0</td><td>0</td><td>0</td></tr><tr><td>Those were attempts at tweaking it to work when logged-out. The page model is a bit different then, and in other skins. Cheers,</td><td>Those were attempts at tweaking it to work when logged-out . The page model is a bit different then , and in other skins . Cheers , <<PAD>> <<PAD>> <<PAD>> <<PAD>> <<PAD>> <<PAD>> <<PAD>> <<PAD>> <<PAD>> <<PAD>></td><td>0</td><td>0</td><td>0</td><td>0</td><td>0</td><td>0</td></tr><tr><td> </td><td>  </td><td>1</td><td>0</td><td>0</td><td>0</td><td>0</td><td>0</td></tr><tr><td>Oppose as Chip.R says, there is more than one Jackson's theorem around such as http://mathworld.wolfram.com/JacksonsTheorem.html</td><td>Oppose as Chip.R says , there is more than one Jackson 's theorem around such as http : //mathworld.wolfram.com/JacksonsTheorem.html <<PAD>> <<PAD>> <<PAD>> <<PAD>> <<PAD>> <<PAD>> <<PAD>> <<PAD>> <<PAD>> <<PAD>> <<PAD>> <<PAD>> <<PAD>> <<PAD>> <<PAD>> <<PAD>> <<PAD>> <<PAD>></td><td>0</td><td>0</td><td>0</td><td>0</td><td>0</td><td>0</td></tr><tr><td> </td><td>  </td><td>1</td><td>0</td><td>0</td><td>0</td><td>0</td><td>0</td></tr><tr><td>It's not common to call a constitutional monarchy a republic, it's not common to call anything that isn't a republic a republic.</td><td>It 's not common to call a constitutional monarchy a republic , it 's not common to call anything that is n't a republic a republic . <<PAD>> <<PAD>> <<PAD>> <<PAD>> <<PAD>> <<PAD>> <<PAD>> <<PAD>> <<PAD>> <<PAD>></td><td>0</td><td>0</td><td>0</td><td>0</td><td>0</td><td>0</td></tr><tr><td> </td><td>  </td><td>1</td><td>0</td><td>0</td><td>0</td><td>0</td><td>0</td></tr><tr><td>Isn't there a Gotra called 'Kapil Gotra'? I (my family) belong to Kapila gotra and here on this page, there is no mention of it.</td><td>Is n't there a Gotra called 'Kapil Gotra ' ? I ( my family ) belong to Kapila gotra and here on this page , there is no mention of it . <<PAD>> <<PAD>> <<PAD>> <<PAD>> <<PAD>></td><td>0</td><td>0</td><td>0</td><td>0</td><td>0</td><td>0</td></tr><tr><td> </td><td>  </td><td>1</td><td>0</td><td>0</td><td>0</td><td>0</td><td>0</td></tr><tr><td>Warning \n",
       "\n",
       "I can see you like to terrorise people. Stop now or you will be blocked. I am referring you to the admin to block you.</td><td>Warning I can see you like to terrorise people . Stop now or you will be blocked . I am referring you to the admin to block you . <<PAD>> <<PAD>> <<PAD>> <<PAD>> <<PAD>> <<PAD>> <<PAD>> <<PAD>></td><td>0</td><td>0</td><td>0</td><td>0</td><td>0</td><td>0</td></tr><tr><td> </td><td>  </td><td>1</td><td>0</td><td>0</td><td>0</td><td>0</td><td>0</td></tr><tr><td>June 2010 \n",
       "\n",
       "You have been warned by an IP about removing information on Rain (entertainer). Please see Administration vandalism.</td><td>June 2010 You have been warned by an IP about removing information on Rain ( entertainer ) . Please see Administration vandalism . <<PAD>> <<PAD>> <<PAD>> <<PAD>> <<PAD>> <<PAD>> <<PAD>> <<PAD>> <<PAD>> <<PAD>> <<PAD>> <<PAD>> <<PAD>> <<PAD>></td><td>0</td><td>0</td><td>0</td><td>0</td><td>0</td><td>0</td></tr><tr><td> </td><td>  </td><td>1</td><td>0</td><td>0</td><td>0</td><td>0</td><td>0</td></tr><tr><td>Had a look. Started making changes. Noticed WP:Copyvio, logged my concern via helpme and page got deleted. See John_W._R._Taylor</td><td>Had a look . Started making changes . Noticed WP : Copyvio , logged my concern via helpme and page got deleted . See John_W._R._Taylor <<PAD>> <<PAD>> <<PAD>> <<PAD>> <<PAD>> <<PAD>> <<PAD>> <<PAD>> <<PAD>> <<PAD>> <<PAD>> <<PAD>></td><td>0</td><td>0</td><td>0</td><td>0</td><td>0</td><td>0</td></tr><tr><td> </td><td>  </td><td>1</td><td>0</td><td>0</td><td>0</td><td>0</td><td>0</td></tr><tr><td>Then stand aside and let's see what a third party's reaction is.  Obviously we don't agree on this one, it happens, no big deal.</td><td>Then stand aside and let 's see what a third party 's reaction is . Obviously we do n't agree on this one , it happens , no big deal . <<PAD>> <<PAD>> <<PAD>> <<PAD>> <<PAD>> <<PAD>></td><td>0</td><td>0</td><td>0</td><td>0</td><td>0</td><td>0</td></tr><tr><td> </td><td>  </td><td>1</td><td>0</td><td>0</td><td>0</td><td>0</td><td>0</td></tr><tr><td>Please stop trying to scare me away with these overwhelming messages and ANs. Am I being arrested for making edits to Wikipedia?</td><td>Please stop trying to scare me away with these overwhelming messages and ANs . Am I being arrested for making edits to Wikipedia ? <<PAD>> <<PAD>> <<PAD>> <<PAD>> <<PAD>> <<PAD>> <<PAD>> <<PAD>> <<PAD>> <<PAD>> <<PAD>> <<PAD>> <<PAD>></td><td>0</td><td>0</td><td>0</td><td>0</td><td>0</td><td>0</td></tr><tr><td> </td><td>  </td><td>1</td><td>0</td><td>0</td><td>0</td><td>0</td><td>0</td></tr><tr><td>\"They heavily criticized Tenmei, so he seems to think that he can \"\"fix\"\" their \"\"wrong\"\" notion by including them as a party. \"</td><td>`` They heavily criticized Tenmei , so he seems to think that he can `` '' fix '' '' their `` '' wrong '' '' notion by including them as a party. `` <<PAD>> <<PAD>> <<PAD>> <<PAD>></td><td>0</td><td>0</td><td>0</td><td>0</td><td>0</td><td>0</td></tr><tr><td> </td><td>  </td><td>1</td><td>0</td><td>0</td><td>0</td><td>1</td><td>0</td></tr><tr><td>Look sussexman, we have won. Racist brits like you will never defeat us. God bless Vintagekits for exposing your lies and hatred</td><td>Look sussexman , we have won . Racist brits like you will never defeat us . God bless Vintagekits for exposing your lies and hatred <<PAD>> <<PAD>> <<PAD>> <<PAD>> <<PAD>> <<PAD>> <<PAD>> <<PAD>> <<PAD>> <<PAD>> <<PAD>> <<PAD>></td><td>0</td><td>0</td><td>0</td><td>0</td><td>0</td><td>0</td></tr><tr><td> </td><td>  </td><td>1</td><td>0</td><td>0</td><td>0</td><td>0</td><td>0</td></tr><tr><td>Every paper I highlighted so far has emphasized that MUCH more research is required. That would also be worthwhile highlighting.</td><td>Every paper I highlighted so far has emphasized that MUCH more research is required . That would also be worthwhile highlighting . <<PAD>> <<PAD>> <<PAD>> <<PAD>> <<PAD>> <<PAD>> <<PAD>> <<PAD>> <<PAD>> <<PAD>> <<PAD>> <<PAD>> <<PAD>> <<PAD>> <<PAD>></td><td>0</td><td>0</td><td>0</td><td>0</td><td>0</td><td>0</td></tr><tr><td> </td><td>  </td><td>1</td><td>0</td><td>0</td><td>0</td><td>0</td><td>0</td></tr><tr><td>Crap, this article sucks.  I tried reading it, but it was just one long paragraph, most likely stolen from somewhere.  Not good.</td><td>Crap , this article sucks . I tried reading it , but it was just one long paragraph , most likely stolen from somewhere . Not good . <<PAD>> <<PAD>> <<PAD>> <<PAD>> <<PAD>> <<PAD>> <<PAD>> <<PAD>> <<PAD>></td><td>0</td><td>0</td><td>1</td><td>0</td><td>0</td><td>0</td></tr><tr><td> </td><td>  </td><td>1</td><td>0</td><td>0</td><td>0</td><td>0</td><td>0</td></tr><tr><td>\"\n",
       "I'm not sure I agree with that bit of crystal ball gazing. Better language than \"\"more recently\"\" should be found though.    \"</td><td>`` I 'm not sure I agree with that bit of crystal ball gazing . Better language than `` '' more recently '' '' should be found though. `` <<PAD>> <<PAD>> <<PAD>> <<PAD>> <<PAD>> <<PAD>> <<PAD>> <<PAD>></td><td>0</td><td>0</td><td>0</td><td>0</td><td>0</td><td>0</td></tr><tr><td> </td><td>  </td><td>1</td><td>0</td><td>0</td><td>0</td><td>0</td><td>0</td></tr><tr><td>Vandalism? \n",
       "\n",
       "I keep getting messages saying im vandalising pages that ive never been on. One was from you. Why does this happen?</td><td>Vandalism ? I keep getting messages saying im vandalising pages that ive never been on . One was from you . Why does this happen ? <<PAD>> <<PAD>> <<PAD>> <<PAD>> <<PAD>> <<PAD>> <<PAD>> <<PAD>> <<PAD>> <<PAD>> <<PAD>></td><td>0</td><td>0</td><td>0</td><td>0</td><td>0</td><td>0</td></tr><tr><td> </td><td>  </td><td>1</td><td>0</td><td>0</td><td>0</td><td>0</td><td>0</td></tr><tr><td>Just you can to make me a minor change for 1 example?\n",
       "for N to change cfg to beg, and 4-digit decoder set from beg to abcef to N</td><td>Just you can to make me a minor change for 1 example ? for N to change cfg to beg , and 4-digit decoder set from beg to abcef to N <<PAD>> <<PAD>> <<PAD>> <<PAD>> <<PAD>> <<PAD>></td><td>0</td><td>0</td><td>0</td><td>0</td><td>0</td><td>0</td></tr><tr><td> </td><td>  </td><td>1</td><td>0</td><td>0</td><td>0</td><td>0</td><td>0</td></tr><tr><td>http://www.haaretz.com/news/diplomacy-defense/2-279-calories-per-person-how-israel-made-sure-gaza-didn-t-starve.premium-1.470419</td><td>http : //www.haaretz.com/news/diplomacy-defense/2-279-calories-per-person-how-israel-made-sure-gaza-didn-t-starve.premium-1.470419 <<PAD>> <<PAD>> <<PAD>> <<PAD>> <<PAD>> <<PAD>> <<PAD>> <<PAD>> <<PAD>> <<PAD>> <<PAD>> <<PAD>> <<PAD>> <<PAD>> <<PAD>> <<PAD>> <<PAD>> <<PAD>> <<PAD>> <<PAD>> <<PAD>> <<PAD>> <<PAD>> <<PAD>> <<PAD>> <<PAD>> <<PAD>> <<PAD>> <<PAD>> <<PAD>> <<PAD>> <<PAD>> <<PAD>> <<PAD>></td><td>0</td><td>0</td><td>0</td><td>0</td><td>0</td><td>0</td></tr><tr><td> </td><td>  </td><td>1</td><td>0</td><td>0</td><td>0</td><td>0</td><td>0</td></tr><tr><td>Towelie\n",
       "THANK YOU!!!!!!!!!!!!!!!! What a relief that whole back-and-forth with the uncited info pushers is now over on that one.</td><td>Towelie THANK YOU ! ! ! ! ! ! ! ! ! ! ! ! ! ! ! ! What a relief that whole back-and-forth with the uncited info pushers is now over on that one .</td><td>0</td><td>0</td><td>0</td><td>0</td><td>0</td><td>0</td></tr><tr><td> </td><td>  </td><td>0</td><td>0</td><td>0</td><td>0</td><td>1</td><td>1</td></tr><tr><td>Please stop your disruptive editing. If your vandalism continues, you will be blocked from editing Wikipedia.   | blah blah blah</td><td>Please stop your disruptive editing . If your vandalism continues , you will be blocked from editing Wikipedia . | blah blah blah <<PAD>> <<PAD>> <<PAD>> <<PAD>> <<PAD>> <<PAD>> <<PAD>> <<PAD>> <<PAD>> <<PAD>> <<PAD>> <<PAD>> <<PAD>> <<PAD>></td><td>0</td><td>0</td><td>0</td><td>0</td><td>0</td><td>0</td></tr><tr><td> </td><td>  </td><td>1</td><td>0</td><td>0</td><td>0</td><td>0</td><td>0</td></tr><tr><td>Clarification for MatthewVanitas:In the above itialised text the article, refers to Shudra, please re-read and share your views.</td><td>Clarification for MatthewVanitas : In the above itialised text the article , refers to Shudra , please re-read and share your views . <<PAD>> <<PAD>> <<PAD>> <<PAD>> <<PAD>> <<PAD>> <<PAD>> <<PAD>> <<PAD>> <<PAD>> <<PAD>> <<PAD>> <<PAD>> <<PAD>></td><td>0</td><td>0</td><td>0</td><td>0</td><td>0</td><td>0</td></tr><tr><td> </td><td>  </td><td>1</td><td>0</td><td>0</td><td>0</td><td>0</td><td>0</td></tr><tr><td>One should add that a user who has been given a fresh start is expected to reform, not carry on the way they were acting before.</td><td>One should add that a user who has been given a fresh start is expected to reform , not carry on the way they were acting before . <<PAD>> <<PAD>> <<PAD>> <<PAD>> <<PAD>> <<PAD>> <<PAD>> <<PAD>> <<PAD>></td><td>0</td><td>0</td><td>0</td><td>0</td><td>0</td><td>0</td></tr><tr><td> </td><td>  </td><td>1</td><td>0</td><td>0</td><td>0</td><td>0</td><td>0</td></tr><tr><td>About the soldiers, it says that they are rumored to be from Pulse, but isn't Pulse a part of the world from Final Fantasy XIII?</td><td>About the soldiers , it says that they are rumored to be from Pulse , but is n't Pulse a part of the world from Final Fantasy XIII ? <<PAD>> <<PAD>> <<PAD>> <<PAD>> <<PAD>> <<PAD>> <<PAD>> <<PAD>></td><td>0</td><td>0</td><td>0</td><td>0</td><td>0</td><td>0</td></tr><tr><td> </td><td>  </td><td>1</td><td>0</td><td>0</td><td>0</td><td>0</td><td>0</td></tr><tr><td>quote from Nurture Assumption here and Harris's wiki and added link from Harris to birth order kacy:kacy 7:27 26 Nov 2006\n",
       "\n",
       "Added</td><td>quote from Nurture Assumption here and Harris 's wiki and added link from Harris to birth order kacy : kacy 7:27 26 Nov 2006 Added <<PAD>> <<PAD>> <<PAD>> <<PAD>> <<PAD>> <<PAD>> <<PAD>> <<PAD>> <<PAD>> <<PAD>> <<PAD>> <<PAD>></td><td>0</td><td>0</td><td>0</td><td>0</td><td>0</td><td>0</td></tr><tr><td> </td><td>  </td><td>1</td><td>0</td><td>0</td><td>0</td><td>0</td><td>0</td></tr><tr><td>Excuse me \n",
       "\n",
       "Excuse me, but why did you delete the article about Brad Sommer? It was a legitimate article by Wikipedia standards.</td><td>Excuse me Excuse me , but why did you delete the article about Brad Sommer ? It was a legitimate article by Wikipedia standards . <<PAD>> <<PAD>> <<PAD>> <<PAD>> <<PAD>> <<PAD>> <<PAD>> <<PAD>> <<PAD>> <<PAD>> <<PAD>> <<PAD>></td><td>0</td><td>0</td><td>0</td><td>0</td><td>0</td><td>0</td></tr><tr><td> </td><td>  </td><td>1</td><td>0</td><td>0</td><td>0</td><td>0</td><td>0</td></tr><tr><td>I know. But some people make it hard. That guy just told my to add info to the talk page, never mind the external links section!</td><td>I know . But some people make it hard . That guy just told my to add info to the talk page , never mind the external links section ! <<PAD>> <<PAD>> <<PAD>> <<PAD>> <<PAD>> <<PAD>> <<PAD>></td><td>0</td><td>0</td><td>0</td><td>0</td><td>0</td><td>0</td></tr><tr><td> </td><td>  </td><td>1</td><td>0</td><td>0</td><td>0</td><td>0</td><td>0</td></tr><tr><td>Do not place flags in the article Trigun as you did in your recent edits.  Use of flags in this manner goes against WP:FLAGS. ++</td><td>Do not place flags in the article Trigun as you did in your recent edits . Use of flags in this manner goes against WP : FLAGS . ++ <<PAD>> <<PAD>> <<PAD>> <<PAD>> <<PAD>> <<PAD>> <<PAD>> <<PAD>></td><td>0</td><td>0</td><td>0</td><td>0</td><td>0</td><td>0</td></tr><tr><td> </td><td>  </td><td>1</td><td>0</td><td>0</td><td>0</td><td>0</td><td>0</td></tr><tr><td>it is an expression of how much he wants to put his todger up your tight girly snatch before breaking your mums back doors down!</td><td>it is an expression of how much he wants to put his todger up your tight girly snatch before breaking your mums back doors down ! <<PAD>> <<PAD>> <<PAD>> <<PAD>> <<PAD>> <<PAD>> <<PAD>> <<PAD>> <<PAD>> <<PAD>> <<PAD>></td><td>0</td><td>0</td><td>0</td><td>0</td><td>0</td><td>0</td></tr><tr><td> </td><td>  </td><td>1</td><td>0</td><td>0</td><td>0</td><td>0</td><td>0</td></tr><tr><td>\"\n",
       "\n",
       " Happy Birthday! \n",
       "\n",
       "Just a happy Birthday message to you,  ,  from the Wikipedia Birthday Committee! Have a great day! socks \"</td><td>`` Happy Birthday ! Just a happy Birthday message to you , , from the Wikipedia Birthday Committee ! Have a great day ! socks `` <<PAD>> <<PAD>> <<PAD>> <<PAD>> <<PAD>> <<PAD>> <<PAD>> <<PAD>> <<PAD>> <<PAD>> <<PAD>></td><td>0</td><td>0</td><td>0</td><td>0</td><td>0</td><td>0</td></tr><tr><td> </td><td>  </td><td>1</td><td>0</td><td>0</td><td>0</td><td>0</td><td>0</td></tr><tr><td>Please show exactly where I have made a personal attack?  All I am doing is putting the truth out there.  I have cited a source.</td><td>Please show exactly where I have made a personal attack ? All I am doing is putting the truth out there . I have cited a source . <<PAD>> <<PAD>> <<PAD>> <<PAD>> <<PAD>> <<PAD>> <<PAD>> <<PAD>> <<PAD>></td><td>0</td><td>0</td><td>0</td><td>0</td><td>0</td><td>0</td></tr><tr><td> </td><td>  </td><td>1</td><td>0</td><td>0</td><td>0</td><td>0</td><td>0</td></tr><tr><td>Yes, I tried to collaborate. Please see the edit history for my well-crafted compromise between the two versions. 99.231.241.146</td><td>Yes , I tried to collaborate . Please see the edit history for my well-crafted compromise between the two versions . 99.231.241.146 <<PAD>> <<PAD>> <<PAD>> <<PAD>> <<PAD>> <<PAD>> <<PAD>> <<PAD>> <<PAD>> <<PAD>> <<PAD>> <<PAD>> <<PAD>> <<PAD>> <<PAD>></td><td>0</td><td>0</td><td>0</td><td>0</td><td>0</td><td>0</td></tr><tr><td> </td><td>  </td><td>1</td><td>0</td><td>0</td><td>0</td><td>0</td><td>0</td></tr><tr><td>Oh, I should read Wikipedia!  The article itself notes that he took money while he was still an MP - though it needs references.</td><td>Oh , I should read Wikipedia ! The article itself notes that he took money while he was still an MP - though it needs references . <<PAD>> <<PAD>> <<PAD>> <<PAD>> <<PAD>> <<PAD>> <<PAD>> <<PAD>> <<PAD>> <<PAD>></td><td>0</td><td>0</td><td>0</td><td>0</td><td>0</td><td>0</td></tr><tr><td> </td><td>  </td><td>1</td><td>0</td><td>0</td><td>0</td><td>0</td><td>0</td></tr><tr><td>Mariana Championship \n",
       "\n",
       "Wanted to let you know that all of your articles on Mariana Championship have been proposed for deletion.</td><td>Mariana Championship Wanted to let you know that all of your articles on Mariana Championship have been proposed for deletion . <<PAD>> <<PAD>> <<PAD>> <<PAD>> <<PAD>> <<PAD>> <<PAD>> <<PAD>> <<PAD>> <<PAD>> <<PAD>> <<PAD>> <<PAD>> <<PAD>> <<PAD>> <<PAD>></td><td>0</td><td>0</td><td>0</td><td>0</td><td>0</td><td>0</td></tr><tr><td> </td><td>  </td><td>1</td><td>0</td><td>0</td><td>0</td><td>0</td><td>0</td></tr><tr><td>Done, see Australia (1989 film). Won a couple of awards, at least one of which (the Golden Osella) makes it easily encyclopedic.</td><td>Done , see Australia ( 1989 film ) . Won a couple of awards , at least one of which ( the Golden Osella ) makes it easily encyclopedic . <<PAD>> <<PAD>> <<PAD>> <<PAD>> <<PAD>> <<PAD>> <<PAD>></td><td>0</td><td>0</td><td>0</td><td>0</td><td>0</td><td>0</td></tr><tr><td> </td><td>  </td><td>1</td><td>0</td><td>0</td><td>0</td><td>0</td><td>0</td></tr><tr><td>I am not a sockpuppet, but am an Ohioan. And I am greatly outraged at how hastily and terrible Marcus has treated these articles</td><td>I am not a sockpuppet , but am an Ohioan . And I am greatly outraged at how hastily and terrible Marcus has treated these articles <<PAD>> <<PAD>> <<PAD>> <<PAD>> <<PAD>> <<PAD>> <<PAD>> <<PAD>> <<PAD>> <<PAD>> <<PAD>></td><td>0</td><td>0</td><td>0</td><td>0</td><td>0</td><td>0</td></tr><tr><td> </td><td>  </td><td>1</td><td>0</td><td>0</td><td>0</td><td>0</td><td>0</td></tr><tr><td>Box Art \n",
       "Even so, the box art that is placed there is lower resolution. Meaning it would be wise to stay with the newer box art.</td><td>Box Art Even so , the box art that is placed there is lower resolution . Meaning it would be wise to stay with the newer box art . <<PAD>> <<PAD>> <<PAD>> <<PAD>> <<PAD>> <<PAD>> <<PAD>> <<PAD>></td><td>0</td><td>0</td><td>0</td><td>0</td><td>0</td><td>0</td></tr><tr><td> </td><td>  </td><td>1</td><td>0</td><td>0</td><td>0</td><td>0</td><td>0</td></tr><tr><td>So this came up already a few months ago? If there was an SPI page, per usual process, there wouldn't be such questioning of it.</td><td>So this came up already a few months ago ? If there was an SPI page , per usual process , there would n't be such questioning of it . <<PAD>> <<PAD>> <<PAD>> <<PAD>> <<PAD>> <<PAD>> <<PAD>></td><td>0</td><td>0</td><td>0</td><td>0</td><td>0</td><td>0</td></tr><tr><td> </td><td>  </td><td>1</td><td>0</td><td>0</td><td>0</td><td>0</td><td>0</td></tr><tr><td>Sadly, I am now forced to agree. That's not a statement about the comments above, but it's obvious that the ban needs to remain.</td><td>Sadly , I am now forced to agree . That 's not a statement about the comments above , but it 's obvious that the ban needs to remain . <<PAD>> <<PAD>> <<PAD>> <<PAD>> <<PAD>> <<PAD>> <<PAD>></td><td>0</td><td>0</td><td>0</td><td>0</td><td>0</td><td>0</td></tr><tr><td> </td><td>  </td><td>1</td><td>0</td><td>0</td><td>0</td><td>0</td><td>0</td></tr><tr><td>Are you sure that you can access The Chris Houlihan Room?  I've heard that you couldn't.\n",
       " If so, could you explain how?   Proper</td><td>Are you sure that you can access The Chris Houlihan Room ? I 've heard that you could n't . If so , could you explain how ? Proper <<PAD>> <<PAD>> <<PAD>> <<PAD>> <<PAD>> <<PAD>> <<PAD>> <<PAD>></td><td>0</td><td>0</td><td>0</td><td>0</td><td>0</td><td>0</td></tr><tr><td> </td><td>  </td><td>1</td><td>0</td><td>0</td><td>0</td><td>0</td><td>0</td></tr><tr><td>Apparently you're learning impaired.  That's okay, you have my sympathy and I can certainly make allowances for your affliction.</td><td>Apparently you 're learning impaired . That 's okay , you have my sympathy and I can certainly make allowances for your affliction . <<PAD>> <<PAD>> <<PAD>> <<PAD>> <<PAD>> <<PAD>> <<PAD>> <<PAD>> <<PAD>> <<PAD>> <<PAD>> <<PAD>> <<PAD>></td><td>0</td><td>0</td><td>0</td><td>0</td><td>0</td><td>0</td></tr><tr><td> </td><td>  </td><td>1</td><td>0</td><td>0</td><td>0</td><td>0</td><td>0</td></tr><tr><td>\"\n",
       "I strongly urge you to report this on ANI, instead of edit-warring, if you are intending to do so.  Nearly Headless Nick {C} \"</td><td>`` I strongly urge you to report this on ANI , instead of edit-warring , if you are intending to do so . Nearly Headless Nick { C } `` <<PAD>> <<PAD>> <<PAD>> <<PAD>> <<PAD>> <<PAD>> <<PAD>></td><td>0</td><td>0</td><td>0</td><td>0</td><td>0</td><td>0</td></tr><tr><td> </td><td>  </td><td>1</td><td>0</td><td>0</td><td>0</td><td>0</td><td>0</td></tr><tr><td>Broken Page layout\n",
       "I have no idea how to remove the unnecessary whitespace in the middle of the article.  Anyone want to fix it?</td><td>Broken Page layout I have no idea how to remove the unnecessary whitespace in the middle of the article . Anyone want to fix it ? <<PAD>> <<PAD>> <<PAD>> <<PAD>> <<PAD>> <<PAD>> <<PAD>> <<PAD>> <<PAD>> <<PAD>> <<PAD>></td><td>0</td><td>0</td><td>0</td><td>0</td><td>0</td><td>0</td></tr><tr><td> </td><td>  </td><td>1</td><td>0</td><td>0</td><td>0</td><td>0</td><td>0</td></tr><tr><td>OK, since no one seems to mind, I will remove it. However, should you disagree, feel free to add it back with a motivation here.</td><td>OK , since no one seems to mind , I will remove it . However , should you disagree , feel free to add it back with a motivation here . <<PAD>> <<PAD>> <<PAD>> <<PAD>> <<PAD>> <<PAD>></td><td>0</td><td>0</td><td>0</td><td>0</td><td>0</td><td>0</td></tr><tr><td> </td><td>  </td><td>1</td><td>0</td><td>0</td><td>0</td><td>0</td><td>0</td></tr><tr><td>\"\n",
       "Ok, thanks for the answers. I verified the hooks. (btw, sorry it took me so long, the second hook gave me a little trouble)  \"</td><td>`` Ok , thanks for the answers . I verified the hooks . ( btw , sorry it took me so long , the second hook gave me a little trouble ) `` <<PAD>> <<PAD>> <<PAD>> <<PAD>></td><td>0</td><td>0</td><td>0</td><td>0</td><td>0</td><td>0</td></tr><tr><td> </td><td>  </td><td>1</td><td>0</td><td>0</td><td>0</td><td>1</td><td>0</td></tr><tr><td>Please stop. If you continue to vandalize pages, as you did to User talk:Ricky81682, you will be blocked from editing Wikipedia.</td><td>Please stop . If you continue to vandalize pages , as you did to User talk : Ricky81682 , you will be blocked from editing Wikipedia . <<PAD>> <<PAD>> <<PAD>> <<PAD>> <<PAD>> <<PAD>> <<PAD>> <<PAD>> <<PAD>> <<PAD>></td><td>0</td><td>0</td><td>0</td><td>0</td><td>0</td><td>0</td></tr><tr><td> </td><td>  </td><td>1</td><td>0</td><td>0</td><td>0</td><td>0</td><td>0</td></tr><tr><td>I've just redirected portrait mode and landscape mode here as well. The articles were too short and redundant with what's here. </td><td>I 've just redirected portrait mode and landscape mode here as well . The articles were too short and redundant with what 's here . <<PAD>> <<PAD>> <<PAD>> <<PAD>> <<PAD>> <<PAD>> <<PAD>> <<PAD>> <<PAD>> <<PAD>> <<PAD>> <<PAD>></td><td>0</td><td>0</td><td>0</td><td>0</td><td>0</td><td>0</td></tr><tr><td> </td><td>  </td><td>1</td><td>0</td><td>0</td><td>0</td><td>0</td><td>0</td></tr><tr><td>\"\n",
       "ILLUMINATI!!! Finally got cha! Well your suggestion looks really enticing *scuttles back to the Madonna talkpage*  (talk2me) \"</td><td>`` ILLUMINATI ! ! ! Finally got cha ! Well your suggestion looks really enticing *scuttles back to the Madonna talkpage* ( talk2me ) `` <<PAD>> <<PAD>> <<PAD>> <<PAD>> <<PAD>> <<PAD>> <<PAD>> <<PAD>> <<PAD>> <<PAD>> <<PAD>> <<PAD>></td><td>0</td><td>0</td><td>0</td><td>0</td><td>0</td><td>0</td></tr><tr><td> </td><td>  </td><td>1</td><td>0</td><td>0</td><td>0</td><td>0</td><td>0</td></tr><tr><td>\"\n",
       "To answer your question, no. There is no significant lasting impact on the game as a whole.   [[User talk:Jojhutton|Hutton]] \"</td><td>`` To answer your question , no . There is no significant lasting impact on the game as a whole . [ [ User talk : Jojhutton|Hutton ] ] `` <<PAD>> <<PAD>> <<PAD>> <<PAD>> <<PAD>> <<PAD>> <<PAD>></td><td>0</td><td>0</td><td>0</td><td>0</td><td>0</td><td>0</td></tr><tr><td> </td><td>  </td><td>1</td><td>0</td><td>0</td><td>0</td><td>0</td><td>0</td></tr><tr><td>Reform Act 1832\n",
       " Please stop your disruptive editing. If you continue to vandalize Wikipedia,  you will be blocked from editing.</td><td>Reform Act 1832 Please stop your disruptive editing . If you continue to vandalize Wikipedia , you will be blocked from editing . <<PAD>> <<PAD>> <<PAD>> <<PAD>> <<PAD>> <<PAD>> <<PAD>> <<PAD>> <<PAD>> <<PAD>> <<PAD>> <<PAD>> <<PAD>> <<PAD>></td><td>0</td><td>0</td><td>0</td><td>0</td><td>0</td><td>0</td></tr><tr><td> </td><td>  </td><td>1</td><td>0</td><td>0</td><td>0</td><td>0</td><td>0</td></tr><tr><td>\"\n",
       "Why are you notifying me and various other editors when we have all clearly already commented on your proposal?  communicate \"</td><td>`` Why are you notifying me and various other editors when we have all clearly already commented on your proposal ? communicate `` <<PAD>> <<PAD>> <<PAD>> <<PAD>> <<PAD>> <<PAD>> <<PAD>> <<PAD>> <<PAD>> <<PAD>> <<PAD>> <<PAD>> <<PAD>> <<PAD>></td><td>0</td><td>0</td><td>0</td><td>0</td><td>0</td><td>0</td></tr><tr><td> </td><td>  </td><td>1</td><td>0</td><td>0</td><td>0</td><td>0</td><td>0</td></tr><tr><td>\"\n",
       "\n",
       " Contact information \n",
       "\n",
       "ThHis is a message for User: J.Sweeton@winri.com....please contact me at johncoonfox@yahoo.ca.\n",
       "\n",
       "     \"</td><td>`` Contact information ThHis is a message for User : J.Sweeton @ winri.com ... .please contact me at johncoonfox @ yahoo.ca. `` <<PAD>> <<PAD>> <<PAD>> <<PAD>> <<PAD>> <<PAD>> <<PAD>> <<PAD>> <<PAD>> <<PAD>> <<PAD>> <<PAD>> <<PAD>> <<PAD>> <<PAD>></td><td>0</td><td>0</td><td>0</td><td>0</td><td>0</td><td>0</td></tr><tr><td> </td><td>  </td><td>1</td><td>0</td><td>0</td><td>0</td><td>0</td><td>0</td></tr><tr><td>Look for mediation commission I see no compromise from you. I found you totally biased looking for blaming Polish nation. Andrew</td><td>Look for mediation commission I see no compromise from you . I found you totally biased looking for blaming Polish nation . Andrew <<PAD>> <<PAD>> <<PAD>> <<PAD>> <<PAD>> <<PAD>> <<PAD>> <<PAD>> <<PAD>> <<PAD>> <<PAD>> <<PAD>> <<PAD>> <<PAD>></td><td>0</td><td>0</td><td>0</td><td>0</td><td>0</td><td>0</td></tr><tr><td> </td><td>  </td><td>1</td><td>0</td><td>0</td><td>0</td><td>0</td><td>0</td></tr><tr><td>Thank you from User:Nelsondenis248 \n",
       "\n",
       "Thank you for posting the guidelines, and getting me started again. Here's to good editing.</td><td>Thank you from User : Nelsondenis248 Thank you for posting the guidelines , and getting me started again . Here 's to good editing . <<PAD>> <<PAD>> <<PAD>> <<PAD>> <<PAD>> <<PAD>> <<PAD>> <<PAD>> <<PAD>> <<PAD>> <<PAD>> <<PAD>></td><td>0</td><td>0</td><td>0</td><td>0</td><td>0</td><td>0</td></tr><tr><td> </td><td>  </td><td>1</td><td>0</td><td>0</td><td>0</td><td>0</td><td>0</td></tr><tr><td>no. its good not to edit wp -  if I ever miss your views I just see what partisangirl is saying - that's you that is. 92.3.10.13</td><td>no . its good not to edit wp - if I ever miss your views I just see what partisangirl is saying - that 's you that is . 92.3.10.13 <<PAD>> <<PAD>> <<PAD>> <<PAD>> <<PAD>> <<PAD>> <<PAD>></td><td>0</td><td>0</td><td>0</td><td>0</td><td>0</td><td>0</td></tr><tr><td> </td><td>  </td><td>1</td><td>0</td><td>0</td><td>0</td><td>0</td><td>0</td></tr><tr><td>\"\n",
       "\n",
       "Uninitiated variables can also be avoided by a simple assignment statement, like X=3.  Would you call that a \"\"default\"\" ?  \"</td><td>`` Uninitiated variables can also be avoided by a simple assignment statement , like X=3 . Would you call that a `` '' default '' '' ? `` <<PAD>> <<PAD>> <<PAD>> <<PAD>> <<PAD>> <<PAD>> <<PAD>> <<PAD>> <<PAD>></td><td>0</td><td>0</td><td>0</td><td>0</td><td>0</td><td>0</td></tr><tr><td> </td><td>  </td><td>1</td><td>0</td><td>0</td><td>0</td><td>0</td><td>0</td></tr><tr><td>Your Abuse Response Filing\n",
       "\n",
       " Greetings! Thank you for filing an Abuse Report for abusive behavior originating from 92.5.198.12 .</td><td>Your Abuse Response Filing Greetings ! Thank you for filing an Abuse Report for abusive behavior originating from 92.5.198.12 . <<PAD>> <<PAD>> <<PAD>> <<PAD>> <<PAD>> <<PAD>> <<PAD>> <<PAD>> <<PAD>> <<PAD>> <<PAD>> <<PAD>> <<PAD>> <<PAD>> <<PAD>> <<PAD>> <<PAD>></td><td>0</td><td>0</td><td>0</td><td>0</td><td>0</td><td>0</td></tr><tr><td> </td><td>  </td><td>1</td><td>0</td><td>0</td><td>0</td><td>0</td><td>0</td></tr><tr><td>Ok, so we agree she said it, just you suggest it is out of context.  could you provide a link to a source with the full context?</td><td>Ok , so we agree she said it , just you suggest it is out of context . could you provide a link to a source with the full context ? <<PAD>> <<PAD>> <<PAD>> <<PAD>> <<PAD>> <<PAD>></td><td>0</td><td>0</td><td>0</td><td>0</td><td>0</td><td>0</td></tr><tr><td> </td><td>  </td><td>1</td><td>0</td><td>0</td><td>0</td><td>0</td><td>0</td></tr><tr><td>Just so you don't think I'm going behind your back \n",
       "I've posted a comment on Flakeloaf's user page you may want to check out. []</td><td>Just so you do n't think I 'm going behind your back I 've posted a comment on Flakeloaf 's user page you may want to check out . [ ] <<PAD>> <<PAD>> <<PAD>> <<PAD>> <<PAD>> <<PAD>></td><td>0</td><td>0</td><td>0</td><td>0</td><td>0</td><td>0</td></tr><tr><td> </td><td>  </td><td>1</td><td>0</td><td>0</td><td>0</td><td>0</td><td>0</td></tr><tr><td>Nor do my postings indicate that I am anti-social, have gone rogue, or in any other way must be stopped before I do more damage.</td><td>Nor do my postings indicate that I am anti-social , have gone rogue , or in any other way must be stopped before I do more damage . <<PAD>> <<PAD>> <<PAD>> <<PAD>> <<PAD>> <<PAD>> <<PAD>> <<PAD>> <<PAD>></td><td>0</td><td>0</td><td>0</td><td>0</td><td>0</td><td>0</td></tr><tr><td> </td><td>  </td><td>1</td><td>0</td><td>0</td><td>0</td><td>0</td><td>0</td></tr><tr><td>\"\n",
       "Inactive bureaucrat?\n",
       "Should bureaucrats that have been inactive for over a year be removed from the list of bureaucrats? 888 \"</td><td>`` Inactive bureaucrat ? Should bureaucrats that have been inactive for over a year be removed from the list of bureaucrats ? 888 `` <<PAD>> <<PAD>> <<PAD>> <<PAD>> <<PAD>> <<PAD>> <<PAD>> <<PAD>> <<PAD>> <<PAD>> <<PAD>> <<PAD>> <<PAD>></td><td>0</td><td>0</td><td>0</td><td>0</td><td>0</td><td>0</td></tr><tr><td> </td><td>  </td><td>1</td><td>0</td><td>0</td><td>0</td><td>0</td><td>0</td></tr><tr><td>Relapse 2 has NO release date now, due to current rumors of Eminem dying in a fatal car crash that even appeared on Yahoo! News.</td><td>Relapse 2 has NO release date now , due to current rumors of Eminem dying in a fatal car crash that even appeared on Yahoo ! News . <<PAD>> <<PAD>> <<PAD>> <<PAD>> <<PAD>> <<PAD>> <<PAD>> <<PAD>> <<PAD>></td><td>0</td><td>0</td><td>0</td><td>0</td><td>0</td><td>0</td></tr><tr><td> </td><td>  </td><td>1</td><td>0</td><td>0</td><td>0</td><td>0</td><td>0</td></tr><tr><td>\"\n",
       "The problem is, 11 of the sources (and the most reliable ones) are all supporting one single sentence in the article. (talk) \"</td><td>`` The problem is , 11 of the sources ( and the most reliable ones ) are all supporting one single sentence in the article . ( talk ) `` <<PAD>> <<PAD>> <<PAD>> <<PAD>> <<PAD>> <<PAD>> <<PAD>></td><td>0</td><td>0</td><td>0</td><td>0</td><td>0</td><td>0</td></tr><tr><td> </td><td>  </td><td>1</td><td>0</td><td>0</td><td>0</td><td>0</td><td>0</td></tr><tr><td>Just in case you don't know it (you probably do, but just in case...), I almost always find the Language Log blog entertaining. -</td><td>Just in case you do n't know it ( you probably do , but just in case ... ) , I almost always find the Language Log blog entertaining . - <<PAD>> <<PAD>> <<PAD>> <<PAD>> <<PAD>> <<PAD>></td><td>0</td><td>0</td><td>0</td><td>0</td><td>0</td><td>0</td></tr><tr><td> </td><td>  </td><td>1</td><td>0</td><td>0</td><td>0</td><td>0</td><td>0</td></tr><tr><td>The entire page is a violation  of NPOV. It is bought, paid for and monitored for the purposes of promoting the subject material.</td><td>The entire page is a violation of NPOV . It is bought , paid for and monitored for the purposes of promoting the subject material . <<PAD>> <<PAD>> <<PAD>> <<PAD>> <<PAD>> <<PAD>> <<PAD>> <<PAD>> <<PAD>> <<PAD>> <<PAD>></td><td>0</td><td>0</td><td>0</td><td>0</td><td>0</td><td>0</td></tr><tr><td> </td><td>  </td><td>1</td><td>0</td><td>0</td><td>0</td><td>0</td><td>0</td></tr><tr><td>The lang/dialect question is a problem all over the world, not just in India. When that research is out, we can cite it as well. </td><td>The lang/dialect question is a problem all over the world , not just in India . When that research is out , we can cite it as well . <<PAD>> <<PAD>> <<PAD>> <<PAD>> <<PAD>> <<PAD>> <<PAD>> <<PAD>></td><td>0</td><td>0</td><td>0</td><td>0</td><td>0</td><td>0</td></tr><tr><td> </td><td>  </td><td>1</td><td>0</td><td>0</td><td>0</td><td>0</td><td>0</td></tr><tr><td>=>Thanks for the reply I'm curious: what is different to you about the situation of the Sahrawis versus the Papuans? -, talk \n",
       "\n",
       "==</td><td>= > Thanks for the reply I 'm curious : what is different to you about the situation of the Sahrawis versus the Papuans ? - , talk == <<PAD>> <<PAD>> <<PAD>> <<PAD>> <<PAD>> <<PAD>> <<PAD>> <<PAD>></td><td>0</td><td>0</td><td>0</td><td>0</td><td>0</td><td>0</td></tr><tr><td> </td><td>  </td><td>1</td><td>0</td><td>0</td><td>0</td><td>0</td><td>0</td></tr><tr><td>\"\n",
       "\n",
       " 203.254.144.220 \n",
       "\n",
       "Hi, Fire Star. Thanks for the polite notice, but I have no problem with your block. ) Regards, 123 (talk) \"</td><td>`` 203.254.144.220 Hi , Fire Star . Thanks for the polite notice , but I have no problem with your block. ) Regards , 123 ( talk ) `` <<PAD>> <<PAD>> <<PAD>> <<PAD>> <<PAD>> <<PAD>> <<PAD>> <<PAD>></td><td>0</td><td>0</td><td>0</td><td>0</td><td>0</td><td>0</td></tr><tr><td> </td><td>  </td><td>1</td><td>0</td><td>0</td><td>0</td><td>0</td><td>0</td></tr><tr><td>The X Factor live shows \n",
       "\n",
       "Hi, according to Fox's schedule there are no live shows on the 16 or 17th October so stop adding it in.</td><td>The X Factor live shows Hi , according to Fox 's schedule there are no live shows on the 16 or 17th October so stop adding it in . <<PAD>> <<PAD>> <<PAD>> <<PAD>> <<PAD>> <<PAD>> <<PAD>> <<PAD>></td><td>0</td><td>0</td><td>0</td><td>0</td><td>0</td><td>0</td></tr><tr><td> </td><td>  </td><td>1</td><td>0</td><td>0</td><td>0</td><td>0</td><td>0</td></tr><tr><td>\"\n",
       "Fine your loss I was going to finish my edits to Thimphu later to help it pass GA. Glad you are happy with this.   Blofeld -  \"</td><td>`` Fine your loss I was going to finish my edits to Thimphu later to help it pass GA. Glad you are happy with this . Blofeld - `` <<PAD>> <<PAD>> <<PAD>> <<PAD>> <<PAD>> <<PAD>> <<PAD>> <<PAD>></td><td>0</td><td>0</td><td>0</td><td>0</td><td>0</td><td>0</td></tr><tr><td> </td><td>  </td><td>1</td><td>0</td><td>0</td><td>0</td><td>0</td><td>0</td></tr><tr><td>.He is blocking mewithout a reason and removing all the edits i make. Wikipedia is public encyclopedia, not his personal property</td><td>.He is blocking mewithout a reason and removing all the edits i make . Wikipedia is public encyclopedia , not his personal property <<PAD>> <<PAD>> <<PAD>> <<PAD>> <<PAD>> <<PAD>> <<PAD>> <<PAD>> <<PAD>> <<PAD>> <<PAD>> <<PAD>> <<PAD>> <<PAD>></td><td>0</td><td>0</td><td>0</td><td>0</td><td>0</td><td>0</td></tr><tr><td> </td><td>  </td><td>1</td><td>0</td><td>0</td><td>0</td><td>0</td><td>0</td></tr><tr><td>I'm not sure the purpose of deleting this page, it is all accurate information and I cannot seem to find another page on Russell.</td><td>I 'm not sure the purpose of deleting this page , it is all accurate information and I can not seem to find another page on Russell . <<PAD>> <<PAD>> <<PAD>> <<PAD>> <<PAD>> <<PAD>> <<PAD>> <<PAD>> <<PAD>></td><td>0</td><td>0</td><td>0</td><td>0</td><td>0</td><td>0</td></tr><tr><td> </td><td>  </td><td>1</td><td>0</td><td>0</td><td>0</td><td>0</td><td>0</td></tr><tr><td>External video?\n",
       "I believe they don't really fall into wikipedia's style, but what do ppl think about posting any of these videos?</td><td>External video ? I believe they do n't really fall into wikipedia 's style , but what do ppl think about posting any of these videos ? <<PAD>> <<PAD>> <<PAD>> <<PAD>> <<PAD>> <<PAD>> <<PAD>> <<PAD>> <<PAD>> <<PAD>></td><td>0</td><td>0</td><td>0</td><td>0</td><td>0</td><td>0</td></tr><tr><td> </td><td>  </td><td>1</td><td>0</td><td>0</td><td>0</td><td>0</td><td>0</td></tr><tr><td>I added an excerpt from Elst's interview in the 'defense of Gujrat Administration' section. No deletions of other people's edits.</td><td>I added an excerpt from Elst 's interview in the 'defense of Gujrat Administration ' section . No deletions of other people 's edits . <<PAD>> <<PAD>> <<PAD>> <<PAD>> <<PAD>> <<PAD>> <<PAD>> <<PAD>> <<PAD>> <<PAD>> <<PAD>> <<PAD>></td><td>0</td><td>0</td><td>0</td><td>0</td><td>0</td><td>0</td></tr><tr><td> </td><td>  </td><td>1</td><td>0</td><td>0</td><td>0</td><td>0</td><td>0</td></tr><tr><td>The lead actor from Outsourced was white, he was the star of the show. As for the sourcing,  not really sure if they're reliable.</td><td>The lead actor from Outsourced was white , he was the star of the show . As for the sourcing , not really sure if they 're reliable . <<PAD>> <<PAD>> <<PAD>> <<PAD>> <<PAD>> <<PAD>> <<PAD>> <<PAD>></td><td>0</td><td>0</td><td>0</td><td>0</td><td>0</td><td>0</td></tr><tr><td> </td><td>  </td><td>1</td><td>0</td><td>0</td><td>0</td><td>0</td><td>0</td></tr><tr><td>\"\n",
       "\n",
       " Thankyou! \n",
       "\n",
       "Thank you for helping me become accustomed to Wikipedia; We can make a great team in the future - I'm Sure!\n",
       "\n",
       "  \n",
       "\"</td><td>`` Thankyou ! Thank you for helping me become accustomed to Wikipedia ; We can make a great team in the future - I 'm Sure ! '' <<PAD>> <<PAD>> <<PAD>> <<PAD>> <<PAD>> <<PAD>> <<PAD>> <<PAD>> <<PAD>></td><td>0</td><td>0</td><td>0</td><td>0</td><td>0</td><td>0</td></tr><tr><td> </td><td>  </td><td>1</td><td>0</td><td>0</td><td>0</td><td>0</td><td>0</td></tr><tr><td>\"\n",
       "\n",
       "\"\"Policy does not prohibit users, whether registered or unregistered users, from removing comments from their own talk pages'\"</td><td>`` '' '' Policy does not prohibit users , whether registered or unregistered users , from removing comments from their own talk pages ' '' <<PAD>> <<PAD>> <<PAD>> <<PAD>> <<PAD>> <<PAD>> <<PAD>> <<PAD>> <<PAD>> <<PAD>> <<PAD>> <<PAD>></td><td>0</td><td>0</td><td>0</td><td>0</td><td>0</td><td>0</td></tr><tr><td> </td><td>  </td><td>1</td><td>0</td><td>0</td><td>0</td><td>0</td><td>0</td></tr><tr><td>someone might want to check out what i've been adding and the fact that  has been rep[eadetly deleting all this information today</td><td>someone might want to check out what i 've been adding and the fact that has been rep [ eadetly deleting all this information today <<PAD>> <<PAD>> <<PAD>> <<PAD>> <<PAD>> <<PAD>> <<PAD>> <<PAD>> <<PAD>> <<PAD>> <<PAD>> <<PAD>></td><td>0</td><td>0</td><td>0</td><td>0</td><td>0</td><td>0</td></tr><tr><td> </td><td>  </td><td>1</td><td>0</td><td>0</td><td>0</td><td>0</td><td>0</td></tr><tr><td>Thanks\n",
       "Stop deleting the links to the Celebrity Whovian category, they are relevant as those celebrities fall under the category.</td><td>Thanks Stop deleting the links to the Celebrity Whovian category , they are relevant as those celebrities fall under the category . <<PAD>> <<PAD>> <<PAD>> <<PAD>> <<PAD>> <<PAD>> <<PAD>> <<PAD>> <<PAD>> <<PAD>> <<PAD>> <<PAD>> <<PAD>> <<PAD>> <<PAD>></td><td>0</td><td>0</td><td>0</td><td>0</td><td>0</td><td>0</td></tr><tr><td> </td><td>  </td><td>1</td><td>0</td><td>0</td><td>0</td><td>0</td><td>0</td></tr><tr><td>Then would is a reliable sourece? Please explain it in YOU OWN WORDS. I have look at Wikipedia's, now I would like to know yours.</td><td>Then would is a reliable sourece ? Please explain it in YOU OWN WORDS . I have look at Wikipedia 's , now I would like to know yours . <<PAD>> <<PAD>> <<PAD>> <<PAD>> <<PAD>> <<PAD>> <<PAD>></td><td>0</td><td>0</td><td>0</td><td>0</td><td>0</td><td>0</td></tr><tr><td> </td><td>  </td><td>1</td><td>0</td><td>0</td><td>0</td><td>0</td><td>0</td></tr><tr><td>List of Alberta general elections|List of Alberta general elections]]\n",
       "[[User talk:117Avenue#Princess Elizabeth|Princess Elizabeth</td><td>List of Alberta general elections|List of Alberta general elections ] ] [ [ User talk:117Avenue # Princess Elizabeth|Princess Elizabeth <<PAD>> <<PAD>> <<PAD>> <<PAD>> <<PAD>> <<PAD>> <<PAD>> <<PAD>> <<PAD>> <<PAD>> <<PAD>> <<PAD>> <<PAD>> <<PAD>> <<PAD>> <<PAD>> <<PAD>> <<PAD>></td><td>0</td><td>0</td><td>0</td><td>0</td><td>0</td><td>0</td></tr><tr><td> </td><td>  </td><td>1</td><td>0</td><td>0</td><td>0</td><td>0</td><td>0</td></tr><tr><td>\"\n",
       "\n",
       "You started the lame edit war. Both are acceptable, so there's no need to change it from one to the other. So it's lame. 303 \"</td><td>`` You started the lame edit war . Both are acceptable , so there 's no need to change it from one to the other . So it 's lame . 303 `` <<PAD>> <<PAD>> <<PAD>> <<PAD>></td><td>0</td><td>0</td><td>0</td><td>0</td><td>0</td><td>0</td></tr><tr><td> </td><td>  </td><td>1</td><td>0</td><td>0</td><td>0</td><td>1</td><td>0</td></tr><tr><td>Regarding guitars \n",
       "\n",
       "Both Jim and Mick play lead and rhythm, stop making it so Jim is only rhythm and Mick is only lead, thank you</td><td>Regarding guitars Both Jim and Mick play lead and rhythm , stop making it so Jim is only rhythm and Mick is only lead , thank you <<PAD>> <<PAD>> <<PAD>> <<PAD>> <<PAD>> <<PAD>> <<PAD>> <<PAD>> <<PAD>> <<PAD>></td><td>0</td><td>0</td><td>0</td><td>0</td><td>0</td><td>0</td></tr><tr><td> </td><td>  </td><td>1</td><td>0</td><td>0</td><td>0</td><td>0</td><td>0</td></tr><tr><td>Thanks a lot! Can the sources that I provided be considered reliable?? If I put the sources in the article, will it be restored??</td><td>Thanks a lot ! Can the sources that I provided be considered reliable ? ? If I put the sources in the article , will it be restored ? ? <<PAD>> <<PAD>> <<PAD>> <<PAD>> <<PAD>> <<PAD>> <<PAD>></td><td>0</td><td>0</td><td>0</td><td>0</td><td>0</td><td>0</td></tr><tr><td> </td><td>  </td><td>1</td><td>0</td><td>0</td><td>0</td><td>0</td><td>0</td></tr><tr><td>That really is the final straw, and thoroughly dishonest of you to leave the personal attack to which I was responding.  Fatuorum</td><td>That really is the final straw , and thoroughly dishonest of you to leave the personal attack to which I was responding . Fatuorum <<PAD>> <<PAD>> <<PAD>> <<PAD>> <<PAD>> <<PAD>> <<PAD>> <<PAD>> <<PAD>> <<PAD>> <<PAD>> <<PAD>> <<PAD>></td><td>0</td><td>0</td><td>0</td><td>0</td><td>0</td><td>0</td></tr><tr><td> </td><td>  </td><td>1</td><td>0</td><td>0</td><td>0</td><td>0</td><td>0</td></tr><tr><td>WP:POINT \n",
       "\n",
       "You need to read it, and the other Wiki policies.  You are NOT allowed to remove the comments other users make.  EVER.</td><td>WP : POINT You need to read it , and the other Wiki policies . You are NOT allowed to remove the comments other users make . EVER . <<PAD>> <<PAD>> <<PAD>> <<PAD>> <<PAD>> <<PAD>> <<PAD>> <<PAD>></td><td>0</td><td>0</td><td>0</td><td>0</td><td>0</td><td>0</td></tr><tr><td> </td><td>  </td><td>1</td><td>0</td><td>0</td><td>0</td><td>0</td><td>0</td></tr><tr><td>Thanks!\n",
       "Thanks for your creation of, contributions to, and defense of the article List of fatal dog attacks in the United States!</td><td>Thanks ! Thanks for your creation of , contributions to , and defense of the article List of fatal dog attacks in the United States ! <<PAD>> <<PAD>> <<PAD>> <<PAD>> <<PAD>> <<PAD>> <<PAD>> <<PAD>> <<PAD>> <<PAD>> <<PAD>></td><td>0</td><td>0</td><td>0</td><td>0</td><td>0</td><td>0</td></tr><tr><td> </td><td>  </td><td>1</td><td>0</td><td>0</td><td>0</td><td>0</td><td>0</td></tr><tr><td>\"\n",
       "Couldn't do it without the support of friends like you -) I'm nearly done with the article about Saint Melangell too.  ~ talk \"</td><td>`` Could n't do it without the support of friends like you - ) I 'm nearly done with the article about Saint Melangell too . ~ talk `` <<PAD>> <<PAD>> <<PAD>> <<PAD>> <<PAD>> <<PAD>> <<PAD>> <<PAD>></td><td>0</td><td>0</td><td>0</td><td>0</td><td>0</td><td>0</td></tr><tr><td> </td><td>  </td><td>1</td><td>0</td><td>0</td><td>0</td><td>0</td><td>0</td></tr><tr><td>Lol, no problem at all. After that last bit of racism, he definitely needed blocked asap. Thanks for the advice, and the welcome!</td><td>Lol , no problem at all . After that last bit of racism , he definitely needed blocked asap . Thanks for the advice , and the welcome ! <<PAD>> <<PAD>> <<PAD>> <<PAD>> <<PAD>> <<PAD>> <<PAD>> <<PAD>></td><td>0</td><td>0</td><td>0</td><td>0</td><td>0</td><td>0</td></tr><tr><td> </td><td>  </td><td>1</td><td>0</td><td>0</td><td>0</td><td>0</td><td>0</td></tr><tr><td>\"\n",
       "\n",
       " I am going to have to report you to the administrators for your continued defiance of consensus guidelines. ChatMe!ReadMe!! \"</td><td>`` I am going to have to report you to the administrators for your continued defiance of consensus guidelines . ChatMe ! ReadMe ! ! `` <<PAD>> <<PAD>> <<PAD>> <<PAD>> <<PAD>> <<PAD>> <<PAD>> <<PAD>> <<PAD>> <<PAD>> <<PAD>></td><td>0</td><td>0</td><td>0</td><td>0</td><td>0</td><td>0</td></tr><tr><td> </td><td>  </td><td>1</td><td>0</td><td>0</td><td>0</td><td>0</td><td>0</td></tr><tr><td>A quick Lexis/Nexis search reveals that this is discussed in many significant nationwide sources, including a Fox News interview.</td><td>A quick Lexis/Nexis search reveals that this is discussed in many significant nationwide sources , including a Fox News interview . <<PAD>> <<PAD>> <<PAD>> <<PAD>> <<PAD>> <<PAD>> <<PAD>> <<PAD>> <<PAD>> <<PAD>> <<PAD>> <<PAD>> <<PAD>> <<PAD>> <<PAD>> <<PAD>></td><td>0</td><td>0</td><td>0</td><td>0</td><td>0</td><td>0</td></tr><tr><td> </td><td>  </td><td>1</td><td>0</td><td>0</td><td>0</td><td>0</td><td>0</td></tr><tr><td>Duloxetine does not have to be better than existing therapies.  But the article does have to be unbiased and fact based.   mwalla</td><td>Duloxetine does not have to be better than existing therapies . But the article does have to be unbiased and fact based . mwalla <<PAD>> <<PAD>> <<PAD>> <<PAD>> <<PAD>> <<PAD>> <<PAD>> <<PAD>> <<PAD>> <<PAD>> <<PAD>> <<PAD>> <<PAD>></td><td>0</td><td>0</td><td>0</td><td>0</td><td>0</td><td>0</td></tr><tr><td> </td><td>  </td><td>1</td><td>0</td><td>0</td><td>0</td><td>0</td><td>0</td></tr></table>"
      ],
      "text/plain": [
       "<IPython.core.display.HTML object>"
      ]
     },
     "metadata": {},
     "output_type": "display_data"
    },
    {
     "name": "stderr",
     "output_type": "stream",
     "text": [
      "2018-01-29 12:31:33,569:TRAINER.main:CRITICAL:               train:: memory consumed : 2812436480\n",
      "\n",
      "  0%|          | 0/1059 [00:00<?, ?it/s]\u001b[A\n",
      "100%|██████████| 1059/1059 [58:22<00:00, 297.84s/it]\n",
      "2018-01-29 13:29:56,286:TRAINER.main:INFO   :               train:: -- 0 -- loss: -0.8868265748023987\n",
      "100%|██████████| 199/199 [00:25<00:00,  6.78it/s]\n",
      "2018-01-29 13:30:21,722:TRAINER.main:INFO   : do_every_checkpoint:: -- 0 -- loss: -0.9059795141220093, accuracy: 0\n",
      "2018-01-29 13:30:21,725:TRAINER.main:CRITICAL:               train:: memory consumed : 11399782400\n",
      "100%|██████████| 1059/1059 [1:00:07<00:00,  2.82it/s] \n",
      "2018-01-29 14:30:29,678:TRAINER.main:INFO   :               train:: -- 1 -- loss: -0.9176936745643616\n",
      "100%|██████████| 199/199 [00:38<00:00,  4.71it/s]\n",
      "2018-01-29 14:31:07,759:TRAINER.main:INFO   : do_every_checkpoint:: -- 1 -- loss: -0.9556130766868591, accuracy: 0\n",
      "2018-01-29 14:31:07,762:TRAINER.main:CRITICAL:               train:: memory consumed : 11471265792\n",
      "100%|██████████| 1059/1059 [1:02:09<00:00,  2.18it/s] \n",
      "2018-01-29 15:33:17,564:TRAINER.main:INFO   :               train:: -- 2 -- loss: -0.9593204855918884\n",
      "100%|██████████| 199/199 [00:54<00:00,  3.02it/s]\n",
      "2018-01-29 15:34:11,951:TRAINER.main:INFO   : do_every_checkpoint:: -- 2 -- loss: -0.9575219750404358, accuracy: 0\n",
      "2018-01-29 15:34:11,955:TRAINER.main:CRITICAL:               train:: memory consumed : 11490811904\n",
      "100%|██████████| 1059/1059 [1:00:38<00:00,  1.34it/s] \n",
      "2018-01-29 16:34:50,796:TRAINER.main:INFO   :               train:: -- 3 -- loss: -0.9593929052352905\n",
      "100%|██████████| 199/199 [01:17<00:00,  2.20it/s]\n",
      "2018-01-29 16:36:08,408:TRAINER.main:INFO   : do_every_checkpoint:: -- 3 -- loss: -0.9550331234931946, accuracy: 0\n",
      "2018-01-29 16:36:08,412:TRAINER.main:CRITICAL:               train:: memory consumed : 11501051904\n",
      "100%|██████████| 1059/1059 [1:00:38<00:00,  1.07s/it] \n",
      "2018-01-29 17:36:46,912:TRAINER.main:INFO   :               train:: -- 4 -- loss: -0.9564481973648071\n",
      "100%|██████████| 199/199 [02:25<00:00,  1.14s/it]\n",
      "2018-01-29 17:39:12,678:TRAINER.main:INFO   : do_every_checkpoint:: -- 4 -- loss: -0.960383951663971, accuracy: 0\n",
      "2018-01-29 17:39:12,687:TRAINER.main:CRITICAL:               train:: memory consumed : 11505315840\n",
      "100%|██████████| 1059/1059 [1:00:56<00:00,  6.68s/it]\n",
      "2018-01-29 18:40:08,916:TRAINER.main:INFO   :               train:: -- 5 -- loss: -0.961233913898468\n",
      "100%|██████████| 199/199 [03:05<00:00,  7.76it/s]\n",
      "2018-01-29 18:43:14,227:TRAINER.main:INFO   : do_every_checkpoint:: -- 5 -- loss: -0.9432653784751892, accuracy: 0\n",
      "2018-01-29 18:43:14,229:TRAINER.main:CRITICAL:               train:: memory consumed : 12994363392\n",
      "100%|██████████| 1059/1059 [1:00:16<00:00,  3.22it/s] \n",
      "2018-01-29 19:43:31,159:TRAINER.main:INFO   :               train:: -- 6 -- loss: -0.9440993666648865\n",
      "100%|██████████| 199/199 [00:34<00:00,  4.67it/s]\n",
      "2018-01-29 19:44:05,446:TRAINER.main:INFO   : do_every_checkpoint:: -- 6 -- loss: -0.93638014793396, accuracy: 0\n",
      "2018-01-29 19:44:05,449:TRAINER.main:CRITICAL:               train:: memory consumed : 13004640256\n",
      "100%|██████████| 1059/1059 [1:02:18<00:00,  2.12it/s]   \n",
      "2018-01-29 20:46:23,853:TRAINER.main:INFO   :               train:: -- 7 -- loss: -0.9369369149208069\n",
      "100%|██████████| 199/199 [00:50<00:00,  3.08it/s]\n",
      "2018-01-29 20:47:13,867:TRAINER.main:INFO   : do_every_checkpoint:: -- 7 -- loss: -0.9540138840675354, accuracy: 0\n",
      "2018-01-29 20:47:13,870:TRAINER.main:CRITICAL:               train:: memory consumed : 13009264640\n",
      "100%|██████████| 1059/1059 [1:01:53<00:00,  1.44it/s] \n",
      "2018-01-29 21:49:07,780:TRAINER.main:INFO   :               train:: -- 8 -- loss: -0.9544297456741333\n",
      "100%|██████████| 199/199 [01:09<00:00,  2.50it/s]\n",
      "2018-01-29 21:50:17,057:TRAINER.main:INFO   : do_every_checkpoint:: -- 8 -- loss: -0.9614956974983215, accuracy: 0\n",
      "2018-01-29 21:50:17,061:TRAINER.main:CRITICAL:               train:: memory consumed : 13012578304\n",
      "100%|██████████| 1059/1059 [1:04:56<00:00,  1.07it/s] \n",
      "2018-01-29 22:55:13,935:TRAINER.main:INFO   :               train:: -- 9 -- loss: -0.961846649646759\n",
      "100%|██████████| 199/199 [02:00<00:00,  1.23it/s]\n",
      "2018-01-29 22:57:14,516:TRAINER.main:INFO   : do_every_checkpoint:: -- 9 -- loss: -0.9660530686378479, accuracy: 0\n"
     ]
    },
    {
     "name": "stdout",
     "output_type": "stream",
     "text": [
      "torch.Size([120, 6, 2]) 120 120 120\n"
     ]
    },
    {
     "data": {
      "text/html": [
       "<table><tr><td>Since the section had already been flagged for a bit, I went ahead with the move.  I will not protest an undo, but I feel strongly that this note does not belong in this article.  PERHAPS is belongs in another Wikipedia article, such as [carbon footprint] where I moved it.</td><td>Since the section had already been flagged for a bit , I went ahead with the move . I will not protest an undo , but I feel strongly that this note does not belong in this article . PERHAPS is belongs in another Wikipedia article , such as [ carbon footprint ] where I moved it . <<PAD>> <<PAD>> <<PAD>> <<PAD>> <<PAD>> <<PAD>> <<PAD>> <<PAD>> <<PAD>> <<PAD>> <<PAD>> <<PAD>> <<PAD>> <<PAD>> <<PAD>> <<PAD>> <<PAD>> <<PAD>> <<PAD>> <<PAD>> <<PAD>> <<PAD>> <<PAD>></td><td>0</td><td>0</td><td>0</td><td>0</td><td>0</td><td>0</td></tr><tr><td> </td><td>  </td><td>0</td><td>0</td><td>0</td><td>0</td><td>0</td><td>0</td></tr><tr><td>Congratulations on making the news - and it wasn't for riding the baggage carousel (you can only do that if you look like cow luggage, or even cow luggage). BTW - you look like my hubby, only hubby is rather greyer. I don't know whether this is a good thing or a bad thing.</td><td>Congratulations on making the news - and it was n't for riding the baggage carousel ( you can only do that if you look like cow luggage , or even cow luggage ) . BTW - you look like my hubby , only hubby is rather greyer . I do n't know whether this is a good thing or a bad thing . <<PAD>> <<PAD>> <<PAD>> <<PAD>> <<PAD>> <<PAD>> <<PAD>> <<PAD>> <<PAD>> <<PAD>> <<PAD>> <<PAD>> <<PAD>> <<PAD>> <<PAD>> <<PAD>> <<PAD>> <<PAD>></td><td>0</td><td>0</td><td>0</td><td>0</td><td>0</td><td>0</td></tr><tr><td> </td><td>  </td><td>0</td><td>0</td><td>0</td><td>0</td><td>0</td><td>0</td></tr><tr><td>Hola ,mi llamo Holli and this is my wiki im new to wiki and don't really know what the.... ummm never mind I'm supposed to do and how to do it! so as you can see I'm probably screwed!         \n",
       "  ?                        -holli1213\n",
       " . .                            1-4-10\n",
       "  ~</td><td>Hola , mi llamo Holli and this is my wiki im new to wiki and do n't really know what the ... . ummm never mind I 'm supposed to do and how to do it ! so as you can see I 'm probably screwed ! ? -holli1213 . . 1-4-10 ~ <<PAD>> <<PAD>> <<PAD>> <<PAD>> <<PAD>> <<PAD>> <<PAD>> <<PAD>> <<PAD>> <<PAD>> <<PAD>> <<PAD>> <<PAD>> <<PAD>> <<PAD>> <<PAD>> <<PAD>> <<PAD>> <<PAD>> <<PAD>> <<PAD>> <<PAD>> <<PAD>> <<PAD>> <<PAD>> <<PAD>> <<PAD>> <<PAD>></td><td>0</td><td>0</td><td>0</td><td>0</td><td>0</td><td>0</td></tr><tr><td> </td><td>  </td><td>0</td><td>0</td><td>0</td><td>0</td><td>0</td><td>0</td></tr><tr><td>Yerevan Thermal Power Plant \n",
       "\n",
       "While your contributions to Wikipedia are appreciated, copyrighted material is not. Please do not reinstate copyrighted text (text copied from other websites) at the Yerevan Thermal Power Plant or I will block you from further editing. Thanks,</td><td>Yerevan Thermal Power Plant While your contributions to Wikipedia are appreciated , copyrighted material is not . Please do not reinstate copyrighted text ( text copied from other websites ) at the Yerevan Thermal Power Plant or I will block you from further editing . Thanks , <<PAD>> <<PAD>> <<PAD>> <<PAD>> <<PAD>> <<PAD>> <<PAD>> <<PAD>> <<PAD>> <<PAD>> <<PAD>> <<PAD>> <<PAD>> <<PAD>> <<PAD>> <<PAD>> <<PAD>> <<PAD>> <<PAD>> <<PAD>> <<PAD>> <<PAD>> <<PAD>> <<PAD>> <<PAD>> <<PAD>> <<PAD>> <<PAD>> <<PAD>> <<PAD>> <<PAD>> <<PAD>> <<PAD>> <<PAD>></td><td>0</td><td>0</td><td>0</td><td>0</td><td>0</td><td>0</td></tr><tr><td> </td><td>  </td><td>0</td><td>0</td><td>0</td><td>0</td><td>0</td><td>0</td></tr><tr><td>Stop. If you continue to vandalize pages, as you did  to Moi dix Mois, you will be blocked from editing Wikipedia.    \n",
       "\n",
       "Removing warnings from your talk page does not erase their existence. If you continue to hide evidence of your mischievous behavior, you will be blocked.</td><td>Stop . If you continue to vandalize pages , as you did to Moi dix Mois , you will be blocked from editing Wikipedia . Removing warnings from your talk page does not erase their existence . If you continue to hide evidence of your mischievous behavior , you will be blocked . <<PAD>> <<PAD>> <<PAD>> <<PAD>> <<PAD>> <<PAD>> <<PAD>> <<PAD>> <<PAD>> <<PAD>> <<PAD>> <<PAD>> <<PAD>> <<PAD>> <<PAD>> <<PAD>> <<PAD>> <<PAD>> <<PAD>> <<PAD>> <<PAD>> <<PAD>> <<PAD>> <<PAD>> <<PAD>> <<PAD>> <<PAD>> <<PAD>></td><td>0</td><td>0</td><td>0</td><td>0</td><td>0</td><td>0</td></tr><tr><td> </td><td>  </td><td>0</td><td>0</td><td>0</td><td>0</td><td>0</td><td>0</td></tr><tr><td>Ok, I'm getting not to worry about it for right now... and of course I won't mind if the categories are corrected for the dual-residency / citizenship folks. If you find that there are more than need to be changed in these cases, let me know - I'm happy to pitch in. (talk)</td><td>Ok , I 'm getting not to worry about it for right now ... and of course I wo n't mind if the categories are corrected for the dual-residency / citizenship folks . If you find that there are more than need to be changed in these cases , let me know - I 'm happy to pitch in . ( talk ) <<PAD>> <<PAD>> <<PAD>> <<PAD>> <<PAD>> <<PAD>> <<PAD>> <<PAD>> <<PAD>> <<PAD>> <<PAD>> <<PAD>> <<PAD>> <<PAD>> <<PAD>> <<PAD>> <<PAD>> <<PAD>></td><td>0</td><td>0</td><td>0</td><td>0</td><td>0</td><td>0</td></tr><tr><td> </td><td>  </td><td>0</td><td>0</td><td>0</td><td>0</td><td>0</td><td>0</td></tr><tr><td>to LHVU - while an interesting adaptation, I think the previous irc clarification request is a better solution in this case (get the nutters who have it for G out of the picture), and a broader discussion of a) civility, and b) 'established contributor' v. 'unestablished'.</td><td>to LHVU - while an interesting adaptation , I think the previous irc clarification request is a better solution in this case ( get the nutters who have it for G out of the picture ) , and a broader discussion of a ) civility , and b ) 'established contributor ' v. 'unestablished ' . <<PAD>> <<PAD>> <<PAD>> <<PAD>> <<PAD>> <<PAD>> <<PAD>> <<PAD>> <<PAD>> <<PAD>> <<PAD>> <<PAD>> <<PAD>> <<PAD>> <<PAD>> <<PAD>> <<PAD>> <<PAD>> <<PAD>> <<PAD>> <<PAD>> <<PAD>> <<PAD>> <<PAD>> <<PAD>></td><td>0</td><td>0</td><td>0</td><td>0</td><td>0</td><td>0</td></tr><tr><td> </td><td>  </td><td>0</td><td>0</td><td>0</td><td>0</td><td>0</td><td>0</td></tr><tr><td>\"\n",
       "Agree. Perhaps we would need a separate AGO pedalboard article if the AGO pedalboard article was a hulking, 30-page article with a detailed history, photos, etc.  But it's not. The AGO article is short enough to be a prominent section in the \"\"Pedal Keyboard\"\" article. \"</td><td>`` Agree . Perhaps we would need a separate AGO pedalboard article if the AGO pedalboard article was a hulking , 30-page article with a detailed history , photos , etc . But it 's not . The AGO article is short enough to be a prominent section in the `` '' Pedal Keyboard '' '' article. `` <<PAD>> <<PAD>> <<PAD>> <<PAD>> <<PAD>> <<PAD>> <<PAD>> <<PAD>> <<PAD>> <<PAD>> <<PAD>> <<PAD>> <<PAD>> <<PAD>> <<PAD>> <<PAD>> <<PAD>> <<PAD>> <<PAD>> <<PAD>> <<PAD>> <<PAD>> <<PAD>></td><td>0</td><td>0</td><td>0</td><td>0</td><td>0</td><td>0</td></tr><tr><td> </td><td>  </td><td>0</td><td>0</td><td>0</td><td>0</td><td>0</td><td>0</td></tr><tr><td>\"Just read your argument in defence on the DRV that \"\"The only argument for keep was 'he won an award'\"\". I'd like to draw your attention to this diff -  - and point out that is a separate argument based on citation of notability by sourcing. Will you reconsider now?   \n",
       "\n",
       "\"</td><td>`` Just read your argument in defence on the DRV that `` '' The only argument for keep was 'he won an award ' '' '' . I 'd like to draw your attention to this diff - - and point out that is a separate argument based on citation of notability by sourcing . Will you reconsider now ? '' <<PAD>> <<PAD>> <<PAD>> <<PAD>> <<PAD>> <<PAD>> <<PAD>> <<PAD>> <<PAD>> <<PAD>> <<PAD>> <<PAD>> <<PAD>> <<PAD>> <<PAD>> <<PAD>> <<PAD>> <<PAD>> <<PAD>> <<PAD>></td><td>0</td><td>0</td><td>0</td><td>0</td><td>0</td><td>0</td></tr><tr><td> </td><td>  </td><td>0</td><td>0</td><td>0</td><td>0</td><td>0</td><td>0</td></tr><tr><td>\"\n",
       "\n",
       " SPI notice - Dmartinaus \n",
       "\n",
       "I have initiated an Sock-Puppet Investigation on  at Wikipedia:Sockpuppet investigations/Dmartinaus.  If you have concerns or opinions on this issue, you may make those known in the \"\"Comments by other users\"\" section of the SPI.  Regards,   \"</td><td>`` SPI notice - Dmartinaus I have initiated an Sock-Puppet Investigation on at Wikipedia : Sockpuppet investigations/Dmartinaus . If you have concerns or opinions on this issue , you may make those known in the `` '' Comments by other users '' '' section of the SPI . Regards , `` <<PAD>> <<PAD>> <<PAD>> <<PAD>> <<PAD>> <<PAD>> <<PAD>> <<PAD>> <<PAD>> <<PAD>> <<PAD>> <<PAD>> <<PAD>> <<PAD>> <<PAD>> <<PAD>> <<PAD>> <<PAD>> <<PAD>> <<PAD>> <<PAD>> <<PAD>> <<PAD>> <<PAD>> <<PAD>> <<PAD>> <<PAD>> <<PAD>> <<PAD>> <<PAD>></td><td>0</td><td>0</td><td>0</td><td>0</td><td>0</td><td>0</td></tr><tr><td> </td><td>  </td><td>0</td><td>0</td><td>0</td><td>0</td><td>0</td><td>0</td></tr><tr><td>2007 (UTC)\n",
       "It seems that IGN has removed the date of the Full Version of the Opera Browser out of the list, therefore, March 30th may not be the date. I'm gonna remove March 30 at the article since we dont have evidence that will be released on the 30th.  21:33, 8 February</td><td>2007 ( UTC ) It seems that IGN has removed the date of the Full Version of the Opera Browser out of the list , therefore , March 30th may not be the date . I 'm gon na remove March 30 at the article since we dont have evidence that will be released on the 30th . 21:33 , 8 February <<PAD>> <<PAD>> <<PAD>> <<PAD>> <<PAD>> <<PAD>> <<PAD>> <<PAD>> <<PAD>> <<PAD>> <<PAD>> <<PAD>> <<PAD>> <<PAD>> <<PAD>> <<PAD>> <<PAD>> <<PAD>> <<PAD>></td><td>0</td><td>0</td><td>0</td><td>0</td><td>0</td><td>0</td></tr><tr><td> </td><td>  </td><td>0</td><td>0</td><td>0</td><td>0</td><td>0</td><td>0</td></tr><tr><td>\"\n",
       "\n",
       " Shortage of names? \n",
       "\n",
       "Was there an acute shortage of names in Migration Era Europe?  I mean, seriously - two Hervors, two (or is that three) Angantyrs, and two Sifkas?  There must have been a lot of misunderstandings - no wonder that era was so chaotic and warlike\"\"   \"</td><td>`` Shortage of names ? Was there an acute shortage of names in Migration Era Europe ? I mean , seriously - two Hervors , two ( or is that three ) Angantyrs , and two Sifkas ? There must have been a lot of misunderstandings - no wonder that era was so chaotic and warlike '' '' `` <<PAD>> <<PAD>> <<PAD>> <<PAD>> <<PAD>> <<PAD>> <<PAD>> <<PAD>> <<PAD>> <<PAD>> <<PAD>> <<PAD>> <<PAD>> <<PAD>> <<PAD>> <<PAD>> <<PAD>> <<PAD>> <<PAD>> <<PAD>> <<PAD>> <<PAD>></td><td>0</td><td>0</td><td>0</td><td>0</td><td>0</td><td>0</td></tr><tr><td> </td><td>  </td><td>0</td><td>0</td><td>0</td><td>0</td><td>0</td><td>0</td></tr><tr><td>Agreed.\n",
       "However may be better to remove it into similar quality article  Denial of the Holodomor  together with Elimination of Ukrainian cultural elite section  which information has no relation to Holodomor itself.  Can we limit the article to causes and Holodomor itself?</td><td>Agreed . However may be better to remove it into similar quality article Denial of the Holodomor together with Elimination of Ukrainian cultural elite section which information has no relation to Holodomor itself . Can we limit the article to causes and Holodomor itself ? <<PAD>> <<PAD>> <<PAD>> <<PAD>> <<PAD>> <<PAD>> <<PAD>> <<PAD>> <<PAD>> <<PAD>> <<PAD>> <<PAD>> <<PAD>> <<PAD>> <<PAD>> <<PAD>> <<PAD>> <<PAD>> <<PAD>> <<PAD>> <<PAD>> <<PAD>> <<PAD>> <<PAD>> <<PAD>> <<PAD>> <<PAD>> <<PAD>> <<PAD>> <<PAD>> <<PAD>> <<PAD>> <<PAD>> <<PAD>> <<PAD>> <<PAD>></td><td>0</td><td>0</td><td>0</td><td>0</td><td>0</td><td>0</td></tr><tr><td> </td><td>  </td><td>0</td><td>0</td><td>0</td><td>0</td><td>0</td><td>0</td></tr><tr><td>Stop your nonsense. \n",
       "\n",
       "It is clear that you lack the intelligence to know and identify famous historical han chinese people, so you edited the han chinese page and changed the infobox, changing a famous scientist like Zhang Heng to an actress that nobody in the world cares.</td><td>Stop your nonsense . It is clear that you lack the intelligence to know and identify famous historical han chinese people , so you edited the han chinese page and changed the infobox , changing a famous scientist like Zhang Heng to an actress that nobody in the world cares . <<PAD>> <<PAD>> <<PAD>> <<PAD>> <<PAD>> <<PAD>> <<PAD>> <<PAD>> <<PAD>> <<PAD>> <<PAD>> <<PAD>> <<PAD>> <<PAD>> <<PAD>> <<PAD>> <<PAD>> <<PAD>> <<PAD>> <<PAD>> <<PAD>> <<PAD>> <<PAD>> <<PAD>> <<PAD>> <<PAD>> <<PAD>> <<PAD>> <<PAD>> <<PAD>></td><td>0</td><td>0</td><td>0</td><td>0</td><td>0</td><td>0</td></tr><tr><td> </td><td>  </td><td>0</td><td>0</td><td>0</td><td>0</td><td>0</td><td>0</td></tr><tr><td>Megaprojects \n",
       "\n",
       "I just came across Oil_megaprojects#Application_to_oil_supply_forecasting.  Seems it's actually being used by off-wiki websites!    I'm going to try to improve it's poor/total-lack-of sourcing but was wondering if you would have a look when you get a chance.</td><td>Megaprojects I just came across Oil_megaprojects # Application_to_oil_supply_forecasting . Seems it 's actually being used by off-wiki websites ! I 'm going to try to improve it 's poor/total-lack-of sourcing but was wondering if you would have a look when you get a chance . <<PAD>> <<PAD>> <<PAD>> <<PAD>> <<PAD>> <<PAD>> <<PAD>> <<PAD>> <<PAD>> <<PAD>> <<PAD>> <<PAD>> <<PAD>> <<PAD>> <<PAD>> <<PAD>> <<PAD>> <<PAD>> <<PAD>> <<PAD>> <<PAD>> <<PAD>> <<PAD>> <<PAD>> <<PAD>> <<PAD>> <<PAD>> <<PAD>> <<PAD>> <<PAD>> <<PAD>> <<PAD>> <<PAD>> <<PAD>> <<PAD>> <<PAD>></td><td>0</td><td>0</td><td>0</td><td>0</td><td>0</td><td>0</td></tr><tr><td> </td><td>  </td><td>0</td><td>0</td><td>0</td><td>0</td><td>0</td><td>0</td></tr><tr><td>This is nonsense. How can you seriously maintain that Symantec actually has copyright claims with regard to NC if a) Symantec no longer exists, as such and b) it has neither developed, claimed copyright protection, or showed any public interest whatsoever in this software?</td><td>This is nonsense . How can you seriously maintain that Symantec actually has copyright claims with regard to NC if a ) Symantec no longer exists , as such and b ) it has neither developed , claimed copyright protection , or showed any public interest whatsoever in this software ? <<PAD>> <<PAD>> <<PAD>> <<PAD>> <<PAD>> <<PAD>> <<PAD>> <<PAD>> <<PAD>> <<PAD>> <<PAD>> <<PAD>> <<PAD>> <<PAD>> <<PAD>> <<PAD>> <<PAD>> <<PAD>> <<PAD>> <<PAD>> <<PAD>> <<PAD>> <<PAD>> <<PAD>> <<PAD>> <<PAD>> <<PAD>> <<PAD>> <<PAD>> <<PAD>></td><td>0</td><td>0</td><td>0</td><td>0</td><td>0</td><td>0</td></tr><tr><td> </td><td>  </td><td>0</td><td>0</td><td>0</td><td>0</td><td>0</td><td>0</td></tr><tr><td>History updated \n",
       "\n",
       "I have used the material I could find in the last weeks regarding the history and advantages and disadvantages of the article. However I could only update the history section today with the proper references. Other users and experts comments are welcome .</td><td>History updated I have used the material I could find in the last weeks regarding the history and advantages and disadvantages of the article . However I could only update the history section today with the proper references . Other users and experts comments are welcome . <<PAD>> <<PAD>> <<PAD>> <<PAD>> <<PAD>> <<PAD>> <<PAD>> <<PAD>> <<PAD>> <<PAD>> <<PAD>> <<PAD>> <<PAD>> <<PAD>> <<PAD>> <<PAD>> <<PAD>> <<PAD>> <<PAD>> <<PAD>> <<PAD>> <<PAD>> <<PAD>> <<PAD>> <<PAD>> <<PAD>> <<PAD>> <<PAD>> <<PAD>> <<PAD>> <<PAD>> <<PAD>> <<PAD>> <<PAD>></td><td>0</td><td>0</td><td>0</td><td>0</td><td>0</td><td>0</td></tr><tr><td> </td><td>  </td><td>0</td><td>0</td><td>0</td><td>0</td><td>0</td><td>0</td></tr><tr><td>Please stop adding commercial links to Wikipedia, as you did in Seattle-Tacoma International Airport. It is considered spamming, and Wikipedia is not a vehicle for advertising. Thanks.   If you feel that the edit I reverted should not have been reverted, please contact me.</td><td>Please stop adding commercial links to Wikipedia , as you did in Seattle-Tacoma International Airport . It is considered spamming , and Wikipedia is not a vehicle for advertising . Thanks . If you feel that the edit I reverted should not have been reverted , please contact me . <<PAD>> <<PAD>> <<PAD>> <<PAD>> <<PAD>> <<PAD>> <<PAD>> <<PAD>> <<PAD>> <<PAD>> <<PAD>> <<PAD>> <<PAD>> <<PAD>> <<PAD>> <<PAD>> <<PAD>> <<PAD>> <<PAD>> <<PAD>> <<PAD>> <<PAD>> <<PAD>> <<PAD>> <<PAD>> <<PAD>> <<PAD>> <<PAD>> <<PAD>> <<PAD>> <<PAD>></td><td>0</td><td>0</td><td>0</td><td>0</td><td>0</td><td>0</td></tr><tr><td> </td><td>  </td><td>0</td><td>0</td><td>0</td><td>0</td><td>0</td><td>0</td></tr><tr><td>Sex-positive feminism \n",
       "\n",
       "You want a link on Paglia to support this?  Here it is, you hypocritical loser!  Remember to scroll down and read the whole thing before you vandalize this article again with your ignorance:\n",
       "http://www.reference.com/browse/wiki/Sex-positive_feminism</td><td>Sex-positive feminism You want a link on Paglia to support this ? Here it is , you hypocritical loser ! Remember to scroll down and read the whole thing before you vandalize this article again with your ignorance : http : //www.reference.com/browse/wiki/Sex-positive_feminism <<PAD>> <<PAD>> <<PAD>> <<PAD>> <<PAD>> <<PAD>> <<PAD>> <<PAD>> <<PAD>> <<PAD>> <<PAD>> <<PAD>> <<PAD>> <<PAD>> <<PAD>> <<PAD>> <<PAD>> <<PAD>> <<PAD>> <<PAD>> <<PAD>> <<PAD>> <<PAD>> <<PAD>> <<PAD>> <<PAD>> <<PAD>> <<PAD>> <<PAD>> <<PAD>> <<PAD>> <<PAD>> <<PAD>> <<PAD>> <<PAD>> <<PAD>> <<PAD>> <<PAD>> <<PAD>></td><td>0</td><td>0</td><td>0</td><td>0</td><td>0</td><td>0</td></tr><tr><td> </td><td>  </td><td>0</td><td>0</td><td>0</td><td>0</td><td>0</td><td>0</td></tr><tr><td>Olvera Street image \n",
       "\n",
       "Thanks for letting me know about the possible deletion of Image:Olvera_st_los_angeles.jpg. Unfortunately I am not prepared to relicense the image for unrestricted commercial use, so it looks like it will end up being deleted.  08:55, 13 Jun 2005 (UTC)</td><td>Olvera Street image Thanks for letting me know about the possible deletion of Image : Olvera_st_los_angeles.jpg . Unfortunately I am not prepared to relicense the image for unrestricted commercial use , so it looks like it will end up being deleted . 08:55 , 13 Jun 2005 ( UTC ) <<PAD>> <<PAD>> <<PAD>> <<PAD>> <<PAD>> <<PAD>> <<PAD>> <<PAD>> <<PAD>> <<PAD>> <<PAD>> <<PAD>> <<PAD>> <<PAD>> <<PAD>> <<PAD>> <<PAD>> <<PAD>> <<PAD>> <<PAD>> <<PAD>> <<PAD>> <<PAD>> <<PAD>> <<PAD>> <<PAD>> <<PAD>> <<PAD>> <<PAD>> <<PAD>> <<PAD>></td><td>0</td><td>0</td><td>0</td><td>0</td><td>0</td><td>0</td></tr><tr><td> </td><td>  </td><td>0</td><td>0</td><td>0</td><td>0</td><td>0</td><td>0</td></tr><tr><td>\"\n",
       "\n",
       " User:The Banner previous NightOfTheBigWind \n",
       "\n",
       "Hi,\n",
       "\n",
       "Do you remember this?\n",
       "Given that context I have to concern when the same user (new name) disruptively meddles in a thread exclusively to point out my past topic bans attempting to prevent an user from me:. Thanks.  ?  \"</td><td>`` User : The Banner previous NightOfTheBigWind Hi , Do you remember this ? Given that context I have to concern when the same user ( new name ) disruptively meddles in a thread exclusively to point out my past topic bans attempting to prevent an user from me : . Thanks . ? `` <<PAD>> <<PAD>> <<PAD>> <<PAD>> <<PAD>> <<PAD>> <<PAD>> <<PAD>> <<PAD>> <<PAD>> <<PAD>> <<PAD>> <<PAD>> <<PAD>> <<PAD>> <<PAD>> <<PAD>> <<PAD>> <<PAD>> <<PAD>> <<PAD>> <<PAD>> <<PAD>> <<PAD>> <<PAD>> <<PAD>></td><td>0</td><td>0</td><td>0</td><td>0</td><td>0</td><td>0</td></tr><tr><td> </td><td>  </td><td>0</td><td>0</td><td>0</td><td>0</td><td>0</td><td>0</td></tr><tr><td>Tabley House \n",
       "\n",
       "Hi Peter. Yes, you're quite right, it's not totally clear when the house started to be used for elderly care services. But this source suggests that it was at least as early as 9 April 2009. In fact, it looks like the report from that date was the first one.</td><td>Tabley House Hi Peter . Yes , you 're quite right , it 's not totally clear when the house started to be used for elderly care services . But this source suggests that it was at least as early as 9 April 2009 . In fact , it looks like the report from that date was the first one . <<PAD>> <<PAD>> <<PAD>> <<PAD>> <<PAD>> <<PAD>> <<PAD>> <<PAD>> <<PAD>> <<PAD>> <<PAD>> <<PAD>> <<PAD>> <<PAD>> <<PAD>> <<PAD>> <<PAD>> <<PAD>> <<PAD>> <<PAD>></td><td>0</td><td>0</td><td>0</td><td>0</td><td>0</td><td>0</td></tr><tr><td> </td><td>  </td><td>0</td><td>0</td><td>0</td><td>0</td><td>0</td><td>0</td></tr><tr><td>WHAT IS SO BAD about what i said about this guy i am saying i just wrote something about him, He is a notable man. I am just giving his dues, how is that bad, he is not my friend or enemy just a painter and i noticed his name up in wiki. So what. Why stop me?? Thank you\n",
       "\n",
       "q</td><td>WHAT IS SO BAD about what i said about this guy i am saying i just wrote something about him , He is a notable man . I am just giving his dues , how is that bad , he is not my friend or enemy just a painter and i noticed his name up in wiki . So what . Why stop me ? ? Thank you q <<PAD>> <<PAD>> <<PAD>> <<PAD>> <<PAD>> <<PAD>> <<PAD>> <<PAD>> <<PAD>> <<PAD>> <<PAD>> <<PAD>></td><td>0</td><td>0</td><td>0</td><td>0</td><td>0</td><td>0</td></tr><tr><td> </td><td>  </td><td>0</td><td>0</td><td>0</td><td>0</td><td>0</td><td>0</td></tr><tr><td>I was so glad to read... \n",
       "\n",
       "this.\n",
       "\n",
       "At least there are places in the world that ignore pathetic claims and whining from silly retarded bints with nothing better to do. A bit of rape never hurt anyone anyway. Who the hell do you feminists think you are anyway? Know your place!</td><td>I was so glad to read ... this . At least there are places in the world that ignore pathetic claims and whining from silly retarded bints with nothing better to do . A bit of rape never hurt anyone anyway . Who the hell do you feminists think you are anyway ? Know your place ! <<PAD>> <<PAD>> <<PAD>> <<PAD>> <<PAD>> <<PAD>> <<PAD>> <<PAD>> <<PAD>> <<PAD>> <<PAD>> <<PAD>> <<PAD>> <<PAD>> <<PAD>> <<PAD>> <<PAD>> <<PAD>> <<PAD>> <<PAD>> <<PAD>> <<PAD>> <<PAD>> <<PAD>></td><td>0</td><td>0</td><td>0</td><td>0</td><td>0</td><td>0</td></tr><tr><td> </td><td>  </td><td>0</td><td>0</td><td>0</td><td>0</td><td>0</td><td>0</td></tr><tr><td>Crimson Fists \n",
       "\n",
       "Removed the text on the Crimson Fists as there's already an entry dealing with them (which was already linked to in their section). This puts it in line with other chapters that have their own entries, such as the Ultramarines and Dark Angels. 87.194.103.254</td><td>Crimson Fists Removed the text on the Crimson Fists as there 's already an entry dealing with them ( which was already linked to in their section ) . This puts it in line with other chapters that have their own entries , such as the Ultramarines and Dark Angels . 87.194.103.254 <<PAD>> <<PAD>> <<PAD>> <<PAD>> <<PAD>> <<PAD>> <<PAD>> <<PAD>> <<PAD>> <<PAD>> <<PAD>> <<PAD>> <<PAD>> <<PAD>> <<PAD>> <<PAD>> <<PAD>> <<PAD>> <<PAD>> <<PAD>> <<PAD>> <<PAD>> <<PAD>> <<PAD>> <<PAD>> <<PAD>> <<PAD>> <<PAD>> <<PAD>></td><td>0</td><td>0</td><td>0</td><td>0</td><td>0</td><td>0</td></tr><tr><td> </td><td>  </td><td>0</td><td>0</td><td>0</td><td>0</td><td>0</td><td>0</td></tr><tr><td>\"\n",
       "\n",
       " Mixins - yes or no \n",
       "\n",
       "The \"\"mixins\"\" section seems contradictory. In one sentence is says Sass doesn't support mixins, and then goes on to describe Sass mixins and show their syntax. Someone who understands what it really supports needs to clarify this paragraph.  Talk \"</td><td>`` Mixins - yes or no The `` '' mixins '' '' section seems contradictory . In one sentence is says Sass does n't support mixins , and then goes on to describe Sass mixins and show their syntax . Someone who understands what it really supports needs to clarify this paragraph . Talk `` <<PAD>> <<PAD>> <<PAD>> <<PAD>> <<PAD>> <<PAD>> <<PAD>> <<PAD>> <<PAD>> <<PAD>> <<PAD>> <<PAD>> <<PAD>> <<PAD>> <<PAD>> <<PAD>> <<PAD>> <<PAD>> <<PAD>> <<PAD>> <<PAD>> <<PAD>> <<PAD>> <<PAD>> <<PAD>> <<PAD>></td><td>0</td><td>0</td><td>0</td><td>0</td><td>0</td><td>0</td></tr><tr><td> </td><td>  </td><td>0</td><td>0</td><td>0</td><td>0</td><td>0</td><td>0</td></tr><tr><td>\"\n",
       "Those aren't personal attacks. I'm just practicing editing for when I become a model contributer to Wikipedia. And who cares if I add \"\"copyrighted info\"\" on my talk page? Who's going to even read it? Like there isn't copyrighted material all over the rest of the site?  \"</td><td>`` Those are n't personal attacks . I 'm just practicing editing for when I become a model contributer to Wikipedia . And who cares if I add `` '' copyrighted info '' '' on my talk page ? Who 's going to even read it ? Like there is n't copyrighted material all over the rest of the site ? `` <<PAD>> <<PAD>> <<PAD>> <<PAD>> <<PAD>> <<PAD>> <<PAD>> <<PAD>> <<PAD>> <<PAD>> <<PAD>> <<PAD>> <<PAD>> <<PAD>> <<PAD>> <<PAD>> <<PAD>> <<PAD>> <<PAD>></td><td>0</td><td>0</td><td>0</td><td>0</td><td>0</td><td>0</td></tr><tr><td> </td><td>  </td><td>0</td><td>0</td><td>0</td><td>0</td><td>0</td><td>0</td></tr><tr><td>Mahan \n",
       "\n",
       "Ive been looking to clean up anything in the article that I can before nominating it. One of tings yet to done is the cropping of the last image. You may recall you were working with others to have it digitized. Would you be able to help me sort this out? Thank you.</td><td>Mahan Ive been looking to clean up anything in the article that I can before nominating it . One of tings yet to done is the cropping of the last image . You may recall you were working with others to have it digitized . Would you be able to help me sort this out ? Thank you . <<PAD>> <<PAD>> <<PAD>> <<PAD>> <<PAD>> <<PAD>> <<PAD>> <<PAD>> <<PAD>> <<PAD>> <<PAD>> <<PAD>> <<PAD>> <<PAD>> <<PAD>> <<PAD>> <<PAD>> <<PAD>> <<PAD>> <<PAD>> <<PAD>> <<PAD>></td><td>0</td><td>0</td><td>0</td><td>0</td><td>0</td><td>0</td></tr><tr><td> </td><td>  </td><td>0</td><td>0</td><td>0</td><td>0</td><td>0</td><td>0</td></tr><tr><td>\"\n",
       "\n",
       " DYK \n",
       "\n",
       "On 31 July, 2008, Did you know? was updated with  from the article St Nicholas Priory, which you created or substantially expanded. If you know of another interesting fact from a recently created article, then please suggest it on the Did you know? talk page.    \"</td><td>`` DYK On 31 July , 2008 , Did you know ? was updated with from the article St Nicholas Priory , which you created or substantially expanded . If you know of another interesting fact from a recently created article , then please suggest it on the Did you know ? talk page. `` <<PAD>> <<PAD>> <<PAD>> <<PAD>> <<PAD>> <<PAD>> <<PAD>> <<PAD>> <<PAD>> <<PAD>> <<PAD>> <<PAD>> <<PAD>> <<PAD>> <<PAD>> <<PAD>> <<PAD>> <<PAD>> <<PAD>> <<PAD>> <<PAD>> <<PAD>> <<PAD>> <<PAD>> <<PAD>> <<PAD>></td><td>0</td><td>0</td><td>0</td><td>0</td><td>0</td><td>0</td></tr><tr><td> </td><td>  </td><td>0</td><td>0</td><td>0</td><td>0</td><td>0</td><td>0</td></tr><tr><td>November 2007 (UTC)\n",
       "\n",
       "Hi again, Isnt kerem now a disruptive editor? Patronizing myself while i am trying in all civility without a single edit to have a discussion in good faith of what (in UN view) is silenced? (Besides the fact that he wants to buy you a beer ) ) 23:05, 12</td><td>November 2007 ( UTC ) Hi again , Isnt kerem now a disruptive editor ? Patronizing myself while i am trying in all civility without a single edit to have a discussion in good faith of what ( in UN view ) is silenced ? ( Besides the fact that he wants to buy you a beer ) ) 23:05 , 12 <<PAD>> <<PAD>> <<PAD>> <<PAD>> <<PAD>> <<PAD>> <<PAD>> <<PAD>> <<PAD>> <<PAD>> <<PAD>> <<PAD>> <<PAD>> <<PAD>> <<PAD>> <<PAD>> <<PAD>> <<PAD>> <<PAD>></td><td>0</td><td>0</td><td>0</td><td>0</td><td>0</td><td>0</td></tr><tr><td> </td><td>  </td><td>0</td><td>0</td><td>0</td><td>0</td><td>0</td><td>0</td></tr><tr><td>Is the city safe for greeks to go to? \n",
       "\n",
       "I have always wanted to go and see Istanbul/Constantinople as I am a great lover of both Greek History and Architecture in general. Is it safe like Western capitols or is it like middle-eastern capitols where it is dangerous to go to?</td><td>Is the city safe for greeks to go to ? I have always wanted to go and see Istanbul/Constantinople as I am a great lover of both Greek History and Architecture in general . Is it safe like Western capitols or is it like middle-eastern capitols where it is dangerous to go to ? <<PAD>> <<PAD>> <<PAD>> <<PAD>> <<PAD>> <<PAD>> <<PAD>> <<PAD>> <<PAD>> <<PAD>> <<PAD>> <<PAD>> <<PAD>> <<PAD>> <<PAD>> <<PAD>> <<PAD>> <<PAD>> <<PAD>> <<PAD>> <<PAD>> <<PAD>> <<PAD>> <<PAD>> <<PAD>> <<PAD>> <<PAD>></td><td>0</td><td>0</td><td>0</td><td>0</td><td>0</td><td>0</td></tr><tr><td> </td><td>  </td><td>0</td><td>0</td><td>0</td><td>0</td><td>0</td><td>0</td></tr><tr><td>er no he's  6 ft 4 ACTUALLY so get bent.if he was 6 ft 2 kurt angle and people would have to be fucking midgets! but if u wanna get arsey on wrestlers sizes BATISTA ISNT, 320 lbs or some bullshit like that he's 300 so neh!! ive seen them in person,u probably havent, end of.</td><td>er no he 's 6 ft 4 ACTUALLY so get bent.if he was 6 ft 2 kurt angle and people would have to be fucking midgets ! but if u wan na get arsey on wrestlers sizes BATISTA ISNT , 320 lbs or some bullshit like that he 's 300 so neh ! ! ive seen them in person , u probably havent , end of . <<PAD>> <<PAD>> <<PAD>> <<PAD>> <<PAD>> <<PAD>> <<PAD>> <<PAD>> <<PAD>> <<PAD>> <<PAD>> <<PAD>> <<PAD>> <<PAD>></td><td>0</td><td>0</td><td>0</td><td>0</td><td>0</td><td>0</td></tr><tr><td> </td><td>  </td><td>0</td><td>0</td><td>0</td><td>0</td><td>0</td><td>0</td></tr><tr><td>\"\n",
       "\n",
       " List of documentary films \n",
       "\n",
       "Hi Sarah, regarding the above list, I would like the references in 2 colums instead of 1 long line of references. I know i've seen it done before I just can't remember how to do it. Any chance you could please help me out with this. Jack In \"</td><td>`` List of documentary films Hi Sarah , regarding the above list , I would like the references in 2 colums instead of 1 long line of references . I know i 've seen it done before I just ca n't remember how to do it . Any chance you could please help me out with this . Jack In `` <<PAD>> <<PAD>> <<PAD>> <<PAD>> <<PAD>> <<PAD>> <<PAD>> <<PAD>> <<PAD>> <<PAD>> <<PAD>> <<PAD>> <<PAD>> <<PAD>> <<PAD>> <<PAD>> <<PAD>> <<PAD>> <<PAD>> <<PAD>></td><td>0</td><td>0</td><td>0</td><td>0</td><td>0</td><td>0</td></tr><tr><td> </td><td>  </td><td>0</td><td>0</td><td>0</td><td>0</td><td>0</td><td>0</td></tr><tr><td>Most people do not need a Wiki page to feel complete. Envy, that is rich. An Entrepreneur that built an Award winning Luxury resort that brought international tourist dollars, local jobs, and tax revenues to the Hudson Valley vs an unemployed amateur environmental activist.</td><td>Most people do not need a Wiki page to feel complete . Envy , that is rich . An Entrepreneur that built an Award winning Luxury resort that brought international tourist dollars , local jobs , and tax revenues to the Hudson Valley vs an unemployed amateur environmental activist . <<PAD>> <<PAD>> <<PAD>> <<PAD>> <<PAD>> <<PAD>> <<PAD>> <<PAD>> <<PAD>> <<PAD>> <<PAD>> <<PAD>> <<PAD>> <<PAD>> <<PAD>> <<PAD>> <<PAD>> <<PAD>> <<PAD>> <<PAD>> <<PAD>> <<PAD>> <<PAD>> <<PAD>> <<PAD>> <<PAD>> <<PAD>> <<PAD>> <<PAD>> <<PAD>> <<PAD>></td><td>0</td><td>0</td><td>0</td><td>0</td><td>0</td><td>0</td></tr><tr><td> </td><td>  </td><td>0</td><td>0</td><td>0</td><td>0</td><td>0</td><td>0</td></tr><tr><td>\"\n",
       "\n",
       " RfC \n",
       "\n",
       "Hi Arcayne.  Sorry for the late reply.  It would seem that starting an RfC is actually quite simple.  See WP:RFC#Request comment through talk pages.  If you're still interested in starting a inactivity-desysop proposal, please let me know.  Cheers, '''''' (TALK) \"</td><td>`` RfC Hi Arcayne . Sorry for the late reply . It would seem that starting an RfC is actually quite simple . See WP : RFC # Request comment through talk pages . If you 're still interested in starting a inactivity-desysop proposal , please let me know . Cheers , ' '' ' '' ( TALK ) `` <<PAD>> <<PAD>> <<PAD>> <<PAD>> <<PAD>> <<PAD>> <<PAD>> <<PAD>> <<PAD>> <<PAD>> <<PAD>> <<PAD>> <<PAD>> <<PAD>> <<PAD>> <<PAD>> <<PAD>> <<PAD>> <<PAD>> <<PAD>> <<PAD>></td><td>0</td><td>0</td><td>0</td><td>0</td><td>0</td><td>0</td></tr><tr><td> </td><td>  </td><td>0</td><td>0</td><td>0</td><td>0</td><td>0</td><td>0</td></tr><tr><td>\"\n",
       "\n",
       "Mikan\n",
       "\n",
       "As far as I know, mikan isn't a Japanese word for citrus, although \"\"mikan rui\"\" is the general classification for citrus plants. I looked at the dictionary quoted and neither the Japanese to English nor the Japanese to Japanese entries supports your assertion.  \"</td><td>`` Mikan As far as I know , mikan is n't a Japanese word for citrus , although `` '' mikan rui '' '' is the general classification for citrus plants . I looked at the dictionary quoted and neither the Japanese to English nor the Japanese to Japanese entries supports your assertion. `` <<PAD>> <<PAD>> <<PAD>> <<PAD>> <<PAD>> <<PAD>> <<PAD>> <<PAD>> <<PAD>> <<PAD>> <<PAD>> <<PAD>> <<PAD>> <<PAD>> <<PAD>> <<PAD>> <<PAD>> <<PAD>> <<PAD>> <<PAD>> <<PAD>> <<PAD>> <<PAD>> <<PAD>> <<PAD>> <<PAD>> <<PAD>></td><td>0</td><td>0</td><td>0</td><td>0</td><td>0</td><td>0</td></tr><tr><td> </td><td>  </td><td>0</td><td>0</td><td>0</td><td>0</td><td>0</td><td>0</td></tr><tr><td>Well then there isn't even a source included on that page! Maybe you should think about that! If you didn't get your info from Soap Central, then where did you get it? Because apparently you didn't get the word for word actors and actresses (and airdates) from Soap Central!</td><td>Well then there is n't even a source included on that page ! Maybe you should think about that ! If you did n't get your info from Soap Central , then where did you get it ? Because apparently you did n't get the word for word actors and actresses ( and airdates ) from Soap Central ! <<PAD>> <<PAD>> <<PAD>> <<PAD>> <<PAD>> <<PAD>> <<PAD>> <<PAD>> <<PAD>> <<PAD>> <<PAD>> <<PAD>> <<PAD>> <<PAD>> <<PAD>> <<PAD>> <<PAD>> <<PAD>> <<PAD>> <<PAD>> <<PAD>> <<PAD>></td><td>0</td><td>0</td><td>0</td><td>0</td><td>0</td><td>0</td></tr><tr><td> </td><td>  </td><td>0</td><td>0</td><td>0</td><td>0</td><td>0</td><td>0</td></tr><tr><td>Khukri - I would respond, but your talk page is semi-protected. I respect your opinion though I disagree with it and would appreciate working with you to devise a more appropriate question regarding an issue that I think is highly relevant to Wikipedia's reputation of late.</td><td>Khukri - I would respond , but your talk page is semi-protected . I respect your opinion though I disagree with it and would appreciate working with you to devise a more appropriate question regarding an issue that I think is highly relevant to Wikipedia 's reputation of late . <<PAD>> <<PAD>> <<PAD>> <<PAD>> <<PAD>> <<PAD>> <<PAD>> <<PAD>> <<PAD>> <<PAD>> <<PAD>> <<PAD>> <<PAD>> <<PAD>> <<PAD>> <<PAD>> <<PAD>> <<PAD>> <<PAD>> <<PAD>> <<PAD>> <<PAD>> <<PAD>> <<PAD>> <<PAD>> <<PAD>> <<PAD>> <<PAD>> <<PAD>> <<PAD>> <<PAD>></td><td>0</td><td>0</td><td>0</td><td>0</td><td>0</td><td>0</td></tr><tr><td> </td><td>  </td><td>0</td><td>0</td><td>0</td><td>0</td><td>0</td><td>0</td></tr><tr><td>if a vandal keeps changing it, I would assume i have an exemption to fix it, i am sorry. I will not revert it anymore, just try alterations of the text. can you lock the article with the addition or ban the vandales? you sound like you have some sort of admin ability\n",
       "-steve</td><td>if a vandal keeps changing it , I would assume i have an exemption to fix it , i am sorry . I will not revert it anymore , just try alterations of the text . can you lock the article with the addition or ban the vandales ? you sound like you have some sort of admin ability -steve <<PAD>> <<PAD>> <<PAD>> <<PAD>> <<PAD>> <<PAD>> <<PAD>> <<PAD>> <<PAD>> <<PAD>> <<PAD>> <<PAD>> <<PAD>> <<PAD>> <<PAD>> <<PAD>> <<PAD>> <<PAD>> <<PAD>> <<PAD>> <<PAD>></td><td>0</td><td>0</td><td>0</td><td>0</td><td>0</td><td>0</td></tr><tr><td> </td><td>  </td><td>0</td><td>0</td><td>0</td><td>0</td><td>0</td><td>0</td></tr><tr><td>\"\n",
       "\n",
       " Kansas Watch Lists \n",
       "\n",
       "I didn't know if you have a link to these web pages, but thought you should get a copy of them.  I copied this line from the  bottom of my user page.\n",
       " Live edit log of all Kansas articles, and Most popular Kansas articles for last month.\n",
       "   Talk   \"</td><td>`` Kansas Watch Lists I did n't know if you have a link to these web pages , but thought you should get a copy of them . I copied this line from the bottom of my user page . Live edit log of all Kansas articles , and Most popular Kansas articles for last month . Talk `` <<PAD>> <<PAD>> <<PAD>> <<PAD>> <<PAD>> <<PAD>> <<PAD>> <<PAD>> <<PAD>> <<PAD>> <<PAD>> <<PAD>> <<PAD>> <<PAD>> <<PAD>> <<PAD>> <<PAD>> <<PAD>> <<PAD>> <<PAD>> <<PAD>> <<PAD>></td><td>0</td><td>0</td><td>0</td><td>0</td><td>0</td><td>0</td></tr><tr><td> </td><td>  </td><td>0</td><td>0</td><td>0</td><td>0</td><td>0</td><td>0</td></tr><tr><td>What I see in many articles is that people put down this extravagent history of a school and claims of it being elite.  There are over 3000 colleges in the United States and everyone puts down these amazing histories that really isn't amazing just marketing.   24.239.153.58</td><td>What I see in many articles is that people put down this extravagent history of a school and claims of it being elite . There are over 3000 colleges in the United States and everyone puts down these amazing histories that really is n't amazing just marketing . 24.239.153.58 <<PAD>> <<PAD>> <<PAD>> <<PAD>> <<PAD>> <<PAD>> <<PAD>> <<PAD>> <<PAD>> <<PAD>> <<PAD>> <<PAD>> <<PAD>> <<PAD>> <<PAD>> <<PAD>> <<PAD>> <<PAD>> <<PAD>> <<PAD>> <<PAD>> <<PAD>> <<PAD>> <<PAD>> <<PAD>> <<PAD>> <<PAD>> <<PAD>> <<PAD>> <<PAD>> <<PAD>> <<PAD>></td><td>0</td><td>0</td><td>0</td><td>0</td><td>0</td><td>0</td></tr><tr><td> </td><td>  </td><td>0</td><td>0</td><td>0</td><td>0</td><td>0</td><td>0</td></tr><tr><td>\"I see that you added this sentence: \"\"Irons notes that Charles Sheehan is Fahy's grandson.\"\" In fact, it was Charles Sheehan, who noted that he is Fahy's grandson, on the first page of his article. Would you like to make the correction or would you prefer that I do it?   \"</td><td>`` I see that you added this sentence : `` '' Irons notes that Charles Sheehan is Fahy 's grandson . '' '' In fact , it was Charles Sheehan , who noted that he is Fahy 's grandson , on the first page of his article . Would you like to make the correction or would you prefer that I do it ? `` <<PAD>> <<PAD>> <<PAD>> <<PAD>> <<PAD>> <<PAD>> <<PAD>> <<PAD>> <<PAD>> <<PAD>> <<PAD>> <<PAD>> <<PAD>> <<PAD>> <<PAD>> <<PAD>></td><td>0</td><td>0</td><td>0</td><td>0</td><td>0</td><td>0</td></tr><tr><td> </td><td>  </td><td>0</td><td>0</td><td>0</td><td>0</td><td>0</td><td>0</td></tr><tr><td>My username \n",
       "\n",
       "Hi Biannaa, \n",
       "\n",
       "Thanks a lot for your note you left regarding my username. I confirm that it's not a shared username.. I go by BlueGum and since it was already taken I added productions next to it. but do not worry I'm the only one who uses this account.\n",
       "\n",
       "cheers</td><td>My username Hi Biannaa , Thanks a lot for your note you left regarding my username . I confirm that it 's not a shared username.. I go by BlueGum and since it was already taken I added productions next to it . but do not worry I 'm the only one who uses this account . cheers <<PAD>> <<PAD>> <<PAD>> <<PAD>> <<PAD>> <<PAD>> <<PAD>> <<PAD>> <<PAD>> <<PAD>> <<PAD>> <<PAD>> <<PAD>> <<PAD>> <<PAD>> <<PAD>> <<PAD>> <<PAD>> <<PAD>> <<PAD>> <<PAD>> <<PAD>> <<PAD>></td><td>0</td><td>0</td><td>0</td><td>0</td><td>0</td><td>0</td></tr><tr><td> </td><td>  </td><td>0</td><td>0</td><td>0</td><td>0</td><td>0</td><td>0</td></tr><tr><td>FUN!!!! \n",
       "\n",
       "The only time I'm not having fun in here is when some arrogant editors act like they are The Biggest Jerks The World Has Ever Known other than that I'm fine.  If I were you I think I would try to concentrate on minding your own bussiness.  thanks for your comments</td><td>FUN ! ! ! ! The only time I 'm not having fun in here is when some arrogant editors act like they are The Biggest Jerks The World Has Ever Known other than that I 'm fine . If I were you I think I would try to concentrate on minding your own bussiness . thanks for your comments <<PAD>> <<PAD>> <<PAD>> <<PAD>> <<PAD>> <<PAD>> <<PAD>> <<PAD>> <<PAD>> <<PAD>> <<PAD>> <<PAD>> <<PAD>> <<PAD>> <<PAD>> <<PAD>> <<PAD>> <<PAD>> <<PAD>> <<PAD>> <<PAD>></td><td>0</td><td>0</td><td>0</td><td>0</td><td>0</td><td>0</td></tr><tr><td> </td><td>  </td><td>0</td><td>0</td><td>0</td><td>0</td><td>0</td><td>0</td></tr><tr><td>Historical Significance of Flower Girl? \n",
       "\n",
       "Does anyone know the historical significance of the flower girl?  Why was it pointed out in the article that the flower girl was young since she was to be a virgin?  Why do they spread flowers?  Please advise.\n",
       "\n",
       " - R.H. from New York</td><td>Historical Significance of Flower Girl ? Does anyone know the historical significance of the flower girl ? Why was it pointed out in the article that the flower girl was young since she was to be a virgin ? Why do they spread flowers ? Please advise . - R.H. from New York <<PAD>> <<PAD>> <<PAD>> <<PAD>> <<PAD>> <<PAD>> <<PAD>> <<PAD>> <<PAD>> <<PAD>> <<PAD>> <<PAD>> <<PAD>> <<PAD>> <<PAD>> <<PAD>> <<PAD>> <<PAD>> <<PAD>> <<PAD>> <<PAD>> <<PAD>> <<PAD>> <<PAD>> <<PAD>> <<PAD>> <<PAD>> <<PAD>></td><td>0</td><td>0</td><td>0</td><td>0</td><td>0</td><td>0</td></tr><tr><td> </td><td>  </td><td>0</td><td>0</td><td>0</td><td>0</td><td>0</td><td>0</td></tr><tr><td>\"\n",
       "\n",
       " Africatown  \n",
       "\n",
       "On 3 March, 2008, Did you know? was updated with  from the article Africatown, which you created or substantially expanded. If you know of another interesting fact from a recently created article, then please suggest it on the Did you know? talk page.    \"</td><td>`` Africatown On 3 March , 2008 , Did you know ? was updated with from the article Africatown , which you created or substantially expanded . If you know of another interesting fact from a recently created article , then please suggest it on the Did you know ? talk page. `` <<PAD>> <<PAD>> <<PAD>> <<PAD>> <<PAD>> <<PAD>> <<PAD>> <<PAD>> <<PAD>> <<PAD>> <<PAD>> <<PAD>> <<PAD>> <<PAD>> <<PAD>> <<PAD>> <<PAD>> <<PAD>> <<PAD>> <<PAD>> <<PAD>> <<PAD>> <<PAD>> <<PAD>> <<PAD>> <<PAD>> <<PAD>> <<PAD>></td><td>0</td><td>0</td><td>0</td><td>0</td><td>0</td><td>0</td></tr><tr><td> </td><td>  </td><td>0</td><td>0</td><td>0</td><td>0</td><td>0</td><td>0</td></tr><tr><td>I have now reported you for admin abuse, like i said in the report i will not respond to your threaths, if you want to talk in a civil manner without threatheing to blok me i am willing to do so as well, but until then i will not read or reply to your threathening messages.</td><td>I have now reported you for admin abuse , like i said in the report i will not respond to your threaths , if you want to talk in a civil manner without threatheing to blok me i am willing to do so as well , but until then i will not read or reply to your threathening messages . <<PAD>> <<PAD>> <<PAD>> <<PAD>> <<PAD>> <<PAD>> <<PAD>> <<PAD>> <<PAD>> <<PAD>> <<PAD>> <<PAD>> <<PAD>> <<PAD>> <<PAD>> <<PAD>> <<PAD>> <<PAD>> <<PAD>> <<PAD>> <<PAD>></td><td>0</td><td>0</td><td>0</td><td>0</td><td>0</td><td>0</td></tr><tr><td> </td><td>  </td><td>0</td><td>0</td><td>0</td><td>0</td><td>0</td><td>0</td></tr><tr><td>And I have added it again, and will continue to add it until it happens or until an admin herself take it off. You're not an admin and I reserve the right to revert on on account of that fact you don't own the account which has this user page. Now, find another hobby, savy?</td><td>And I have added it again , and will continue to add it until it happens or until an admin herself take it off . You 're not an admin and I reserve the right to revert on on account of that fact you do n't own the account which has this user page . Now , find another hobby , savy ? <<PAD>> <<PAD>> <<PAD>> <<PAD>> <<PAD>> <<PAD>> <<PAD>> <<PAD>> <<PAD>> <<PAD>> <<PAD>> <<PAD>> <<PAD>> <<PAD>> <<PAD>> <<PAD>> <<PAD>> <<PAD>></td><td>0</td><td>0</td><td>0</td><td>0</td><td>0</td><td>0</td></tr><tr><td> </td><td>  </td><td>0</td><td>0</td><td>0</td><td>0</td><td>0</td><td>0</td></tr><tr><td>Kakori train robbery considered an act of terrorism\n",
       "The criticism section says that Kakori train robbery is considered an act of terrorism in the independence movement. I think this is not correct and even the article about the robbery itself says nothing like this.\n",
       " abhaga</td><td>Kakori train robbery considered an act of terrorism The criticism section says that Kakori train robbery is considered an act of terrorism in the independence movement . I think this is not correct and even the article about the robbery itself says nothing like this . abhaga <<PAD>> <<PAD>> <<PAD>> <<PAD>> <<PAD>> <<PAD>> <<PAD>> <<PAD>> <<PAD>> <<PAD>> <<PAD>> <<PAD>> <<PAD>> <<PAD>> <<PAD>> <<PAD>> <<PAD>> <<PAD>> <<PAD>> <<PAD>> <<PAD>> <<PAD>> <<PAD>> <<PAD>> <<PAD>> <<PAD>> <<PAD>> <<PAD>> <<PAD>> <<PAD>> <<PAD>> <<PAD>> <<PAD>> <<PAD>></td><td>0</td><td>0</td><td>0</td><td>0</td><td>0</td><td>0</td></tr><tr><td> </td><td>  </td><td>0</td><td>0</td><td>0</td><td>0</td><td>0</td><td>0</td></tr><tr><td>STOP PUTTING BACK THINGS THAT I ALREADY REMOVED FROM MY OWN TALK PAGE! THIS IS THE REASON WHY YOUR SYSOP APPLICATION HAS NEVER BEEN APPROVED AND WILL NEVER BE APPROVED! YOU ARE ONE SICK FUCK! GROW UP AND QUIT BEING A NUISANCE! MIND YOUR OWN BUSINESS! YOU ARE NOT A SYSOP! ==</td><td>STOP PUTTING BACK THINGS THAT I ALREADY REMOVED FROM MY OWN TALK PAGE ! THIS IS THE REASON WHY YOUR SYSOP APPLICATION HAS NEVER BEEN APPROVED AND WILL NEVER BE APPROVED ! YOU ARE ONE SICK FUCK ! GROW UP AND QUIT BEING A NUISANCE ! MIND YOUR OWN BUSINESS ! YOU ARE NOT A SYSOP ! == <<PAD>> <<PAD>> <<PAD>> <<PAD>> <<PAD>> <<PAD>> <<PAD>> <<PAD>> <<PAD>> <<PAD>> <<PAD>> <<PAD>> <<PAD>> <<PAD>> <<PAD>> <<PAD>> <<PAD>> <<PAD>> <<PAD>> <<PAD>> <<PAD>> <<PAD>> <<PAD>></td><td>0</td><td>0</td><td>1</td><td>0</td><td>0</td><td>0</td></tr><tr><td> </td><td>  </td><td>0</td><td>0</td><td>0</td><td>0</td><td>0</td><td>0</td></tr><tr><td>You have no right to block my page.  I am speaking of employees of a company, just like a radio station's wikipedia page speaks of employees of that company.  This is unfair and needs to be addressed until my page is put back up or C.Fred (douche) is relieved of his duties.</td><td>You have no right to block my page . I am speaking of employees of a company , just like a radio station 's wikipedia page speaks of employees of that company . This is unfair and needs to be addressed until my page is put back up or C.Fred ( douche ) is relieved of his duties . <<PAD>> <<PAD>> <<PAD>> <<PAD>> <<PAD>> <<PAD>> <<PAD>> <<PAD>> <<PAD>> <<PAD>> <<PAD>> <<PAD>> <<PAD>> <<PAD>> <<PAD>> <<PAD>> <<PAD>> <<PAD>> <<PAD>> <<PAD>> <<PAD>> <<PAD>></td><td>0</td><td>0</td><td>0</td><td>0</td><td>0</td><td>0</td></tr><tr><td> </td><td>  </td><td>0</td><td>0</td><td>0</td><td>0</td><td>0</td><td>0</td></tr><tr><td>The information that I removed was incorrect, as I mentioned in my (previous) edit summary. \n",
       "\n",
       "You need to demonstrate WHY you think the information is incorrect by citing your sources. I'd appreciate it if you would learn how to post messages to user pages properly as well.</td><td>The information that I removed was incorrect , as I mentioned in my ( previous ) edit summary . You need to demonstrate WHY you think the information is incorrect by citing your sources . I 'd appreciate it if you would learn how to post messages to user pages properly as well . <<PAD>> <<PAD>> <<PAD>> <<PAD>> <<PAD>> <<PAD>> <<PAD>> <<PAD>> <<PAD>> <<PAD>> <<PAD>> <<PAD>> <<PAD>> <<PAD>> <<PAD>> <<PAD>> <<PAD>> <<PAD>> <<PAD>> <<PAD>> <<PAD>> <<PAD>> <<PAD>> <<PAD>> <<PAD>> <<PAD>> <<PAD>></td><td>0</td><td>0</td><td>0</td><td>0</td><td>0</td><td>0</td></tr><tr><td> </td><td>  </td><td>0</td><td>0</td><td>0</td><td>0</td><td>0</td><td>0</td></tr><tr><td>Acid no hitter \n",
       "\n",
       "This is a popular story, and well referenced, but there is some skepticism that probably should be in the article about this event.  Bill Christine, a beat reporter of the Pirates disputes the story, though I wish I could find a better source than deadspin.</td><td>Acid no hitter This is a popular story , and well referenced , but there is some skepticism that probably should be in the article about this event . Bill Christine , a beat reporter of the Pirates disputes the story , though I wish I could find a better source than deadspin . <<PAD>> <<PAD>> <<PAD>> <<PAD>> <<PAD>> <<PAD>> <<PAD>> <<PAD>> <<PAD>> <<PAD>> <<PAD>> <<PAD>> <<PAD>> <<PAD>> <<PAD>> <<PAD>> <<PAD>> <<PAD>> <<PAD>> <<PAD>> <<PAD>> <<PAD>> <<PAD>> <<PAD>> <<PAD>> <<PAD>> <<PAD>></td><td>0</td><td>0</td><td>0</td><td>0</td><td>0</td><td>0</td></tr><tr><td> </td><td>  </td><td>0</td><td>0</td><td>0</td><td>0</td><td>0</td><td>0</td></tr><tr><td>Edward Seaga was of Jamaican descent.  His parents were Jamaicans of Lebanese and Scottish descent.  This is not mentioned in the article and makes it seem as though he was complete foreigner entering the country.  His heritage is Jamaican and that needs to be acknowledged.</td><td>Edward Seaga was of Jamaican descent . His parents were Jamaicans of Lebanese and Scottish descent . This is not mentioned in the article and makes it seem as though he was complete foreigner entering the country . His heritage is Jamaican and that needs to be acknowledged . <<PAD>> <<PAD>> <<PAD>> <<PAD>> <<PAD>> <<PAD>> <<PAD>> <<PAD>> <<PAD>> <<PAD>> <<PAD>> <<PAD>> <<PAD>> <<PAD>> <<PAD>> <<PAD>> <<PAD>> <<PAD>> <<PAD>> <<PAD>> <<PAD>> <<PAD>> <<PAD>> <<PAD>> <<PAD>> <<PAD>> <<PAD>> <<PAD>> <<PAD>> <<PAD>> <<PAD>> <<PAD>></td><td>0</td><td>0</td><td>0</td><td>0</td><td>0</td><td>0</td></tr><tr><td> </td><td>  </td><td>0</td><td>0</td><td>0</td><td>0</td><td>0</td><td>0</td></tr><tr><td>Re: Ford Ranger Page \n",
       "\n",
       "The Ranger Station and Ranger Power Sports have tech and specification sections, which is why they are allowed. Sites that are just forums are not allowed according to WP:EL. Fan sites aren't allowed either. If you have any other questions let me know.</td><td>Re : Ford Ranger Page The Ranger Station and Ranger Power Sports have tech and specification sections , which is why they are allowed . Sites that are just forums are not allowed according to WP : EL . Fan sites are n't allowed either . If you have any other questions let me know . <<PAD>> <<PAD>> <<PAD>> <<PAD>> <<PAD>> <<PAD>> <<PAD>> <<PAD>> <<PAD>> <<PAD>> <<PAD>> <<PAD>> <<PAD>> <<PAD>> <<PAD>> <<PAD>> <<PAD>> <<PAD>> <<PAD>> <<PAD>> <<PAD>> <<PAD>> <<PAD>> <<PAD>> <<PAD>></td><td>0</td><td>0</td><td>0</td><td>0</td><td>0</td><td>0</td></tr><tr><td> </td><td>  </td><td>0</td><td>0</td><td>0</td><td>0</td><td>0</td><td>0</td></tr><tr><td>We have been acknowledged\n",
       "Just thought I'd let you know. I found both our names at the bottom of this website acknowledged both of us for use of our photos in their website. The only thing is I cannot see any of my photo's in it http://www.northsydney.com/ Check out the link</td><td>We have been acknowledged Just thought I 'd let you know . I found both our names at the bottom of this website acknowledged both of us for use of our photos in their website . The only thing is I can not see any of my photo 's in it http : //www.northsydney.com/ Check out the link <<PAD>> <<PAD>> <<PAD>> <<PAD>> <<PAD>> <<PAD>> <<PAD>> <<PAD>> <<PAD>> <<PAD>> <<PAD>> <<PAD>> <<PAD>> <<PAD>> <<PAD>> <<PAD>> <<PAD>> <<PAD>> <<PAD>> <<PAD>> <<PAD>> <<PAD>> <<PAD>></td><td>0</td><td>0</td><td>0</td><td>0</td><td>0</td><td>0</td></tr><tr><td> </td><td>  </td><td>0</td><td>0</td><td>0</td><td>0</td><td>0</td><td>0</td></tr><tr><td>\"\n",
       "\n",
       " The Living Christ: The Testimony of the Apostles \n",
       "\n",
       "Hey there.  Just to let you know, I've restored last year's edit to this article, this time with a 2008 LDS reference mentioning \"\"Firstborn\"\"  in the context we discussed, as that seemed your issue with it.  Cheers!   \"</td><td>`` The Living Christ : The Testimony of the Apostles Hey there . Just to let you know , I 've restored last year 's edit to this article , this time with a 2008 LDS reference mentioning `` '' Firstborn '' '' in the context we discussed , as that seemed your issue with it . Cheers ! `` <<PAD>> <<PAD>> <<PAD>> <<PAD>> <<PAD>> <<PAD>> <<PAD>> <<PAD>> <<PAD>> <<PAD>> <<PAD>> <<PAD>> <<PAD>> <<PAD>> <<PAD>> <<PAD>> <<PAD>> <<PAD>> <<PAD>> <<PAD>> <<PAD>></td><td>0</td><td>0</td><td>0</td><td>0</td><td>0</td><td>0</td></tr><tr><td> </td><td>  </td><td>0</td><td>0</td><td>0</td><td>0</td><td>0</td><td>0</td></tr><tr><td>\"BLAH BLAH BLAH FUCK YOU ....LAUGHING....\n",
       "ARE YOU THAT STUPID?\n",
       "I WOULDNT CITE \"\"WIKIPEDIA\"\" TO MY DOG\n",
       "i AM READING THE POSTS ENCOURAGING YOU\n",
       "THANKS FOR DELETING..... YES RIGHT\n",
       "I AM NOT SO STUPID AS TO BE PATRONIZED AS YOU ARE\n",
       "DELETEING MY GRAVATATION SHOWS A LACK OF WISDOM\n",
       "\"</td><td>`` BLAH BLAH BLAH FUCK YOU ... .LAUGHING ... . ARE YOU THAT STUPID ? I WOULDNT CITE `` '' WIKIPEDIA '' '' TO MY DOG i AM READING THE POSTS ENCOURAGING YOU THANKS FOR DELETING ... .. YES RIGHT I AM NOT SO STUPID AS TO BE PATRONIZED AS YOU ARE DELETEING MY GRAVATATION SHOWS A LACK OF WISDOM '' <<PAD>> <<PAD>> <<PAD>> <<PAD>> <<PAD>> <<PAD>> <<PAD>> <<PAD>> <<PAD>> <<PAD>> <<PAD>> <<PAD>> <<PAD>> <<PAD>> <<PAD>> <<PAD>> <<PAD>> <<PAD>> <<PAD>> <<PAD>></td><td>0</td><td>0</td><td>1</td><td>0</td><td>1</td><td>0</td></tr><tr><td> </td><td>  </td><td>0</td><td>0</td><td>0</td><td>0</td><td>0</td><td>0</td></tr><tr><td>Can you put it up back,\n",
       "\n",
       "Here are 3 citations, all written by ex-RAW official B. Raman\n",
       "\n",
       "http://www.rediff.com/news/2007/nov/30raman.htm\n",
       "\n",
       "http://toprack.blogspot.com/2007/12/kaoboys-of-r-by-b-raman-and-indias.html\n",
       "\n",
       "http://www.southasiaanalysis.org/%5Cpapers32%5Cpaper3154.html</td><td>Can you put it up back , Here are 3 citations , all written by ex-RAW official B. Raman http : //www.rediff.com/news/2007/nov/30raman.htm http : //toprack.blogspot.com/2007/12/kaoboys-of-r-by-b-raman-and-indias.html http : //www.southasiaanalysis.org/ % 5Cpapers32 % 5Cpaper3154.html <<PAD>> <<PAD>> <<PAD>> <<PAD>> <<PAD>> <<PAD>> <<PAD>> <<PAD>> <<PAD>> <<PAD>> <<PAD>> <<PAD>> <<PAD>> <<PAD>> <<PAD>> <<PAD>> <<PAD>> <<PAD>> <<PAD>> <<PAD>> <<PAD>> <<PAD>> <<PAD>> <<PAD>> <<PAD>> <<PAD>> <<PAD>> <<PAD>> <<PAD>> <<PAD>> <<PAD>> <<PAD>> <<PAD>> <<PAD>> <<PAD>> <<PAD>> <<PAD>> <<PAD>> <<PAD>> <<PAD>> <<PAD>> <<PAD>> <<PAD>> <<PAD>> <<PAD>> <<PAD>> <<PAD>> <<PAD>> <<PAD>></td><td>0</td><td>0</td><td>0</td><td>0</td><td>0</td><td>0</td></tr><tr><td> </td><td>  </td><td>0</td><td>0</td><td>0</td><td>0</td><td>0</td><td>0</td></tr><tr><td>I didn't plan to cut and paste, but I added text to the original text. Since I manually redirected the page, this cut and paste effect came into being. NTW. I do not understand why I couldn't find my elder text in Wikipedia anymore and cannot find Davidcannon text right now.</td><td>I did n't plan to cut and paste , but I added text to the original text . Since I manually redirected the page , this cut and paste effect came into being . NTW . I do not understand why I could n't find my elder text in Wikipedia anymore and can not find Davidcannon text right now . <<PAD>> <<PAD>> <<PAD>> <<PAD>> <<PAD>> <<PAD>> <<PAD>> <<PAD>> <<PAD>> <<PAD>> <<PAD>> <<PAD>> <<PAD>> <<PAD>> <<PAD>> <<PAD>> <<PAD>> <<PAD>> <<PAD>> <<PAD>> <<PAD>></td><td>0</td><td>0</td><td>0</td><td>0</td><td>0</td><td>0</td></tr><tr><td> </td><td>  </td><td>0</td><td>0</td><td>0</td><td>0</td><td>0</td><td>0</td></tr><tr><td>Gamaliel is a power drunk punk who is buds with Jimmy.  He is extremely leftwingnut/pro-democratic, very bias and POV DRIVER and OWNER of Many political bios.  Also, Gamaliel is very belligerent and arrogant and impossible to reason with, unless you kiss his ass.68.75.164.65</td><td>Gamaliel is a power drunk punk who is buds with Jimmy . He is extremely leftwingnut/pro-democratic , very bias and POV DRIVER and OWNER of Many political bios . Also , Gamaliel is very belligerent and arrogant and impossible to reason with , unless you kiss his ass.68.75.164.65 <<PAD>> <<PAD>> <<PAD>> <<PAD>> <<PAD>> <<PAD>> <<PAD>> <<PAD>> <<PAD>> <<PAD>> <<PAD>> <<PAD>> <<PAD>> <<PAD>> <<PAD>> <<PAD>> <<PAD>> <<PAD>> <<PAD>> <<PAD>> <<PAD>> <<PAD>> <<PAD>> <<PAD>> <<PAD>> <<PAD>> <<PAD>> <<PAD>> <<PAD>> <<PAD>> <<PAD>> <<PAD>> <<PAD>></td><td>0</td><td>0</td><td>0</td><td>0</td><td>0</td><td>0</td></tr><tr><td> </td><td>  </td><td>0</td><td>0</td><td>0</td><td>0</td><td>0</td><td>0</td></tr><tr><td>However, since SCIMD-COM is just a branch campus and not a separate, self-standing UK educational entity it is covered under the recognition of it's parent university. SCIMD-COM does not need to be recognized by the UK government since it is not a UK educational institution.</td><td>However , since SCIMD-COM is just a branch campus and not a separate , self-standing UK educational entity it is covered under the recognition of it 's parent university . SCIMD-COM does not need to be recognized by the UK government since it is not a UK educational institution . <<PAD>> <<PAD>> <<PAD>> <<PAD>> <<PAD>> <<PAD>> <<PAD>> <<PAD>> <<PAD>> <<PAD>> <<PAD>> <<PAD>> <<PAD>> <<PAD>> <<PAD>> <<PAD>> <<PAD>> <<PAD>> <<PAD>> <<PAD>> <<PAD>> <<PAD>> <<PAD>> <<PAD>> <<PAD>> <<PAD>> <<PAD>> <<PAD>> <<PAD>> <<PAD>> <<PAD>></td><td>0</td><td>0</td><td>0</td><td>0</td><td>0</td><td>0</td></tr><tr><td> </td><td>  </td><td>0</td><td>0</td><td>0</td><td>0</td><td>0</td><td>0</td></tr><tr><td>if you rreally want to beat TawkerBot to the vandalism \n",
       "you should look into either WP:VandalProof, or WP:POP, besides, tawkerbot, and all it's second and third cousins only revert blankings, vandalism that doesn't remove large chunks of content, still require manual reverts</td><td>if you rreally want to beat TawkerBot to the vandalism you should look into either WP : VandalProof , or WP : POP , besides , tawkerbot , and all it 's second and third cousins only revert blankings , vandalism that does n't remove large chunks of content , still require manual reverts <<PAD>> <<PAD>> <<PAD>> <<PAD>> <<PAD>> <<PAD>> <<PAD>> <<PAD>> <<PAD>> <<PAD>> <<PAD>> <<PAD>> <<PAD>> <<PAD>> <<PAD>> <<PAD>> <<PAD>> <<PAD>> <<PAD>> <<PAD>> <<PAD>> <<PAD>> <<PAD>> <<PAD>> <<PAD>> <<PAD>> <<PAD>></td><td>0</td><td>0</td><td>0</td><td>0</td><td>0</td><td>0</td></tr><tr><td> </td><td>  </td><td>0</td><td>0</td><td>0</td><td>0</td><td>0</td><td>0</td></tr><tr><td>\":::::Well, we could eliminate one of the \"\"groups\"\" by saying that the SPLC represents the \"\"victims of hate \"\"crimes\"\" rather than \"\"hate groups\"\" assuming that it doesn't only represent hate crime victims when the perpetrators are members of one of its hate groups.   \n",
       " \n",
       "\"</td><td>`` : : : : : Well , we could eliminate one of the `` '' groups '' '' by saying that the SPLC represents the `` '' victims of hate `` '' crimes '' '' rather than `` '' hate groups '' '' assuming that it does n't only represent hate crime victims when the perpetrators are members of one of its hate groups. '' <<PAD>> <<PAD>> <<PAD>> <<PAD>> <<PAD>> <<PAD>> <<PAD>> <<PAD>> <<PAD>> <<PAD>> <<PAD>> <<PAD>> <<PAD>> <<PAD>> <<PAD>></td><td>0</td><td>0</td><td>0</td><td>0</td><td>0</td><td>0</td></tr><tr><td> </td><td>  </td><td>0</td><td>0</td><td>0</td><td>0</td><td>0</td><td>0</td></tr><tr><td>Citations \n",
       "Many of the citations are not correctly formatted, and while on a technical level I know how to fix them I'm not comfortable just ditching the information I can't figure out how to format such as first name and ISDN.  So if someone could fix them, that'd be great.</td><td>Citations Many of the citations are not correctly formatted , and while on a technical level I know how to fix them I 'm not comfortable just ditching the information I ca n't figure out how to format such as first name and ISDN . So if someone could fix them , that 'd be great . <<PAD>> <<PAD>> <<PAD>> <<PAD>> <<PAD>> <<PAD>> <<PAD>> <<PAD>> <<PAD>> <<PAD>> <<PAD>> <<PAD>> <<PAD>> <<PAD>> <<PAD>> <<PAD>> <<PAD>> <<PAD>> <<PAD>> <<PAD>> <<PAD>> <<PAD>> <<PAD>> <<PAD>></td><td>0</td><td>0</td><td>0</td><td>0</td><td>0</td><td>0</td></tr><tr><td> </td><td>  </td><td>0</td><td>0</td><td>0</td><td>0</td><td>0</td><td>0</td></tr><tr><td>|Here is the cut off Z-scores in 2011\n",
       " Colombo district (Sinhalese - 76%) - 1.9770\n",
       " Matara district (more than 90% are Sinhalese) - 1.9689\n",
       " Galle district (more than 90%) - 1.9470\n",
       " Hambantota district (more than 90%)  - 1.9327\n",
       ".\n",
       ".\n",
       " Mullaitivu ( majority are tamils ) - 0.5950</td><td>|Here is the cut off Z-scores in 2011 Colombo district ( Sinhalese - 76 % ) - 1.9770 Matara district ( more than 90 % are Sinhalese ) - 1.9689 Galle district ( more than 90 % ) - 1.9470 Hambantota district ( more than 90 % ) - 1.9327 . . Mullaitivu ( majority are tamils ) - 0.5950 <<PAD>> <<PAD>> <<PAD>> <<PAD>> <<PAD>> <<PAD>> <<PAD>> <<PAD>> <<PAD>> <<PAD>> <<PAD>> <<PAD>> <<PAD>> <<PAD>> <<PAD>> <<PAD>> <<PAD>> <<PAD>> <<PAD>> <<PAD>> <<PAD>></td><td>0</td><td>0</td><td>0</td><td>0</td><td>0</td><td>0</td></tr><tr><td> </td><td>  </td><td>0</td><td>0</td><td>0</td><td>0</td><td>0</td><td>0</td></tr><tr><td>\" March 2014 (UTC)\n",
       "It is not, count them. Before you added your two sources that haven't yet been explained in the article there were 36 individuals/organizations whose opinions have been included in the article. 7 of them use the characterization \"\"propaganda\"\".  08:03, 31\"</td><td>`` March 2014 ( UTC ) It is not , count them . Before you added your two sources that have n't yet been explained in the article there were 36 individuals/organizations whose opinions have been included in the article . 7 of them use the characterization `` '' propaganda '' '' . 08:03 , 31 '' <<PAD>> <<PAD>> <<PAD>> <<PAD>> <<PAD>> <<PAD>> <<PAD>> <<PAD>> <<PAD>> <<PAD>> <<PAD>> <<PAD>> <<PAD>> <<PAD>> <<PAD>> <<PAD>> <<PAD>> <<PAD>> <<PAD>> <<PAD>> <<PAD>> <<PAD>> <<PAD>> <<PAD>></td><td>0</td><td>0</td><td>0</td><td>0</td><td>0</td><td>0</td></tr><tr><td> </td><td>  </td><td>0</td><td>0</td><td>0</td><td>0</td><td>0</td><td>0</td></tr><tr><td>Brigham Young University Wikiproject \n",
       "\n",
       "This new wikiproject has been proposed at Wikipedia:WikiProject Council/Proposals#Brigham Young University. Please sign up in order to improve the quality of BYU related articles on wikipedia, including BYU-Idaho and BYU-Hawaii. Thanks.</td><td>Brigham Young University Wikiproject This new wikiproject has been proposed at Wikipedia : WikiProject Council/Proposals # Brigham Young University . Please sign up in order to improve the quality of BYU related articles on wikipedia , including BYU-Idaho and BYU-Hawaii . Thanks . <<PAD>> <<PAD>> <<PAD>> <<PAD>> <<PAD>> <<PAD>> <<PAD>> <<PAD>> <<PAD>> <<PAD>> <<PAD>> <<PAD>> <<PAD>> <<PAD>> <<PAD>> <<PAD>> <<PAD>> <<PAD>> <<PAD>> <<PAD>> <<PAD>> <<PAD>> <<PAD>> <<PAD>> <<PAD>> <<PAD>> <<PAD>> <<PAD>> <<PAD>> <<PAD>> <<PAD>> <<PAD>> <<PAD>> <<PAD>> <<PAD>> <<PAD>> <<PAD>> <<PAD>></td><td>0</td><td>0</td><td>0</td><td>0</td><td>0</td><td>0</td></tr><tr><td> </td><td>  </td><td>0</td><td>0</td><td>0</td><td>0</td><td>0</td><td>0</td></tr><tr><td>\"\n",
       "\n",
       "  \n",
       "\n",
       "Your request to be unblocked has been granted for the following reason(s):\n",
       "Allowing username change to wiki dude01(talk contribs). Please put this request in at Wikipedia:Changing username as soon as possible to avoid re-blocking.\n",
       "\n",
       "Request handled by: 72.201.113.26  \"</td><td>`` Your request to be unblocked has been granted for the following reason ( s ) : Allowing username change to wiki dude01 ( talk contribs ) . Please put this request in at Wikipedia : Changing username as soon as possible to avoid re-blocking . Request handled by : 72.201.113.26 `` <<PAD>> <<PAD>> <<PAD>> <<PAD>> <<PAD>> <<PAD>> <<PAD>> <<PAD>> <<PAD>> <<PAD>> <<PAD>> <<PAD>> <<PAD>> <<PAD>> <<PAD>> <<PAD>> <<PAD>> <<PAD>> <<PAD>> <<PAD>> <<PAD>> <<PAD>> <<PAD>> <<PAD>> <<PAD>> <<PAD>> <<PAD>> <<PAD>> <<PAD>></td><td>0</td><td>0</td><td>0</td><td>0</td><td>0</td><td>0</td></tr><tr><td> </td><td>  </td><td>0</td><td>0</td><td>0</td><td>0</td><td>0</td><td>0</td></tr><tr><td>ROMANIAN-AMERICANS, AGAIN YOU!!!!\n",
       "What is again your problem with the List of Romanian-Americans???????????????? YOU WANTED CITED SOURCES, I FOUND YOU, AND NOW YOU REMOVE THIS PEOPLE!!! I WARN YOU, THIS IS VANDALISM, AND IS IN YOUR INTEREST TO STOP!!!!!!!\n",
       "'''''' 18 June 2006</td><td>ROMANIAN-AMERICANS , AGAIN YOU ! ! ! ! What is again your problem with the List of Romanian-Americans ? ? ? ? ? ? ? ? ? ? ? ? ? ? ? ? YOU WANTED CITED SOURCES , I FOUND YOU , AND NOW YOU REMOVE THIS PEOPLE ! ! ! I WARN YOU , THIS IS VANDALISM , AND IS IN YOUR INTEREST TO STOP ! ! ! ! ! ! ! ' '' ' '' 18 June 2006</td><td>0</td><td>0</td><td>0</td><td>0</td><td>0</td><td>0</td></tr><tr><td> </td><td>  </td><td>1</td><td>1</td><td>1</td><td>1</td><td>1</td><td>1</td></tr><tr><td>The project page was in rather bad condition due to real life / wikibreak issues on my side. Thank you for working on it! I've done some CAT:PNTs already. For the organization of the Berlin meetup, I won't be much help: just pick a cafe/pub you like and we'll go there...  ()</td><td>The project page was in rather bad condition due to real life / wikibreak issues on my side . Thank you for working on it ! I 've done some CAT : PNTs already . For the organization of the Berlin meetup , I wo n't be much help : just pick a cafe/pub you like and we 'll go there ... ( ) <<PAD>> <<PAD>> <<PAD>> <<PAD>> <<PAD>> <<PAD>> <<PAD>> <<PAD>> <<PAD>> <<PAD>> <<PAD>> <<PAD>> <<PAD>> <<PAD>> <<PAD>> <<PAD>> <<PAD>></td><td>0</td><td>0</td><td>0</td><td>0</td><td>0</td><td>0</td></tr><tr><td> </td><td>  </td><td>0</td><td>0</td><td>0</td><td>0</td><td>0</td><td>0</td></tr><tr><td>\"\n",
       "\n",
       " Please stop your disruptive editing. If you continue to vandalize Wikipedia,  you will be blocked from editing.   (talk) \n",
       "If this is a shared IP address, and you didn't make the edit, consider creating an account for yourself so you can avoid further irrelevant notices.\"</td><td>`` Please stop your disruptive editing . If you continue to vandalize Wikipedia , you will be blocked from editing . ( talk ) If this is a shared IP address , and you did n't make the edit , consider creating an account for yourself so you can avoid further irrelevant notices . '' <<PAD>> <<PAD>> <<PAD>> <<PAD>> <<PAD>> <<PAD>> <<PAD>> <<PAD>> <<PAD>> <<PAD>> <<PAD>> <<PAD>> <<PAD>> <<PAD>> <<PAD>> <<PAD>> <<PAD>> <<PAD>> <<PAD>> <<PAD>> <<PAD>> <<PAD>> <<PAD>> <<PAD>> <<PAD>> <<PAD>></td><td>0</td><td>0</td><td>0</td><td>0</td><td>0</td><td>0</td></tr><tr><td> </td><td>  </td><td>0</td><td>0</td><td>0</td><td>0</td><td>0</td><td>0</td></tr><tr><td>Wow, thats pretty harsh. true though. Thanks a lot. Maybe you should just get somebody else to follow me around? Anyways, im really sorry if i bothered you, just trying to help out. And where do you get that user name thing from? 99.136.252.89 seems un-ordinary. Thanks.NHCLS</td><td>Wow , thats pretty harsh . true though . Thanks a lot . Maybe you should just get somebody else to follow me around ? Anyways , im really sorry if i bothered you , just trying to help out . And where do you get that user name thing from ? 99.136.252.89 seems un-ordinary . Thanks.NHCLS <<PAD>> <<PAD>> <<PAD>> <<PAD>> <<PAD>> <<PAD>> <<PAD>> <<PAD>> <<PAD>> <<PAD>> <<PAD>> <<PAD>> <<PAD>> <<PAD>> <<PAD>> <<PAD>> <<PAD>> <<PAD>> <<PAD>> <<PAD>> <<PAD>> <<PAD>> <<PAD>> <<PAD>></td><td>0</td><td>0</td><td>0</td><td>0</td><td>0</td><td>0</td></tr><tr><td> </td><td>  </td><td>0</td><td>0</td><td>0</td><td>0</td><td>0</td><td>0</td></tr><tr><td>I think it's important for us to allow the Coereba genus page. It doesn't do any harm and allows for a proper representation of the phylogeny of a complex without overwhelming a current article with what should be pertinent information on just that one species (C. flaveola).</td><td>I think it 's important for us to allow the Coereba genus page . It does n't do any harm and allows for a proper representation of the phylogeny of a complex without overwhelming a current article with what should be pertinent information on just that one species ( C. flaveola ) . <<PAD>> <<PAD>> <<PAD>> <<PAD>> <<PAD>> <<PAD>> <<PAD>> <<PAD>> <<PAD>> <<PAD>> <<PAD>> <<PAD>> <<PAD>> <<PAD>> <<PAD>> <<PAD>> <<PAD>> <<PAD>> <<PAD>> <<PAD>> <<PAD>> <<PAD>> <<PAD>> <<PAD>> <<PAD>> <<PAD>> <<PAD>> <<PAD>></td><td>0</td><td>0</td><td>0</td><td>0</td><td>0</td><td>0</td></tr><tr><td> </td><td>  </td><td>0</td><td>0</td><td>0</td><td>0</td><td>0</td><td>0</td></tr><tr><td>\"\n",
       "\n",
       "GAIA observation limit\n",
       "I used a source that gives the named brightness limit directly and I used \"\"may\"\" because the GAIA team has apparently weighed options to read out the CCD differently to get to bright stars and obtain better estimates than Hipparcos, presumably.   \"</td><td>`` GAIA observation limit I used a source that gives the named brightness limit directly and I used `` '' may '' '' because the GAIA team has apparently weighed options to read out the CCD differently to get to bright stars and obtain better estimates than Hipparcos , presumably. `` <<PAD>> <<PAD>> <<PAD>> <<PAD>> <<PAD>> <<PAD>> <<PAD>> <<PAD>> <<PAD>> <<PAD>> <<PAD>> <<PAD>> <<PAD>> <<PAD>> <<PAD>> <<PAD>> <<PAD>> <<PAD>> <<PAD>> <<PAD>> <<PAD>> <<PAD>> <<PAD>> <<PAD>> <<PAD>> <<PAD>> <<PAD>> <<PAD>> <<PAD>> <<PAD>></td><td>0</td><td>0</td><td>0</td><td>0</td><td>0</td><td>0</td></tr><tr><td> </td><td>  </td><td>0</td><td>0</td><td>0</td><td>0</td><td>0</td><td>0</td></tr><tr><td>\"EDIT: Regarding the two points you mentioned: \n",
       "\n",
       "a) The sourced article states that he was banned, even though it's \"\"more likely situation that he had simply been ignored due to lack of notability.\"\" Find a source to prove your argument.\n",
       "\n",
       "b) You are right about this one.\n",
       "\n",
       "\"</td><td>`` EDIT : Regarding the two points you mentioned : a ) The sourced article states that he was banned , even though it 's `` '' more likely situation that he had simply been ignored due to lack of notability . '' '' Find a source to prove your argument . b ) You are right about this one. '' <<PAD>> <<PAD>> <<PAD>> <<PAD>> <<PAD>> <<PAD>> <<PAD>> <<PAD>> <<PAD>> <<PAD>> <<PAD>> <<PAD>> <<PAD>> <<PAD>> <<PAD>> <<PAD>> <<PAD>> <<PAD>> <<PAD>> <<PAD>></td><td>0</td><td>0</td><td>0</td><td>0</td><td>0</td><td>0</td></tr><tr><td> </td><td>  </td><td>0</td><td>0</td><td>0</td><td>0</td><td>0</td><td>0</td></tr><tr><td>\"\n",
       "\n",
       "The 2012 movie was partially based on Graham Hancock's book \"\"Fingerprints of the Gods\"\". It was in the credits. You have resorted to even removing suggestions from the discussion page from Jack Straw. You two are so pathetic. This page still sucks. Stupidity Rules. ~M~ \"</td><td>`` The 2012 movie was partially based on Graham Hancock 's book `` '' Fingerprints of the Gods '' '' . It was in the credits . You have resorted to even removing suggestions from the discussion page from Jack Straw . You two are so pathetic . This page still sucks . Stupidity Rules . ~M~ `` <<PAD>> <<PAD>> <<PAD>> <<PAD>> <<PAD>> <<PAD>> <<PAD>> <<PAD>> <<PAD>> <<PAD>> <<PAD>> <<PAD>> <<PAD>> <<PAD>> <<PAD>> <<PAD>> <<PAD>> <<PAD>> <<PAD>> <<PAD>> <<PAD>> <<PAD>> <<PAD>></td><td>0</td><td>0</td><td>0</td><td>0</td><td>0</td><td>0</td></tr><tr><td> </td><td>  </td><td>0</td><td>0</td><td>0</td><td>0</td><td>0</td><td>0</td></tr><tr><td>Enrique\n",
       "\n",
       "I don't doubt that Enrique was voiced by Danny Trejo in the earlier seasons (as this article says)- Enrique had a deep voice, just like Danny's.  However, Enrique's voice in the newer episodes is a higher, and a bit more gravely.  Anyone know who voices Enrique now?</td><td>Enrique I do n't doubt that Enrique was voiced by Danny Trejo in the earlier seasons ( as this article says ) - Enrique had a deep voice , just like Danny 's . However , Enrique 's voice in the newer episodes is a higher , and a bit more gravely . Anyone know who voices Enrique now ? <<PAD>> <<PAD>> <<PAD>> <<PAD>> <<PAD>> <<PAD>> <<PAD>> <<PAD>> <<PAD>> <<PAD>> <<PAD>> <<PAD>> <<PAD>> <<PAD>> <<PAD>> <<PAD>> <<PAD>> <<PAD>> <<PAD>> <<PAD>> <<PAD>></td><td>0</td><td>0</td><td>0</td><td>0</td><td>0</td><td>0</td></tr><tr><td> </td><td>  </td><td>0</td><td>0</td><td>0</td><td>0</td><td>0</td><td>0</td></tr><tr><td>\"\n",
       "\n",
       "I can see how most of the discussion is going towards disapproving \"\"Suzukake Nanchara\"\" because nanchara apparently means blah blah but what about the other options then? A shortened title with ellipsis in the middle or like this: \"\"Suzukake Ki no Miche de...\"\"  (Talk) \"</td><td>`` I can see how most of the discussion is going towards disapproving `` '' Suzukake Nanchara '' '' because nanchara apparently means blah blah but what about the other options then ? A shortened title with ellipsis in the middle or like this : `` '' Suzukake Ki no Miche de ... '' '' ( Talk ) `` <<PAD>> <<PAD>> <<PAD>> <<PAD>> <<PAD>> <<PAD>> <<PAD>> <<PAD>> <<PAD>> <<PAD>> <<PAD>> <<PAD>> <<PAD>> <<PAD>> <<PAD>> <<PAD>> <<PAD>> <<PAD>> <<PAD>> <<PAD>> <<PAD>> <<PAD>></td><td>0</td><td>0</td><td>0</td><td>0</td><td>0</td><td>0</td></tr><tr><td> </td><td>  </td><td>0</td><td>0</td><td>0</td><td>0</td><td>0</td><td>0</td></tr><tr><td>Somewhere in a jail in Franklin County, New York, There is an inmate named Mark Woodard.  I will offer $500,000 to whoever can kill him in the most violent way possible.  Once the deed is done you will find your money burried under the Nigger Guidebord in Fort Ann, New York.</td><td>Somewhere in a jail in Franklin County , New York , There is an inmate named Mark Woodard . I will offer $ 500,000 to whoever can kill him in the most violent way possible . Once the deed is done you will find your money burried under the Nigger Guidebord in Fort Ann , New York . <<PAD>> <<PAD>> <<PAD>> <<PAD>> <<PAD>> <<PAD>> <<PAD>> <<PAD>> <<PAD>> <<PAD>> <<PAD>> <<PAD>> <<PAD>> <<PAD>> <<PAD>> <<PAD>> <<PAD>> <<PAD>> <<PAD>> <<PAD>> <<PAD>> <<PAD>> <<PAD>></td><td>0</td><td>0</td><td>0</td><td>0</td><td>0</td><td>0</td></tr><tr><td> </td><td>  </td><td>0</td><td>0</td><td>0</td><td>0</td><td>0</td><td>0</td></tr><tr><td>Chelmer Valley High School \n",
       "\n",
       "Hi, I wonder if you would revisist Wikipedia:Articles for deletion/Chelmer Valley High School, please? The article has been rewritten showing the school has been independently judged to be Outstanding with a world record breaking gymnastics team.</td><td>Chelmer Valley High School Hi , I wonder if you would revisist Wikipedia : Articles for deletion/Chelmer Valley High School , please ? The article has been rewritten showing the school has been independently judged to be Outstanding with a world record breaking gymnastics team . <<PAD>> <<PAD>> <<PAD>> <<PAD>> <<PAD>> <<PAD>> <<PAD>> <<PAD>> <<PAD>> <<PAD>> <<PAD>> <<PAD>> <<PAD>> <<PAD>> <<PAD>> <<PAD>> <<PAD>> <<PAD>> <<PAD>> <<PAD>> <<PAD>> <<PAD>> <<PAD>> <<PAD>> <<PAD>> <<PAD>> <<PAD>> <<PAD>> <<PAD>> <<PAD>> <<PAD>> <<PAD>> <<PAD>> <<PAD>> <<PAD>></td><td>0</td><td>0</td><td>0</td><td>0</td><td>0</td><td>0</td></tr><tr><td> </td><td>  </td><td>0</td><td>0</td><td>0</td><td>0</td><td>0</td><td>0</td></tr><tr><td>\"\n",
       "Gayshire? Probably if you're talking about yourself. Bucuresti comes from the name of , probably legend figure, Bucur, a peasant who came with his sheep in  this area and made a fair, or market, here. The termination \"\"-esti\"\" is just the substantivization of Bucur's name.\"</td><td>`` Gayshire ? Probably if you 're talking about yourself . Bucuresti comes from the name of , probably legend figure , Bucur , a peasant who came with his sheep in this area and made a fair , or market , here . The termination `` '' -esti '' '' is just the substantivization of Bucur 's name . '' <<PAD>> <<PAD>> <<PAD>> <<PAD>> <<PAD>> <<PAD>> <<PAD>> <<PAD>> <<PAD>> <<PAD>> <<PAD>> <<PAD>> <<PAD>> <<PAD>> <<PAD>> <<PAD>> <<PAD>> <<PAD>> <<PAD>> <<PAD>></td><td>0</td><td>0</td><td>0</td><td>0</td><td>0</td><td>0</td></tr><tr><td> </td><td>  </td><td>0</td><td>0</td><td>0</td><td>0</td><td>0</td><td>0</td></tr><tr><td>\"Thanks for experimenting with Wikipedia. Your test worked, and has been reverted or removed. Please use the sandbox for any other tests you want to do. Take a look at the welcome page if you would like to learn more about contributing to our encyclopedia. Thanks.   '096''' \"</td><td>`` Thanks for experimenting with Wikipedia . Your test worked , and has been reverted or removed . Please use the sandbox for any other tests you want to do . Take a look at the welcome page if you would like to learn more about contributing to our encyclopedia . Thanks . '096 '' ' `` <<PAD>> <<PAD>> <<PAD>> <<PAD>> <<PAD>> <<PAD>> <<PAD>> <<PAD>> <<PAD>> <<PAD>> <<PAD>> <<PAD>> <<PAD>> <<PAD>> <<PAD>> <<PAD>> <<PAD>> <<PAD>> <<PAD>> <<PAD>> <<PAD>> <<PAD>> <<PAD>> <<PAD>></td><td>0</td><td>0</td><td>0</td><td>0</td><td>0</td><td>0</td></tr><tr><td> </td><td>  </td><td>0</td><td>0</td><td>0</td><td>0</td><td>0</td><td>0</td></tr><tr><td>Falangist partisan  needs to stop abusing the editing process to do damage control on the egregious misbehavior of his hero Juan Carlos.  Accurate, sourced, relevant information on the King's alcoholic rantings should not be suppressed just because you find them inconvenient.</td><td>Falangist partisan needs to stop abusing the editing process to do damage control on the egregious misbehavior of his hero Juan Carlos . Accurate , sourced , relevant information on the King 's alcoholic rantings should not be suppressed just because you find them inconvenient . <<PAD>> <<PAD>> <<PAD>> <<PAD>> <<PAD>> <<PAD>> <<PAD>> <<PAD>> <<PAD>> <<PAD>> <<PAD>> <<PAD>> <<PAD>> <<PAD>> <<PAD>> <<PAD>> <<PAD>> <<PAD>> <<PAD>> <<PAD>> <<PAD>> <<PAD>> <<PAD>> <<PAD>> <<PAD>> <<PAD>> <<PAD>> <<PAD>> <<PAD>> <<PAD>> <<PAD>> <<PAD>> <<PAD>> <<PAD>> <<PAD>></td><td>0</td><td>0</td><td>0</td><td>0</td><td>0</td><td>0</td></tr><tr><td> </td><td>  </td><td>0</td><td>0</td><td>0</td><td>0</td><td>0</td><td>0</td></tr><tr><td>Okie, I've got the Nevins book and I'll take a look.  I think, however, that this is a latter-day touch of the authors, that in previous books they hadn't out and out said he had written any particular books.  But, of course, I could be wrong once again.  Thanks for the info!</td><td>Okie , I 've got the Nevins book and I 'll take a look . I think , however , that this is a latter-day touch of the authors , that in previous books they had n't out and out said he had written any particular books . But , of course , I could be wrong once again . Thanks for the info ! <<PAD>> <<PAD>> <<PAD>> <<PAD>> <<PAD>> <<PAD>> <<PAD>> <<PAD>> <<PAD>> <<PAD>> <<PAD>> <<PAD>> <<PAD>> <<PAD>> <<PAD>> <<PAD>></td><td>0</td><td>0</td><td>0</td><td>0</td><td>0</td><td>0</td></tr><tr><td> </td><td>  </td><td>0</td><td>0</td><td>0</td><td>0</td><td>0</td><td>0</td></tr><tr><td>HTML version of Eloqua guide?\n",
       "Re . I can't read the lines at the bottom of some pages, especially page 4  (Firefox 3.6.17 on Ubuntu 10.04), and don't want to go thru the HTML source or register for the PDF. Is there a plain HTML or text version somewhere?  , 2011-05-10t18:18z</td><td>HTML version of Eloqua guide ? Re . I ca n't read the lines at the bottom of some pages , especially page 4 ( Firefox 3.6.17 on Ubuntu 10.04 ) , and do n't want to go thru the HTML source or register for the PDF . Is there a plain HTML or text version somewhere ? , 2011-05-10t18:18z <<PAD>> <<PAD>> <<PAD>> <<PAD>> <<PAD>> <<PAD>> <<PAD>> <<PAD>> <<PAD>> <<PAD>> <<PAD>> <<PAD>> <<PAD>> <<PAD>> <<PAD>> <<PAD>> <<PAD>> <<PAD>> <<PAD>> <<PAD>> <<PAD>></td><td>0</td><td>0</td><td>0</td><td>0</td><td>0</td><td>0</td></tr><tr><td> </td><td>  </td><td>0</td><td>0</td><td>0</td><td>0</td><td>0</td><td>0</td></tr><tr><td>\"\"\"It has been frequently alleged that Bush skipped over a waiting list to receive a National Guard slot\"\"\n",
       "\n",
       "um, he did skip over a waiting list to receive a national guard slot, even the GOP/FOX talking heads have never disputed this part, just the stuff that comes after it \"</td><td>`` `` '' It has been frequently alleged that Bush skipped over a waiting list to receive a National Guard slot '' '' um , he did skip over a waiting list to receive a national guard slot , even the GOP/FOX talking heads have never disputed this part , just the stuff that comes after it `` <<PAD>> <<PAD>> <<PAD>> <<PAD>> <<PAD>> <<PAD>> <<PAD>> <<PAD>> <<PAD>> <<PAD>> <<PAD>> <<PAD>> <<PAD>> <<PAD>> <<PAD>> <<PAD>> <<PAD>> <<PAD>> <<PAD>> <<PAD>> <<PAD>> <<PAD>> <<PAD>></td><td>0</td><td>0</td><td>0</td><td>0</td><td>0</td><td>0</td></tr><tr><td> </td><td>  </td><td>0</td><td>0</td><td>0</td><td>0</td><td>0</td><td>0</td></tr><tr><td>Stop archiving the on-going discussion on Stefan Banach \n",
       "\n",
       "You will need to stop archiving the on-going discussion of Stefan Banach.\n",
       "\n",
       "This discussion page is not large enough to justify archiving.\n",
       "\n",
       "You will not be allowed to censor the discussion by moving it into the archive.</td><td>Stop archiving the on-going discussion on Stefan Banach You will need to stop archiving the on-going discussion of Stefan Banach . This discussion page is not large enough to justify archiving . You will not be allowed to censor the discussion by moving it into the archive . <<PAD>> <<PAD>> <<PAD>> <<PAD>> <<PAD>> <<PAD>> <<PAD>> <<PAD>> <<PAD>> <<PAD>> <<PAD>> <<PAD>> <<PAD>> <<PAD>> <<PAD>> <<PAD>> <<PAD>> <<PAD>> <<PAD>> <<PAD>> <<PAD>> <<PAD>> <<PAD>> <<PAD>> <<PAD>> <<PAD>> <<PAD>> <<PAD>> <<PAD>> <<PAD>> <<PAD>> <<PAD>> <<PAD>></td><td>0</td><td>0</td><td>0</td><td>0</td><td>0</td><td>0</td></tr><tr><td> </td><td>  </td><td>0</td><td>0</td><td>0</td><td>0</td><td>0</td><td>0</td></tr><tr><td>The comment has been edited for content and clarity, but may be unsuitable for young children due to adult content, thematic elements, and graphic imagery.\n",
       "This edit has not yet been rated by the KCERC (Killer Chihuahua's Editorial Review and Commentary).  Message in a bottle</td><td>The comment has been edited for content and clarity , but may be unsuitable for young children due to adult content , thematic elements , and graphic imagery . This edit has not yet been rated by the KCERC ( Killer Chihuahua 's Editorial Review and Commentary ) . Message in a bottle <<PAD>> <<PAD>> <<PAD>> <<PAD>> <<PAD>> <<PAD>> <<PAD>> <<PAD>> <<PAD>> <<PAD>> <<PAD>> <<PAD>> <<PAD>> <<PAD>> <<PAD>> <<PAD>> <<PAD>> <<PAD>> <<PAD>> <<PAD>> <<PAD>> <<PAD>> <<PAD>> <<PAD>> <<PAD>> <<PAD>> <<PAD>> <<PAD>></td><td>0</td><td>0</td><td>0</td><td>0</td><td>0</td><td>0</td></tr><tr><td> </td><td>  </td><td>0</td><td>0</td><td>0</td><td>0</td><td>0</td><td>0</td></tr><tr><td>\"\n",
       "The ad campaign just started. He's a figment of the Stella Artois ad agency's imagination, and they're plugging him all over the internet. Given the similarity of the above editor's name and Stella Artois, I'm wondering if this wasn't a bit of \"\"product placement\"\". ;-)   \"</td><td>`` The ad campaign just started . He 's a figment of the Stella Artois ad agency 's imagination , and they 're plugging him all over the internet . Given the similarity of the above editor 's name and Stella Artois , I 'm wondering if this was n't a bit of `` '' product placement '' '' . ; - ) `` <<PAD>> <<PAD>> <<PAD>> <<PAD>> <<PAD>> <<PAD>> <<PAD>> <<PAD>> <<PAD>> <<PAD>> <<PAD>> <<PAD>> <<PAD>> <<PAD>> <<PAD>> <<PAD>> <<PAD>></td><td>0</td><td>0</td><td>0</td><td>0</td><td>0</td><td>0</td></tr><tr><td> </td><td>  </td><td>0</td><td>0</td><td>0</td><td>0</td><td>0</td><td>0</td></tr><tr><td>When did Wikipedia allow its ADMIN to hold intolerant biased, one sided, select views that could undermine the integrity of Wikipedia and the as a tool for information. Question the ADMIN on sikhhistory as to why the ADMIN holds view contrary to the view of wikipedia. Thanks.</td><td>When did Wikipedia allow its ADMIN to hold intolerant biased , one sided , select views that could undermine the integrity of Wikipedia and the as a tool for information . Question the ADMIN on sikhhistory as to why the ADMIN holds view contrary to the view of wikipedia . Thanks . <<PAD>> <<PAD>> <<PAD>> <<PAD>> <<PAD>> <<PAD>> <<PAD>> <<PAD>> <<PAD>> <<PAD>> <<PAD>> <<PAD>> <<PAD>> <<PAD>> <<PAD>> <<PAD>> <<PAD>> <<PAD>> <<PAD>> <<PAD>> <<PAD>> <<PAD>> <<PAD>> <<PAD>> <<PAD>> <<PAD>> <<PAD>> <<PAD>> <<PAD>></td><td>0</td><td>0</td><td>0</td><td>0</td><td>0</td><td>0</td></tr><tr><td> </td><td>  </td><td>0</td><td>0</td><td>0</td><td>0</td><td>0</td><td>0</td></tr><tr><td>WP:WIKIHOUNDING \n",
       "\n",
       "Please cease and desist from hounding me. For you to lecture me on bad behavior and then to act in the same manner is hardly the sign of a responsible editor. I urge you to calm down and to pull back from the brink, or it will be you that gets a block not I.</td><td>WP : WIKIHOUNDING Please cease and desist from hounding me . For you to lecture me on bad behavior and then to act in the same manner is hardly the sign of a responsible editor . I urge you to calm down and to pull back from the brink , or it will be you that gets a block not I . <<PAD>> <<PAD>> <<PAD>> <<PAD>> <<PAD>> <<PAD>> <<PAD>> <<PAD>> <<PAD>> <<PAD>> <<PAD>> <<PAD>> <<PAD>> <<PAD>> <<PAD>> <<PAD>> <<PAD>> <<PAD>> <<PAD>></td><td>0</td><td>0</td><td>0</td><td>0</td><td>0</td><td>0</td></tr><tr><td> </td><td>  </td><td>0</td><td>0</td><td>0</td><td>0</td><td>0</td><td>0</td></tr><tr><td>\"\n",
       "\n",
       "Just to say that the paper cited to support \"\"possible borrowings\"\" does not contain any such claim. It goes no further than to point out certain similarities and avenues of possible influence. The author does not say that anything may have been borrowed.\n",
       "All the best.   \"</td><td>`` Just to say that the paper cited to support `` '' possible borrowings '' '' does not contain any such claim . It goes no further than to point out certain similarities and avenues of possible influence . The author does not say that anything may have been borrowed . All the best. `` <<PAD>> <<PAD>> <<PAD>> <<PAD>> <<PAD>> <<PAD>> <<PAD>> <<PAD>> <<PAD>> <<PAD>> <<PAD>> <<PAD>> <<PAD>> <<PAD>> <<PAD>> <<PAD>> <<PAD>> <<PAD>> <<PAD>> <<PAD>> <<PAD>> <<PAD>> <<PAD>> <<PAD>> <<PAD>> <<PAD>></td><td>0</td><td>0</td><td>0</td><td>0</td><td>0</td><td>0</td></tr><tr><td> </td><td>  </td><td>0</td><td>0</td><td>0</td><td>0</td><td>0</td><td>0</td></tr><tr><td>If you want to file a report go ahead, just be prepared for WP:BOOMERANG since (a) you're a difficult editor to deal with (b) you don't have clean hands and (c) you're not liked by several of the editors on the pages I've run into you on who also have had difficulty with you.</td><td>If you want to file a report go ahead , just be prepared for WP : BOOMERANG since ( a ) you 're a difficult editor to deal with ( b ) you do n't have clean hands and ( c ) you 're not liked by several of the editors on the pages I 've run into you on who also have had difficulty with you . <<PAD>> <<PAD>> <<PAD>> <<PAD>> <<PAD>> <<PAD>> <<PAD>> <<PAD>> <<PAD>> <<PAD>> <<PAD>> <<PAD>> <<PAD>></td><td>0</td><td>0</td><td>0</td><td>0</td><td>0</td><td>0</td></tr><tr><td> </td><td>  </td><td>0</td><td>0</td><td>0</td><td>0</td><td>0</td><td>0</td></tr><tr><td>Solomon has added some more fuel to the fire, and good for him.  Great article on April 26th about some more of the shenanigans going on on this topic.  Link is here:\n",
       "\n",
       "http://network.nationalpost.com/np/blogs/fpcomment/archive/2008/04/26/the-real-climate-martians-solomon.aspx</td><td>Solomon has added some more fuel to the fire , and good for him . Great article on April 26th about some more of the shenanigans going on on this topic . Link is here : http : //network.nationalpost.com/np/blogs/fpcomment/archive/2008/04/26/the-real-climate-martians-solomon.aspx <<PAD>> <<PAD>> <<PAD>> <<PAD>> <<PAD>> <<PAD>> <<PAD>> <<PAD>> <<PAD>> <<PAD>> <<PAD>> <<PAD>> <<PAD>> <<PAD>> <<PAD>> <<PAD>> <<PAD>> <<PAD>> <<PAD>> <<PAD>> <<PAD>> <<PAD>> <<PAD>> <<PAD>> <<PAD>> <<PAD>> <<PAD>> <<PAD>> <<PAD>> <<PAD>> <<PAD>> <<PAD>> <<PAD>> <<PAD>> <<PAD>> <<PAD>> <<PAD>> <<PAD>> <<PAD>> <<PAD>> <<PAD>> <<PAD>></td><td>0</td><td>0</td><td>0</td><td>0</td><td>0</td><td>0</td></tr><tr><td> </td><td>  </td><td>0</td><td>0</td><td>0</td><td>0</td><td>0</td><td>0</td></tr><tr><td>The way of dealing with persistent ips that hop is to protect the article from edits from ips so only registered users can do it, and even then they have to wait a little while, see WP:PROTECT. This is one of the plusses of registering a username and getting it autoconfirmed.</td><td>The way of dealing with persistent ips that hop is to protect the article from edits from ips so only registered users can do it , and even then they have to wait a little while , see WP : PROTECT . This is one of the plusses of registering a username and getting it autoconfirmed . <<PAD>> <<PAD>> <<PAD>> <<PAD>> <<PAD>> <<PAD>> <<PAD>> <<PAD>> <<PAD>> <<PAD>> <<PAD>> <<PAD>> <<PAD>> <<PAD>> <<PAD>> <<PAD>> <<PAD>> <<PAD>> <<PAD>> <<PAD>> <<PAD>> <<PAD>> <<PAD>> <<PAD>></td><td>0</td><td>0</td><td>0</td><td>0</td><td>0</td><td>0</td></tr><tr><td> </td><td>  </td><td>0</td><td>0</td><td>0</td><td>0</td><td>0</td><td>0</td></tr><tr><td>\"\n",
       "Again, I understand that my behavior on this site was uncivil, disruptive, and inappropriate. Further, I apologize for having been rude to you in particular in the past. I \"\"get it now\"\"; and I will appreciate any guidance or 'mentorship' from a more senior contributor.   \"</td><td>`` Again , I understand that my behavior on this site was uncivil , disruptive , and inappropriate . Further , I apologize for having been rude to you in particular in the past . I `` '' get it now '' '' ; and I will appreciate any guidance or 'mentorship ' from a more senior contributor. `` <<PAD>> <<PAD>> <<PAD>> <<PAD>> <<PAD>> <<PAD>> <<PAD>> <<PAD>> <<PAD>> <<PAD>> <<PAD>> <<PAD>> <<PAD>> <<PAD>> <<PAD>> <<PAD>> <<PAD>> <<PAD>> <<PAD>> <<PAD>> <<PAD>> <<PAD>></td><td>0</td><td>0</td><td>0</td><td>0</td><td>0</td><td>0</td></tr><tr><td> </td><td>  </td><td>0</td><td>0</td><td>0</td><td>0</td><td>0</td><td>0</td></tr><tr><td>Here is Bank of America's 2009 Annual Report go to page 64 and it shows the calculation of Tier 1 Common capital and total capital.\n",
       "http://media.corporate-ir.net/media_files/irol/71/71595/reports/2009_AR.pdf\n",
       "That number is divided by Risk Adjusted Assets. Which is what I did.</td><td>Here is Bank of America 's 2009 Annual Report go to page 64 and it shows the calculation of Tier 1 Common capital and total capital . http : //media.corporate-ir.net/media_files/irol/71/71595/reports/2009_AR.pdf That number is divided by Risk Adjusted Assets . Which is what I did . <<PAD>> <<PAD>> <<PAD>> <<PAD>> <<PAD>> <<PAD>> <<PAD>> <<PAD>> <<PAD>> <<PAD>> <<PAD>> <<PAD>> <<PAD>> <<PAD>> <<PAD>> <<PAD>> <<PAD>> <<PAD>> <<PAD>> <<PAD>> <<PAD>> <<PAD>> <<PAD>> <<PAD>> <<PAD>> <<PAD>> <<PAD>> <<PAD>> <<PAD>> <<PAD>> <<PAD>> <<PAD>> <<PAD>> <<PAD>> <<PAD>> <<PAD>></td><td>0</td><td>0</td><td>0</td><td>0</td><td>0</td><td>0</td></tr><tr><td> </td><td>  </td><td>0</td><td>0</td><td>0</td><td>0</td><td>0</td><td>0</td></tr><tr><td>User talk:172.189.204.249 \n",
       "\n",
       "Thank you for experimenting with  Wikipedia. Your test worked, and it has been reverted or removed. Please use the sandbox for any other tests you may want to do. Take a look at the welcome page to learn more about contributing to our encyclopedia.</td><td>User talk:172.189.204.249 Thank you for experimenting with Wikipedia . Your test worked , and it has been reverted or removed . Please use the sandbox for any other tests you may want to do . Take a look at the welcome page to learn more about contributing to our encyclopedia . <<PAD>> <<PAD>> <<PAD>> <<PAD>> <<PAD>> <<PAD>> <<PAD>> <<PAD>> <<PAD>> <<PAD>> <<PAD>> <<PAD>> <<PAD>> <<PAD>> <<PAD>> <<PAD>> <<PAD>> <<PAD>> <<PAD>> <<PAD>> <<PAD>> <<PAD>> <<PAD>> <<PAD>> <<PAD>> <<PAD>> <<PAD>> <<PAD>> <<PAD>> <<PAD>></td><td>0</td><td>0</td><td>0</td><td>0</td><td>0</td><td>0</td></tr><tr><td> </td><td>  </td><td>0</td><td>0</td><td>0</td><td>0</td><td>0</td><td>0</td></tr><tr><td>No, it's not, as you surely know. Dealing with history, the Poles refer to the former German cities to modern (or traditional) Polish names. The Russians don't speak of Kaliningrad before 1945. You are too fixated on the Polish-German issue, fearing some 'contagion' as I see.</td><td>No , it 's not , as you surely know . Dealing with history , the Poles refer to the former German cities to modern ( or traditional ) Polish names . The Russians do n't speak of Kaliningrad before 1945 . You are too fixated on the Polish-German issue , fearing some 'contagion ' as I see . <<PAD>> <<PAD>> <<PAD>> <<PAD>> <<PAD>> <<PAD>> <<PAD>> <<PAD>> <<PAD>> <<PAD>> <<PAD>> <<PAD>> <<PAD>> <<PAD>> <<PAD>> <<PAD>> <<PAD>> <<PAD>> <<PAD>> <<PAD>> <<PAD>> <<PAD>></td><td>0</td><td>0</td><td>0</td><td>0</td><td>0</td><td>0</td></tr><tr><td> </td><td>  </td><td>0</td><td>0</td><td>0</td><td>0</td><td>0</td><td>0</td></tr><tr><td>\"\n",
       "\n",
       " October 2007 \n",
       " Please stop. If you continue to vandalize Wikipedia, you will be blocked from editing.    \n",
       "If this is a shared IP address, and you didn't make any unconstructive edits, consider creating an account for yourself so you can avoid further irrelevant warnings.\"</td><td>`` October 2007 Please stop . If you continue to vandalize Wikipedia , you will be blocked from editing . If this is a shared IP address , and you did n't make any unconstructive edits , consider creating an account for yourself so you can avoid further irrelevant warnings . '' <<PAD>> <<PAD>> <<PAD>> <<PAD>> <<PAD>> <<PAD>> <<PAD>> <<PAD>> <<PAD>> <<PAD>> <<PAD>> <<PAD>> <<PAD>> <<PAD>> <<PAD>> <<PAD>> <<PAD>> <<PAD>> <<PAD>> <<PAD>> <<PAD>> <<PAD>> <<PAD>> <<PAD>> <<PAD>> <<PAD>> <<PAD>> <<PAD>> <<PAD>></td><td>0</td><td>0</td><td>0</td><td>0</td><td>0</td><td>0</td></tr><tr><td> </td><td>  </td><td>0</td><td>0</td><td>0</td><td>0</td><td>0</td><td>0</td></tr><tr><td>I see you have signed up! Consider notifying 3 good editors of this to encourage more participation.  Perhaps saying\n",
       "\n",
       "I am participating in this.  Please consider doing the same! http://en.wikipedia.org/wiki/Wikipedia:The_Great_Wikipedia_Dramaout/3rd#Participating_Wikipedians</td><td>I see you have signed up ! Consider notifying 3 good editors of this to encourage more participation . Perhaps saying I am participating in this . Please consider doing the same ! http : //en.wikipedia.org/wiki/Wikipedia : The_Great_Wikipedia_Dramaout/3rd # Participating_Wikipedians <<PAD>> <<PAD>> <<PAD>> <<PAD>> <<PAD>> <<PAD>> <<PAD>> <<PAD>> <<PAD>> <<PAD>> <<PAD>> <<PAD>> <<PAD>> <<PAD>> <<PAD>> <<PAD>> <<PAD>> <<PAD>> <<PAD>> <<PAD>> <<PAD>> <<PAD>> <<PAD>> <<PAD>> <<PAD>> <<PAD>> <<PAD>> <<PAD>> <<PAD>> <<PAD>> <<PAD>> <<PAD>> <<PAD>> <<PAD>> <<PAD>> <<PAD>> <<PAD>> <<PAD>> <<PAD>> <<PAD>> <<PAD>></td><td>0</td><td>0</td><td>0</td><td>0</td><td>0</td><td>0</td></tr><tr><td> </td><td>  </td><td>0</td><td>0</td><td>0</td><td>0</td><td>0</td><td>0</td></tr><tr><td>Protesting Unfair Block\n",
       "I officially protest the unfair block placed by freakofnature and Friday, flunkies of DakotaKhan who stalked me earlier.\n",
       "\n",
       "This is unfair and biased and they are doing so just to harass me, the same as they did reverting my talk page and locking it off.</td><td>Protesting Unfair Block I officially protest the unfair block placed by freakofnature and Friday , flunkies of DakotaKhan who stalked me earlier . This is unfair and biased and they are doing so just to harass me , the same as they did reverting my talk page and locking it off . <<PAD>> <<PAD>> <<PAD>> <<PAD>> <<PAD>> <<PAD>> <<PAD>> <<PAD>> <<PAD>> <<PAD>> <<PAD>> <<PAD>> <<PAD>> <<PAD>> <<PAD>> <<PAD>> <<PAD>> <<PAD>> <<PAD>> <<PAD>> <<PAD>> <<PAD>> <<PAD>> <<PAD>> <<PAD>> <<PAD>> <<PAD>> <<PAD>> <<PAD>></td><td>0</td><td>0</td><td>0</td><td>0</td><td>0</td><td>0</td></tr><tr><td> </td><td>  </td><td>0</td><td>0</td><td>0</td><td>0</td><td>0</td><td>0</td></tr><tr><td>I would like volunteers Adler and Marek to each nominate one draconian action that is not arbitrary; and one arbitrary action that is not draconian. This would help ordinary editors like myself to understand the urgent crises that you are bringing to our attention. Thank you.</td><td>I would like volunteers Adler and Marek to each nominate one draconian action that is not arbitrary ; and one arbitrary action that is not draconian . This would help ordinary editors like myself to understand the urgent crises that you are bringing to our attention . Thank you . <<PAD>> <<PAD>> <<PAD>> <<PAD>> <<PAD>> <<PAD>> <<PAD>> <<PAD>> <<PAD>> <<PAD>> <<PAD>> <<PAD>> <<PAD>> <<PAD>> <<PAD>> <<PAD>> <<PAD>> <<PAD>> <<PAD>> <<PAD>> <<PAD>> <<PAD>> <<PAD>> <<PAD>> <<PAD>> <<PAD>> <<PAD>> <<PAD>> <<PAD>> <<PAD>> <<PAD>></td><td>0</td><td>0</td><td>0</td><td>0</td><td>0</td><td>0</td></tr><tr><td> </td><td>  </td><td>0</td><td>0</td><td>0</td><td>0</td><td>0</td><td>0</td></tr><tr><td>\"\n",
       "\n",
       "That request above was hardly an adequate conclusion. If someone would unprotect the article and add it with BNP to Wikipedia:Proposed mergers a more acceptable outcome should result and who knows, someone might actually see this article and add something to it... ~ .T.G \"</td><td>`` That request above was hardly an adequate conclusion . If someone would unprotect the article and add it with BNP to Wikipedia : Proposed mergers a more acceptable outcome should result and who knows , someone might actually see this article and add something to it ... ~ .T.G `` <<PAD>> <<PAD>> <<PAD>> <<PAD>> <<PAD>> <<PAD>> <<PAD>> <<PAD>> <<PAD>> <<PAD>> <<PAD>> <<PAD>> <<PAD>> <<PAD>> <<PAD>> <<PAD>> <<PAD>> <<PAD>> <<PAD>> <<PAD>> <<PAD>> <<PAD>> <<PAD>> <<PAD>> <<PAD>> <<PAD>> <<PAD>> <<PAD>> <<PAD>> <<PAD>></td><td>0</td><td>0</td><td>0</td><td>0</td><td>0</td><td>0</td></tr><tr><td> </td><td>  </td><td>0</td><td>0</td><td>0</td><td>0</td><td>0</td><td>0</td></tr><tr><td>Please stop. If you continue to vandalize pages, as you did to St. George's School (Vancouver), you will be blocked from editing Wikipedia.   A link to the edit I have reverted can be found here: link. If you believe this edit should not have been reverted, please contact me.</td><td>Please stop . If you continue to vandalize pages , as you did to St. George 's School ( Vancouver ) , you will be blocked from editing Wikipedia . A link to the edit I have reverted can be found here : link . If you believe this edit should not have been reverted , please contact me . <<PAD>> <<PAD>> <<PAD>> <<PAD>> <<PAD>> <<PAD>> <<PAD>> <<PAD>> <<PAD>> <<PAD>> <<PAD>> <<PAD>> <<PAD>> <<PAD>> <<PAD>> <<PAD>> <<PAD>> <<PAD>> <<PAD>> <<PAD>> <<PAD>></td><td>0</td><td>0</td><td>0</td><td>0</td><td>0</td><td>0</td></tr><tr><td> </td><td>  </td><td>0</td><td>0</td><td>0</td><td>0</td><td>0</td><td>0</td></tr><tr><td>I see the argument of both.  Since there is a few schools with the same name. Why not put it as Main Campus Jamaica, New York.  It will show the neighborhood and state since showing Queens, NY or Staten Island NY or even Oakdale NY wouldn't be totally fair to all. 74.66.11.10</td><td>I see the argument of both . Since there is a few schools with the same name . Why not put it as Main Campus Jamaica , New York . It will show the neighborhood and state since showing Queens , NY or Staten Island NY or even Oakdale NY would n't be totally fair to all . 74.66.11.10 <<PAD>> <<PAD>> <<PAD>> <<PAD>> <<PAD>> <<PAD>> <<PAD>> <<PAD>> <<PAD>> <<PAD>> <<PAD>> <<PAD>> <<PAD>> <<PAD>> <<PAD>> <<PAD>> <<PAD>> <<PAD>> <<PAD>> <<PAD>> <<PAD>> <<PAD>></td><td>0</td><td>0</td><td>0</td><td>0</td><td>0</td><td>0</td></tr><tr><td> </td><td>  </td><td>0</td><td>0</td><td>0</td><td>0</td><td>0</td><td>0</td></tr><tr><td>Opposing you for a very good reason!\n",
       "I'm opposing you, first of all!\n",
       "\n",
       "1. You have made countless edits to kid TV show pages.\n",
       "\n",
       "2. Your most likely not even old enough to be on the wikipedia.\n",
       "\n",
       "3. Hell, your not even good enough and all you do is just edit KID TV shows. Grow up.</td><td>Opposing you for a very good reason ! I 'm opposing you , first of all ! 1 . You have made countless edits to kid TV show pages . 2 . Your most likely not even old enough to be on the wikipedia . 3 . Hell , your not even good enough and all you do is just edit KID TV shows . Grow up . <<PAD>> <<PAD>> <<PAD>> <<PAD>> <<PAD>> <<PAD>> <<PAD>> <<PAD>> <<PAD>> <<PAD>> <<PAD>> <<PAD>> <<PAD>></td><td>0</td><td>0</td><td>0</td><td>0</td><td>0</td><td>0</td></tr><tr><td> </td><td>  </td><td>0</td><td>0</td><td>0</td><td>0</td><td>0</td><td>0</td></tr><tr><td>\"\n",
       "\n",
       "Thanks for the clarification.  Would it be more proper then, as I have seen with other articles here, to make it a separate article with some kind of link. For example article \"\"The United States\"\", separate article \"\"The History of the United States\"\"; that kind of thing?\"</td><td>`` Thanks for the clarification . Would it be more proper then , as I have seen with other articles here , to make it a separate article with some kind of link . For example article `` '' The United States '' '' , separate article `` '' The History of the United States '' '' ; that kind of thing ? '' <<PAD>> <<PAD>> <<PAD>> <<PAD>> <<PAD>> <<PAD>> <<PAD>> <<PAD>> <<PAD>> <<PAD>> <<PAD>> <<PAD>> <<PAD>> <<PAD>> <<PAD>> <<PAD>> <<PAD>></td><td>0</td><td>0</td><td>0</td><td>0</td><td>0</td><td>0</td></tr><tr><td> </td><td>  </td><td>0</td><td>0</td><td>0</td><td>0</td><td>0</td><td>0</td></tr><tr><td>\"\n",
       "\n",
       "I suppose the old lawsuit should be there, though it was just a lawyer's letter and a statement of claim that was settled with a clarification and the splitting of costs. The \"\"second\"\" lawsuit mentioned on Kinsella appears to have just been a threatening lawyer's letter. \"</td><td>`` I suppose the old lawsuit should be there , though it was just a lawyer 's letter and a statement of claim that was settled with a clarification and the splitting of costs . The `` '' second '' '' lawsuit mentioned on Kinsella appears to have just been a threatening lawyer 's letter. `` <<PAD>> <<PAD>> <<PAD>> <<PAD>> <<PAD>> <<PAD>> <<PAD>> <<PAD>> <<PAD>> <<PAD>> <<PAD>> <<PAD>> <<PAD>> <<PAD>> <<PAD>> <<PAD>> <<PAD>> <<PAD>> <<PAD>> <<PAD>> <<PAD>> <<PAD>> <<PAD>> <<PAD>> <<PAD>></td><td>0</td><td>0</td><td>0</td><td>0</td><td>0</td><td>0</td></tr><tr><td> </td><td>  </td><td>0</td><td>0</td><td>0</td><td>0</td><td>0</td><td>0</td></tr><tr><td>Spandau Ballet, back together again... \n",
       "I know this is a talk page for improving the article, but I just have to say that I'm as giddy as a little schoolgirl that Spandau Ballet is back together, after 20 years. Come tour America, boys  there's love for you here. 98.220.43.195</td><td>Spandau Ballet , back together again ... I know this is a talk page for improving the article , but I just have to say that I 'm as giddy as a little schoolgirl that Spandau Ballet is back together , after 20 years . Come tour America , boys there 's love for you here . 98.220.43.195 <<PAD>> <<PAD>> <<PAD>> <<PAD>> <<PAD>> <<PAD>> <<PAD>> <<PAD>> <<PAD>> <<PAD>> <<PAD>> <<PAD>> <<PAD>> <<PAD>> <<PAD>> <<PAD>> <<PAD>> <<PAD>> <<PAD>> <<PAD>> <<PAD>> <<PAD>> <<PAD>></td><td>0</td><td>0</td><td>0</td><td>0</td><td>0</td><td>0</td></tr><tr><td> </td><td>  </td><td>0</td><td>0</td><td>0</td><td>0</td><td>0</td><td>0</td></tr><tr><td>\"Thank you for experimenting with Wikipedia. Your test worked, and has been reverted or removed. Please use the sandbox for any other tests you want to do. Take a look at the welcome page if you would like to learn more about contributing to our encyclopedia.  '096'''(block) \"</td><td>`` Thank you for experimenting with Wikipedia . Your test worked , and has been reverted or removed . Please use the sandbox for any other tests you want to do . Take a look at the welcome page if you would like to learn more about contributing to our encyclopedia . '096 '' ' ( block ) `` <<PAD>> <<PAD>> <<PAD>> <<PAD>> <<PAD>> <<PAD>> <<PAD>> <<PAD>> <<PAD>> <<PAD>> <<PAD>> <<PAD>> <<PAD>> <<PAD>> <<PAD>> <<PAD>> <<PAD>> <<PAD>> <<PAD>> <<PAD>> <<PAD>> <<PAD>></td><td>0</td><td>0</td><td>0</td><td>0</td><td>0</td><td>0</td></tr><tr><td> </td><td>  </td><td>0</td><td>0</td><td>0</td><td>0</td><td>0</td><td>0</td></tr><tr><td>Edit Reversion - Crucifixion in Art \n",
       "\n",
       "Excuse me, I did justify my edit.  Sourcing a baseless claim from an encyclopedic fan-work should not be sufficient to justify including it on the page.  Did you even read the talk page, or did you just blindly hit 'revert'? 68.114.130.234</td><td>Edit Reversion - Crucifixion in Art Excuse me , I did justify my edit . Sourcing a baseless claim from an encyclopedic fan-work should not be sufficient to justify including it on the page . Did you even read the talk page , or did you just blindly hit 'revert ' ? 68.114.130.234 <<PAD>> <<PAD>> <<PAD>> <<PAD>> <<PAD>> <<PAD>> <<PAD>> <<PAD>> <<PAD>> <<PAD>> <<PAD>> <<PAD>> <<PAD>> <<PAD>> <<PAD>> <<PAD>> <<PAD>> <<PAD>> <<PAD>> <<PAD>> <<PAD>> <<PAD>> <<PAD>> <<PAD>> <<PAD>> <<PAD>> <<PAD>> <<PAD>></td><td>0</td><td>0</td><td>0</td><td>0</td><td>0</td><td>0</td></tr><tr><td> </td><td>  </td><td>0</td><td>0</td><td>0</td><td>0</td><td>0</td><td>0</td></tr><tr><td>\"\n",
       "Heh heh, I actually like that idea. It didn't quite seem like \"\"Unreason\"\" was appropriate for the body of the article, but a mention in \"\"See Also\"\" seems like the perfect way to include a link to it. Barring any strong disagreement I'd encourage you to add that.  Tropics \"</td><td>`` Heh heh , I actually like that idea . It did n't quite seem like `` '' Unreason '' '' was appropriate for the body of the article , but a mention in `` '' See Also '' '' seems like the perfect way to include a link to it . Barring any strong disagreement I 'd encourage you to add that . Tropics `` <<PAD>> <<PAD>> <<PAD>> <<PAD>> <<PAD>> <<PAD>> <<PAD>> <<PAD>> <<PAD>> <<PAD>> <<PAD>> <<PAD>> <<PAD>> <<PAD>> <<PAD>></td><td>0</td><td>0</td><td>0</td><td>0</td><td>0</td><td>0</td></tr><tr><td> </td><td>  </td><td>0</td><td>0</td><td>0</td><td>0</td><td>0</td><td>0</td></tr><tr><td>\"\n",
       "\n",
       "Eddie Griffin (basketball)\n",
       "Why did you move Eddie Griffin (basketball) to Eddie Griffin (basketball player)? The abided standard for disambiguation for basketball players is \"\"(basketball)\"\", not \"\"(basketball player)\"\" - check to see if you're right and I'm wrong. Thanks \"</td><td>`` Eddie Griffin ( basketball ) Why did you move Eddie Griffin ( basketball ) to Eddie Griffin ( basketball player ) ? The abided standard for disambiguation for basketball players is `` '' ( basketball ) '' '' , not `` '' ( basketball player ) '' '' - check to see if you 're right and I 'm wrong . Thanks `` <<PAD>> <<PAD>> <<PAD>> <<PAD>> <<PAD>> <<PAD>> <<PAD>> <<PAD>> <<PAD>> <<PAD>> <<PAD>> <<PAD>> <<PAD>> <<PAD>> <<PAD>> <<PAD>> <<PAD>></td><td>0</td><td>0</td><td>0</td><td>0</td><td>0</td><td>0</td></tr><tr><td> </td><td>  </td><td>0</td><td>0</td><td>0</td><td>0</td><td>0</td><td>0</td></tr><tr><td>PS:  Dougweller made a 1/2 assed mess of my edits by randomly hacking them.  Someone should fix the mess that HE made - that wasn't my doing.  Try deleting ALL my content for the last 6 hours - otherwise you've got things messed up. Can't even do a delete correctly wiki-sucks.</td><td>PS : Dougweller made a 1/2 assed mess of my edits by randomly hacking them . Someone should fix the mess that HE made - that was n't my doing . Try deleting ALL my content for the last 6 hours - otherwise you 've got things messed up . Ca n't even do a delete correctly wiki-sucks . <<PAD>> <<PAD>> <<PAD>> <<PAD>> <<PAD>> <<PAD>> <<PAD>> <<PAD>> <<PAD>> <<PAD>> <<PAD>> <<PAD>> <<PAD>> <<PAD>> <<PAD>> <<PAD>> <<PAD>> <<PAD>> <<PAD>> <<PAD>> <<PAD>> <<PAD>></td><td>0</td><td>0</td><td>0</td><td>0</td><td>0</td><td>0</td></tr><tr><td> </td><td>  </td><td>0</td><td>0</td><td>0</td><td>0</td><td>0</td><td>0</td></tr><tr><td>Userboxes\n",
       "Good day Mr Jacobite.\n",
       "\n",
       "I was wondering how I go about adding those little boxes to my user page i.e 'this user is interested in the English Civil War' etc. \n",
       "\n",
       "I have experimented a bit with it but the boxes end up bunched up at the top of the page.\n",
       "\n",
       "Thanks in advance,</td><td>Userboxes Good day Mr Jacobite . I was wondering how I go about adding those little boxes to my user page i.e 'this user is interested in the English Civil War ' etc . I have experimented a bit with it but the boxes end up bunched up at the top of the page . Thanks in advance , <<PAD>> <<PAD>> <<PAD>> <<PAD>> <<PAD>> <<PAD>> <<PAD>> <<PAD>> <<PAD>> <<PAD>> <<PAD>> <<PAD>> <<PAD>> <<PAD>> <<PAD>> <<PAD>> <<PAD>> <<PAD>> <<PAD>> <<PAD>> <<PAD>> <<PAD>></td><td>0</td><td>0</td><td>0</td><td>0</td><td>0</td><td>0</td></tr><tr><td> </td><td>  </td><td>0</td><td>0</td><td>0</td><td>0</td><td>0</td><td>0</td></tr><tr><td>I think it would help if you did.  Some enforcement regimes are progressive (the arbitrators decide on this in their final decision in the arbitration) and administrators take the history of past infractions into account in calculating a reasonable block period.   Tony Sidaway</td><td>I think it would help if you did . Some enforcement regimes are progressive ( the arbitrators decide on this in their final decision in the arbitration ) and administrators take the history of past infractions into account in calculating a reasonable block period . Tony Sidaway <<PAD>> <<PAD>> <<PAD>> <<PAD>> <<PAD>> <<PAD>> <<PAD>> <<PAD>> <<PAD>> <<PAD>> <<PAD>> <<PAD>> <<PAD>> <<PAD>> <<PAD>> <<PAD>> <<PAD>> <<PAD>> <<PAD>> <<PAD>> <<PAD>> <<PAD>> <<PAD>> <<PAD>> <<PAD>> <<PAD>> <<PAD>> <<PAD>> <<PAD>> <<PAD>> <<PAD>> <<PAD>> <<PAD>> <<PAD>></td><td>0</td><td>0</td><td>0</td><td>0</td><td>0</td><td>0</td></tr><tr><td> </td><td>  </td><td>0</td><td>0</td><td>0</td><td>0</td><td>0</td><td>0</td></tr><tr><td>WHY ARE YOU SUCH A GAY NIGGER?!?! \n",
       "\n",
       "GOD DAMNDD... YOU ARE SUCH A GAY NIGGER. FUCK FUCK SHTAY AWAY FROM MY KCIK ASS TALK PAGE, BITCH!!\n",
       "\n",
       "I AM ANGRY\n",
       "\n",
       "DO NOT BE A BABY \n",
       "\n",
       "PLZ DO NOT POS T ANYMORE ON MY ATALK OR DICUSER PAGE!!\n",
       "\n",
       "I AM GOING TO CUM TO UR HOUSE AND KILL YOUR FAGGITY ASS</td><td>WHY ARE YOU SUCH A GAY NIGGER ? ! ? ! GOD DAMNDD ... YOU ARE SUCH A GAY NIGGER . FUCK FUCK SHTAY AWAY FROM MY KCIK ASS TALK PAGE , BITCH ! ! I AM ANGRY DO NOT BE A BABY PLZ DO NOT POS T ANYMORE ON MY ATALK OR DICUSER PAGE ! ! I AM GOING TO CUM TO UR HOUSE AND KILL YOUR FAGGITY ASS <<PAD>> <<PAD>> <<PAD>> <<PAD>> <<PAD>> <<PAD>> <<PAD>> <<PAD>> <<PAD>> <<PAD>> <<PAD>></td><td>0</td><td>1</td><td>1</td><td>0</td><td>1</td><td>1</td></tr><tr><td> </td><td>  </td><td>0</td><td>0</td><td>0</td><td>0</td><td>0</td><td>0</td></tr><tr><td>Perhaps we should do Wikipedia:Wikiquette alerts instead, and see how that goes. I don't think any alert for him has been on there in the past. With alert, it takes less time to make, and gets enough input usually. If it fails (or not much response), then RFC is the way to go.</td><td>Perhaps we should do Wikipedia : Wikiquette alerts instead , and see how that goes . I do n't think any alert for him has been on there in the past . With alert , it takes less time to make , and gets enough input usually . If it fails ( or not much response ) , then RFC is the way to go . <<PAD>> <<PAD>> <<PAD>> <<PAD>> <<PAD>> <<PAD>> <<PAD>> <<PAD>> <<PAD>> <<PAD>> <<PAD>> <<PAD>> <<PAD>> <<PAD>> <<PAD>></td><td>0</td><td>0</td><td>0</td><td>0</td><td>0</td><td>0</td></tr><tr><td> </td><td>  </td><td>0</td><td>0</td><td>0</td><td>0</td><td>0</td><td>0</td></tr></table>"
      ],
      "text/plain": [
       "<IPython.core.display.HTML object>"
      ]
     },
     "metadata": {},
     "output_type": "display_data"
    },
    {
     "name": "stderr",
     "output_type": "stream",
     "text": [
      "2018-01-29 22:57:14,881:TRAINER.main:CRITICAL:               train:: memory consumed : 13014331392\n",
      "  4%|▍         | 44/1059 [04:08<1:43:04,  6.09s/it]"
     ]
    },
    {
     "ename": "KeyboardInterrupt",
     "evalue": "",
     "output_type": "error",
     "traceback": [
      "\u001b[0;31m---------------------------------------------------------------------------\u001b[0m",
      "\u001b[0;31mKeyboardInterrupt\u001b[0m                         Traceback (most recent call last)",
      "\u001b[0;32m<ipython-input-23-5e81aeebf681>\u001b[0m in \u001b[0;36m<module>\u001b[0;34m()\u001b[0m\n\u001b[1;32m     20\u001b[0m         \u001b[0mtrainer\u001b[0m\u001b[0;34m.\u001b[0m\u001b[0mtrain\u001b[0m\u001b[0;34m(\u001b[0m\u001b[0;34m)\u001b[0m\u001b[0;34m\u001b[0m\u001b[0m\n\u001b[1;32m     21\u001b[0m \u001b[0;34m\u001b[0m\u001b[0m\n\u001b[0;32m---> 22\u001b[0;31m \u001b[0mexperiment\u001b[0m\u001b[0;34m(\u001b[0m\u001b[0;34m)\u001b[0m\u001b[0;34m\u001b[0m\u001b[0m\n\u001b[0m",
      "\u001b[0;32m<ipython-input-23-5e81aeebf681>\u001b[0m in \u001b[0;36mexperiment\u001b[0;34m(epochs, checkpoint)\u001b[0m\n\u001b[1;32m     18\u001b[0m         \u001b[0moutput\u001b[0m\u001b[0;34m,\u001b[0m \u001b[0mresults\u001b[0m \u001b[0;34m=\u001b[0m \u001b[0mpredictor\u001b[0m\u001b[0;34m.\u001b[0m\u001b[0mpredict\u001b[0m\u001b[0;34m(\u001b[0m\u001b[0mrandom\u001b[0m\u001b[0;34m.\u001b[0m\u001b[0mchoice\u001b[0m\u001b[0;34m(\u001b[0m\u001b[0mrange\u001b[0m\u001b[0;34m(\u001b[0m\u001b[0mtest_feed\u001b[0m\u001b[0;34m.\u001b[0m\u001b[0mnum_batch\u001b[0m\u001b[0;34m)\u001b[0m\u001b[0;34m)\u001b[0m\u001b[0;34m)\u001b[0m\u001b[0;34m\u001b[0m\u001b[0m\n\u001b[1;32m     19\u001b[0m         \u001b[0mdisplay\u001b[0m\u001b[0;34m(\u001b[0m\u001b[0mHTML\u001b[0m\u001b[0;34m(\u001b[0m\u001b[0mresults\u001b[0m\u001b[0;34m.\u001b[0m\u001b[0m_repr_html_\u001b[0m\u001b[0;34m(\u001b[0m\u001b[0;34m)\u001b[0m\u001b[0;34m)\u001b[0m\u001b[0;34m)\u001b[0m\u001b[0;34m\u001b[0m\u001b[0m\n\u001b[0;32m---> 20\u001b[0;31m         \u001b[0mtrainer\u001b[0m\u001b[0;34m.\u001b[0m\u001b[0mtrain\u001b[0m\u001b[0;34m(\u001b[0m\u001b[0;34m)\u001b[0m\u001b[0;34m\u001b[0m\u001b[0m\n\u001b[0m\u001b[1;32m     21\u001b[0m \u001b[0;34m\u001b[0m\u001b[0m\n\u001b[1;32m     22\u001b[0m \u001b[0mexperiment\u001b[0m\u001b[0;34m(\u001b[0m\u001b[0;34m)\u001b[0m\u001b[0;34m\u001b[0m\u001b[0m\n",
      "\u001b[0;32m/home/paarulakan/projects/kaggle/toxic-comments/trainer.py\u001b[0m in \u001b[0;36mtrain\u001b[0;34m(self, test_drive)\u001b[0m\n\u001b[1;32m    118\u001b[0m                 \u001b[0mself\u001b[0m\u001b[0;34m.\u001b[0m\u001b[0mtrain_loss\u001b[0m\u001b[0;34m.\u001b[0m\u001b[0mappend\u001b[0m\u001b[0;34m(\u001b[0m\u001b[0mloss\u001b[0m\u001b[0;34m)\u001b[0m\u001b[0;34m\u001b[0m\u001b[0m\n\u001b[1;32m    119\u001b[0m \u001b[0;34m\u001b[0m\u001b[0m\n\u001b[0;32m--> 120\u001b[0;31m                 \u001b[0mloss\u001b[0m\u001b[0;34m.\u001b[0m\u001b[0mbackward\u001b[0m\u001b[0;34m(\u001b[0m\u001b[0;34m)\u001b[0m\u001b[0;34m\u001b[0m\u001b[0m\n\u001b[0m\u001b[1;32m    121\u001b[0m                 \u001b[0;31m#print( [i.weight for i in self.runner.model.classify] )\u001b[0m\u001b[0;34m\u001b[0m\u001b[0;34m\u001b[0m\u001b[0m\n\u001b[1;32m    122\u001b[0m                 \u001b[0mself\u001b[0m\u001b[0;34m.\u001b[0m\u001b[0moptimizer\u001b[0m\u001b[0;34m.\u001b[0m\u001b[0mstep\u001b[0m\u001b[0;34m(\u001b[0m\u001b[0;34m)\u001b[0m\u001b[0;34m\u001b[0m\u001b[0m\n",
      "\u001b[0;32m/home/paarulakan/environments/python/pytorch-py35/lib/python3.5/site-packages/torch/autograd/variable.py\u001b[0m in \u001b[0;36mbackward\u001b[0;34m(self, gradient, retain_graph, create_graph, retain_variables)\u001b[0m\n\u001b[1;32m    165\u001b[0m                 \u001b[0mVariable\u001b[0m\u001b[0;34m.\u001b[0m\u001b[0;34m\u001b[0m\u001b[0m\n\u001b[1;32m    166\u001b[0m         \"\"\"\n\u001b[0;32m--> 167\u001b[0;31m         \u001b[0mtorch\u001b[0m\u001b[0;34m.\u001b[0m\u001b[0mautograd\u001b[0m\u001b[0;34m.\u001b[0m\u001b[0mbackward\u001b[0m\u001b[0;34m(\u001b[0m\u001b[0mself\u001b[0m\u001b[0;34m,\u001b[0m \u001b[0mgradient\u001b[0m\u001b[0;34m,\u001b[0m \u001b[0mretain_graph\u001b[0m\u001b[0;34m,\u001b[0m \u001b[0mcreate_graph\u001b[0m\u001b[0;34m,\u001b[0m \u001b[0mretain_variables\u001b[0m\u001b[0;34m)\u001b[0m\u001b[0;34m\u001b[0m\u001b[0m\n\u001b[0m\u001b[1;32m    168\u001b[0m \u001b[0;34m\u001b[0m\u001b[0m\n\u001b[1;32m    169\u001b[0m     \u001b[0;32mdef\u001b[0m \u001b[0mregister_hook\u001b[0m\u001b[0;34m(\u001b[0m\u001b[0mself\u001b[0m\u001b[0;34m,\u001b[0m \u001b[0mhook\u001b[0m\u001b[0;34m)\u001b[0m\u001b[0;34m:\u001b[0m\u001b[0;34m\u001b[0m\u001b[0m\n",
      "\u001b[0;32m/home/paarulakan/environments/python/pytorch-py35/lib/python3.5/site-packages/torch/autograd/__init__.py\u001b[0m in \u001b[0;36mbackward\u001b[0;34m(variables, grad_variables, retain_graph, create_graph, retain_variables)\u001b[0m\n\u001b[1;32m     97\u001b[0m \u001b[0;34m\u001b[0m\u001b[0m\n\u001b[1;32m     98\u001b[0m     Variable._execution_engine.run_backward(\n\u001b[0;32m---> 99\u001b[0;31m         variables, grad_variables, retain_graph)\n\u001b[0m\u001b[1;32m    100\u001b[0m \u001b[0;34m\u001b[0m\u001b[0m\n\u001b[1;32m    101\u001b[0m \u001b[0;34m\u001b[0m\u001b[0m\n",
      "\u001b[0;31mKeyboardInterrupt\u001b[0m: "
     ]
    }
   ],
   "source": [
    "import random\n",
    "def  experiment(epochs=10, checkpoint=1):\n",
    "    model =  Model(Config(), len(INPUT_VOCAB), len(OUTPUT_VOCAB))\n",
    "    if Config().cuda:  model = model.cuda()\n",
    "        \n",
    "    split_index = int( len(train_datapoints) * 0.85 )\n",
    "    train_feed = DataFeed(train_datapoints[:split_index], batchop=batchop, batch_size=128)\n",
    "    test_feed = DataFeed(train_datapoints[split_index:], batchop=batchop, batch_size=120)\n",
    "\n",
    "    trainer = Trainer(model=model, loss_function=loss, accuracy_function=accuracy, \n",
    "                    checkpoint=checkpoint, epochs=epochs,\n",
    "                    feeder = Feeder(train_feed, test_feed))\n",
    "\n",
    "    predictor = Predictor(model=model, repr_function=repr_function, feed=test_feed)\n",
    "    output, results = predictor.predict(random.choice(range(test_feed.num_batch)))\n",
    "\n",
    "    for e in range(10000):\n",
    "        output, results = predictor.predict(random.choice(range(test_feed.num_batch)))\n",
    "        display(HTML(results._repr_html_()))\n",
    "        trainer.train()\n",
    "        \n",
    "experiment()"
   ]
  },
  {
   "cell_type": "markdown",
   "metadata": {},
   "source": [
    "## Experiment on model using attention"
   ]
  },
  {
   "cell_type": "code",
   "execution_count": null,
   "metadata": {
    "scrolled": true
   },
   "outputs": [
    {
     "name": "stderr",
     "output_type": "stream",
     "text": [
      "2018-01-29 23:32:56,479:root:INFO   :           getLogger:: creating logger for model under MODEL\n",
      "2018-01-29 23:32:56,480:root:INFO   :           getLogger:: creating logger for size under MODEL.model\n",
      "/home/paarulakan/environments/python/pytorch-py35/lib/python3.5/site-packages/ipykernel_launcher.py:63: UserWarning: Implicit dimension choice for softmax has been deprecated. Change the call to include dim=X as an argument.\n"
     ]
    },
    {
     "name": "stdout",
     "output_type": "stream",
     "text": [
      "torch.Size([193, 6, 2]) 120 120 120\n",
      "torch.Size([29, 6, 2]) 120 120 120\n"
     ]
    },
    {
     "data": {
      "text/html": [
       "<table><tr><td>speedy deletion\n",
       "\n",
       "I began  and now it is up for deletion as advertising- wikipedia is crazy</td><td>speedy deletion I began and now it is up for deletion as advertising- wikipedia is crazy <<PAD>> <<PAD>> <<PAD>> <<PAD>> <<PAD>> <<PAD>> <<PAD>> <<PAD>> <<PAD>> <<PAD>> <<PAD>> <<PAD>> <<PAD>></td><td>0</td><td>0</td><td>0</td><td>0</td><td>0</td><td>0</td></tr><tr><td> </td><td>  </td><td>0</td><td>0</td><td>0</td><td>0</td><td>0</td><td>0</td></tr><tr><td>\"== Mangalore ==\n",
       "\n",
       "Please read Talk:Mangalore#Requested_move_18_October_2014.  talk to me \"</td><td>`` == Mangalore == Please read Talk : Mangalore # Requested_move_18_October_2014 . talk to me `` <<PAD>> <<PAD>> <<PAD>> <<PAD>> <<PAD>> <<PAD>> <<PAD>> <<PAD>> <<PAD>> <<PAD>> <<PAD>> <<PAD>> <<PAD>></td><td>0</td><td>0</td><td>0</td><td>0</td><td>0</td><td>0</td></tr><tr><td> </td><td>  </td><td>0</td><td>0</td><td>0</td><td>0</td><td>0</td><td>0</td></tr><tr><td>Yes you are correct, she is queen by name only.  Were arguing on a issue we both agree on.</td><td>Yes you are correct , she is queen by name only . Were arguing on a issue we both agree on . <<PAD>> <<PAD>> <<PAD>> <<PAD>> <<PAD>> <<PAD>> <<PAD>></td><td>0</td><td>0</td><td>0</td><td>0</td><td>0</td><td>0</td></tr><tr><td> </td><td>  </td><td>0</td><td>0</td><td>0</td><td>0</td><td>0</td><td>0</td></tr><tr><td>there is no reason to inform the reader of such information: it is not critical info. Your</td><td>there is no reason to inform the reader of such information : it is not critical info . Your <<PAD>> <<PAD>> <<PAD>> <<PAD>> <<PAD>> <<PAD>> <<PAD>> <<PAD>> <<PAD>> <<PAD>></td><td>0</td><td>0</td><td>0</td><td>0</td><td>0</td><td>0</td></tr><tr><td> </td><td>  </td><td>0</td><td>0</td><td>0</td><td>0</td><td>0</td><td>0</td></tr><tr><td>September 2005 (UTC)\n",
       "\n",
       "Yeah, the logo was a nice addition. Keep up the good work.  03:01, 3</td><td>September 2005 ( UTC ) Yeah , the logo was a nice addition . Keep up the good work . 03:01 , 3 <<PAD>> <<PAD>> <<PAD>> <<PAD>> <<PAD>> <<PAD>></td><td>0</td><td>0</td><td>0</td><td>0</td><td>0</td><td>0</td></tr><tr><td> </td><td>  </td><td>0</td><td>0</td><td>0</td><td>0</td><td>0</td><td>0</td></tr><tr><td>I'm sorry \n",
       "\n",
       "I'm sorry you're black I know it's hard to afford the unniggerfication surgery</td><td>I 'm sorry I 'm sorry you 're black I know it 's hard to afford the unniggerfication surgery <<PAD>> <<PAD>> <<PAD>> <<PAD>> <<PAD>> <<PAD>> <<PAD>> <<PAD>> <<PAD>> <<PAD>></td><td>0</td><td>0</td><td>0</td><td>0</td><td>1</td><td>1</td></tr><tr><td> </td><td>  </td><td>0</td><td>0</td><td>0</td><td>0</td><td>0</td><td>0</td></tr><tr><td>Answers: His name is Xigbar as the Ultimania ALPHA states and his original name was Braig.</td><td>Answers : His name is Xigbar as the Ultimania ALPHA states and his original name was Braig . <<PAD>> <<PAD>> <<PAD>> <<PAD>> <<PAD>> <<PAD>> <<PAD>> <<PAD>> <<PAD>> <<PAD>> <<PAD>></td><td>0</td><td>0</td><td>0</td><td>0</td><td>0</td><td>0</td></tr><tr><td> </td><td>  </td><td>0</td><td>0</td><td>0</td><td>0</td><td>0</td><td>0</td></tr><tr><td>man i was so sad that it ended at volume 23, but i picked up go which is a super cool game</td><td>man i was so sad that it ended at volume 23 , but i picked up go which is a super cool game <<PAD>> <<PAD>> <<PAD>> <<PAD>> <<PAD>> <<PAD>></td><td>0</td><td>0</td><td>0</td><td>0</td><td>0</td><td>0</td></tr><tr><td> </td><td>  </td><td>0</td><td>0</td><td>0</td><td>0</td><td>0</td><td>0</td></tr><tr><td>\"\n",
       "If it was a deliberate policy than \"\"would not\"\" or \"\"refused to\"\" would be correct.   \"</td><td>`` If it was a deliberate policy than `` '' would not '' '' or `` '' refused to '' '' would be correct. `` <<PAD>> <<PAD>> <<PAD>> <<PAD>></td><td>0</td><td>0</td><td>0</td><td>0</td><td>0</td><td>0</td></tr><tr><td> </td><td>  </td><td>0</td><td>0</td><td>0</td><td>0</td><td>0</td><td>0</td></tr><tr><td>I'd be fine with that. My schedule should permit me to deal with an RFA right now as well.</td><td>I 'd be fine with that . My schedule should permit me to deal with an RFA right now as well . <<PAD>> <<PAD>> <<PAD>> <<PAD>> <<PAD>> <<PAD>> <<PAD>></td><td>0</td><td>0</td><td>0</td><td>0</td><td>0</td><td>0</td></tr><tr><td> </td><td>  </td><td>0</td><td>0</td><td>0</td><td>0</td><td>0</td><td>0</td></tr><tr><td>named after \n",
       "\n",
       "wasn't marco named after some gay porn star?\n",
       "i remember it had been up here.</td><td>named after was n't marco named after some gay porn star ? i remember it had been up here . <<PAD>> <<PAD>> <<PAD>> <<PAD>> <<PAD>> <<PAD>> <<PAD>> <<PAD>> <<PAD>></td><td>0</td><td>0</td><td>0</td><td>0</td><td>0</td><td>0</td></tr><tr><td> </td><td>  </td><td>0</td><td>0</td><td>0</td><td>0</td><td>0</td><td>0</td></tr><tr><td>The bug is more severe, the open tail g is displayed as a character looking like a Y. ''''</td><td>The bug is more severe , the open tail g is displayed as a character looking like a Y. ' '' ' <<PAD>> <<PAD>> <<PAD>> <<PAD>> <<PAD>> <<PAD>> <<PAD>></td><td>0</td><td>0</td><td>0</td><td>0</td><td>0</td><td>0</td></tr><tr><td> </td><td>  </td><td>0</td><td>0</td><td>0</td><td>0</td><td>0</td><td>0</td></tr><tr><td>\" edit area. Do not include the \"\"tlx|\"\" code. >{{tlx|unblock|2=reason=''Your reason here\"</td><td>`` edit area . Do not include the `` '' tlx| '' '' code . > { { tlx|unblock|2=reason= '' Your reason here '' <<PAD>> <<PAD>> <<PAD>> <<PAD>> <<PAD>></td><td>0</td><td>0</td><td>0</td><td>0</td><td>0</td><td>0</td></tr><tr><td> </td><td>  </td><td>0</td><td>0</td><td>0</td><td>0</td><td>0</td><td>0</td></tr><tr><td>Exactly my thoughts, it doesn't belong in the article. If I see it again I'll remove it...</td><td>Exactly my thoughts , it does n't belong in the article . If I see it again I 'll remove it ... <<PAD>> <<PAD>> <<PAD>> <<PAD>> <<PAD>> <<PAD>> <<PAD>></td><td>0</td><td>0</td><td>0</td><td>0</td><td>0</td><td>0</td></tr><tr><td> </td><td>  </td><td>0</td><td>0</td><td>0</td><td>0</td><td>0</td><td>0</td></tr><tr><td>Account deletion \n",
       "\n",
       "Can accounts on Wikipedia be deleted, and if so, under which conditions?</td><td>Account deletion Can accounts on Wikipedia be deleted , and if so , under which conditions ? <<PAD>> <<PAD>> <<PAD>> <<PAD>> <<PAD>> <<PAD>> <<PAD>> <<PAD>> <<PAD>> <<PAD>> <<PAD>> <<PAD>></td><td>0</td><td>0</td><td>0</td><td>0</td><td>0</td><td>0</td></tr><tr><td> </td><td>  </td><td>0</td><td>0</td><td>0</td><td>0</td><td>0</td><td>0</td></tr><tr><td>, plz see the official trailer of the contest maked by the organizators of Turkvizyon. talk</td><td>, plz see the official trailer of the contest maked by the organizators of Turkvizyon . talk <<PAD>> <<PAD>> <<PAD>> <<PAD>> <<PAD>> <<PAD>> <<PAD>> <<PAD>> <<PAD>> <<PAD>> <<PAD>> <<PAD>></td><td>0</td><td>0</td><td>0</td><td>0</td><td>0</td><td>0</td></tr><tr><td> </td><td>  </td><td>0</td><td>0</td><td>0</td><td>0</td><td>0</td><td>0</td></tr><tr><td>controversy \n",
       "\n",
       "i've responded to your comments at Controversy_over_race_of_Ancient_Egyptians</td><td>controversy i 've responded to your comments at Controversy_over_race_of_Ancient_Egyptians <<PAD>> <<PAD>> <<PAD>> <<PAD>> <<PAD>> <<PAD>> <<PAD>> <<PAD>> <<PAD>> <<PAD>> <<PAD>> <<PAD>> <<PAD>> <<PAD>> <<PAD>> <<PAD>> <<PAD>> <<PAD>> <<PAD>> <<PAD>></td><td>0</td><td>0</td><td>0</td><td>0</td><td>0</td><td>0</td></tr><tr><td> </td><td>  </td><td>0</td><td>0</td><td>0</td><td>0</td><td>0</td><td>0</td></tr><tr><td>Aren't you that person in the Youtube vid?? \n",
       "\n",
       "O_O Your the administrator to this site??????</td><td>Are n't you that person in the Youtube vid ? ? O_O Your the administrator to this site ? ? ? ? ? ? <<PAD>> <<PAD>> <<PAD>> <<PAD>> <<PAD>></td><td>0</td><td>0</td><td>0</td><td>0</td><td>0</td><td>0</td></tr><tr><td> </td><td>  </td><td>0</td><td>0</td><td>0</td><td>0</td><td>0</td><td>0</td></tr><tr><td>Note I just had a quick search on Commons, Flickr and Google images and could not find any.</td><td>Note I just had a quick search on Commons , Flickr and Google images and could not find any . <<PAD>> <<PAD>> <<PAD>> <<PAD>> <<PAD>> <<PAD>> <<PAD>> <<PAD>> <<PAD>></td><td>0</td><td>0</td><td>0</td><td>0</td><td>0</td><td>0</td></tr><tr><td> </td><td>  </td><td>0</td><td>0</td><td>0</td><td>0</td><td>0</td><td>0</td></tr><tr><td>I am working ona  white and blue template by the way here but its not for the sega project.</td><td>I am working ona white and blue template by the way here but its not for the sega project . <<PAD>> <<PAD>> <<PAD>> <<PAD>> <<PAD>> <<PAD>> <<PAD>> <<PAD>> <<PAD>></td><td>0</td><td>0</td><td>0</td><td>0</td><td>0</td><td>0</td></tr><tr><td> </td><td>  </td><td>0</td><td>0</td><td>0</td><td>0</td><td>0</td><td>0</td></tr><tr><td>us before any more of the sort of edits youve been making on CAD-related articles this week</td><td>us before any more of the sort of edits youve been making on CAD-related articles this week <<PAD>> <<PAD>> <<PAD>> <<PAD>> <<PAD>> <<PAD>> <<PAD>> <<PAD>> <<PAD>> <<PAD>> <<PAD>> <<PAD>></td><td>0</td><td>0</td><td>0</td><td>0</td><td>0</td><td>0</td></tr><tr><td> </td><td>  </td><td>0</td><td>0</td><td>0</td><td>0</td><td>0</td><td>0</td></tr><tr><td>OK, let me know if you have any questions, although you appear to have things well in hand.</td><td>OK , let me know if you have any questions , although you appear to have things well in hand . <<PAD>> <<PAD>> <<PAD>> <<PAD>> <<PAD>> <<PAD>> <<PAD>> <<PAD>></td><td>0</td><td>0</td><td>0</td><td>0</td><td>0</td><td>0</td></tr><tr><td> </td><td>  </td><td>0</td><td>0</td><td>0</td><td>0</td><td>0</td><td>0</td></tr><tr><td>sources \n",
       "\n",
       "Why does an article without a single reference or citation even allowed to exist?</td><td>sources Why does an article without a single reference or citation even allowed to exist ? <<PAD>> <<PAD>> <<PAD>> <<PAD>> <<PAD>> <<PAD>> <<PAD>> <<PAD>> <<PAD>> <<PAD>> <<PAD>> <<PAD>> <<PAD>></td><td>0</td><td>0</td><td>0</td><td>0</td><td>0</td><td>0</td></tr><tr><td> </td><td>  </td><td>0</td><td>0</td><td>0</td><td>0</td><td>0</td><td>0</td></tr><tr><td>\"\n",
       "\n",
       "I forgot you move yoursyou could just copy+paste them after you move, though?  $PINGrg \"</td><td>`` I forgot you move yoursyou could just copy+paste them after you move , though ? $ PINGrg `` <<PAD>> <<PAD>> <<PAD>> <<PAD>> <<PAD>> <<PAD>> <<PAD>> <<PAD>> <<PAD>> <<PAD>></td><td>0</td><td>0</td><td>0</td><td>0</td><td>0</td><td>0</td></tr><tr><td> </td><td>  </td><td>0</td><td>0</td><td>0</td><td>0</td><td>0</td><td>0</td></tr><tr><td>\"\n",
       "Hmm, VTC, that's a new one! ;) Mackerras got on ITN, btw.  | Penny for your thoughts?   \"</td><td>`` Hmm , VTC , that 's a new one ! ; ) Mackerras got on ITN , btw . | Penny for your thoughts ? `` <<PAD>> <<PAD>></td><td>0</td><td>0</td><td>0</td><td>0</td><td>0</td><td>0</td></tr><tr><td> </td><td>  </td><td>0</td><td>0</td><td>0</td><td>0</td><td>0</td><td>0</td></tr><tr><td>The second quote is nearly incomprehensible.  Perhaps the translation needs to be improved.</td><td>The second quote is nearly incomprehensible . Perhaps the translation needs to be improved . <<PAD>> <<PAD>> <<PAD>> <<PAD>> <<PAD>> <<PAD>> <<PAD>> <<PAD>> <<PAD>> <<PAD>> <<PAD>> <<PAD>> <<PAD>> <<PAD>></td><td>0</td><td>0</td><td>0</td><td>0</td><td>0</td><td>0</td></tr><tr><td> </td><td>  </td><td>0</td><td>0</td><td>0</td><td>0</td><td>0</td><td>0</td></tr><tr><td>\" October 2011 (UTC)\n",
       "(Added quotes around the \"\"OR\"\" option to make it clearer)  18:49, 28\"</td><td>`` October 2011 ( UTC ) ( Added quotes around the `` '' OR '' '' option to make it clearer ) 18:49 , 28 '' <<PAD>> <<PAD>> <<PAD>></td><td>0</td><td>0</td><td>0</td><td>0</td><td>0</td><td>0</td></tr><tr><td> </td><td>  </td><td>0</td><td>0</td><td>0</td><td>0</td><td>0</td><td>0</td></tr><tr><td>you should just die in a hole while the ideiot User:Cloverbeatme!! gets his guts pulled out</td><td>you should just die in a hole while the ideiot User : Cloverbeatme ! ! gets his guts pulled out <<PAD>> <<PAD>> <<PAD>> <<PAD>> <<PAD>> <<PAD>> <<PAD>> <<PAD>> <<PAD>></td><td>1</td><td>0</td><td>0</td><td>1</td><td>1</td><td>0</td></tr><tr><td> </td><td>  </td><td>0</td><td>0</td><td>0</td><td>0</td><td>0</td><td>0</td></tr><tr><td>People like you are the reason why life is unfair.  I'm done editing any article.  You win.</td><td>People like you are the reason why life is unfair . I 'm done editing any article . You win . <<PAD>> <<PAD>> <<PAD>> <<PAD>> <<PAD>> <<PAD>> <<PAD>> <<PAD>></td><td>0</td><td>0</td><td>0</td><td>0</td><td>0</td><td>0</td></tr><tr><td> </td><td>  </td><td>0</td><td>0</td><td>0</td><td>0</td><td>0</td><td>0</td></tr></table>"
      ],
      "text/plain": [
       "<IPython.core.display.HTML object>"
      ]
     },
     "metadata": {},
     "output_type": "display_data"
    },
    {
     "name": "stderr",
     "output_type": "stream",
     "text": [
      "2018-01-29 23:32:57,839:TRAINER.main:CRITICAL:               train:: memory consumed : 16855322624\n",
      "\n",
      "  0%|          | 0/1059 [00:00<?, ?it/s]\u001b[A\n",
      "  0%|          | 1/1059 [00:00<12:19,  1.43it/s]\u001b[A\n",
      "  0%|          | 2/1059 [00:01<12:35,  1.40it/s]\u001b[A\n",
      "  0%|          | 3/1059 [00:02<12:53,  1.37it/s]\u001b[A\n",
      "  0%|          | 4/1059 [00:03<13:09,  1.34it/s]\u001b[A\n",
      "  0%|          | 5/1059 [00:03<12:55,  1.36it/s]\u001b[A\n",
      "  1%|          | 6/1059 [00:04<13:11,  1.33it/s]\u001b[A\n",
      "  1%|          | 7/1059 [00:05<12:56,  1.35it/s]\u001b[A\n",
      "  1%|          | 8/1059 [00:05<13:08,  1.33it/s]\u001b[A\n",
      "  1%|          | 9/1059 [00:06<13:06,  1.34it/s]\u001b[A\n",
      "  1%|          | 10/1059 [00:07<13:30,  1.29it/s]\u001b[A\n",
      "  1%|          | 11/1059 [00:08<13:16,  1.32it/s]\u001b[A\n",
      "  1%|          | 12/1059 [00:09<13:14,  1.32it/s]\u001b[A\n",
      "  5%|▍         | 50/1059 [00:40<15:55,  1.06it/s]"
     ]
    }
   ],
   "source": [
    "import random\n",
    "def  experiment(epochs=1, checkpoint=1):\n",
    "    model =  AttModel(Config(), len(INPUT_VOCAB), len(OUTPUT_VOCAB))\n",
    "    if Config().cuda:  model = model.cuda()\n",
    "        \n",
    "    split_index = int( len(train_datapoints) * 0.85 )\n",
    "    train_feed = DataFeed(train_datapoints[:split_index], batchop=batchop, batch_size=128)\n",
    "    test_feed = DataFeed(train_datapoints[split_index:], batchop=batchop, batch_size=120)\n",
    "\n",
    "    trainer = Trainer(model=model, loss_function=loss, accuracy_function=accuracy, \n",
    "                    checkpoint=checkpoint, epochs=epochs,\n",
    "                    feeder = Feeder(train_feed, test_feed))\n",
    "\n",
    "    predictor = Predictor(model=model, repr_function=repr_function, feed=test_feed)\n",
    "    output, results = predictor.predict(random.choice(range(test_feed.num_batch)))\n",
    "\n",
    "    for e in range(10000):\n",
    "        output, results = predictor.predict(random.choice(range(test_feed.num_batch)))\n",
    "        display(HTML(results._repr_html_()))\n",
    "        trainer.train()\n",
    "        \n",
    "experiment()"
   ]
  },
  {
   "cell_type": "code",
   "execution_count": null,
   "metadata": {
    "collapsed": true
   },
   "outputs": [],
   "source": []
  },
  {
   "cell_type": "code",
   "execution_count": null,
   "metadata": {
    "collapsed": true
   },
   "outputs": [],
   "source": [
    "dummy_feed = DataFeed(train_datapoints[:100], batchop=batchop, batch_size=1)\n",
    "indices, (seq,), (target,) = dummy_feed.nth_batch(random.choice(range(dummy_feed.num_batch)))\n",
    "print(dummy_feed.data_dict[indices[0]])\n",
    "print([INPUT_VOCAB[i] for i in seq[0]])"
   ]
  }
 ],
 "metadata": {
  "kernelspec": {
   "display_name": "pytorch-py35",
   "language": "python",
   "name": "pytorch-py35"
  }
 },
 "nbformat": 4,
 "nbformat_minor": 2
}
