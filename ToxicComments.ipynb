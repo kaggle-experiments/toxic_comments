{
 "cells": [
  {
   "cell_type": "code",
   "execution_count": 1,
   "metadata": {
    "collapsed": true
   },
   "outputs": [],
   "source": [
    "%load_ext autoreload"
   ]
  },
  {
   "cell_type": "code",
   "execution_count": 2,
   "metadata": {},
   "outputs": [
    {
     "name": "stderr",
     "output_type": "stream",
     "text": [
      "2018-01-29 10:57:27,962:root:INFO   :           getLogger:: creating logger for main under MODEL\n"
     ]
    }
   ],
   "source": [
    "from config import Config\n",
    "from pprint import pprint, pformat\n",
    "from logger import model_logger\n",
    "log = model_logger.getLogger('main')\n",
    "log.setLevel(Config.Log.MODEL.level)"
   ]
  },
  {
   "cell_type": "code",
   "execution_count": 3,
   "metadata": {},
   "outputs": [
    {
     "name": "stderr",
     "output_type": "stream",
     "text": [
      "2018-01-29 10:57:28,037:root:INFO   :           getLogger:: creating logger for main under TRAINER\n",
      "2018-01-29 10:57:28,271:root:INFO   :           getLogger:: creating logger for main under DATAFEED\n"
     ]
    }
   ],
   "source": [
    "%autoreload 2\n",
    "from trainer import Trainer, Feeder, Predictor\n",
    "from datafeed import DataFeed\n",
    "from torch import nn, optim\n",
    "from torch.nn import functional as F\n",
    "from torch.autograd import Variable\n",
    "import torch"
   ]
  },
  {
   "cell_type": "code",
   "execution_count": 4,
   "metadata": {
    "collapsed": true
   },
   "outputs": [],
   "source": [
    "import csv\n",
    "train_dataset = csv.reader(open('dataset/train.csv'))\n",
    "test_dataset = csv.reader(open('dataset/test.csv'))"
   ]
  },
  {
   "cell_type": "code",
   "execution_count": 5,
   "metadata": {
    "collapsed": true
   },
   "outputs": [],
   "source": [
    "from collections import namedtuple\n",
    "Sample = namedtuple('Sample', ['id','comment_text',\n",
    "                               'toxic','severe_toxic','obscene',\n",
    "                               'threat','insult','identity_hate'])"
   ]
  },
  {
   "cell_type": "code",
   "execution_count": 6,
   "metadata": {},
   "outputs": [
    {
     "data": {
      "text/plain": [
       "(159571, 153164)"
      ]
     },
     "execution_count": 6,
     "metadata": {},
     "output_type": "execute_result"
    }
   ],
   "source": [
    "import unicodedata\n",
    "train_datapoints = []\n",
    "for i in list(train_dataset)[1:]:\n",
    "    _id, c, t, st, o, t, ins, ih = i\n",
    "    t, st, o, t, ins, ih = (int(_) for _ in [t, st, o, t, ins, ih])\n",
    "    c = unicodedata.normalize('NFD', c).encode('ascii','ignore').decode()\n",
    "    train_datapoints.append(Sample(_id, c, t, st, o, t, ins, ih))\n",
    "\n",
    "test_datapoints = []\n",
    "for i in list(test_dataset)[1:]:\n",
    "    _id, c = i\n",
    "    c = unicodedata.normalize('NFD', c).encode('ascii','ignore').decode()\n",
    "    test_datapoints.append(Sample(_id, c, 0, 0, 0, 0, 0, 0))\n",
    "\n",
    "len(train_datapoints), len(test_datapoints)"
   ]
  },
  {
   "cell_type": "code",
   "execution_count": 7,
   "metadata": {
    "collapsed": true
   },
   "outputs": [],
   "source": [
    "#train_datapoints = train_datapoints[:1000]"
   ]
  },
  {
   "cell_type": "code",
   "execution_count": null,
   "metadata": {},
   "outputs": [
    {
     "data": {
      "text/plain": [
       "[Sample(id='01ac9982edae9977', comment_text='\" \\n\\n Dear ,Welcome to Wikipedia!Unfortunately, using your e-mail address as your username is not a good idea. Wikipedia content is extensively copied and the site itself is one of the most visited sites in the world. Any edit you make on Wikipedia will have your username attached to it, and using your email address will make you a tempting target for spammers. We recommend that you change your username at Wikipedia:Changing username in order to prevent abuse.If you need any help, simply contact me on my talk page, or go to Wikipedia:Help desk. Another option is to place  on your own talk page, and someone will come shortly to help. Remember to sign your posts on talk pages with four tildes (~~~~). Again, welcome! -  at \"', toxic=0, severe_toxic=0, obscene=0, threat=0, insult=0, identity_hate=0),\n",
       " Sample(id='01ac9ea1271d7409', comment_text='Asshole, your dirty MF people tries to steal our glory and heavy persian (tajik) history by claiming us Awghans (mother/donkeyfuckers)', toxic=0, severe_toxic=0, obscene=0, threat=0, insult=0, identity_hate=0),\n",
       " Sample(id='01ad4ccccec8c8ad', comment_text='projective special orthogonal group needs to be written', toxic=0, severe_toxic=0, obscene=0, threat=0, insult=0, identity_hate=0),\n",
       " Sample(id='01adb423b7547078', comment_text='\":::: @RQG: A point you\\'re still missing is that there is more than one actual mathematical definition.  Different characterizations of a concept can be equivalent to each other, and which one is taken to be \"\"the\"\" definition may be a matter of convenience varying with the context.  As I pointed out above, one of the characterizations (as \"\"(A,V)\"\") superficially makes it appear that an affine space has more structure than a vector space (since the vector space is only \"\"V\"\" rather than \"\"(A,V)\"\").  But I explained why that is a superficial appearance, and that particular way of defining the concept of affine space is not the only way and is not sacred.    \\n \"', toxic=0, severe_toxic=0, obscene=0, threat=0, insult=0, identity_hate=0),\n",
       " Sample(id='01adfd302b3c8467', comment_text='August 2013 (UTC) \\n ::*Done.   17:20, 18', toxic=0, severe_toxic=0, obscene=0, threat=0, insult=0, identity_hate=0),\n",
       " Sample(id='01ae25c502702f12', comment_text='== Yet Another Frivolous Lawsuit == \\n\\n So what if the commercials had some false advertising in it. Eating yogurt as part of a balanced diet is still good for you. And that good bacteria that is in the yogurt has been there since the creation of yogurt.  The person suing was probably some fat idiot who ate like six serving of yogurt in one sitting everyday.  Just wait until we get some serious tort reform in America. It will put an end to this nonsense!', toxic=0, severe_toxic=0, obscene=0, threat=0, insult=0, identity_hate=0),\n",
       " Sample(id='01ae71463be0b983', comment_text=\"==Nottingham Panthers GA== \\n Thanks for your help on the Nottingham Panthers article GA review. I've now done all that was requested that you believed neccessary when the article was put on hold.\", toxic=0, severe_toxic=0, obscene=0, threat=0, insult=0, identity_hate=0),\n",
       " Sample(id='01ae75b51c6f104d', comment_text='\"Welcome! \\n\\n Hello, and welcome to Wikipedia. Thank you for your contributions. I hope you like the place and decide to stay. Here are a few good links for newcomers: \\n *The five pillars of Wikipedia \\n *How to edit a page \\n *Help pages \\n *Tutorial \\n *How to write a great article \\n *Manual of Style \\n I hope you enjoy editing here and being a Wikipedian! By the way, please be sure to sign your name on talk pages using four tildes (~~~~) to produce your name and the current date, or three tildes (~~~) for just your name. If you have any questions, you can post to the help desk or ask me on my talk page. Again, welcome!    \\n\\n Welcome to Wikipedia, the free encyclopedia! You don\\'t have to log in to read or edit articles on Wikipedia, but creating an account is quick, free and non-intrusive, requires no personal information, and gives you many benefits, including: \\n *The use of a username of your choice \\n *The ability to view all your contributions via a \"\"My contributions\"\" link  \\n *Your own user page  \\n *Your own talk page which, if you choose, also allows users to send you messages without knowing your e-mail address \\n *The use of your own personal watchlist to which you can add articles that interest you \\n *The ability to rename pages \\n *The ability to upload images  \\n *The ability to customize the appearance and behavior of the website \\n *The eligibility to become an administrator  \\n *The right to be heard in votes and elections \\n *Your IP address will no longer be visible to other users. \\n\\n We hope that you choose to become a Wikipedian and create an account.  We hope you enjoy your time here on Wikipedia as a Wikipedian! \\n\\n ==Australian Smelt== \\n\\n I did a little cleanup on the Australian Smelt article you wrote. Please write in complete sentances on wikipedia. please use proper stub tags on short articles  you can find the full list at Wikipedia:WikiProject Stub sorting/Stub types. Please try to come closer to our standard formatting. Thank you very much for contributing.   \"', toxic=0, severe_toxic=0, obscene=0, threat=0, insult=0, identity_hate=0),\n",
       " Sample(id='01aeddeab0ac923d', comment_text=\"Why would we dismiss all our usual, established reliable sources and scrabble around for others? As I and others have said, we don't need two ways to say the same thing, especially if one is in a foreign language.\", toxic=0, severe_toxic=0, obscene=0, threat=0, insult=0, identity_hate=0),\n",
       " Sample(id='01aeded1d76ab01c', comment_text='\" \\n\\n == Articles for Creation == \\n If you need an article created, you can list it in Wikipedia:Articles for creation, but please don\\'t create a new article like \"\"Paleolithic Revolution\"\" unless you\\'re actually adding content to it. Welcome, by the way!  \"', toxic=0, severe_toxic=0, obscene=0, threat=0, insult=0, identity_hate=0)]"
      ]
     },
     "execution_count": 8,
     "metadata": {},
     "output_type": "execute_result"
    }
   ],
   "source": [
    "test_datapoints[1000:1010]"
   ]
  },
  {
   "cell_type": "code",
   "execution_count": null,
   "metadata": {
    "scrolled": true
   },
   "outputs": [
    {
     "name": "stderr",
     "output_type": "stream",
     "text": [
      "  3%|▎         | 4405/159571 [00:02<01:24, 1844.43it/s]"
     ]
    }
   ],
   "source": [
    "%timeit\n",
    "from nltk import word_tokenize\n",
    "from tqdm import tqdm\n",
    "datapoints = train_datapoints\n",
    "INPUT_VOCAB = [word for dp in tqdm(datapoints) for word in word_tokenize(dp.comment_text)]\n",
    "INPUT_VOCAB = ['<<PAD>>', '<<UNK>>'] + list(set(INPUT_VOCAB))\n",
    "len(INPUT_VOCAB)"
   ]
  },
  {
   "cell_type": "code",
   "execution_count": null,
   "metadata": {
    "scrolled": false
   },
   "outputs": [],
   "source": [
    "INPUT_VOCAB[:10]"
   ]
  },
  {
   "cell_type": "code",
   "execution_count": null,
   "metadata": {
    "collapsed": true
   },
   "outputs": [],
   "source": []
  },
  {
   "cell_type": "code",
   "execution_count": null,
   "metadata": {
    "collapsed": true
   },
   "outputs": [],
   "source": [
    "OUTPUT_VOCAB = ['toxic','severe_toxic','obscene', 'threat','insult','identity_hate']"
   ]
  },
  {
   "cell_type": "code",
   "execution_count": null,
   "metadata": {
    "collapsed": true
   },
   "outputs": [],
   "source": [
    "WORD_INDEX = {w: i for i, w in enumerate(INPUT_VOCAB)}"
   ]
  },
  {
   "cell_type": "code",
   "execution_count": null,
   "metadata": {},
   "outputs": [],
   "source": [
    "sorted(list(WORD_INDEX.items()), key=lambda x: x[1])[:10], WORD_INDEX['<<PAD>>'], INPUT_VOCAB[0]"
   ]
  },
  {
   "cell_type": "code",
   "execution_count": null,
   "metadata": {},
   "outputs": [],
   "source": [
    "import random\n",
    "_i = train_datapoints[random.choice(range(len(train_datapoints)))]\n",
    "print(_i.comment_text)\n",
    "print(\"\"\"\n",
    "\n",
    "\n",
    "\"\"\")\n",
    "print(\n",
    "      ' '.join( [INPUT_VOCAB[i] for i in \n",
    "                 [WORD_INDEX[j] for j in word_tokenize(_i.comment_text)]]\n",
    "              )\n",
    "     )"
   ]
  },
  {
   "cell_type": "code",
   "execution_count": null,
   "metadata": {
    "collapsed": true
   },
   "outputs": [],
   "source": [
    "class Model(nn.Module):\n",
    "    def __init__(self, Config, input_vocab_size, output_vocab_size):\n",
    "        super(Model, self).__init__()\n",
    "        self.input_vocab_size = input_vocab_size\n",
    "        self.output_vocab_size = output_vocab_size\n",
    "        self.hidden_dim = Config.hidden_dim\n",
    "\n",
    "        self.embed = nn.Embedding(self.input_vocab_size, self.hidden_dim)\n",
    "        self.encode = nn.GRUCell(self.hidden_dim, self.hidden_dim)\n",
    "\n",
    "        self.classify = [nn.Linear(self.hidden_dim, 2)\n",
    "                         for i in range (self.output_vocab_size)]\n",
    "\n",
    "        self.log = model_logger.getLogger('model')\n",
    "        self.log.setLevel(logging.INFO)\n",
    "        if Config.cuda:\n",
    "            self.cuda()\n",
    "            [i.cuda() for i in self.classify]\n",
    "        \n",
    "    def init_hidden(self, batch_size):\n",
    "        ret = torch.zeros(batch_size, self.hidden_dim)\n",
    "        if Config().cuda: ret = ret.cuda()\n",
    "        return Variable(ret)\n",
    "    \n",
    "    def forward(self, seq):\n",
    "        seq = Variable(torch.LongTensor(seq))\n",
    "        if Config().cuda: seq = seq.cuda()\n",
    "        batch_size = seq.size()[0]\n",
    "        self.log.debug('{} seq size: {}'.format(type(seq.data), seq.size()))\n",
    "        seq_emb = self.embed(seq).transpose(1,0)\n",
    "        output = self.init_hidden(batch_size)\n",
    "        for token_emb in seq_emb:\n",
    "            self.log.debug('token_emb := {}'.format(token_emb))\n",
    "            self.log.debug('output := {}'.format(output))\n",
    "            output = self.encode(token_emb, output)\n",
    "                    \n",
    "        self.log.debug('output := {}'.format(output))\n",
    "    \n",
    "        ret = torch.stack([F.softmax(classify(output), dim=-1) \n",
    "                           for classify in self.classify])\n",
    "        self.log.debug('ret := {}'.format(ret))\n",
    "\n",
    "        self.log.debug('ret size: {}'.format(ret.size()))\n",
    "\n",
    "        return ret"
   ]
  },
  {
   "cell_type": "code",
   "execution_count": null,
   "metadata": {},
   "outputs": [],
   "source": [
    "import numpy as np\n",
    "def seq_maxlen(seqs):\n",
    "    return max([len(seq) for seq in seqs])\n",
    "\n",
    "PAD = WORD_INDEX[INPUT_VOCAB[0]]\n",
    "print(PAD)\n",
    "def pad_seq(seqs, maxlen=0, PAD=PAD):\n",
    "    if type(seqs[0]) == type([]):\n",
    "        maxlen = maxlen if maxlen else seq_maxlen(seqs)\n",
    "        def pad_seq_(seq):\n",
    "            return seq + [PAD]*(maxlen-len(seq))\n",
    "        seqs = [ pad_seq_(seq) for seq in seqs ]\n",
    "    return seqs\n",
    "\n",
    "def batchop(datapoints, *args, **kwargs):\n",
    "    indices = [d.id for d in datapoints]\n",
    "    seq   = pad_seq([ [WORD_INDEX[w] for w in word_tokenize(d.comment_text)]\n",
    "                     for d in datapoints])\n",
    "    target = [(d.toxic, d.severe_toxic, d.obscene, d.threat, d.insult, d.identity_hate)\n",
    "              for d in datapoints]\n",
    "    seq, target = np.array(seq), np.array(target)\n",
    "    return indices, (seq, ), (target,)"
   ]
  },
  {
   "cell_type": "code",
   "execution_count": null,
   "metadata": {
    "collapsed": true
   },
   "outputs": [],
   "source": [
    "def loss(output, target, loss_function=nn.NLLLoss(), *args, **kwargs):\n",
    "    loss = 0\n",
    "    target = Variable(torch.LongTensor(target[0]))\n",
    "    if Config().cuda: target = target.cuda()\n",
    "    output = output.transpose(1,0)\n",
    "    batch_size = output.size()[0]\n",
    "    for i, t in zip(output, target):\n",
    "        log.debug('i, o sizes: {} {}'.format(i, t))\n",
    "        loss += loss_function(i, t.squeeze()).mean()\n",
    "        log.debug('loss size: {}'.format(loss))\n",
    "\n",
    "    return loss/batch_size\n",
    "\n",
    "def accuracy(output, target, *args, **kwargs):\n",
    "    accuracy = 0\n",
    "    target = Variable(torch.LongTensor(target[0]))\n",
    "    if Config().cuda: target = target.cuda()\n",
    "    output = output.transpose(1,0)\n",
    "    batch_size = output.size()[0]\n",
    "    class_size = output.size()[1]    \n",
    "    \n",
    "    for i, t in zip(output, target):\n",
    "        correct = (i.max(dim=1)[1] == t).sum()\n",
    "        accuracy += correct/class_size\n",
    "        \n",
    "    return (accuracy/batch_size).data[0]\n",
    "    "
   ]
  },
  {
   "cell_type": "code",
   "execution_count": null,
   "metadata": {},
   "outputs": [],
   "source": [
    "from IPython.display import HTML\n",
    "from IPython.display import display\n",
    "def repr_function(output, feed, batch_index):\n",
    "    results = []\n",
    "    output = output.transpose(1,0)\n",
    "    indices, (seq,), (classes,) = feed.nth_batch(batch_index)\n",
    "    print(output.size(), len(indices), len(seq), len(classes))\n",
    "    for i, o, s, c in zip(indices, output, seq, classes):\n",
    "        orig_s = feed.data_dict[i].comment_text\n",
    "        s = [INPUT_VOCAB[i] for i in s]\n",
    "        s = ' '.join(s)\n",
    "        results.append([orig_s, s] + list(c))\n",
    "        o = o.max(dim=1)[1]\n",
    "        results.append([' ', '  '] + o.data.cpu().numpy().tolist())\n",
    "    return results"
   ]
  },
  {
   "cell_type": "code",
   "execution_count": null,
   "metadata": {},
   "outputs": [],
   "source": [
    "_train_datapoints = train_datapoints"
   ]
  },
  {
   "cell_type": "code",
   "execution_count": null,
   "metadata": {
    "scrolled": true
   },
   "outputs": [],
   "source": [
    "import logging\n",
    "log.setLevel(logging.INFO)"
   ]
  },
  {
   "cell_type": "code",
   "execution_count": null,
   "metadata": {
    "scrolled": true
   },
   "outputs": [],
   "source": [
    "import random\n",
    "def  experiment(epochs=10, checkpoint=1):\n",
    "    model =  Model(Config(), len(INPUT_VOCAB), len(OUTPUT_VOCAB))\n",
    "    if Config().cuda:  model = model.cuda()\n",
    "        \n",
    "    split_index = int( len(train_datapoints) * 0.85 )\n",
    "    train_feed = DataFeed(train_datapoints[:split_index], batchop=batchop, batch_size=128)\n",
    "    test_feed = DataFeed(train_datapoints[split_index:], batchop=batchop, batch_size=120)\n",
    "\n",
    "    trainer = Trainer(model=model, loss_function=loss, accuracy_function=accuracy, \n",
    "                    checkpoint=checkpoint, epochs=epochs,\n",
    "                    feeder = Feeder(train_feed, test_feed))\n",
    "\n",
    "    predictor = Predictor(model=model, repr_function=repr_function, feed=test_feed)\n",
    "    output, results = predictor.predict(random.choice(range(test_feed.num_batch)))\n",
    "\n",
    "    for e in range(10000):\n",
    "        output, results = predictor.predict(random.choice(range(test_feed.num_batch)))\n",
    "        display(HTML(results._repr_html_()))\n",
    "        trainer.train()\n",
    "        \n",
    "experiment()"
   ]
  },
  {
   "cell_type": "code",
   "execution_count": null,
   "metadata": {
    "collapsed": true
   },
   "outputs": [],
   "source": []
  },
  {
   "cell_type": "code",
   "execution_count": null,
   "metadata": {},
   "outputs": [],
   "source": [
    "dummy_feed = DataFeed(train_datapoints[:100], batchop=batchop, batch_size=1)\n",
    "indices, (seq,), (target,) = dummy_feed.nth_batch(random.choice(range(dummy_feed.num_batch)))\n",
    "print(dummy_feed.data_dict[indices[0]])\n",
    "print([INPUT_VOCAB[i] for i in seq[0]])"
   ]
  }
 ],
 "metadata": {
  "kernelspec": {
   "display_name": "pytorch-py35",
   "language": "python",
   "name": "pytorch-py35"
  },
  "language_info": {
   "codemirror_mode": {
    "name": "ipython",
    "version": 3
   },
   "file_extension": ".py",
   "mimetype": "text/x-python",
   "name": "python",
   "nbconvert_exporter": "python",
   "pygments_lexer": "ipython3",
   "version": "3.5.2"
  }
 },
 "nbformat": 4,
 "nbformat_minor": 2
}
