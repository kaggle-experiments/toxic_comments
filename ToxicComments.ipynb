{
 "cells": [
  {
   "cell_type": "code",
   "execution_count": 1,
   "metadata": {
    "collapsed": true
   },
   "outputs": [],
   "source": [
    "%load_ext autoreload"
   ]
  },
  {
   "cell_type": "code",
   "execution_count": 2,
   "metadata": {},
   "outputs": [
    {
     "name": "stderr",
     "output_type": "stream",
     "text": [
      "2018-01-31 12:12:42,376:root:INFO   :           getLogger:: creating logger for main under MODEL\n"
     ]
    }
   ],
   "source": [
    "from config import Config\n",
    "from pprint import pprint, pformat\n",
    "from logger import model_logger\n",
    "log = model_logger.getLogger('main')\n",
    "log.setLevel(Config.Log.MODEL.level)"
   ]
  },
  {
   "cell_type": "code",
   "execution_count": 3,
   "metadata": {
    "scrolled": true
   },
   "outputs": [
    {
     "name": "stderr",
     "output_type": "stream",
     "text": [
      "2018-01-31 12:12:42,476:root:INFO   :           getLogger:: creating logger for main under TRAINER\n",
      "2018-01-31 12:12:42,694:root:INFO   :           getLogger:: creating logger for main under DATAFEED\n"
     ]
    }
   ],
   "source": [
    "%autoreload 2\n",
    "from trainer import Trainer, Feeder, Predictor\n",
    "from datafeed import DataFeed\n",
    "from torch import nn, optim\n",
    "from torch.nn import functional as F\n",
    "from torch.autograd import Variable\n",
    "import torch"
   ]
  },
  {
   "cell_type": "code",
   "execution_count": 4,
   "metadata": {
    "collapsed": true
   },
   "outputs": [],
   "source": [
    "import csv\n",
    "train_dataset = csv.reader(open('dataset/train.csv'))\n",
    "test_dataset = csv.reader(open('dataset/test.csv'))"
   ]
  },
  {
   "cell_type": "code",
   "execution_count": 5,
   "metadata": {
    "collapsed": true
   },
   "outputs": [],
   "source": [
    "from collections import namedtuple\n",
    "Sample = namedtuple('Sample', ['id','comment_text',\n",
    "                               'toxic','severe_toxic','obscene',\n",
    "                               'threat','insult','identity_hate'])"
   ]
  },
  {
   "cell_type": "markdown",
   "metadata": {},
   "source": [
    "### Unicode to ascii text"
   ]
  },
  {
   "cell_type": "code",
   "execution_count": 6,
   "metadata": {},
   "outputs": [
    {
     "data": {
      "text/plain": [
       "(159571, 153164)"
      ]
     },
     "execution_count": 6,
     "metadata": {},
     "output_type": "execute_result"
    }
   ],
   "source": [
    "import unicodedata\n",
    "train_datapoints = []\n",
    "for i in list(train_dataset)[1:]:\n",
    "    _id, c, t, st, o, t, ins, ih = i\n",
    "    t, st, o, t, ins, ih = (int(_) for _ in [t, st, o, t, ins, ih])\n",
    "    c = unicodedata.normalize('NFD', c).encode('ascii','ignore').decode()\n",
    "    train_datapoints.append(Sample(_id, c, t, st, o, t, ins, ih))\n",
    "\n",
    "test_datapoints = []\n",
    "for i in list(test_dataset)[1:]:\n",
    "    _id, c = i\n",
    "    c = unicodedata.normalize('NFD', c).encode('ascii','ignore').decode()\n",
    "    test_datapoints.append(Sample(_id, c.lower(), 0, 0, 0, 0, 0, 0))\n",
    "\n",
    "len(train_datapoints), len(test_datapoints)"
   ]
  },
  {
   "cell_type": "code",
   "execution_count": 14,
   "metadata": {},
   "outputs": [
    {
     "name": "stdout",
     "output_type": "stream",
     "text": [
      "====\n",
      "Ahh, Hello Witzeman \n",
      "\n",
      "203.92.84.161  \n",
      "Symbols: ~ |            #                           $                                m m \n",
      "Characters: A a C c E e I i L l N n O o R r S s U u Y y Z z   A a E e I i O o U u   A a C c E e G g H h I i J j O o S s U u W w Y y   A a E e I i O o U u Y y      A a E e I i N n O o U u Y y   C c G g K k L l N n R r S s T t       U u   A a C c D d E e I i L l N n O o R r S s T t U u Z z   A a E e I i O o U u Y y     u u u u A a E e G g I i O o U u   C c E e G g I  Z z   A a E e I i O o U u   D d H h L l L l M m N n R r R r S s T t       O o U u                         A a        \n",
      "Greek:                                                                               \n",
      "Cyrillic:                                                                                                                     \n",
      "IPA: t d                                                                                                                          \n",
      "= My Famous Article ==witze  happiness  wikipedia The Witzeman is a great honour that has been passed down through the generations of many families, regardless of race, age, character or knowledge. The outside world knows little about these elusive characters, and the honour of the Witzeman. For those who have ever been a Witzeman, it has been said to have been a great honour, although the qualities needed for the job have never been disclosed. A person may not now they were a Witzeman for many years, until they are called by former Witzemans via dreams. Associates of the Witzeman are known to be a certain Babe Cool or the much lesser known Witzewoman.\n",
      "\n",
      "The Present Witzeman is an 11-year-old boy namely Benjamin Woods, who is said to have become a Witzeman after he felt this 'awesome radiance in his top-right bumcheek'. He has not told a great number of people his testimony, but has promised to do so in years to come.\n",
      "\n",
      "                           History\n",
      "The present world has only come enlightned with the knowledge of the Witzeman in present years, because former Witzemen have not been so public about the honour, to abide with the formality and conservativism in their time. The term 'Witzeman' is a compound word of the adjective Witze and 'man', witze being an 11th century term for 'a person of extreme humour and radiant intelligence'. Unfortuneatly, Witze is also sometimes associated with bad wind, for unspeakable reasons.\n",
      "\n",
      "                       Proper History\n",
      "As early as the 14th century, Witzemen were considered outcasts, and young children were encouraged to poke them with sticks. This led to the 1st Witzeman Rebellion of 1555 when the current Witzeman and his followers attempted a coup to take over the local Council chess team. This rebellion further disgraced the Witzeman, as he and his followers were embarassingly pronounced 'gaga' at a Government meeting that year. The period from here to the early 1900s was a dark time in the Witzemans history. However good times were to come for the Witzeman. Many normal people took part in mass demonstrations and protests for the Witzeman in the 1980s, building up to a great moment in the history...the Great Rebellion of 1988. This was when several Witzeman sprinted round the Visitors Gallery of the House of Commons, wearing clown masks, but otherwise completely naked. This was thought to be an act of circambulation. However many people who witnessed this shocking behaviour, were 'mentally, spiritually, and emotionallly scarred for life'. This group of people included many young children who were forced to go to asylums in a state of mental instability, suffering from trauma. It was at this time that the Government finally took positive action for the Witzeman. In 1990, a bill of rights for the Witzeman was signed, stating all Witzemen were allowed to do as they pleased. Although this was a formal agreement, many journalists viewed it as a letter of submission from the Government to the Witzeman, as the behaviour of the Witzeman and his followers became more and more twisted.\n",
      "====\n",
      "\"\n",
      "\n",
      "66.185.85.80's rant\n",
      "\n",
      "Presently, we are witnessing  an open war against Croatian Dinaric culture.  Croatian Left often portrays this culture as \"\"primitive\"\" and \"\"rural\"\" (even \"\"fashist\"\") being  in  service of Conservative HDZ party. Croatian writer Predrag Raos, for instance, \"\"performed\"\" on gusle instrument in Zagreb on several occasions this year (2004) with only one intention - to ridicule the same instrument and its rich poetic tradition.\n",
      " \n",
      "Another \"\"apostle\"\" of Croatian Left - Miljenko Jergovic - refers to his political opponents on the Right as \"\"gusle players\"\". \n",
      "\n",
      "Some even claim the Serbian origin of Croatian Dinaric culture following the line of traditional greater Serbian propagabda (all stokavian people and their culture are Serbian). However, Croatian Dinaric folklore and its rich gusle heritage is primarly Croatian. Dalmatian costal region has been historically associated with this culture. For example, the first written document about the most popular folk hero of traditional gusle music, Marko Kraljevic, is associated with Dalmatian island Hvar through Petar Hektorovic's book \"\"Ribanje i ribarsko prigovaranje\"\", 1568). Also, the first historical document which mentioned gusle player and its instrument originated in  Dubrovnik (1547). Even now, a contemporary Croatian writer (born in Dubrovnik) Stijepo Mijovic Kocan tells us a story about his uncle (also from Dubrovnik area) who could memorize numerous gusle songs (Stijepo Mijovic Kocan: Gusle, Glasnik, May 25, 1992, p. 42). Dubrovnik is also a home of Anica Begin (born Kalafatovic, 1816), a daughter of famous gusle player Ante. Although illiterate, she was able to recite by heart an immense number of gusle songs, some of which were recorded in antology of Croatian folk poetry. \n",
      " \n",
      "Not far from Dubrovnik, another coastal city - Makarska  was  also a bastion of Croatian gusle music. Actually, this region could be considered the Capital of all Croatian gusle players. This Mediterranean area  also gave birth to  Andrija Kacic Miosic (18th century Catholic priest), who is  viewed as the father of all gusle players of Croatia and beyond. To honour Kacic's work, Ivan Mestrovic, the most famous Croatian sculptor, built a sculpture in America showing Kacic in his priestly clothes  playing gusle instrument.  \n",
      "\n",
      "In addition to Kacic, Makarska Littoral produced a great many other followers of Croatian gusle music. According to dr. fra Karlo Jurisic (who quotes the work of Croatian folklorist Stipan Banovic), Zaostrog alone  produced a great number of gusle players starting with Stipan Kosovic-Kudric (1771-1818) and culminating with the most known Mate Banovic  Trlis (1844-1915).  As for Dalmatian women, they didn't play gusle (it's    considered   a male activity only), yet they were actively involved in spreading  gusle music  by  imitating its sound. \n",
      "\n",
      "Olinko Delorko, the researcher of  Dalmatian  folk poetry in the 1960s, states in his book Ljuba Ivanova (1969) that most of his Dalmatian folk poetry collection was obtained by  women, especially the ones from the island of Hvar. \n",
      "\n",
      "The Zadar Littoral also witnessed strong gusle tradition. English writer Maude M. Holbach, travelling through Zadar region in the first decade of 20th century  states in her book  \"\"Dalmatia: The Land Where East Meets West\"\" that the gusle was the national instrument of the region. As for Dinaric dances, which took place at markets and certain festivals, they  are very picturesque and interesting, and worth going a long way to see, being a survival of ancient custom probably unique in Europe (p.54)\n",
      "\n",
      "This admiration for Dinaric folk music, particularly gusle, was seen in both Dalmatian Litteral and  Hinterland.  Matija Murko, the researcher of this literary/music forms,  had reported   that during his trips  through Dalmatia in the 1930s, he saw a child, barely three years old playing gusle (Eduard Osredecki: Hrvatske narodne junacke pjesme, Zeljezno-Bec, p. 9)\n",
      "\n",
      "Now, lets  take a look at  the names of some Dalmatian sports clubs and organizations: Hajduk, Junak, Gusar, Alkar, Uskok, sinjska alka, etc. What do they have in common? Of course, their names refer to the heroic gusle tradition of the region. \n",
      "\n",
      "Having this in mind, one wonders why this proud Croatian heritage has become almost  extinct.  Why do we have so few gusle players today ? Is it a  result of  unavoidable urbanization  of  modern Croatian society where peasant culture is being considered  inferior to global  rock 'n' roll  culture ? If so, why has tamburitza music of Northern Croatia  gained wide acceptance from the Croatian establishment while its  Dinaric counterpart (gusle music) is looked upon with suspicion and  open hatre\n",
      "====\n",
      "\"\n",
      "\n",
      " Question on Possible Citation \n",
      "\n",
      "I'm sorry if I missed your question - I don't pay much attention to that page. In response to your question, let me start by repeating my boilerplate formulation: The job of Wikipedia editors is to verifiably summarize reliable sources using the neutral point of view. (I haven't yet worked in \"\"no original research\"\".) WP:NOR says that we mustn't integrate otherwise reliable information to arrive at novel conclusions. Comparing two lists and drawing conclusions from their differences and similarities is most likely original research. We can integrate information, so long as we don't arrive at new theories. Another principle to remember is that vagueness improves accuracy. The more precise we are the harder it is to be accurate. \n",
      "\n",
      "Getting down to details, the Predators and Editors website appears to be a reliable source so we can use it as a source. The Bauer site, even if somewhat unreliable, may be used in a limited fashion as a primary source about Bauer. I'm not familiar enough with this topic to make pronouncements on what would be correct. However I would say that your proposed text appears reasonable. The sources are sufficient, and no original conclusions are made. The website takedown issue is confusing to me, but you should be able to summarize what you find in reliable sources. \n",
      "\n",
      "Overall, my opinion is that the less we say about the subject the better. Attack articles are not encouraged. While we must show our subjects \"\"warts and all\"\" we shouldn't enlarge the warts, nor ignore their better features. Balance is a part of NPOV. - \n",
      "\n",
      "\"\"but you should be able to summarize what you find in reliable sources.\"\" There no reliable sources only a he said she said blog flame war. It is alleged the website takdown was instigated by Bauer. It isn't clear if she did, and other factors between the forum and the IP are not known. It was the root cause of this article and all the players here were involved via these blogs. I don't see how that can be objective. \n",
      "\n",
      " Bauer \n",
      "I'm sorry I did not get back to you about the Usenet stuff et al., but I've been somewhat overloaded at work. Personally, I think the article is better now than when I first saw it, thanks to a lot of effort on the part of the primary editors of the article to bring the best sources and present them in a way that doesn't seem like a lynch mob. Y'all are doing a good job, and there should be enough editors on either side to ensure that something resembling nuetral gets posted . I'm glad to help and try and make the article neater, and I don't mean to sound brusque in the summary field, but there was a lot to cram in there. Thanks for the note, I appreciate it!   \n",
      " I would say Karen saying I've called her names is an out and out fabrication. I've never done any such thing. \n",
      "\n",
      "\"\"or whether it's because he's been able to insult me and call me names on Wikipedia, repeatedly and without consequences\"\"\n",
      "\n",
      "I've accused her and Jule of carrying the water for TNH and Absolutewrite and they have. That isn't namecalling by a long stretch. I'm really weary of these attacks over this. This is mob rule. While avi seems genuine, she's hanging with a tough insulting tribe. The threats against me are real and escalating by the hour. Blaming me won't make my points any less valid. Nobody likes to be piled on by a crowd. It's the Internet equivalent of stoning. \n",
      "\n",
      "This is not a fabrication. I get awfully tired of being called a troll, or part of a mob or cult or \"\"group troll,\"\" or a \"\"self-interested partisan,\"\" or a \"\"blog comment commando,\"\" or other things I could point at if I wanted to depress myself. You also made a \"\"theoretical\"\" comment about me being \"\"nosy, fat and ugly.\"\" Putting the word \"\"if\"\" in front of it doesn't make it any less of an insult. I've tried to be polite to you, and will continue to do so, but this is the response. And, please notice, like abi (Avi is Avraham the admin, abi the ML commenter who believes in kindness) I counseled against piling on.  | Talk | contribs \n",
      "\n",
      "Those are not ad hominem names Karen. Yet you've linked to a thread where you and Teresa caled me a psycho. You should hear what she said in private when I asked NOT to be spoken of negatively in threads on Making Light. It's obvious you two are pro-TNH and absolutewrite. That's self-interest and backed up by the fact that you run to her for counseling. Well, avi can make her own decisons about it then can't sh\n",
      "====\n",
      "\"\n",
      "\n",
      " Philosopher RFC \n",
      "philosopher (from Wiktionary): A person devoted to studying and producing results in philosophy.\n",
      "\n",
      "I am going to make the case that we must call Stefan Molyneux a \"\"philosopher\"\" (without qualifiers) in the lead.  This is not done as an endorsement or statement about the level of achievement or acceptance of his philosophy, only that it is his career. (Note: Not all of the sources I use below are in the article at present. The point here is to first convince RFC respondents that \"\"philosopher\"\" is accurate and widely accepted, then we can make sure the most reliable ones are in place.)\n",
      "\n",
      " Definitions \n",
      "Obviously, each source is going to use slightly different phrasing. Some will call him explicitly a \"\"philosopher\"\" or has views on \"\"philosophy\"\", but I think you should consider some other phrases given below as equivalent. Using one word \"\"philosopher\"\" in the lead sentence covers all of his political, ethical, and theistic specializations in one word, which we then elaborate on later in the article.\n",
      "\n",
      " \"\"philosophical conversation\"\", \"\"philosophy show\"\" - used to describe his Freedomain Radio series\n",
      " \"\"libertarian\"\", \"\"libertarian thinker\"\" - \"\"Libertarianism is a classification of political philosophies ...\"\"\n",
      " \"\"anarcho-capitalist\"\" - \"\"Anarcho-capitalism ... is a political philosophy...\"\"\n",
      " \"\"voluntaryist\"\" - \"\"Voluntaryism (or sometimes voluntarism), is a libertarian philosophy...\"\"\n",
      " \"\"athiest\"\" - \"\"Arguments for atheism range from the philosophical to social and historical approaches.\"\"\n",
      " \"\"ethics- \"\"Ethics, sometimes known as philosophical ethics, ethical theory, moral theory, and moral philosophy, is a branch of philosophy\"\"\n",
      " \"\"Secular ethics- \"\"Secular ethics is a branch of moral philosophy...\"\"\n",
      "\n",
      " Primary source \n",
      "As Stefan Molyneux is a living person, we should give great weight to what he says is the focus of his work and his stated profession unless there is reliable evidence to contradict him (obviously, we don't want to host any sort of \"\"fringe\"\" claims). If we are to dispute what he says about himself, though, then we absolutely must have a strong basis for this, or we open Wikipedia to discredit or liability - this is why BLPs are held to strong standards in the first place. I think in this case there is strong and ample evidence that calling himself a philosopher is justified and correct. He is a modern philosopher that explores via modern online media, which is obviously a very new phenomenon and so its understandable that its different than the \"\"old-school\"\" philosophers we're used to.\n",
      "\n",
      " Freedomain Radio \"\"About\"\" page - \"\"my Master's Thesis analyzing the political implications of the philosophies \"\", \"\"I have been fascinated by philosophy - particularly moral theories - since my mid-teens. I left my career as a software entrepreneur and executive to pursue philosophy full time through my work here at Freedomain Radio. I have written a number of novels as well as many free books on philosophy.\"\"\n",
      " Freedomain Radio (the show that Molyneux hosts) has the tagline \"\"The Largest and Most Popular Philosophical Conversation in the World\"\"* \n",
      " Molyneux's books show that he is endeavoring to produce tangible written results in the field of philosophy, particularly Universally Preferable Behaviour (UPB): A Rational Proof of Secular Ethics and Against the Gods? A Concise Guide to Atheism and Agnosticism which are two of his more \"\"deep dives\"\" into the fundamental philosophies.\n",
      " Strong Atheism: The Case for Evacuating the Middle Ground article\n",
      " Why I Am a Philosopher? video - \"\"A response to questions about my childhood motivations for pursuing philosophy.\"\"\n",
      " An Introduction to Philosophy - 18-part video course produced by Molyneux describing basic philosophical concepts (Reality, Knowledge, Truth, Gods/Religion, Ethics, and Politics)\n",
      " 8 Unsolvable Philosophical Questions - Solved! video - \"\"tackles 8 great philosophical questions considered unanswerable.\"\"\n",
      " Proofs for God Destroyed by a Philosophical Atheist video\n",
      " 2011 - A Philosophical Review - \"\"discusses the major philosophical, political, economic and social developments of 2011\"\" video\n",
      " ''[https://www.youtube.com/watch?v=udLsGJbw4Hs 38 Philosophy Questio\n",
      "====\n",
      "\"\n",
      "\n",
      " Wikipedia:Articles for deletion/Cheongye Kwan \n",
      "\n",
      "Your post at the above AFD on a new martial art bothers me. This was the version at the time, that you based your post on. You posted:\n",
      "\n",
      " \"\"I just read the article, and to be quite honest, feel that it does satisfy Wikipedia's guidelines... it is reliably sourced... Since I believe the notability of the article is satisfied... It now has 11 independent sources. And to refute the argument posed by Wayne, it is determined by the Phillip Rhee source that the martial arts is not localised\"\".\n",
      "\n",
      "Please consider the concerns this post raises. Simple matters like references, notability and noobie basics of AFDs should be routine for any moderately experienced user, and bread-and-butter for any admin. In fact a cursory check shows that almost everything you stated was.. I don't have a word for it. \"\"Unreal\"\" is close.\n",
      "\n",
      "The \"\"eleven independent sources\"\" that you stated established notability and non-localization at the time, were:\n",
      " Three references from 2004 [coates, robinson, shaw], certainly before the topic even existed (!) and all related to a passing piece of news about its founder being on the team of a completely different sport in any event (!)\n",
      " Two references from 1st half 2005 [davies, white], almost certainly identical and identically irrelevant to the topic's notability.\n",
      " The promoter's personal page on his local town website, almost certainly self-published [official village website].\n",
      " A 2008 casual interview in a non-notable and possibly non-reliable university magazine (apparently) of the promoter's travels to see experts in a different sport, with tangential tiny (< 1 sentence) mention that he'd discussed his new sport with them too. [ the Lau Philip \"\"LA\"\" interview].\n",
      " 3 entries marked \"\"Reference and support of , Written Reference\"\" [chris, cook, rhee], obviously a request by the founder to a friend/colleague write a letter of support, that was never published anyway and isn't cited so you can't have read it (not that it was even possibly valid evidence).\n",
      " A short writeup of a \"\"local information\"\" kind, on the award of the first 4 black belts by the school, in its local paper.\n",
      "\n",
      "In brief of the 11:\n",
      " 5 were before the sport existed and were not even remotely to do with the topic itself much less \"\"sourced\"\" material on it or \"\"substantial\"\" coverage (they had precisely zero coverage); \n",
      " 3 were claims of personal \"\"I think  is a great guy\"\" letters of support, evidently solicited and/or written on request, with zero evidence of verifiable existence, and certainly in no way reliably sourced or independent; \n",
      " 1 was self-written\n",
      " 1 was the briefest of non-mentions in a non-reliable source (pretty much \"\"I discussed the topic with them\"\" in a college magazine interview)\n",
      " 1 is local press coverage of his courses that's not even \"\"news for a day\"\"  or evidence of anything beyond \"\"a course by this name is taught twice weekly in our local village hall\"\".\n",
      "\n",
      "Your assessment of these, at AFD, was:\n",
      " It is reliably sourced\n",
      "{| style=\"\"border:#c0c0c0 solid 1px\"\" width=\"\"90%\"\"\n",
      "| \n",
      " There is barely one reliable source in all of those 11 that the sport even exists in the first place (!) - a local newspaper mention that it meets in a village hall on tuesdays and fridays and just awarded its first 4 black belts. Probably via self-promotional input. \n",
      " There is zero reliable sourcing for any of the rest.\n",
      "|}\n",
      " That the cited pages are evidence of notability\n",
      "{| style=\"\"border:#c0c0c0 solid 1px\"\" width=\"\"90%\"\"\n",
      "| \n",
      " They don't mention it, or even date from a time the topic existed, nor are online versions provided! How on earth could they \"\"reliably evidence\"\" it?\n",
      "|}\n",
      " That the \"\"11 sources\"\" are \"\"independent\"\"\n",
      "{| style=\"\"border:#c0c0c0 solid 1px\"\" width=\"\"90%\"\"\n",
      "| \n",
      " 3 are claims that \"\"please support me\"\" letters exist; they are even stated to be \"\"personal references\"\"; unpublished and uncited\n",
      " 1 is his own clearly self-written web page on a local village web host\n",
      "|}\n",
      " That the cites show it is \"\"non-localized\"\"\n",
      "{| style=\"\"border:#c0c0c0 solid 1px\"\" width=\"\"90%\"\"\n",
      "| \n",
      " The page doesn't list a link so you can't have checked the cite, yet you say the citation \"\"proves\"\" it. \n",
      " The reference openly stated \"\"Cambridge University and Bristol Taekwando\"\" (!) a big indication of its actual source\n",
      " When a link was provided on request  it turns out it'\n",
      "====\n",
      "\"\n",
      "\n",
      "Replacement\n",
      "\n",
      "PLEASE DO NOT EDIT BELOW THIS NOTE. THE WHOLE SUPRA-SECTION WILL DISAPPEAR AGAIN ONCE I AM ABLE TO POST ON THE ARTICLE TALK PAGE.\n",
      "\n",
      "This includes you Shell. Had you not blocked me, I would have been able to place my answers there. This will disappear tomorrow so you can put with it until then.\n",
      "\n",
      "Because Shell falsely blocked me, I cannot save my replies on a certain article talk page. Hence I will save the entire page (minus the archived sections) here.\n",
      "\n",
      " POV concerns \n",
      "\n",
      "Im surprised this article isn't being called anti-semetic, because it's has a *few* traces of Islamic perspectives in it. You know, as opposed to being a piece of Zionist propaganda being passed off as fair and balanced.\n",
      "\n",
      "This entire article is full of baseless jewish propaganda. It is well documented the Banu Qurayza were executed for treason. That is what merited them the death penalty, that they commited treason. The Quarash and other tribes the Muslims fought against were outright enemies who were persecuting them from the start. But the Qurayza signed a peace treaty, then broke it by aiding the enemy. This article contains soo much jewish propaganda that you'd think they were executed for no reason (which no doubt is their aim). Here is a great example. Look at this citation\n",
      "\n",
      "\"\"According to Stillman, Muhammad chose Sa'd ibn Mua'dh so as not to pronounce the judgment himself after the precedents he had set with the Banu Qaynuqa and the Banu Nadir: \"\"Sa`d took the hint and condemned the adult males to death and the hapless women and children to slavery.\"\" Furthermore, Stillman infers from Abu Lubaba's gesture that Muhammad had decided the fate of the Qurayza even before their surrender.\"\"\n",
      "\n",
      "This author is Norman A Stillman, a Zionist Jew who is very biased. Why is he being used as a quote in an Islamic article? And further more, why is his baseless conjecture allowed to be used, as if it's a fact?\n",
      "\n",
      "There are articles for \"\"Criticisms of Islam\"\" where the Jews and others can write whatever they want. But they should have no hand in editing Islamic articles. Because I looked up the Jewish articles and I noticed they dont allow dissent there. You cant put a Muslim perspective on evil acts commited by Jews, without it disappearing instantly. So the same standard MUST be applied to Islamic articles. Islamic articles must be written from the Islamic point of view, and the jews can write their responses in appropriate \"\"criticisms of Islam\"\" articles. If not, I will personally edit the Jewish articles and fill them with my conjectures about their history. And I will find a non-Jewish admin to arbitrate over the Islamic articles.\n",
      "\n",
      "Good day.\n",
      "\n",
      "  \n",
      "\n",
      "Please read this talk page, specifically all of the places where \"\"treason\"\" or \"\"traitor\"\" is mentioned, and if you still believe that we need to mention treason, provide some reliable sources and we can discuss it.  It is easy for our article to be neutral and mention all POVs, but it does require that people like yourself participate.  We work from academic sources, not personal conjecture.   \n",
      "\n",
      "Changes by Devotus and issues with them\n",
      "\n",
      "Dear Devotus, \n",
      "I have still issues with your changes:\n",
      "Bat Yeor and Ramadan - while I appreciate that you don't try you shift the balance - removing a book from \"\"each side\"\" - I do not agree with your removal. Bat Yeor is an academic scholar and though her books are controversial, she is not beyond the pale - currently she doesn't serve as a reference in the article but if she did, the controversy would be noted. As for Ramadan I have issues with him as well but if we remove him from the literature section, we would have to remove him from the article too, in which he serves as a reference. This is due to the insistence of User:Bless sins. He will certainly not like such a removal. We cannot remove him from the literature section while retaining him in the article.\n",
      "While your first version was needlessly verbose (\"\"it is to be noted that\"\"), the new one endorses that view by Paret/Watt. The article now says that the BQ were not killed for religious reasons - that is not a fact, since there is a good case that the whole conflict was caused by religious differences.\n",
      "Also we do not want to repeat things that have already been said in the coverage of the \"\"siege and demise\"\", e.g. the claim about attacking M. in the rear.\n",
      "Also, please abide by the one resolved conflict. We fought hard and long about words like \"\"massacre\"\" and \"\"execution\"\" and neither should appear unless unavoidable.\n",
      "The common practice thing is unacceptable as it is s\n",
      "====\n",
      "And \n",
      "\n",
      "Paganism\n",
      "\n",
      "Southgate, who has a degree in theology and religious studies from Canterbury University, rejected Catholicism and moved towards neo-pagan and heathen groups that are very loyal to the Gods of the Northern Tradition, including the Odinic Rite, the Tribe of the Wulfings and the A  satru Alliance, a pagan movement concerned with practising rituals and magic and led by Valguard (Mike) Murray, a former member of the American Nazi Party.91 Further evidence of this transition from Catholicism to paganism emerged in an interview with Wotan, the organ of the Charlemagne Hammer Skins.92 Southgate believed that Wotans celebration of the heroes of the Norse pantheon represented the most genuine expression of European spirituality, culture and identity.93 Another key expression of this identity is exhibited by Southgates interest in the militaristic cult of Mithras and the pagan spirituality of the apostate Roman emperor Julian II.94\n",
      "\n",
      "This rejection of Christianity has an avowedly antisemitic dimension. Through the figure of Christ, Christianity has Judaic roots and is therefore irredeemably tainted; only the weak continue to worship a dead Jew.95 The emphasis on the Judaic roots of Christianity, however, is regarded as of secondary importance to its usurpation of the rituals, sacraments and hierarchy of the ancient pagan solar religion Mithras, which was introduced into Iran and India by marauding Aryan tribes from the Russian steppes between BCE 2000 and 1500 before spreading to the Roman empire. Although it failed to defeat early Christianity in the battle for religious supremacy during the fourth century, Mithras continues to be viewed by esoteric thinkers (including Evola and Jung) as an alternative path the West could have followed. It retains its appeal as an initiatory cult or aristocratic order akin to the Knights Templar or, latterly, Himmlers SS which, the NRF claims, had its origins in various Anarchist droite  circles l e the Black Sun and the Thule Society. While Christianity tried to neuter this vital expression of the Aryan psyche, the awareness of Europes Faustian destiny is currently enjoying a renaissance within the occult milieu. These ideas were also absorbed by thinkers like Evola and Rene Guenon who discerned in them the fragments of a hidden albeit distinct and fundamental truth.96 For Southgate, as for Evola, Tradition is an an underlying current which both permeates and transcends all.97\n",
      "\n",
      "Southgates discovery of Evolian Primordial Tradition and his consequent rejection of Catholicism as the sole cosmological truth ran in tandem with his immersion in the industrial music scene.98 This cultural vanguard is spearheaded by a number of Gothic-Industrial, Dark Ambient, Black and Viking Metal bands, including Allerseelen, Blood Axis, Burzum, Current 93, Dark Holler, Death in June, Endura, Mayhem, Ostara, Puissance and Sol Invictus, though it also encompasses more commercial bands like Cradle of Filth.99 Although it would be an exaggeration to say that these groups conform to a defined political agenda, their music serves to diffuse the ideals of Mithraic paganism and Nordic folk myths within this youthful underground subculture far more effectively than any number of meetings and marches could, thus providing the perfect antidote to the spiritually enervating, multiracial values of a globalizing system. Southgate has also noted the potential of the Straight Edge punk movement and its hard core of puritanically intolerant followers, an interesting development given (exaggerated) reports of an emerging anti-anti-establishment pro-Bush right-wing punk movement.100 Although Southgate realizes that the groupuscular right cannot control music-orientated youth cultures, he believes a minority can be induced to take a direction basically conducive to our aims.101 Southgate seeks to do this through his online magazine Synthesis, which features a music section replete with interviews and gig reviews.102\n",
      "\n",
      "This is not simply cynical manipulation. Southgate appears genuinely interested in the counter culture he seeks to target. His fanzine, Tribal Resonance, the voice of the racial avant-garde, reveals Southgates strategy of linking his ideas to the common language and the big ideas of our culture.103 Through the medium of musical subcultures and the creation of alternatives from without, Southgate hopes to permeate existing political subcultures transversally, as the Nazis did, through a process of cultural osmosis that aims to recode the social symbology of the host culture so that its ideas can metastasize throughout the body politic, recalibrating its genetic inheritance. By creating cultural hegemony the groupuscular right believes it can forge the political space necessary for political and racial hegemony.104\n",
      "\n",
      "The struggle for cultural heg\n",
      "====\n",
      "\"\n",
      "\n",
      " Silesians \n",
      "\n",
      "Andrew, I have not made any comments out of a desire to provoke you. I have been editing this article out of a desire to ensure it meets the standards and conventions of the English Wikipedia. I am sorry you had a negative experience with the German Wikipedia, but that is a separate project from this English project. Assuming good faith is a fundamental principle of the English Wikipedia; I advise you to give editors a chance instead of assuming the worst. I inquired about Silesian/Polish because Silesians are sometimes considered a separate ethnic group. I am not sure what you mean by \"\"reverting the article upside down\"\"; my editing has been done to ensure that its formatting and style is consistent with other biographical articles. As I do not anticipate being able to copy-edit the article further, I am removing it from my watchlist. Good luck with the article. Olessi  \n",
      "\n",
      "Thanks for you comments, and in fact fruitful discussion. You are right that the work of a person is most important.\n",
      "However, there are much present and past propaganda, which destroy the peace. If only some people would show objectivity and patience, as you did, it could be clear up. To mention nationality is however important, since exceptional individuals inspire new generation of a nation. (Unfortunately, nations or ethnic groups will still exist. I have to hope for peaceful coexistence of them, and fair competition. Seems to me that competition has to exit too  best if for fun only.)\n",
      "I am conscious that English and German Wikipedias are separate projects, but you see, when I approach German Wiki, Dzierzon article the Polish relevant article was attacked by some German/Silesian/Polish guy. It cost me more then here on En Wiki to settle the Pl article well. So sorry if you did feel bad about my attitude, possibly I explained more my excitement.\n",
      "\n",
      "With Silesian is in short like this: Originally, they were Slavic tribe, spoke Polish, as I mentioned. For some 300 to 500 hundred years there were under German governments. They had bad time as you possibly can imagine. Many of them married with German and were/are of course confused who they are. You know, the pressure on east of resilient nation and of course Polish-German conflicts continued. Finally in 1945 Poland returned and become new problem for some of the natives. Even those who honestly considered himself Polish Silesians at the end of war could be persecuted. There in Poland was complete disorder. Soviets and Communists arrived, most of them real simpletons any way. National government - just pro-soviet mafia, was mostly occupied with fight against democratic opposition. Polish borders were shifted. We lost some 20% of our area and millions of people from east territories moved to present west Poland. You can imagine that most of them were not intellectuals at all, some of them completely simple people. They spoke different Polish dialect also. On top of this in the post war, pro-soviet atmosphere criminals found good playground. Well, I do not know if you are familiar with criminal minds  unfortunately I am. This is like gangrene on fresh wound, literally. Thus many of the native Silesian could be robber in Poland, which they wanted so much. I believe that in such conditions many simpletons could use the opportunity accusing natives to be Germans.\n",
      "\n",
      "Now, the present time, some of the falsely accused people remember the tragic experiences and want rehabilitation and apology  they could be absolutely right. However, there are many Germans who want their property back and some just using opportunity to stir in internal Polish affairs - despite the final border agreement between Poland and Germany signed on 14 November 1990 and governments effort to improve relations.\n",
      "Finaly I have to say, I beleave that Polish are hospitable and very often naive. Not many realize that politic need caution. Those who realize that have a hard time to wake up the naives. Some procentage remember lectures of history, and objectively, too many Germans are toublemakers. I am also convinced there exists something like national character. You can have obviously you own opinion, let me have my own.\n",
      "Returning to Silesians it is something close to squaring the circle . I wish the true Silesian all the best but I do not want Fith Column  on Polish terytory in addition.\n",
      "\n",
      "Sorry if I used posibly ofencive \"\"reverting the article upside down\"\" that was in the heat of the battle, wich I still have with Ge Wiki. They just arogantly do not answer if they do not like and refuse mediatior at any imaginative pretext. That sucks.\n",
      "\n",
      "Sorry and thanks again. Feel free to contact me any time you need.\n",
      "Best regards, \n",
      "Andrew 02:23, 9 December\n",
      "====\n",
      "\"\n",
      "Wrong licenses\n",
      "I have corrected the licenses for the majority of the images you have uploaded. The exceptions are:\n",
      ":Image:Wankhede Mumbai.jpg - On the flickr page the author has apparently agreed to license the image under one of the free Creative Commons licenses, but failed to actually change the licensing. \n",
      ":Image:Dhoom2.jpg - Concern that the creator is in no position to submit the image under a Creative Commons license, as it depicts a billboard for a film and copyright to it is held by somebody else than the photographer. As such, the photo may not be used on Wikipedia, except perhaps under fair use policy (which probably doesn't apply), or under panorama freedom (depending on what the copyright law of India says on this topic).\n",
      ":Image:Bipasha.jpg - Image description page implies that it is licensed for non-commercial use only (contradicting your copyright tag); such a restriction is not acceptable on Wikipedia. In addition, the link to the original source (which could clarify which condition is correct) of the image is missing.\n",
      ":Image:Bom.jpg - The link to the original source at flickr is missing; author uploads images to flickr as \"\"all rights reserved\"\". \n",
      ":Image:Chowpatti.jpg - To verify that the image is indeed under the license you claim, the author should probably e-mail the Wikimedia Foundation and confirm that it is indeed under that license.\n",
      ":Image:Hydmall.jpg - The flickr page states that it is under a Creative Commons No-Derivative license; a license that prohibits the image to be modified/used in derivative works is not acceptable on Wikipedia, either.\n",
      ":Image:Infobangalore.jpg - No evidence of the image being under a free license.\n",
      ":Image:Brigaderoad.jpg - Flickr page states \"\"all rights reserved\"\".\n",
      ":Image:Hoogly.jpg - The link to the original source at flickr is missing; author uploads images to flickr as \"\"all rights reserved\"\".\n",
      ":Image:Haf.jpg - Flickr page states \"\"all rights reserved\"\".\n",
      ":Image:Bangtemp.jpg - Creative Commons No-Derivative license.\n",
      ":Image:Kolkahomes.jpg - All rights reserved.\n",
      ":Image:Delhimall.jpg - Creative Commons Attribution Non-commercial No-derivative license (unacceptable on Wikipedia).\n",
      ":Image:Yamun.jpg - All rights reserved.\n",
      ":Image:Kolk.jpg - All rights reserved.\n",
      ":Image:Myspalbang.jpg - All rights reserved.\n",
      ":Image:Bangalore.jpg - The link to the original source is missing; no evidence that it is under the Creative Commons license.\n",
      ":Image:Lalbagh.jpg - Taken from WikiTravel. Uploader ought to confirm that he is indeed under the author and that he has licensed it under the license indicated.\n",
      ":Image:Nagpur.JPG - Who made this image?\n",
      "\n",
      "There are several issues here. There are multiple Creative Commons licenses, not all of which are acceptable on Wikipedia. In particular, licenses that prohibit commercial use or making of derivative works are considered unfree and can't be used on Wikipedia, except as provided by the fair use policy; Creative Commons Atrribution, and Creative Commons Atrribution Sharealike licenses are okay. Also, there are multiple versions of the licenses; Creative Commons Atrribution Sharealike 1.0, 2.0, 2.5, and 3.0 are all distinct licenses. (The problem is that the upload dialogue only lists the 3.0 versions and not the earlier ones; when the image is under one of the older licenses, you ought to edit the image description page and correct the number. As far as I can see, Flickr only uses the 2.0 versions of the licenses.)\n",
      "\n",
      "In addition, some of the Flickr authors have indicated that they allow the image to be used on Wikipedia, without making it clear that they release it under one of the acceptable licenses; a permission that only extends to Wikipedia is not sufficient, either. You should ask the authors to do one of the following:\n",
      "Change the Flickr page to license the image under Creative Commons Attribution (or Attribution Sharealike) license (apparently, this would change the licensing for all images, and this may not be what they intend to do);\n",
      "Post a message to the image page with a text similar to the following:\n",
      "I, creator of the image, agree to license it under the Creative Commons Attribution license (link) [alternately: under the Creative Commons Attribution Sharealike license (link). This declaration overrides any statement to the contrary on this page.\n",
      "E-mail the Wikimedia Foundation (permissions-en[AT]wikimedia[DOT]org) with a message similar to the above, also specifying which image (images) the user intends to release under the license. (This would be the best choice if the author doesn't want to reveal his identity on Wikip\n",
      "====\n",
      "\"\n",
      "\n",
      " Israeli-Palestinian conflict protect? \n",
      "\n",
      "Yesterday there were relevent and reliably-sourced casualty figures added to the Israeli-Palestinian conflict article, and some editors objected to this. It seems you were called in to quickly \"\"protect\"\" the page from editing, effectively blocking the inclusion of the figures. You cited \"\"edit warring,\"\" the more accurate term would be repeated reverts from those who did not like the figures for political reasons. There are casualty figures in all the conflict, war, battle etc. Wiki articles I have referenced, why not this one? Thanks   \n",
      "RomaC, the edits which you tried to make were a set of statistics for one year only, which you attemepted to place in the first paragraph of an article describing a conflict of over sixty years. This article covers an issue of extreme sensitivity and complexity. The fact that your edits sparked so much conflict and opposition speaks for itself. Here at Wikipedia, we value the ability to achieve consensus, and to be fair to many viewpoints. And believe it or not, we often do achieve that at the article Israeli-Palestinian conflict. It is not enough to disinegnuously claim that your figures were \"\"reliable,\"\" without addressing any of the underlying issues, or any of the conflicts which it clearly and immediately caused. \n",
      "\n",
      "To repeat: statistics for just one year of the conflict do not belong anywhere in the article's lead. there are a wide variety of figures which either side could quote, all in the name of objectivity, which would clear and unacceptably attempt to create a slant towards one side or the other. please note, this is why we are careful when making edit to be sure that we actually have consensus, rather than simply telling others that they should provide consensus.   \n",
      "\n",
      "I strongly object to your calling me \"\"disinegnuous\"\" [sic]. You wrote on the article talk page that you agreed with Hertz1888, who argued that the statistics might be biased. Do you not regard Haaretz as a reliable source? Please explain more clearly why you feel that citing reliably-sourced and up-to-date civilian casualty statistics in an article about a war, battle or conflict is disingenuous. If you or any other editor want to add more statistics, covering a longer time period, then go ahead, but do not delete relevant content added by other editors. Yes, the edit \"\"sparked so much conflict and opposition\"\" but note also also that here at Wikipedia we do not determine what is \"\"fair\"\" through intimidation by numbers. There is a big difference between consensus and false compromise.   \n",
      "\n",
      "I apologize if you felt I was offending you in any way. i only meant to describe the appearance of your edits, not to describe you personally in any way. if other editors deleted some edits, it is because they genuinely felt there was a reason to do so, and that the material was not beneficial or fair to the article. I responded to your concerns and issues further at the article talk page. thanks.    \n",
      "\n",
      "Apology accepted, and I will also make my further comments on the article talk page. I am not a single-issue editor I get around a bit on Wiki, saw the Haaretz report and very much believe it is something very relevant to the article. I can't say I know for certain why other editors deleted the material, I try to assume good faith, we'll see.   \n",
      "\"\"repeated reverts from those who did not like the figures for political reasons\"\" - motive doesn't really matter, its still edit warring, its still disruptive. Protection is not an endorsement of the current version. Z-man \n",
      "The subject of this article is a deadly conflict, the lede is huge - and yet it contains no mention of the casualties. Clearly, there is something seriously wrong. As a result, your action here, while well-intentioned, looks highly partisan. Worse than that, it looks rather like like a cynical move to protect deniers, those who wish to cover up atrocities, the mass killings of (mostly) unarmed civilians, in many cases recognised by Western sources as war-crimes. If the events at this article really offend you, it would be a lot better to lock it at the alternative version. talk 10:39,\n",
      "====\n",
      "\"\n",
      "\n",
      " About Einstein \n",
      "\n",
      "My search of any document that might bear Einstein's name - in the League of Nations archive - in between 1930 - 1932 returns no results. See http://biblio-archive.unog.ch/archivplan.aspx.  By reviewing five books dealing with Einstein's work and life - not a single one mentioned this Einstein's support to the Ustase cause. Just one, written in German,\n",
      "\n",
      "Einstein: Sein Leben by Denis Brian, Christine von Samson-Mark, Wiley-VCH, 2005 page 352\n",
      "\n",
      "Indem er sich den Angelegenheiten seines eigenen Landes zuwandte, empoerte sich Einstein ueber deutsche Studenten, die fuer die Entlassung eines Professors agitierten, weil dieser ein Pazifist gegen politisch motivierte Todesurteile war. \"\"Es ist entsertzlich zu sehen, wie die unerfahrene Jugend fehlgeleitet wird\"\", schrieb er an das Berliner Tageblatt. \"\"Wenn dies so weitergeht, werden wir \n",
      "nach einer Tyrannei der Faschisten bei einer Herrschaft des Rotten Terrors ankommen.\"\" Er glaubte, dass eine solche Herrschaft bereits in Jugoslawien ausgeloest worden sei und kritisierte die Landesregierung fuer den Mord an dem kroatischen Fuehrer, Professor Milan Sufflay, der Geschichte an der Universitaet von Zagreb gelehrt hatte.\n",
      "\n",
      "Reading further this book it is clear that the only information available to Einstein was 'The \"\"inside story\"\" of the Sufflay murder was given by the Croat journalist (Ustase propagandist), Slavko Cihlar, in the Berliner Tageblatt, February 26, 1931.'\n",
      "\n",
      "So, it is apparent that Einstein fell under spell of the Ustase propaganda. About the same propaganda, see:\n",
      "\n",
      "Appeal of the Croatian Academicians to the World of Civilisation: How the Croatian Savant, Professor of University, Dr. Milan Sufflay was Murdered by the Serbian Royal Dictatorship\n",
      "by Croatian University clubs association, Zagreb, 1931 32 pages\n",
      "\n",
      "which was elaborated by \n",
      "\n",
      "\"\"Blood and Homeland\"\": Eugenics and Racial Nationalism in Central and Southeast Europe, 1900-1940\n",
      "by Marius Turda, Paul Weindling, Central European University Press, 2007 page 107\n",
      "\n",
      "Shortly afterwards, students from the Croatian University Club Association produced an English language pamphlet, How the Croatian Savant, Professor of University Dr. Milan Sufflay, was Murdered by the Serbian Royal Dictatorship, in which they appealed to European public opinion to recognize that the murder of Sufflay was the result of endeavors to build an absolutist South Slav state. In such a state, the \"\"European culture\"\" of Croatia and the Croatian was to be replaced by Serbian suzerainty, in which \"\"orthodox, byzantine, oriental-asiatic and oldtuc (sic) political and social traditions\"\" had been subsumed into a system \"\"not only contrary but also odious to European culture\"\"\n",
      "\n",
      "Turda also says that \"\"His murder occasioned international condemnation and outrage from, among others, Albert Einstein and Heinrich Mann of the German League for the Rights of Man\"\" (no source was given)\n",
      "\n",
      "About the Sufflay murderer\n",
      "\n",
      "Thinking about Yugoslavia: Scholarly Debates about the Yugoslav Breakup and the Wars in Bosnia and Kosovo by Sabrina P. Ramet, Cambridge University Press, 2005 page 254\n",
      "\n",
      "Goldstein (Croatian historian) leaves the question of agency to the side and writes simply that Sufflay, who, as he notes, was an accomplished observer of Albanian culture, 'was killed on the street in Zagreb. The killers were never found\"\" see also: Croatia: A History\n",
      "by Ivo Goldstein, translated by Nikolina Jovanovic,  McGill-Queen's Press - MQUP, 1999 - page 125\n",
      "\n",
      "About the same Sufflay\n",
      "\n",
      "Women, Gender, and Fascism in Europe, 1919-45: 1919-1945 By Kevin Passmore, Manchester University Press, 2003 page 115, Fascism in Croatia chapter: Ante Starcevic and Milan Sufflay, who used a demonic concept of Serbs as the cornerstone of their ideologies.\n",
      "\n",
      "Conflicts: Studies in Contemporary History by Lewis Bernstein Namier, Macmillan, 1942 page 49\n",
      "\n",
      "The racial theories of a Croat writer named Sufflay were taken up since Sufflay had held that the Croats were not Slavs like the Serbs, bu were descendants of a settlement of Goths.\n",
      "\n",
      "War and Revolution in Yugoslavia, 1941-1945: Occupation and Collaboration by Jozo Tomasevich\n",
      "Published by Stanford University Press, 2001 page 20:\n",
      "Sufflay was indicted in 1921 for espionage and connections with Croatian emigres and sentenced to athree year prison term\n",
      "\n",
      "Bottom line: the story about Einstein's support to the Ustase cause is one-sided and even false.72.75.20.29  \"\n"
     ]
    }
   ],
   "source": [
    "j = 0\n",
    "for i in train_datapoints:\n",
    "    if len(i.comment_text) > 4000:\n",
    "        print('====')\n",
    "        print(i.comment_text)\n",
    "        j += 1\n",
    "        if j > 10:\n",
    "            break"
   ]
  },
  {
   "cell_type": "code",
   "execution_count": 7,
   "metadata": {
    "collapsed": true
   },
   "outputs": [],
   "source": [
    "cond = lambda x: sum(x[2:]) >= 1\n",
    "classified_train_datapoints = [p for p in train_datapoints if cond(p)]"
   ]
  },
  {
   "cell_type": "code",
   "execution_count": 8,
   "metadata": {
    "scrolled": true
   },
   "outputs": [
    {
     "data": {
      "text/plain": [
       "10559"
      ]
     },
     "execution_count": 8,
     "metadata": {},
     "output_type": "execute_result"
    }
   ],
   "source": [
    "len(classified_train_datapoints)"
   ]
  },
  {
   "cell_type": "code",
   "execution_count": null,
   "metadata": {
    "scrolled": true
   },
   "outputs": [],
   "source": [
    "test_datapoints[1000:1010]"
   ]
  },
  {
   "cell_type": "markdown",
   "metadata": {},
   "source": [
    "## Build vocabulary"
   ]
  },
  {
   "cell_type": "markdown",
   "metadata": {},
   "source": [
    "#### buils INPUT_VOCAB"
   ]
  },
  {
   "cell_type": "code",
   "execution_count": null,
   "metadata": {
    "scrolled": true
   },
   "outputs": [],
   "source": [
    "%timeit\n",
    "from nltk import word_tokenize\n",
    "from tqdm import tqdm\n",
    "from collections import defaultdict\n",
    "datapoints = train_datapoints\n",
    "WORD_FREQ = defaultdict(int)\n",
    "INPUT_VOCAB = [word for dp in tqdm(datapoints) for word in word_tokenize(dp.comment_text)]\n",
    "OUTPUT_VOCAB = ['toxic','severe_toxic','obscene', 'threat','insult','identity_hate']\n"
   ]
  },
  {
   "cell_type": "code",
   "execution_count": null,
   "metadata": {
    "scrolled": true
   },
   "outputs": [],
   "source": [
    "INPUT_VOCAB = INPUT_VOCAB + OUTPUT_VOCAB\n",
    "for word in INPUT_VOCAB: WORD_FREQ[word] += 1\n",
    "\n",
    "WORD_FREQ_PAIRS = sorted(WORD_FREQ.items(), key=lambda x: -x[1])\n",
    "print(WORD_FREQ_PAIRS[1110:1120])\n",
    "\n",
    "INPUT_VOCAB = [x[0] for x in WORD_FREQ_PAIRS]\n",
    "INPUT_VOCAB = list(set(INPUT_VOCAB))\n",
    "len(INPUT_VOCAB)"
   ]
  },
  {
   "cell_type": "code",
   "execution_count": null,
   "metadata": {
    "scrolled": true
   },
   "outputs": [],
   "source": [
    "print(WORD_FREQ_PAIRS[:100], WORD_FREQ_PAIRS[-100:])"
   ]
  },
  {
   "cell_type": "code",
   "execution_count": null,
   "metadata": {
    "collapsed": true
   },
   "outputs": [],
   "source": [
    "OUTPUT_VOCAB = ['toxic','severe_toxic','obscene', 'threat','insult','identity_hate']\n",
    "INPUT_VOCAB = ['<<PAD>>', '<<UNK>>'] + list(set(INPUT_VOCAB + OUTPUT_VOCAB))"
   ]
  },
  {
   "cell_type": "markdown",
   "metadata": {},
   "source": [
    "#### builds WORD_INDEX"
   ]
  },
  {
   "cell_type": "code",
   "execution_count": null,
   "metadata": {
    "collapsed": true
   },
   "outputs": [],
   "source": [
    "WORD_INDEX = {w: i for i, w in enumerate(INPUT_VOCAB)}\n",
    "OUTPUT_WORD_INDEX = {w: i for i, w in enumerate(OUTPUT_VOCAB)}\n",
    "OUTPUT_IDS = [OUTPUT_WORD_INDEX[i] for i in OUTPUT_VOCAB]"
   ]
  },
  {
   "cell_type": "code",
   "execution_count": null,
   "metadata": {},
   "outputs": [],
   "source": [
    "sorted(list(WORD_INDEX.items()), key=lambda x: x[1])[:10], WORD_INDEX['<<PAD>>'], INPUT_VOCAB[0], INPUT_VOCAB[ WORD_INDEX['<<PAD>>'] ]"
   ]
  },
  {
   "cell_type": "markdown",
   "metadata": {},
   "source": [
    "## tests INPUTVOCAB and WORD_INDEX mapping"
   ]
  },
  {
   "cell_type": "code",
   "execution_count": null,
   "metadata": {
    "scrolled": true
   },
   "outputs": [],
   "source": [
    "import random\n",
    "_i = train_datapoints[random.choice(range(len(train_datapoints)))]\n",
    "print(_i.comment_text)\n",
    "print(\"======\")\n",
    "print(' '.join( [INPUT_VOCAB[i] for i in \n",
    "                [WORD_INDEX[j] for j in word_tokenize(_i.comment_text)]])  )"
   ]
  },
  {
   "cell_type": "markdown",
   "metadata": {},
   "source": [
    "## Baseline model"
   ]
  },
  {
   "cell_type": "code",
   "execution_count": null,
   "metadata": {
    "collapsed": true
   },
   "outputs": [],
   "source": [
    "class Model(nn.Module):\n",
    "    def __init__(self, Config, input_vocab_size, output_vocab_size):\n",
    "        super(Model, self).__init__()\n",
    "        self.input_vocab_size = input_vocab_size\n",
    "        self.output_vocab_size = output_vocab_size\n",
    "        self.hidden_dim = Config.hidden_dim\n",
    "\n",
    "        self.embed = nn.Embedding(self.input_vocab_size, self.hidden_dim)\n",
    "        self.encode = nn.GRUCell(self.hidden_dim, self.hidden_dim)\n",
    "        self.classify = [nn.Linear(self.hidden_dim, 2)\n",
    "                         for i in range (self.output_vocab_size)]\n",
    "\n",
    "        self.log = model_logger.getLogger('model')\n",
    "        self.log.setLevel(logging.INFO)\n",
    "        if Config.cuda:\n",
    "            self.cuda()\n",
    "            [i.cuda() for i in self.classify]\n",
    "        \n",
    "    def init_hidden(self, batch_size):\n",
    "        ret = torch.zeros(batch_size, self.hidden_dim)\n",
    "        if Config().cuda: ret = ret.cuda()\n",
    "        return Variable(ret)\n",
    "    \n",
    "    def forward(self, seq):\n",
    "        seq = Variable(torch.LongTensor(seq))\n",
    "        if Config().cuda: seq = seq.cuda()\n",
    "        batch_size = seq.size()[0]\n",
    "        self.log.debug('{} seq size: {}'.format(type(seq.data), seq.size()))\n",
    "        seq_emb = self.embed(seq).transpose(1,0)\n",
    "        output = self.init_hidden(batch_size)\n",
    "        for token_emb in seq_emb:\n",
    "            self.log.debug('token_emb := {}'.format(token_emb))\n",
    "            self.log.debug('output := {}'.format(output))\n",
    "            output = self.encode(token_emb, output)\n",
    "                    \n",
    "        self.log.debug('output := {}'.format(output))    \n",
    "        ret = torch.stack([F.softmax(classify(output), dim=-1) for classify in self.classify])\n",
    "        self.log.debug('ret := {}'.format(ret))\n",
    "        self.log.debug('ret size: {}'.format(ret.size()))\n",
    "        return ret"
   ]
  },
  {
   "cell_type": "markdown",
   "metadata": {},
   "source": [
    "### Batching utils"
   ]
  },
  {
   "cell_type": "code",
   "execution_count": null,
   "metadata": {},
   "outputs": [],
   "source": [
    "import numpy as np\n",
    "def seq_maxlen(seqs):\n",
    "    return max([len(seq) for seq in seqs])\n",
    "\n",
    "PAD = WORD_INDEX[INPUT_VOCAB[0]]\n",
    "print(PAD)\n",
    "def pad_seq(seqs, maxlen=0, PAD=PAD):\n",
    "    if type(seqs[0]) == type([]):\n",
    "        maxlen = maxlen if maxlen else seq_maxlen(seqs)\n",
    "        def pad_seq_(seq):\n",
    "            return seq + [PAD]*(maxlen-len(seq))\n",
    "        seqs = [ pad_seq_(seq) for seq in seqs ]\n",
    "    return seqs\n",
    "\n",
    "def batchop(datapoints, *args, **kwargs):\n",
    "    indices = [d.id for d in datapoints]\n",
    "    seq   = pad_seq([ [WORD_INDEX[w] for w in word_tokenize(d.comment_text)]\n",
    "                     for d in datapoints])\n",
    "    target = [(d.toxic, d.severe_toxic, d.obscene, d.threat, d.insult, d.identity_hate)\n",
    "              for d in datapoints]\n",
    "    seq, target = np.array(seq), np.array(target)\n",
    "    return indices, (seq, ), (target,)"
   ]
  },
  {
   "cell_type": "markdown",
   "metadata": {},
   "source": [
    "## Attention based model"
   ]
  },
  {
   "cell_type": "code",
   "execution_count": null,
   "metadata": {
    "collapsed": true
   },
   "outputs": [],
   "source": [
    "import math\n",
    "class AttModel(nn.Module):\n",
    "    def __init__(self, Config, input_vocab_size, output_vocab_size):\n",
    "        super(AttModel, self).__init__()\n",
    "        self.input_vocab_size = input_vocab_size\n",
    "        self.output_vocab_size = output_vocab_size\n",
    "        self.hidden_dim = Config.hidden_dim\n",
    "\n",
    "        self.embed = nn.Embedding(self.input_vocab_size, self.hidden_dim)\n",
    "        self.cembed = nn.Embedding(self.output_vocab_size, self.hidden_dim)\n",
    "        self.encode = nn.GRUCell(self.hidden_dim, self.hidden_dim)\n",
    "        self.dropout = nn.Dropout(0.5)\n",
    "        self.attend = nn.Parameter(torch.FloatTensor(self.hidden_dim, self.hidden_dim))\n",
    "\n",
    "        self.classify = nn.Linear(self.hidden_dim, 2)\n",
    "        self.log = model_logger.getLogger('model')\n",
    "        self.size_log = self.log.getLogger('size')\n",
    "        self.log.setLevel(logging.INFO)\n",
    "        self.size_log.setLevel(logging.INFO)\n",
    "        \n",
    "        #self.embed.weight.data.copy_(torch.Tensor([-0.001]).expand_as(self.embed.weight.data))\n",
    "        self.attend.data.normal_(0, 0.1)\n",
    "        if Config.cuda:\n",
    "            self.cuda()\n",
    "            \n",
    "    def logsize(self, tensor, name=''):\n",
    "        self.size_log.debug('{} <- {}'.format(tensor.size(), name))\n",
    "        \n",
    "    def init_hidden(self, batch_size):\n",
    "        ret = torch.zeros(batch_size, self.hidden_dim)\n",
    "        if Config().cuda: ret = ret.cuda()\n",
    "        return Variable(ret)\n",
    "    \n",
    "    def forward(self, seq, classes=OUTPUT_IDS):\n",
    "        seq = Variable(torch.LongTensor(seq))\n",
    "        classes = Variable(torch.LongTensor(classes))\n",
    "           \n",
    "        if Config().cuda: \n",
    "            seq = seq.cuda()\n",
    "            classes = classes.cuda()\n",
    "            \n",
    "        pad_mask = (seq > 0).float()\n",
    "        self.log.debug('seq {}'.format(seq))\n",
    "        self.log.debug('classes {}'.format(classes))\n",
    "        self.log.debug('pad_mask {}'.format(pad_mask))\n",
    "         \n",
    "        batch_size = seq.size()[0]\n",
    "        self.log.debug('{} seq size: {}'.format(type(seq.data), seq.size()))\n",
    "        seq_emb = self.embed(seq).transpose(1,0)                  ;self.logsize(seq_emb, 'seq_emb')\n",
    "        self.log.debug('seq_emb {}'.format(seq_emb))\n",
    "\n",
    "        seq_repr = []\n",
    "        output = self.init_hidden(batch_size)                     ;self.logsize(output, 'output')\n",
    "        for token_emb in seq_emb:\n",
    "            self.log.debug('token_emb := {}'.format(token_emb))\n",
    "            self.log.debug('output := {}'.format(output))\n",
    "            output = self.encode(token_emb, output)               ;self.logsize(output, 'output')\n",
    "            output = self.dropout(output)\n",
    "            seq_repr.append(output)\n",
    "\n",
    "        seq_repr = torch.stack(seq_repr).transpose(1,0)           ;self.logsize(seq_repr, 'seq_repr')\n",
    "        outputs = []\n",
    "        attend = self.attend\n",
    "        self.logsize(attend, 'attend')\n",
    "        for class_ in classes:\n",
    "            class_emb = self.cembed(class_)                  ;self.logsize(class_emb, 'class_emb')\n",
    "            self.log.debug('class_emb: {}'.format(class_emb))\n",
    "            self.log.debug('attend: {}'.format(attend))\n",
    "\n",
    "            attn = torch.mm(class_emb, attend)        ;self.logsize(attn, 'attn')\n",
    "            self.log.debug('attn: {}'.format(attn))\n",
    "            #attn = attn.expand_as(seq_repr) ;self.logsize(attn, 'attn')\n",
    "            attended_outputs = torch.bmm(attn.expand(seq_repr.size()[0], *attn.size()), seq_repr.transpose(1,2))                \n",
    "        \n",
    "            self.logsize(attended_outputs, 'attended_outputs')\n",
    "            self.log.debug('{}'.format(attended_outputs))\n",
    "            attended_outputs = attended_outputs.squeeze(1) * pad_mask\n",
    "            self.logsize(attended_outputs, 'attended_outputs')\n",
    "            self.log.debug('{}'.format(attended_outputs))\n",
    "            output = attended_outputs.unsqueeze(-1) * seq_repr\n",
    "            self.logsize(output, 'output')\n",
    "            self.log.debug('output {}'.format(output))\n",
    "\n",
    "            output = output.sum(1).squeeze(1)                ;self.logsize(output, 'output')\n",
    "            self.log.debug('output {}'.format(output))\n",
    "            output = self.classify(output)                  ;self.logsize(output, 'output')\n",
    "            self.log.debug('output {}'.format(output))\n",
    "            output = F.softmax(output)\n",
    "            self.log.debug('output {}'.format(output))\n",
    "\n",
    "            outputs.append(output)\n",
    "            \n",
    "        ret = torch.stack(outputs)\n",
    "        self.log.debug('ret {}'.format(ret))\n",
    "\n",
    "        return ret"
   ]
  },
  {
   "cell_type": "markdown",
   "metadata": {},
   "source": [
    "## Loss and accuracy function"
   ]
  },
  {
   "cell_type": "code",
   "execution_count": null,
   "metadata": {},
   "outputs": [],
   "source": [
    "def loss(output, target, loss_function=nn.NLLLoss(), *args, **kwargs):\n",
    "    loss = 0\n",
    "    target = target[0]\n",
    "    target = Variable(torch.LongTensor(target), requires_grad=False)\n",
    "    if Config().cuda: target = target.cuda()\n",
    "    output = output.transpose(1,0)\n",
    "    batch_size = output.size()[0]\n",
    "    for i, t in zip(output, target):\n",
    "        log.debug('i, o sizes: {} {}'.format(i, t))\n",
    "        loss += loss_function(i, t.squeeze()).mean()\n",
    "        log.debug('loss size: {}'.format(loss))\n",
    "\n",
    "    del target\n",
    "    return (loss/batch_size)\n",
    "\n",
    "def accuracy(output, target, *args, **kwargs):\n",
    "    accuracy = 0.0\n",
    "    target = target[0]\n",
    "    target = Variable(torch.LongTensor(target), requires_grad=False)\n",
    "    if Config().cuda: target = target.cuda()\n",
    "    output = output.transpose(1,0)\n",
    "    batch_size = output.size()[0]\n",
    "    class_size = output.size()[1]    \n",
    "    for i, t in zip(output, target):\n",
    "        correct = (i.max(dim=1)[1] == t).sum().float()\n",
    "        accuracy += correct/class_size\n",
    "    del target\n",
    "    return (accuracy/batch_size)\n",
    "    "
   ]
  },
  {
   "cell_type": "markdown",
   "metadata": {},
   "source": [
    "### repr_function to build human readable output from model"
   ]
  },
  {
   "cell_type": "code",
   "execution_count": null,
   "metadata": {
    "collapsed": true
   },
   "outputs": [],
   "source": [
    "from IPython.display import HTML\n",
    "from IPython.display import display\n",
    "def repr_function(output, feed, batch_index):\n",
    "    results = []\n",
    "    output = output.transpose(1,0)\n",
    "    indices, (seq,), (classes,) = feed.nth_batch(batch_index)\n",
    "    print(output.size(), len(indices), len(seq), len(classes))\n",
    "    for i, o, s, c in zip(indices, output, seq, classes):\n",
    "        orig_s = feed.data_dict[i].comment_text\n",
    "        s = [INPUT_VOCAB[i] for i in s]\n",
    "        s = ' '.join(s)\n",
    "        results.append([orig_s, s] + list(c))\n",
    "        o = o.max(dim=1)[1]\n",
    "        results.append([' ', '  '] + o.data.cpu().numpy().tolist())\n",
    "    del indices, seq, classes\n",
    "    return results"
   ]
  },
  {
   "cell_type": "code",
   "execution_count": null,
   "metadata": {
    "collapsed": true
   },
   "outputs": [],
   "source": [
    "_train_datapoints = train_datapoints"
   ]
  },
  {
   "cell_type": "code",
   "execution_count": null,
   "metadata": {
    "collapsed": true,
    "scrolled": true
   },
   "outputs": [],
   "source": [
    "import logging\n",
    "log.setLevel(logging.INFO)"
   ]
  },
  {
   "cell_type": "markdown",
   "metadata": {},
   "source": [
    "## Experiment on model 1"
   ]
  },
  {
   "cell_type": "code",
   "execution_count": null,
   "metadata": {
    "collapsed": true,
    "scrolled": true
   },
   "outputs": [],
   "source": [
    "import random\n",
    "def  experiment(epochs=10, checkpoint=1, train_datapoints=train_datapoints):\n",
    "    model =  Model(Config(), len(INPUT_VOCAB), len(OUTPUT_VOCAB))\n",
    "    if Config().cuda:  model = model.cuda()\n",
    "        \n",
    "    split_index = int( len(train_datapoints) * 0.85 )\n",
    "    train_feed = DataFeed(train_datapoints[:split_index], batchop=batchop, batch_size=128)\n",
    "    test_feed = DataFeed(train_datapoints[split_index:], batchop=batchop, batch_size=120)\n",
    "\n",
    "    trainer = Trainer(model=model, loss_function=loss, accuracy_function=accuracy, \n",
    "                    checkpoint=checkpoint, epochs=epochs,\n",
    "                    feeder = Feeder(train_feed, test_feed))\n",
    "\n",
    "    predictor = Predictor(model=model, repr_function=repr_function, feed=test_feed)\n",
    "\n",
    "    for e in range(1):\n",
    "        output, results = predictor.predict(random.choice(range(test_feed.num_batch)))\n",
    "        display(HTML(results._repr_html_()))\n",
    "        del output, results\n",
    "        trainer.train()\n",
    "        \n",
    "experiment(train_datapoints=classified_train_datapoints)"
   ]
  },
  {
   "cell_type": "code",
   "execution_count": null,
   "metadata": {
    "collapsed": true
   },
   "outputs": [],
   "source": [
    "del output, results"
   ]
  },
  {
   "cell_type": "markdown",
   "metadata": {},
   "source": [
    "## Experiment on model using attention"
   ]
  },
  {
   "cell_type": "code",
   "execution_count": null,
   "metadata": {
    "collapsed": true
   },
   "outputs": [],
   "source": []
  },
  {
   "cell_type": "code",
   "execution_count": null,
   "metadata": {
    "scrolled": true
   },
   "outputs": [],
   "source": [
    "import random\n",
    "import gc\n",
    "def  experiment(eons=100, epochs=1, checkpoint=1):\n",
    "    model =  AttModel(Config(), len(INPUT_VOCAB), len(OUTPUT_VOCAB))\n",
    "    if Config().cuda:  model = model.cuda()\n",
    "        \n",
    "    split_index = int( len(classified_train_datapoints) * 0.85 )\n",
    "    key=lambda x: len(word_tokenize(x.comment_text))\n",
    "    #key  = None\n",
    "    classified_train_feed = DataFeed(classified_train_datapoints[:split_index], batchop=batchop, batch_size=128, sort_key=key)\n",
    "    classified_test_feed = DataFeed(classified_train_datapoints[split_index:], batchop=batchop, batch_size=128, sort_key=key)\n",
    "    \n",
    "    split_index = int( len(train_datapoints) * 0.85 )\n",
    "    non_classified_train_feed = DataFeed(train_datapoints[:split_index], batchop=batchop, batch_size=128, sort_key=key)\n",
    "    non_classified_test_feed = DataFeed(train_datapoints[split_index:], batchop=batchop, batch_size=128, sort_key=key)\n",
    "    \n",
    "    classified_trainer = Trainer(model=model, \n",
    "                    loss_function=loss, accuracy_function=accuracy, \n",
    "                    checkpoint=checkpoint, epochs=epochs,\n",
    "                    feeder = Feeder(classified_train_feed, classified_test_feed))\n",
    "        \n",
    "    non_classified_trainer = Trainer(model=model, \n",
    "                    loss_function=loss, accuracy_function=accuracy, \n",
    "                    checkpoint=checkpoint, epochs=epochs,\n",
    "                    feeder = Feeder(non_classified_train_feed, non_classified_test_feed))    \n",
    "    \n",
    "    predictor_classified_feed = DataFeed(classified_train_datapoints, batchop=batchop, batch_size=12)\n",
    "    predictor1 = Predictor(model=model, feed=predictor_classified_feed, repr_function=repr_function)\n",
    "    \n",
    "    predictor_non_classified_feed = DataFeed(train_datapoints, batchop=batchop, batch_size=12)\n",
    "    predictor2 = Predictor(model=model, feed=predictor_non_classified_feed, repr_function=repr_function)\n",
    "    \n",
    "    for e in range(eons):\n",
    "        log.info('on {}th eon'.format(e))\n",
    "        output, results = predictor1.predict(random.choice(range(predictor_classified_feed.num_batch)))\n",
    "        display(HTML(results._repr_html_()))\n",
    "        del output, results\n",
    "        output, results = predictor2.predict(random.choice(range(predictor_non_classified_feed.num_batch)))\n",
    "        display(HTML(results._repr_html_()))\n",
    "        del output, results\n",
    "        non_classified_trainer.train()\n",
    "        classified_trainer.train()\n",
    "    model = model.cpu()\n",
    "experiment()\n",
    "gc.collect()"
   ]
  },
  {
   "cell_type": "code",
   "execution_count": null,
   "metadata": {
    "collapsed": true
   },
   "outputs": [],
   "source": [
    "for obj in gc.get_objects():\n",
    "    if torch.is_tensor(obj) or (hasattr(obj, 'data') and torch.is_tensor(obj.data)):\n",
    "        print(type(obj), obj.size())"
   ]
  },
  {
   "cell_type": "code",
   "execution_count": null,
   "metadata": {
    "collapsed": true
   },
   "outputs": [],
   "source": [
    "dummy_feed = DataFeed(train_datapoints[:100], batchop=batchop, batch_size=1)\n",
    "indices, (seq,), (target,) = dummy_feed.nth_batch(random.choice(range(dummy_feed.num_batch)))\n",
    "print(dummy_feed.data_dict[indices[0]])\n",
    "print([INPUT_VOCAB[i] for i in seq[0]])"
   ]
  }
 ],
 "metadata": {
  "kernelspec": {
   "display_name": "pytorch-py35",
   "language": "python",
   "name": "pytorch-py35"
  },
  "language_info": {
   "codemirror_mode": {
    "name": "ipython",
    "version": 3
   },
   "file_extension": ".py",
   "mimetype": "text/x-python",
   "name": "python",
   "nbconvert_exporter": "python",
   "pygments_lexer": "ipython3",
   "version": "3.5.2"
  }
 },
 "nbformat": 4,
 "nbformat_minor": 2
}
