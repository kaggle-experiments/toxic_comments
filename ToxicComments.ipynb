{
 "cells": [
  {
   "cell_type": "code",
   "execution_count": 1,
   "metadata": {
    "collapsed": true
   },
   "outputs": [],
   "source": [
    "%load_ext autoreload"
   ]
  },
  {
   "cell_type": "code",
   "execution_count": 2,
   "metadata": {},
   "outputs": [
    {
     "name": "stderr",
     "output_type": "stream",
     "text": [
      "2018-01-29 11:27:47,145:root:INFO   :           getLogger:: creating logger for main under MODEL\n"
     ]
    }
   ],
   "source": [
    "from config import Config\n",
    "from pprint import pprint, pformat\n",
    "from logger import model_logger\n",
    "log = model_logger.getLogger('main')\n",
    "log.setLevel(Config.Log.MODEL.level)"
   ]
  },
  {
   "cell_type": "code",
   "execution_count": 3,
   "metadata": {},
   "outputs": [
    {
     "name": "stderr",
     "output_type": "stream",
     "text": [
      "2018-01-29 11:27:47,211:root:INFO   :           getLogger:: creating logger for main under TRAINER\n",
      "2018-01-29 11:27:47,428:root:INFO   :           getLogger:: creating logger for main under DATAFEED\n"
     ]
    }
   ],
   "source": [
    "%autoreload 2\n",
    "from trainer import Trainer, Feeder, Predictor\n",
    "from datafeed import DataFeed\n",
    "from torch import nn, optim\n",
    "from torch.nn import functional as F\n",
    "from torch.autograd import Variable\n",
    "import torch"
   ]
  },
  {
   "cell_type": "code",
   "execution_count": 4,
   "metadata": {
    "collapsed": true
   },
   "outputs": [],
   "source": [
    "import csv\n",
    "train_dataset = csv.reader(open('dataset/train.csv'))\n",
    "test_dataset = csv.reader(open('dataset/test.csv'))"
   ]
  },
  {
   "cell_type": "code",
   "execution_count": 5,
   "metadata": {
    "collapsed": true
   },
   "outputs": [],
   "source": [
    "from collections import namedtuple\n",
    "Sample = namedtuple('Sample', ['id','comment_text',\n",
    "                               'toxic','severe_toxic','obscene',\n",
    "                               'threat','insult','identity_hate'])"
   ]
  },
  {
   "cell_type": "markdown",
   "metadata": {},
   "source": [
    "### Unicode to ascii text"
   ]
  },
  {
   "cell_type": "code",
   "execution_count": 6,
   "metadata": {},
   "outputs": [
    {
     "data": {
      "text/plain": [
       "(159571, 153164)"
      ]
     },
     "execution_count": 6,
     "metadata": {},
     "output_type": "execute_result"
    }
   ],
   "source": [
    "import unicodedata\n",
    "train_datapoints = []\n",
    "for i in list(train_dataset)[1:]:\n",
    "    _id, c, t, st, o, t, ins, ih = i\n",
    "    t, st, o, t, ins, ih = (int(_) for _ in [t, st, o, t, ins, ih])\n",
    "    c = unicodedata.normalize('NFD', c).encode('ascii','ignore').decode()\n",
    "    train_datapoints.append(Sample(_id, c, t, st, o, t, ins, ih))\n",
    "\n",
    "test_datapoints = []\n",
    "for i in list(test_dataset)[1:]:\n",
    "    _id, c = i\n",
    "    c = unicodedata.normalize('NFD', c).encode('ascii','ignore').decode()\n",
    "    test_datapoints.append(Sample(_id, c, 0, 0, 0, 0, 0, 0))\n",
    "\n",
    "len(train_datapoints), len(test_datapoints)"
   ]
  },
  {
   "cell_type": "code",
   "execution_count": 7,
   "metadata": {
    "collapsed": true
   },
   "outputs": [],
   "source": [
    "#train_datapoints = train_datapoints[:1000]"
   ]
  },
  {
   "cell_type": "code",
   "execution_count": 8,
   "metadata": {},
   "outputs": [
    {
     "data": {
      "text/plain": [
       "[Sample(id='01ac9982edae9977', comment_text='\" \\n\\n Dear ,Welcome to Wikipedia!Unfortunately, using your e-mail address as your username is not a good idea. Wikipedia content is extensively copied and the site itself is one of the most visited sites in the world. Any edit you make on Wikipedia will have your username attached to it, and using your email address will make you a tempting target for spammers. We recommend that you change your username at Wikipedia:Changing username in order to prevent abuse.If you need any help, simply contact me on my talk page, or go to Wikipedia:Help desk. Another option is to place  on your own talk page, and someone will come shortly to help. Remember to sign your posts on talk pages with four tildes (~~~~). Again, welcome! -  at \"', toxic=0, severe_toxic=0, obscene=0, threat=0, insult=0, identity_hate=0),\n",
       " Sample(id='01ac9ea1271d7409', comment_text='Asshole, your dirty MF people tries to steal our glory and heavy persian (tajik) history by claiming us Awghans (mother/donkeyfuckers)', toxic=0, severe_toxic=0, obscene=0, threat=0, insult=0, identity_hate=0),\n",
       " Sample(id='01ad4ccccec8c8ad', comment_text='projective special orthogonal group needs to be written', toxic=0, severe_toxic=0, obscene=0, threat=0, insult=0, identity_hate=0),\n",
       " Sample(id='01adb423b7547078', comment_text='\":::: @RQG: A point you\\'re still missing is that there is more than one actual mathematical definition.  Different characterizations of a concept can be equivalent to each other, and which one is taken to be \"\"the\"\" definition may be a matter of convenience varying with the context.  As I pointed out above, one of the characterizations (as \"\"(A,V)\"\") superficially makes it appear that an affine space has more structure than a vector space (since the vector space is only \"\"V\"\" rather than \"\"(A,V)\"\").  But I explained why that is a superficial appearance, and that particular way of defining the concept of affine space is not the only way and is not sacred.    \\n \"', toxic=0, severe_toxic=0, obscene=0, threat=0, insult=0, identity_hate=0),\n",
       " Sample(id='01adfd302b3c8467', comment_text='August 2013 (UTC) \\n ::*Done.   17:20, 18', toxic=0, severe_toxic=0, obscene=0, threat=0, insult=0, identity_hate=0),\n",
       " Sample(id='01ae25c502702f12', comment_text='== Yet Another Frivolous Lawsuit == \\n\\n So what if the commercials had some false advertising in it. Eating yogurt as part of a balanced diet is still good for you. And that good bacteria that is in the yogurt has been there since the creation of yogurt.  The person suing was probably some fat idiot who ate like six serving of yogurt in one sitting everyday.  Just wait until we get some serious tort reform in America. It will put an end to this nonsense!', toxic=0, severe_toxic=0, obscene=0, threat=0, insult=0, identity_hate=0),\n",
       " Sample(id='01ae71463be0b983', comment_text=\"==Nottingham Panthers GA== \\n Thanks for your help on the Nottingham Panthers article GA review. I've now done all that was requested that you believed neccessary when the article was put on hold.\", toxic=0, severe_toxic=0, obscene=0, threat=0, insult=0, identity_hate=0),\n",
       " Sample(id='01ae75b51c6f104d', comment_text='\"Welcome! \\n\\n Hello, and welcome to Wikipedia. Thank you for your contributions. I hope you like the place and decide to stay. Here are a few good links for newcomers: \\n *The five pillars of Wikipedia \\n *How to edit a page \\n *Help pages \\n *Tutorial \\n *How to write a great article \\n *Manual of Style \\n I hope you enjoy editing here and being a Wikipedian! By the way, please be sure to sign your name on talk pages using four tildes (~~~~) to produce your name and the current date, or three tildes (~~~) for just your name. If you have any questions, you can post to the help desk or ask me on my talk page. Again, welcome!    \\n\\n Welcome to Wikipedia, the free encyclopedia! You don\\'t have to log in to read or edit articles on Wikipedia, but creating an account is quick, free and non-intrusive, requires no personal information, and gives you many benefits, including: \\n *The use of a username of your choice \\n *The ability to view all your contributions via a \"\"My contributions\"\" link  \\n *Your own user page  \\n *Your own talk page which, if you choose, also allows users to send you messages without knowing your e-mail address \\n *The use of your own personal watchlist to which you can add articles that interest you \\n *The ability to rename pages \\n *The ability to upload images  \\n *The ability to customize the appearance and behavior of the website \\n *The eligibility to become an administrator  \\n *The right to be heard in votes and elections \\n *Your IP address will no longer be visible to other users. \\n\\n We hope that you choose to become a Wikipedian and create an account.  We hope you enjoy your time here on Wikipedia as a Wikipedian! \\n\\n ==Australian Smelt== \\n\\n I did a little cleanup on the Australian Smelt article you wrote. Please write in complete sentances on wikipedia. please use proper stub tags on short articles  you can find the full list at Wikipedia:WikiProject Stub sorting/Stub types. Please try to come closer to our standard formatting. Thank you very much for contributing.   \"', toxic=0, severe_toxic=0, obscene=0, threat=0, insult=0, identity_hate=0),\n",
       " Sample(id='01aeddeab0ac923d', comment_text=\"Why would we dismiss all our usual, established reliable sources and scrabble around for others? As I and others have said, we don't need two ways to say the same thing, especially if one is in a foreign language.\", toxic=0, severe_toxic=0, obscene=0, threat=0, insult=0, identity_hate=0),\n",
       " Sample(id='01aeded1d76ab01c', comment_text='\" \\n\\n == Articles for Creation == \\n If you need an article created, you can list it in Wikipedia:Articles for creation, but please don\\'t create a new article like \"\"Paleolithic Revolution\"\" unless you\\'re actually adding content to it. Welcome, by the way!  \"', toxic=0, severe_toxic=0, obscene=0, threat=0, insult=0, identity_hate=0)]"
      ]
     },
     "execution_count": 8,
     "metadata": {},
     "output_type": "execute_result"
    }
   ],
   "source": [
    "test_datapoints[1000:1010]"
   ]
  },
  {
   "cell_type": "markdown",
   "metadata": {},
   "source": [
    "## Build vocabulary"
   ]
  },
  {
   "cell_type": "markdown",
   "metadata": {},
   "source": [
    "#### buils INPUT_VOCAB"
   ]
  },
  {
   "cell_type": "code",
   "execution_count": 9,
   "metadata": {
    "scrolled": true
   },
   "outputs": [
    {
     "name": "stderr",
     "output_type": "stream",
     "text": [
      "100%|██████████| 159571/159571 [01:28<00:00, 1800.43it/s]\n"
     ]
    },
    {
     "data": {
      "text/plain": [
       "299974"
      ]
     },
     "execution_count": 9,
     "metadata": {},
     "output_type": "execute_result"
    }
   ],
   "source": [
    "%timeit\n",
    "from nltk import word_tokenize\n",
    "from tqdm import tqdm\n",
    "datapoints = train_datapoints\n",
    "INPUT_VOCAB = [word for dp in tqdm(datapoints) for word in word_tokenize(dp.comment_text)]\n",
    "INPUT_VOCAB = list(set(INPUT_VOCAB))\n",
    "len(INPUT_VOCAB)"
   ]
  },
  {
   "cell_type": "code",
   "execution_count": 10,
   "metadata": {
    "scrolled": false
   },
   "outputs": [
    {
     "data": {
      "text/plain": [
       "['insane',\n",
       " 'ass/face',\n",
       " '*t',\n",
       " 'FLUID',\n",
       " 'members/archive1',\n",
       " 'cut-out.',\n",
       " \"'TS\",\n",
       " 'PED-OH-PHILE',\n",
       " 'Plainlist',\n",
       " 'AMAZING.']"
      ]
     },
     "execution_count": 10,
     "metadata": {},
     "output_type": "execute_result"
    }
   ],
   "source": [
    "INPUT_VOCAB[:10]"
   ]
  },
  {
   "cell_type": "code",
   "execution_count": 11,
   "metadata": {
    "collapsed": true
   },
   "outputs": [],
   "source": [
    "OUTPUT_VOCAB = ['toxic','severe_toxic','obscene', 'threat','insult','identity_hate']\n",
    "INPUT_VOCAB = ['<<PAD>>', '<<UNK>>'] + list(set(INPUT_VOCAB + OUTPUT_VOCAB))"
   ]
  },
  {
   "cell_type": "markdown",
   "metadata": {},
   "source": [
    "#### builds WORD_INDEX"
   ]
  },
  {
   "cell_type": "code",
   "execution_count": 12,
   "metadata": {
    "collapsed": true
   },
   "outputs": [],
   "source": [
    "WORD_INDEX = {w: i for i, w in enumerate(INPUT_VOCAB)}\n",
    "OUTPUT_IDS = [WORD_INDEX[i] for i in OUTPUT_VOCAB]"
   ]
  },
  {
   "cell_type": "code",
   "execution_count": 13,
   "metadata": {},
   "outputs": [
    {
     "data": {
      "text/plain": [
       "([('<<PAD>>', 0),\n",
       "  ('<<UNK>>', 1),\n",
       "  ('insane', 2),\n",
       "  ('FLUID', 3),\n",
       "  ('ass/face', 4),\n",
       "  ('*t', 5),\n",
       "  ('members/archive1', 6),\n",
       "  ('cut-out.', 7),\n",
       "  (\"'TS\", 8),\n",
       "  ('PED-OH-PHILE', 9)],\n",
       " 0,\n",
       " '<<PAD>>')"
      ]
     },
     "execution_count": 13,
     "metadata": {},
     "output_type": "execute_result"
    }
   ],
   "source": [
    "sorted(list(WORD_INDEX.items()), key=lambda x: x[1])[:10], WORD_INDEX['<<PAD>>'], INPUT_VOCAB[0]"
   ]
  },
  {
   "cell_type": "markdown",
   "metadata": {},
   "source": [
    "## tests INPUTVOCAB and WORD_INDEX mapping"
   ]
  },
  {
   "cell_type": "code",
   "execution_count": 14,
   "metadata": {},
   "outputs": [
    {
     "name": "stdout",
     "output_type": "stream",
     "text": [
      "Note to Eclecticology: Hum, you just brought to my attention a naming conflict for two cities named Paris over at List of places and things named Paris. Are their other such conflicts within Canada? And if so are most of these between Ontario and the rest of Canada? The city naming convention was debated and worked out on the wikipedia mailing list and in several other places  it would have been nice to know of any possible systemic internal naming conflicts within Canada. Maybe this is one of the few exceptions that we can disambiguate on a case-by-case basis What is the population of each of these Canadian Paris? Is it at all likely that either of these will become encyclopedia articles? maveric149\n",
      "\n",
      "\n",
      "\n",
      "\n",
      "Note to Eclecticology : Hum , you just brought to my attention a naming conflict for two cities named Paris over at List of places and things named Paris . Are their other such conflicts within Canada ? And if so are most of these between Ontario and the rest of Canada ? The city naming convention was debated and worked out on the wikipedia mailing list and in several other places it would have been nice to know of any possible systemic internal naming conflicts within Canada . Maybe this is one of the few exceptions that we can disambiguate on a case-by-case basis What is the population of each of these Canadian Paris ? Is it at all likely that either of these will become encyclopedia articles ? maveric149\n"
     ]
    }
   ],
   "source": [
    "import random\n",
    "_i = train_datapoints[random.choice(range(len(train_datapoints)))]\n",
    "print(_i.comment_text)\n",
    "print(\"\"\"\n",
    "\n",
    "\n",
    "\"\"\")\n",
    "print(\n",
    "      ' '.join( [INPUT_VOCAB[i] for i in \n",
    "                 [WORD_INDEX[j] for j in word_tokenize(_i.comment_text)]]\n",
    "              )\n",
    "     )"
   ]
  },
  {
   "cell_type": "markdown",
   "metadata": {},
   "source": [
    "## Baseline model"
   ]
  },
  {
   "cell_type": "code",
   "execution_count": 15,
   "metadata": {
    "collapsed": true
   },
   "outputs": [],
   "source": [
    "class Model(nn.Module):\n",
    "    def __init__(self, Config, input_vocab_size, output_vocab_size):\n",
    "        super(Model, self).__init__()\n",
    "        self.input_vocab_size = input_vocab_size\n",
    "        self.output_vocab_size = output_vocab_size\n",
    "        self.hidden_dim = Config.hidden_dim\n",
    "\n",
    "        self.embed = nn.Embedding(self.input_vocab_size, self.hidden_dim)\n",
    "        self.encode = nn.GRUCell(self.hidden_dim, self.hidden_dim)\n",
    "\n",
    "        self.classify = [nn.Linear(self.hidden_dim, 2)\n",
    "                         for i in range (self.output_vocab_size)]\n",
    "\n",
    "        self.log = model_logger.getLogger('model')\n",
    "        self.log.setLevel(logging.INFO)\n",
    "        if Config.cuda:\n",
    "            self.cuda()\n",
    "            [i.cuda() for i in self.classify]\n",
    "        \n",
    "    def init_hidden(self, batch_size):\n",
    "        ret = torch.zeros(batch_size, self.hidden_dim)\n",
    "        if Config().cuda: ret = ret.cuda()\n",
    "        return Variable(ret)\n",
    "    \n",
    "    def forward(self, seq):\n",
    "        seq = Variable(torch.LongTensor(seq))\n",
    "        if Config().cuda: seq = seq.cuda()\n",
    "        batch_size = seq.size()[0]\n",
    "        self.log.debug('{} seq size: {}'.format(type(seq.data), seq.size()))\n",
    "        seq_emb = self.embed(seq).transpose(1,0)\n",
    "        output = self.init_hidden(batch_size)\n",
    "        for token_emb in seq_emb:\n",
    "            self.log.debug('token_emb := {}'.format(token_emb))\n",
    "            self.log.debug('output := {}'.format(output))\n",
    "            output = self.encode(token_emb, output)\n",
    "                    \n",
    "        self.log.debug('output := {}'.format(output))\n",
    "    \n",
    "        ret = torch.stack([F.softmax(classify(output), dim=-1) \n",
    "                           for classify in self.classify])\n",
    "        self.log.debug('ret := {}'.format(ret))\n",
    "\n",
    "        self.log.debug('ret size: {}'.format(ret.size()))\n",
    "\n",
    "        return ret"
   ]
  },
  {
   "cell_type": "markdown",
   "metadata": {},
   "source": [
    "### Batching utils"
   ]
  },
  {
   "cell_type": "code",
   "execution_count": 16,
   "metadata": {},
   "outputs": [
    {
     "name": "stdout",
     "output_type": "stream",
     "text": [
      "0\n"
     ]
    }
   ],
   "source": [
    "import numpy as np\n",
    "def seq_maxlen(seqs):\n",
    "    return max([len(seq) for seq in seqs])\n",
    "\n",
    "PAD = WORD_INDEX[INPUT_VOCAB[0]]\n",
    "print(PAD)\n",
    "def pad_seq(seqs, maxlen=0, PAD=PAD):\n",
    "    if type(seqs[0]) == type([]):\n",
    "        maxlen = maxlen if maxlen else seq_maxlen(seqs)\n",
    "        def pad_seq_(seq):\n",
    "            return seq + [PAD]*(maxlen-len(seq))\n",
    "        seqs = [ pad_seq_(seq) for seq in seqs ]\n",
    "    return seqs\n",
    "\n",
    "def batchop(datapoints, *args, **kwargs):\n",
    "    indices = [d.id for d in datapoints]\n",
    "    seq   = pad_seq([ [WORD_INDEX[w] for w in word_tokenize(d.comment_text)]\n",
    "                     for d in datapoints])\n",
    "    target = [(d.toxic, d.severe_toxic, d.obscene, d.threat, d.insult, d.identity_hate)\n",
    "              for d in datapoints]\n",
    "    seq, target = np.array(seq), np.array(target)\n",
    "    return indices, (seq, ), (target,)"
   ]
  },
  {
   "cell_type": "markdown",
   "metadata": {},
   "source": [
    "## Attention based model"
   ]
  },
  {
   "cell_type": "code",
   "execution_count": 17,
   "metadata": {},
   "outputs": [],
   "source": [
    "class AttModel(nn.Module):\n",
    "    def __init__(self, Config, input_vocab_size, output_vocab_size):\n",
    "        super(AttModel, self).__init__()\n",
    "        self.input_vocab_size = input_vocab_size\n",
    "        self.output_vocab_size = output_vocab_size\n",
    "        self.hidden_dim = Config.hidden_dim\n",
    "\n",
    "        self.embed = nn.Embedding(self.input_vocab_size, self.hidden_dim)\n",
    "        self.encode = nn.GRUCell(self.hidden_dim, self.hidden_dim)\n",
    "        self.attend = nn.Parameter(torch.FloatTensor(self.hidden_dim, self.hidden_dim))\n",
    "\n",
    "        self.classify = nn.Linear(self.hidden_dim, 2)\n",
    "        self.log = model_logger.getLogger('model')\n",
    "        self.size_log = self.log.getLogger('size')\n",
    "        self.log.setLevel(logging.INFO)\n",
    "        self.size_log.setLevel(logging.DEBUG)\n",
    "        if Config.cuda:\n",
    "            self.cuda()\n",
    "            \n",
    "    def logsize(self, tensor, name=''):\n",
    "        self.size_log.debug('{} <- {}'.format(tensor.size(), name))\n",
    "        \n",
    "    def init_hidden(self, batch_size):\n",
    "        ret = torch.zeros(batch_size, self.hidden_dim)\n",
    "        if Config().cuda: ret = ret.cuda()\n",
    "        return Variable(ret)\n",
    "    \n",
    "    def forward(self, seq, classes=OUTPUT_IDS):\n",
    "        seq = Variable(torch.LongTensor(seq))\n",
    "        classes = Variable(torch.LongTensor(classes))\n",
    "        if Config().cuda: \n",
    "            seq = seq.cuda()\n",
    "            classes = classes.cuda()\n",
    "            \n",
    "        batch_size = seq.size()[0]\n",
    "        self.log.debug('{} seq size: {}'.format(type(seq.data), seq.size()))\n",
    "        seq_emb = self.embed(seq).transpose(1,0)                  ;self.logsize(seq_emb, 'seq_emb')\n",
    "        seq_repr = []\n",
    "        output = self.init_hidden(batch_size)                     ;self.logsize(output, 'output')\n",
    "        for token_emb in seq_emb:\n",
    "            self.log.debug('token_emb := {}'.format(token_emb))\n",
    "            self.log.debug('output := {}'.format(output))\n",
    "            output = self.encode(token_emb, output)               ;self.logsize(output, 'output')\n",
    "            seq_repr.append(output)\n",
    "\n",
    "        seq_repr = torch.stack(seq_repr).transpose(1,0)           ;self.logsize(seq_repr, 'seq_repr')\n",
    "        outputs = []\n",
    "        attend = self.attend\n",
    "        self.logsize(attend, 'attend')\n",
    "        for class_ in classes:\n",
    "            class_emb = self.embed(class_)                  ;self.logsize(class_emb, 'class_emb')\n",
    "            attn = torch.mm(class_emb, attend).unsqueeze(0) ;self.logsize(attn, 'attn')\n",
    "            attn = attn.expand_as(seq_repr) ;self.logsize(attn, 'attn')\n",
    "            attended_outputs = torch.bmm(attn, seq_repr)                \n",
    "        \n",
    "            self.logsize(attended_outputs, 'attended_outputs')\n",
    "            output = attended_output.expand_as(seq_repr) * seq_repr\n",
    "            self.logsize(output, 'output')\n",
    "\n",
    "            output = output.sum(0).squeeze()                ;self.logsize(output, 'output')\n",
    "            output = self.classify(output)                  ;self.logsize(output, 'output')\n",
    "            output = F.softmax(output)\n",
    "            outputs.append(output)\n",
    "            \n",
    "        ret = torch.stack(outputs)\n",
    "        return ret"
   ]
  },
  {
   "cell_type": "markdown",
   "metadata": {},
   "source": [
    "## Loss and accuracy function"
   ]
  },
  {
   "cell_type": "code",
   "execution_count": 18,
   "metadata": {
    "collapsed": true
   },
   "outputs": [],
   "source": [
    "def loss(output, target, loss_function=nn.NLLLoss(), *args, **kwargs):\n",
    "    loss = 0\n",
    "    target = Variable(torch.LongTensor(target[0]))\n",
    "    if Config().cuda: target = target.cuda()\n",
    "    output = output.transpose(1,0)\n",
    "    batch_size = output.size()[0]\n",
    "    for i, t in zip(output, target):\n",
    "        log.debug('i, o sizes: {} {}'.format(i, t))\n",
    "        loss += loss_function(i, t.squeeze()).mean()\n",
    "        log.debug('loss size: {}'.format(loss))\n",
    "\n",
    "    return loss/batch_size\n",
    "\n",
    "def accuracy(output, target, *args, **kwargs):\n",
    "    accuracy = 0\n",
    "    target = Variable(torch.LongTensor(target[0]))\n",
    "    if Config().cuda: target = target.cuda()\n",
    "    output = output.transpose(1,0)\n",
    "    batch_size = output.size()[0]\n",
    "    class_size = output.size()[1]    \n",
    "    \n",
    "    for i, t in zip(output, target):\n",
    "        correct = (i.max(dim=1)[1] == t).sum()\n",
    "        accuracy += correct/class_size\n",
    "        \n",
    "    return (accuracy/batch_size).data[0]\n",
    "    "
   ]
  },
  {
   "cell_type": "markdown",
   "metadata": {},
   "source": [
    "### repr_function to build human readable output from model"
   ]
  },
  {
   "cell_type": "code",
   "execution_count": 19,
   "metadata": {},
   "outputs": [],
   "source": [
    "from IPython.display import HTML\n",
    "from IPython.display import display\n",
    "def repr_function(output, feed, batch_index):\n",
    "    results = []\n",
    "    output = output.transpose(1,0)\n",
    "    indices, (seq,), (classes,) = feed.nth_batch(batch_index)\n",
    "    print(output.size(), len(indices), len(seq), len(classes))\n",
    "    for i, o, s, c in zip(indices, output, seq, classes):\n",
    "        orig_s = feed.data_dict[i].comment_text\n",
    "        s = [INPUT_VOCAB[i] for i in s]\n",
    "        s = ' '.join(s)\n",
    "        results.append([orig_s, s] + list(c))\n",
    "        o = o.max(dim=1)[1]\n",
    "        results.append([' ', '  '] + o.data.cpu().numpy().tolist())\n",
    "    return results"
   ]
  },
  {
   "cell_type": "code",
   "execution_count": 20,
   "metadata": {},
   "outputs": [],
   "source": [
    "_train_datapoints = train_datapoints"
   ]
  },
  {
   "cell_type": "code",
   "execution_count": null,
   "metadata": {
    "scrolled": true
   },
   "outputs": [],
   "source": [
    "import logging\n",
    "log.setLevel(logging.INFO)"
   ]
  },
  {
   "cell_type": "markdown",
   "metadata": {},
   "source": [
    "## Experiment on model 1"
   ]
  },
  {
   "cell_type": "code",
   "execution_count": null,
   "metadata": {
    "scrolled": true
   },
   "outputs": [
    {
     "name": "stderr",
     "output_type": "stream",
     "text": [
      "2018-01-29 11:29:26,765:root:INFO   :           getLogger:: creating logger for model under MODEL\n"
     ]
    },
    {
     "name": "stdout",
     "output_type": "stream",
     "text": [
      "torch.Size([120, 6, 2]) 120 120 120\n",
      "torch.Size([120, 6, 2]) 120 120 120\n"
     ]
    },
    {
     "data": {
      "text/html": [
       "<table><tr><td>signed hello world oh and i would like u to apoligize for your rude and unwarrneted behavour end...</td><td>signed hello world oh and i would like u to apoligize for your rude and unwarrneted behavour end ... <<PAD>> <<PAD>> <<PAD>> <<PAD>> <<PAD>> <<PAD>> <<PAD>> <<PAD>> <<PAD>> <<PAD>> <<PAD>> <<PAD>> <<PAD>> <<PAD>> <<PAD>> <<PAD>> <<PAD>> <<PAD>></td><td>0</td><td>0</td><td>0</td><td>0</td><td>0</td><td>0</td></tr><tr><td> </td><td>  </td><td>0</td><td>0</td><td>0</td><td>1</td><td>1</td><td>0</td></tr><tr><td>\"\n",
       "I have removed the helpme tag for now, don't hesitate to put it back with your question!   talk \"</td><td>`` I have removed the helpme tag for now , do n't hesitate to put it back with your question ! talk `` <<PAD>> <<PAD>> <<PAD>> <<PAD>> <<PAD>> <<PAD>> <<PAD>> <<PAD>> <<PAD>> <<PAD>> <<PAD>> <<PAD>> <<PAD>> <<PAD>></td><td>0</td><td>0</td><td>0</td><td>0</td><td>0</td><td>0</td></tr><tr><td> </td><td>  </td><td>0</td><td>0</td><td>0</td><td>1</td><td>1</td><td>0</td></tr><tr><td>YOU ARE REALLY ANNOYING!!!! gO SCREW YOUR LESBIAN FRIENDS!!! nEED SOME ICE?? YOU JUST GOT BURNED!!!</td><td>YOU ARE REALLY ANNOYING ! ! ! ! gO SCREW YOUR LESBIAN FRIENDS ! ! ! nEED SOME ICE ? ? YOU JUST GOT BURNED ! ! ! <<PAD>> <<PAD>> <<PAD>> <<PAD>> <<PAD>> <<PAD>> <<PAD>> <<PAD>> <<PAD>></td><td>0</td><td>0</td><td>1</td><td>0</td><td>1</td><td>1</td></tr><tr><td> </td><td>  </td><td>0</td><td>0</td><td>0</td><td>1</td><td>1</td><td>0</td></tr><tr><td>\"\n",
       "Well, the page where you'd do this is WP:RFA.  I suggest you get more experience first. Charge! \"</td><td>`` Well , the page where you 'd do this is WP : RFA . I suggest you get more experience first . Charge ! `` <<PAD>> <<PAD>> <<PAD>> <<PAD>> <<PAD>> <<PAD>> <<PAD>> <<PAD>> <<PAD>> <<PAD>> <<PAD>></td><td>0</td><td>0</td><td>0</td><td>0</td><td>0</td><td>0</td></tr><tr><td> </td><td>  </td><td>0</td><td>0</td><td>0</td><td>1</td><td>1</td><td>0</td></tr><tr><td>The film looks awesome, but my Dad said the original was much different. Im seeing it this weekend.</td><td>The film looks awesome , but my Dad said the original was much different . Im seeing it this weekend . <<PAD>> <<PAD>> <<PAD>> <<PAD>> <<PAD>> <<PAD>> <<PAD>> <<PAD>> <<PAD>> <<PAD>> <<PAD>> <<PAD>> <<PAD>> <<PAD>> <<PAD>> <<PAD>></td><td>0</td><td>0</td><td>0</td><td>0</td><td>0</td><td>0</td></tr><tr><td> </td><td>  </td><td>0</td><td>0</td><td>0</td><td>1</td><td>1</td><td>0</td></tr><tr><td>0\n",
       "| id       = ar\n",
       "| info     = This user does not understand Arabic.\n",
       "}}{{userbox-level\n",
       "| level    =</td><td>0 | id = ar | info = This user does not understand Arabic . } } { { userbox-level | level = <<PAD>> <<PAD>> <<PAD>> <<PAD>> <<PAD>> <<PAD>> <<PAD>> <<PAD>> <<PAD>> <<PAD>> <<PAD>> <<PAD>> <<PAD>> <<PAD>></td><td>0</td><td>0</td><td>0</td><td>0</td><td>0</td><td>0</td></tr><tr><td> </td><td>  </td><td>0</td><td>0</td><td>0</td><td>1</td><td>1</td><td>0</td></tr><tr><td>Whoever used 'she' instead of neutral they is a little p ussy fa ggot. I'm going to change it to HE</td><td>Whoever used 'she ' instead of neutral they is a little p ussy fa ggot . I 'm going to change it to HE <<PAD>> <<PAD>> <<PAD>> <<PAD>> <<PAD>> <<PAD>> <<PAD>> <<PAD>> <<PAD>> <<PAD>> <<PAD>> <<PAD>> <<PAD>></td><td>0</td><td>0</td><td>1</td><td>0</td><td>1</td><td>0</td></tr><tr><td> </td><td>  </td><td>0</td><td>0</td><td>0</td><td>1</td><td>1</td><td>0</td></tr><tr><td>I have never broken a single rule in editing Argument from Silence, nor is it part of my topic-ban.</td><td>I have never broken a single rule in editing Argument from Silence , nor is it part of my topic-ban . <<PAD>> <<PAD>> <<PAD>> <<PAD>> <<PAD>> <<PAD>> <<PAD>> <<PAD>> <<PAD>> <<PAD>> <<PAD>> <<PAD>> <<PAD>> <<PAD>> <<PAD>> <<PAD>></td><td>0</td><td>0</td><td>0</td><td>0</td><td>0</td><td>0</td></tr><tr><td> </td><td>  </td><td>0</td><td>0</td><td>0</td><td>1</td><td>1</td><td>0</td></tr><tr><td>does not contain a single reference, its politically laced hearsay from someone who doesn't like US</td><td>does not contain a single reference , its politically laced hearsay from someone who does n't like US <<PAD>> <<PAD>> <<PAD>> <<PAD>> <<PAD>> <<PAD>> <<PAD>> <<PAD>> <<PAD>> <<PAD>> <<PAD>> <<PAD>> <<PAD>> <<PAD>> <<PAD>> <<PAD>> <<PAD>> <<PAD>> <<PAD>></td><td>0</td><td>0</td><td>0</td><td>0</td><td>0</td><td>0</td></tr><tr><td> </td><td>  </td><td>0</td><td>0</td><td>0</td><td>1</td><td>1</td><td>0</td></tr><tr><td>Martin did adopt Nick, but he changed his name back to Tilsley in order to benefit from Ivy's will.</td><td>Martin did adopt Nick , but he changed his name back to Tilsley in order to benefit from Ivy 's will . <<PAD>> <<PAD>> <<PAD>> <<PAD>> <<PAD>> <<PAD>> <<PAD>> <<PAD>> <<PAD>> <<PAD>> <<PAD>> <<PAD>> <<PAD>> <<PAD>> <<PAD>></td><td>0</td><td>0</td><td>0</td><td>0</td><td>0</td><td>0</td></tr><tr><td> </td><td>  </td><td>0</td><td>0</td><td>0</td><td>1</td><td>1</td><td>0</td></tr><tr><td>Basically, homosexuality lowers productivity, which, through natrual law, would make it a disorder.</td><td>Basically , homosexuality lowers productivity , which , through natrual law , would make it a disorder . <<PAD>> <<PAD>> <<PAD>> <<PAD>> <<PAD>> <<PAD>> <<PAD>> <<PAD>> <<PAD>> <<PAD>> <<PAD>> <<PAD>> <<PAD>> <<PAD>> <<PAD>> <<PAD>> <<PAD>> <<PAD>> <<PAD>></td><td>0</td><td>0</td><td>0</td><td>0</td><td>0</td><td>1</td></tr><tr><td> </td><td>  </td><td>0</td><td>0</td><td>0</td><td>1</td><td>1</td><td>0</td></tr><tr><td>\"This user is currently reevaluating the wisdom of participating at Wikipedia]\n",
       "\n",
       " January 5, 2007\n",
       "\n",
       "\"</td><td>`` This user is currently reevaluating the wisdom of participating at Wikipedia ] January 5 , 2007 '' <<PAD>> <<PAD>> <<PAD>> <<PAD>> <<PAD>> <<PAD>> <<PAD>> <<PAD>> <<PAD>> <<PAD>> <<PAD>> <<PAD>> <<PAD>> <<PAD>> <<PAD>> <<PAD>> <<PAD>> <<PAD>> <<PAD>></td><td>0</td><td>0</td><td>0</td><td>0</td><td>0</td><td>0</td></tr><tr><td> </td><td>  </td><td>0</td><td>0</td><td>0</td><td>1</td><td>1</td><td>0</td></tr><tr><td>do you have a life at all or do you just down all day doing this? Thats sad man SAD!GET A LIFE!!!!!</td><td>do you have a life at all or do you just down all day doing this ? Thats sad man SAD ! GET A LIFE ! ! ! ! ! <<PAD>> <<PAD>> <<PAD>> <<PAD>> <<PAD>> <<PAD>> <<PAD>></td><td>0</td><td>0</td><td>0</td><td>0</td><td>0</td><td>0</td></tr><tr><td> </td><td>  </td><td>0</td><td>0</td><td>0</td><td>1</td><td>1</td><td>0</td></tr><tr><td>\"|decline=Well, here's . A checkuser confirmed that you have been abusing multiple accounts. XMan \"</td><td>`` |decline=Well , here 's . A checkuser confirmed that you have been abusing multiple accounts . XMan `` <<PAD>> <<PAD>> <<PAD>> <<PAD>> <<PAD>> <<PAD>> <<PAD>> <<PAD>> <<PAD>> <<PAD>> <<PAD>> <<PAD>> <<PAD>> <<PAD>> <<PAD>> <<PAD>> <<PAD>> <<PAD>></td><td>0</td><td>0</td><td>0</td><td>0</td><td>0</td><td>0</td></tr><tr><td> </td><td>  </td><td>0</td><td>0</td><td>0</td><td>1</td><td>1</td><td>0</td></tr><tr><td>Tireless and Sceptre in Gibraltar: not much heard of in the UK but caused much ill-feeling in Spain</td><td>Tireless and Sceptre in Gibraltar : not much heard of in the UK but caused much ill-feeling in Spain <<PAD>> <<PAD>> <<PAD>> <<PAD>> <<PAD>> <<PAD>> <<PAD>> <<PAD>> <<PAD>> <<PAD>> <<PAD>> <<PAD>> <<PAD>> <<PAD>> <<PAD>> <<PAD>> <<PAD>> <<PAD>></td><td>0</td><td>0</td><td>0</td><td>0</td><td>0</td><td>0</td></tr><tr><td> </td><td>  </td><td>0</td><td>0</td><td>0</td><td>1</td><td>1</td><td>0</td></tr><tr><td>Thanks you sir for your care ,maybe I missunderstand about this .so I will be deleted it.\n",
       "PHILOTHAI</td><td>Thanks you sir for your care , maybe I missunderstand about this .so I will be deleted it . PHILOTHAI <<PAD>> <<PAD>> <<PAD>> <<PAD>> <<PAD>> <<PAD>> <<PAD>> <<PAD>> <<PAD>> <<PAD>> <<PAD>> <<PAD>> <<PAD>> <<PAD>> <<PAD>> <<PAD>> <<PAD>></td><td>0</td><td>0</td><td>0</td><td>0</td><td>0</td><td>0</td></tr><tr><td> </td><td>  </td><td>0</td><td>0</td><td>0</td><td>1</td><td>1</td><td>0</td></tr><tr><td>Indeed, and I was very very careful not to make personal attacks or to harass anybody. - (resonate)</td><td>Indeed , and I was very very careful not to make personal attacks or to harass anybody . - ( resonate ) <<PAD>> <<PAD>> <<PAD>> <<PAD>> <<PAD>> <<PAD>> <<PAD>> <<PAD>> <<PAD>> <<PAD>> <<PAD>> <<PAD>> <<PAD>> <<PAD>> <<PAD>></td><td>0</td><td>0</td><td>0</td><td>0</td><td>0</td><td>0</td></tr><tr><td> </td><td>  </td><td>0</td><td>0</td><td>0</td><td>1</td><td>1</td><td>0</td></tr><tr><td>\"\n",
       "I've just qualified that as 'Styled \"\"The Great\"\" by some admirers'.   13:04, 21 Apr 2005 (UTC)\n",
       "\"</td><td>`` I 've just qualified that as 'Styled `` '' The Great '' '' by some admirers ' . 13:04 , 21 Apr 2005 ( UTC ) '' <<PAD>> <<PAD>> <<PAD>> <<PAD>> <<PAD>> <<PAD>> <<PAD>> <<PAD>> <<PAD>></td><td>0</td><td>0</td><td>0</td><td>0</td><td>0</td><td>0</td></tr><tr><td> </td><td>  </td><td>0</td><td>0</td><td>0</td><td>1</td><td>1</td><td>0</td></tr><tr><td>mug shot photos tend to be in the public domain and for that reason are quite popular in wikipedia.</td><td>mug shot photos tend to be in the public domain and for that reason are quite popular in wikipedia . <<PAD>> <<PAD>> <<PAD>> <<PAD>> <<PAD>> <<PAD>> <<PAD>> <<PAD>> <<PAD>> <<PAD>> <<PAD>> <<PAD>> <<PAD>> <<PAD>> <<PAD>> <<PAD>> <<PAD>></td><td>0</td><td>0</td><td>0</td><td>0</td><td>0</td><td>0</td></tr><tr><td> </td><td>  </td><td>0</td><td>0</td><td>0</td><td>1</td><td>1</td><td>0</td></tr><tr><td>WikiProject Oregon Triple Crown \n",
       "\n",
       " to WikiProject Oregon and its hardworking volunteers. ''''''  ]]</td><td>WikiProject Oregon Triple Crown to WikiProject Oregon and its hardworking volunteers. ' '' ' '' ] ] <<PAD>> <<PAD>> <<PAD>> <<PAD>> <<PAD>> <<PAD>> <<PAD>> <<PAD>> <<PAD>> <<PAD>> <<PAD>> <<PAD>> <<PAD>> <<PAD>> <<PAD>> <<PAD>> <<PAD>> <<PAD>> <<PAD>> <<PAD>></td><td>0</td><td>0</td><td>0</td><td>0</td><td>0</td><td>0</td></tr><tr><td> </td><td>  </td><td>0</td><td>0</td><td>0</td><td>1</td><td>1</td><td>0</td></tr><tr><td>Hi - I was the last person before that wrote to user:Bidgee and his page was on my watchlist   talk</td><td>Hi - I was the last person before that wrote to user : Bidgee and his page was on my watchlist talk <<PAD>> <<PAD>> <<PAD>> <<PAD>> <<PAD>> <<PAD>> <<PAD>> <<PAD>> <<PAD>> <<PAD>> <<PAD>> <<PAD>> <<PAD>> <<PAD>> <<PAD>></td><td>0</td><td>0</td><td>0</td><td>0</td><td>0</td><td>0</td></tr><tr><td> </td><td>  </td><td>0</td><td>0</td><td>0</td><td>1</td><td>1</td><td>0</td></tr><tr><td>YOU SUCK \n",
       "\n",
       "YOU SUCK, CANADIAN BACON, YOU SCUMMY HOCKEY PLAYING, BIG NOSED, 'DONT YA KNOW' SAYIN FAG</td><td>YOU SUCK YOU SUCK , CANADIAN BACON , YOU SCUMMY HOCKEY PLAYING , BIG NOSED , 'DONT YA KNOW ' SAYIN FAG <<PAD>> <<PAD>> <<PAD>> <<PAD>> <<PAD>> <<PAD>> <<PAD>> <<PAD>> <<PAD>> <<PAD>> <<PAD>> <<PAD>> <<PAD>> <<PAD>> <<PAD>></td><td>0</td><td>0</td><td>1</td><td>0</td><td>1</td><td>1</td></tr><tr><td> </td><td>  </td><td>0</td><td>0</td><td>0</td><td>1</td><td>1</td><td>0</td></tr><tr><td>get a life.do you thing only underage teenegers do sexting? What planet are you from? 65.35.249.125</td><td>get a life.do you thing only underage teenegers do sexting ? What planet are you from ? 65.35.249.125 <<PAD>> <<PAD>> <<PAD>> <<PAD>> <<PAD>> <<PAD>> <<PAD>> <<PAD>> <<PAD>> <<PAD>> <<PAD>> <<PAD>> <<PAD>> <<PAD>> <<PAD>> <<PAD>> <<PAD>> <<PAD>> <<PAD>></td><td>0</td><td>0</td><td>0</td><td>0</td><td>0</td><td>0</td></tr><tr><td> </td><td>  </td><td>0</td><td>0</td><td>0</td><td>1</td><td>1</td><td>0</td></tr><tr><td>Page created - from Wikipedia:Requested articles/music\n",
       "\n",
       "Another name for the Australian lagerphone.</td><td>Page created - from Wikipedia : Requested articles/music Another name for the Australian lagerphone . <<PAD>> <<PAD>> <<PAD>> <<PAD>> <<PAD>> <<PAD>> <<PAD>> <<PAD>> <<PAD>> <<PAD>> <<PAD>> <<PAD>> <<PAD>> <<PAD>> <<PAD>> <<PAD>> <<PAD>> <<PAD>> <<PAD>> <<PAD>> <<PAD>> <<PAD>></td><td>0</td><td>0</td><td>0</td><td>0</td><td>0</td><td>0</td></tr><tr><td> </td><td>  </td><td>0</td><td>0</td><td>0</td><td>1</td><td>1</td><td>0</td></tr><tr><td>Now put your templates away, Lionel dear. Isn't there's an abortion clinic you should be picketing?</td><td>Now put your templates away , Lionel dear . Is n't there 's an abortion clinic you should be picketing ? <<PAD>> <<PAD>> <<PAD>> <<PAD>> <<PAD>> <<PAD>> <<PAD>> <<PAD>> <<PAD>> <<PAD>> <<PAD>> <<PAD>> <<PAD>> <<PAD>> <<PAD>> <<PAD>></td><td>0</td><td>0</td><td>0</td><td>0</td><td>0</td><td>0</td></tr><tr><td> </td><td>  </td><td>0</td><td>0</td><td>0</td><td>1</td><td>1</td><td>0</td></tr><tr><td>Category:I have given the link for the information, its from the Milagrow Humantech offical website</td><td>Category : I have given the link for the information , its from the Milagrow Humantech offical website <<PAD>> <<PAD>> <<PAD>> <<PAD>> <<PAD>> <<PAD>> <<PAD>> <<PAD>> <<PAD>> <<PAD>> <<PAD>> <<PAD>> <<PAD>> <<PAD>> <<PAD>> <<PAD>> <<PAD>> <<PAD>> <<PAD>></td><td>0</td><td>0</td><td>0</td><td>0</td><td>0</td><td>0</td></tr><tr><td> </td><td>  </td><td>0</td><td>0</td><td>0</td><td>1</td><td>1</td><td>0</td></tr><tr><td>On the signature thing - I do clearly say at the top that all unsigned comments are for the chop...</td><td>On the signature thing - I do clearly say at the top that all unsigned comments are for the chop ... <<PAD>> <<PAD>> <<PAD>> <<PAD>> <<PAD>> <<PAD>> <<PAD>> <<PAD>> <<PAD>> <<PAD>> <<PAD>> <<PAD>> <<PAD>> <<PAD>> <<PAD>> <<PAD>></td><td>0</td><td>0</td><td>0</td><td>0</td><td>0</td><td>0</td></tr><tr><td> </td><td>  </td><td>0</td><td>0</td><td>0</td><td>1</td><td>1</td><td>0</td></tr><tr><td>One l or two? \n",
       "\n",
       "I strongly suspect it's one.  Could someone correct the title?  (I don't know how.)</td><td>One l or two ? I strongly suspect it 's one . Could someone correct the title ? ( I do n't know how . ) <<PAD>> <<PAD>> <<PAD>> <<PAD>> <<PAD>> <<PAD>> <<PAD>> <<PAD>> <<PAD>> <<PAD>> <<PAD>></td><td>0</td><td>0</td><td>0</td><td>0</td><td>0</td><td>0</td></tr><tr><td> </td><td>  </td><td>0</td><td>0</td><td>0</td><td>1</td><td>1</td><td>0</td></tr><tr><td>I moved to his common stage name Inoran for keeping neutrality because I didn't know his true name.</td><td>I moved to his common stage name Inoran for keeping neutrality because I did n't know his true name . <<PAD>> <<PAD>> <<PAD>> <<PAD>> <<PAD>> <<PAD>> <<PAD>> <<PAD>> <<PAD>> <<PAD>> <<PAD>> <<PAD>> <<PAD>> <<PAD>> <<PAD>> <<PAD>> <<PAD>></td><td>0</td><td>0</td><td>0</td><td>0</td><td>0</td><td>0</td></tr><tr><td> </td><td>  </td><td>0</td><td>0</td><td>0</td><td>1</td><td>1</td><td>0</td></tr><tr><td>Agree. At least a couple sentences about family background and Borden before the murders is needed.</td><td>Agree . At least a couple sentences about family background and Borden before the murders is needed . <<PAD>> <<PAD>> <<PAD>> <<PAD>> <<PAD>> <<PAD>> <<PAD>> <<PAD>> <<PAD>> <<PAD>> <<PAD>> <<PAD>> <<PAD>> <<PAD>> <<PAD>> <<PAD>> <<PAD>> <<PAD>> <<PAD>></td><td>0</td><td>0</td><td>0</td><td>0</td><td>0</td><td>0</td></tr><tr><td> </td><td>  </td><td>0</td><td>0</td><td>0</td><td>1</td><td>1</td><td>0</td></tr><tr><td>Morris not trustworthy.  Which intelligence report and by whom?  Does anyone else cite this source?</td><td>Morris not trustworthy . Which intelligence report and by whom ? Does anyone else cite this source ? <<PAD>> <<PAD>> <<PAD>> <<PAD>> <<PAD>> <<PAD>> <<PAD>> <<PAD>> <<PAD>> <<PAD>> <<PAD>> <<PAD>> <<PAD>> <<PAD>> <<PAD>> <<PAD>> <<PAD>> <<PAD>> <<PAD>></td><td>0</td><td>0</td><td>0</td><td>0</td><td>0</td><td>0</td></tr><tr><td> </td><td>  </td><td>0</td><td>0</td><td>0</td><td>1</td><td>1</td><td>0</td></tr><tr><td>Keeping verifiability policy and the above mentioned discussion in mind, I have edited the article.</td><td>Keeping verifiability policy and the above mentioned discussion in mind , I have edited the article . <<PAD>> <<PAD>> <<PAD>> <<PAD>> <<PAD>> <<PAD>> <<PAD>> <<PAD>> <<PAD>> <<PAD>> <<PAD>> <<PAD>> <<PAD>> <<PAD>> <<PAD>> <<PAD>> <<PAD>> <<PAD>> <<PAD>> <<PAD>></td><td>0</td><td>0</td><td>0</td><td>0</td><td>0</td><td>0</td></tr><tr><td> </td><td>  </td><td>0</td><td>0</td><td>0</td><td>1</td><td>1</td><td>0</td></tr><tr><td>So basically you are threatening me !!!!! unless I shut up to the pressure from you almighty admins</td><td>So basically you are threatening me ! ! ! ! ! unless I shut up to the pressure from you almighty admins <<PAD>> <<PAD>> <<PAD>> <<PAD>> <<PAD>> <<PAD>> <<PAD>> <<PAD>> <<PAD>> <<PAD>> <<PAD>> <<PAD>> <<PAD>> <<PAD>> <<PAD>></td><td>0</td><td>0</td><td>0</td><td>0</td><td>0</td><td>0</td></tr><tr><td> </td><td>  </td><td>0</td><td>0</td><td>0</td><td>1</td><td>1</td><td>0</td></tr><tr><td>nope... \n",
       "\n",
       "NO i do NOT fucing think so!!!!!\n",
       "\n",
       "No way!\n",
       "\n",
       "YOU WILL NOT GET AWAY WITH IT!\n",
       "\n",
       "CAPICHE???\n",
       "\n",
       "@%</td><td>nope ... NO i do NOT fucing think so ! ! ! ! ! No way ! YOU WILL NOT GET AWAY WITH IT ! CAPICHE ? ? ? @ % <<PAD>> <<PAD>> <<PAD>> <<PAD>> <<PAD>> <<PAD>></td><td>0</td><td>0</td><td>1</td><td>0</td><td>0</td><td>0</td></tr><tr><td> </td><td>  </td><td>0</td><td>0</td><td>0</td><td>1</td><td>1</td><td>0</td></tr><tr><td>\"\n",
       "\n",
       "User:Nawlinwiki Is Gay\n",
       "\n",
       "That person is gay, they deleted our \"\"Sp-Un-Ka\"\" Page.\n",
       "GAYYYYYYYYYYY\n",
       " \"</td><td>`` User : Nawlinwiki Is Gay That person is gay , they deleted our `` '' Sp-Un-Ka '' '' Page . GAYYYYYYYYYYY `` <<PAD>> <<PAD>> <<PAD>> <<PAD>> <<PAD>> <<PAD>> <<PAD>> <<PAD>> <<PAD>> <<PAD>> <<PAD>> <<PAD>> <<PAD>> <<PAD>></td><td>0</td><td>0</td><td>0</td><td>0</td><td>1</td><td>1</td></tr><tr><td> </td><td>  </td><td>0</td><td>0</td><td>0</td><td>1</td><td>1</td><td>0</td></tr><tr><td>Fuck off you cunt. I know a LOT more about Flynn than you. Don't take out referenced stuff or ELSE.</td><td>Fuck off you cunt . I know a LOT more about Flynn than you . Do n't take out referenced stuff or ELSE . <<PAD>> <<PAD>> <<PAD>> <<PAD>> <<PAD>> <<PAD>> <<PAD>> <<PAD>> <<PAD>> <<PAD>> <<PAD>> <<PAD>> <<PAD>></td><td>0</td><td>0</td><td>1</td><td>0</td><td>1</td><td>0</td></tr><tr><td> </td><td>  </td><td>0</td><td>0</td><td>0</td><td>1</td><td>1</td><td>0</td></tr><tr><td>*Yes, actually, Holden is GM's Australian marque seeing as how it's the ONLY GM brand in Australia.</td><td>*Yes , actually , Holden is GM 's Australian marque seeing as how it 's the ONLY GM brand in Australia . <<PAD>> <<PAD>> <<PAD>> <<PAD>> <<PAD>> <<PAD>> <<PAD>> <<PAD>> <<PAD>> <<PAD>> <<PAD>> <<PAD>> <<PAD>> <<PAD>> <<PAD>></td><td>0</td><td>0</td><td>0</td><td>0</td><td>0</td><td>0</td></tr><tr><td> </td><td>  </td><td>0</td><td>0</td><td>0</td><td>1</td><td>1</td><td>0</td></tr><tr><td>\"\n",
       "Some of the evidence is this .  (talk  contribs  email) (if I write on your page reply on mine) \"</td><td>`` Some of the evidence is this . ( talk contribs email ) ( if I write on your page reply on mine ) `` <<PAD>> <<PAD>> <<PAD>> <<PAD>> <<PAD>> <<PAD>> <<PAD>> <<PAD>> <<PAD>> <<PAD>> <<PAD>> <<PAD>></td><td>0</td><td>0</td><td>0</td><td>0</td><td>0</td><td>0</td></tr><tr><td> </td><td>  </td><td>0</td><td>0</td><td>0</td><td>1</td><td>1</td><td>0</td></tr><tr><td>You're blocked from spamming.  Do it again and you'll be blocked again.   06:17, Feb 15, 2005 (UTC)</td><td>You 're blocked from spamming . Do it again and you 'll be blocked again . 06:17 , Feb 15 , 2005 ( UTC ) <<PAD>> <<PAD>> <<PAD>> <<PAD>> <<PAD>> <<PAD>> <<PAD>> <<PAD>> <<PAD>> <<PAD>> <<PAD>> <<PAD>></td><td>0</td><td>0</td><td>0</td><td>0</td><td>0</td><td>0</td></tr><tr><td> </td><td>  </td><td>0</td><td>0</td><td>0</td><td>1</td><td>1</td><td>0</td></tr><tr><td>You should be ashamed of yourself \n",
       "\n",
       "That is a horrible thing you put on my talk page.  128.61.19.93</td><td>You should be ashamed of yourself That is a horrible thing you put on my talk page . 128.61.19.93 <<PAD>> <<PAD>> <<PAD>> <<PAD>> <<PAD>> <<PAD>> <<PAD>> <<PAD>> <<PAD>> <<PAD>> <<PAD>> <<PAD>> <<PAD>> <<PAD>> <<PAD>> <<PAD>> <<PAD>> <<PAD>></td><td>0</td><td>0</td><td>0</td><td>0</td><td>0</td><td>0</td></tr><tr><td> </td><td>  </td><td>0</td><td>0</td><td>0</td><td>1</td><td>1</td><td>0</td></tr><tr><td>I think this is a stretch.  There is no verifiable source that Jamie Lynn ever charge money for sex.</td><td>I think this is a stretch . There is no verifiable source that Jamie Lynn ever charge money for sex . <<PAD>> <<PAD>> <<PAD>> <<PAD>> <<PAD>> <<PAD>> <<PAD>> <<PAD>> <<PAD>> <<PAD>> <<PAD>> <<PAD>> <<PAD>> <<PAD>> <<PAD>> <<PAD>></td><td>0</td><td>0</td><td>0</td><td>0</td><td>0</td><td>0</td></tr><tr><td> </td><td>  </td><td>0</td><td>0</td><td>0</td><td>1</td><td>1</td><td>0</td></tr><tr><td>Thank you ==\n",
       "G'day Lesnail. Thanks for your welcome and assistance. It was much appreciated -)  \n",
       "\n",
       "==</td><td>Thank you == G'day Lesnail . Thanks for your welcome and assistance . It was much appreciated - ) == <<PAD>> <<PAD>> <<PAD>> <<PAD>> <<PAD>> <<PAD>> <<PAD>> <<PAD>> <<PAD>> <<PAD>> <<PAD>> <<PAD>> <<PAD>> <<PAD>> <<PAD>> <<PAD>> <<PAD>></td><td>0</td><td>0</td><td>0</td><td>0</td><td>0</td><td>0</td></tr><tr><td> </td><td>  </td><td>0</td><td>0</td><td>0</td><td>1</td><td>1</td><td>0</td></tr><tr><td>Grow up, you immature little brat.  This edit warring seems to be the only thing you do around here.</td><td>Grow up , you immature little brat . This edit warring seems to be the only thing you do around here . <<PAD>> <<PAD>> <<PAD>> <<PAD>> <<PAD>> <<PAD>> <<PAD>> <<PAD>> <<PAD>> <<PAD>> <<PAD>> <<PAD>> <<PAD>> <<PAD>> <<PAD>></td><td>0</td><td>0</td><td>0</td><td>0</td><td>1</td><td>0</td></tr><tr><td> </td><td>  </td><td>0</td><td>0</td><td>0</td><td>1</td><td>1</td><td>0</td></tr><tr><td>Hello, you disgusting transsexual \n",
       "\n",
       "You are a grotesque blight upon the earth. Please kill yourself.</td><td>Hello , you disgusting transsexual You are a grotesque blight upon the earth . Please kill yourself . <<PAD>> <<PAD>> <<PAD>> <<PAD>> <<PAD>> <<PAD>> <<PAD>> <<PAD>> <<PAD>> <<PAD>> <<PAD>> <<PAD>> <<PAD>> <<PAD>> <<PAD>> <<PAD>> <<PAD>> <<PAD>> <<PAD>></td><td>1</td><td>0</td><td>1</td><td>1</td><td>1</td><td>1</td></tr><tr><td> </td><td>  </td><td>0</td><td>0</td><td>0</td><td>1</td><td>1</td><td>0</td></tr><tr><td>The personal attacks will cease.  Please allow me to complete my article next time around.\n",
       "\n",
       "Thankyou</td><td>The personal attacks will cease . Please allow me to complete my article next time around . Thankyou <<PAD>> <<PAD>> <<PAD>> <<PAD>> <<PAD>> <<PAD>> <<PAD>> <<PAD>> <<PAD>> <<PAD>> <<PAD>> <<PAD>> <<PAD>> <<PAD>> <<PAD>> <<PAD>> <<PAD>> <<PAD>> <<PAD>></td><td>0</td><td>0</td><td>0</td><td>0</td><td>0</td><td>0</td></tr><tr><td> </td><td>  </td><td>0</td><td>0</td><td>0</td><td>1</td><td>1</td><td>0</td></tr><tr><td>References?\n",
       "\n",
       "This article seems to be more or less accurate, but it needs to be properly referenced.</td><td>References ? This article seems to be more or less accurate , but it needs to be properly referenced . <<PAD>> <<PAD>> <<PAD>> <<PAD>> <<PAD>> <<PAD>> <<PAD>> <<PAD>> <<PAD>> <<PAD>> <<PAD>> <<PAD>> <<PAD>> <<PAD>> <<PAD>> <<PAD>> <<PAD>></td><td>0</td><td>0</td><td>0</td><td>0</td><td>0</td><td>0</td></tr><tr><td> </td><td>  </td><td>0</td><td>0</td><td>0</td><td>1</td><td>1</td><td>0</td></tr><tr><td>also bombing markets and thaking women as hostage before killing them is strictly forbidden in islam</td><td>also bombing markets and thaking women as hostage before killing them is strictly forbidden in islam <<PAD>> <<PAD>> <<PAD>> <<PAD>> <<PAD>> <<PAD>> <<PAD>> <<PAD>> <<PAD>> <<PAD>> <<PAD>> <<PAD>> <<PAD>> <<PAD>> <<PAD>> <<PAD>> <<PAD>> <<PAD>> <<PAD>> <<PAD>> <<PAD>></td><td>0</td><td>0</td><td>0</td><td>0</td><td>0</td><td>0</td></tr><tr><td> </td><td>  </td><td>0</td><td>0</td><td>0</td><td>1</td><td>1</td><td>0</td></tr><tr><td>No it was not. And TU, you have breached 3RR and I expect administrative action on the foot of that.</td><td>No it was not . And TU , you have breached 3RR and I expect administrative action on the foot of that . <<PAD>> <<PAD>> <<PAD>> <<PAD>> <<PAD>> <<PAD>> <<PAD>> <<PAD>> <<PAD>> <<PAD>> <<PAD>> <<PAD>> <<PAD>> <<PAD>></td><td>0</td><td>0</td><td>0</td><td>0</td><td>0</td><td>0</td></tr><tr><td> </td><td>  </td><td>0</td><td>0</td><td>0</td><td>1</td><td>1</td><td>0</td></tr><tr><td>Not Funny \n",
       "\n",
       "Your jokes suck.You are giving a bad name for Youtube.Just stop with the videos(Please.)</td><td>Not Funny Your jokes suck.You are giving a bad name for Youtube.Just stop with the videos ( Please . ) <<PAD>> <<PAD>> <<PAD>> <<PAD>> <<PAD>> <<PAD>> <<PAD>> <<PAD>> <<PAD>> <<PAD>> <<PAD>> <<PAD>> <<PAD>> <<PAD>> <<PAD>> <<PAD>> <<PAD>></td><td>0</td><td>0</td><td>1</td><td>0</td><td>0</td><td>0</td></tr><tr><td> </td><td>  </td><td>0</td><td>0</td><td>0</td><td>1</td><td>1</td><td>0</td></tr><tr><td>Yes I do, I am trying to find it. Its on Flight International and I am going through their archives.</td><td>Yes I do , I am trying to find it . Its on Flight International and I am going through their archives . <<PAD>> <<PAD>> <<PAD>> <<PAD>> <<PAD>> <<PAD>> <<PAD>> <<PAD>> <<PAD>> <<PAD>> <<PAD>> <<PAD>> <<PAD>> <<PAD>></td><td>0</td><td>0</td><td>0</td><td>0</td><td>0</td><td>0</td></tr><tr><td> </td><td>  </td><td>0</td><td>0</td><td>0</td><td>1</td><td>1</td><td>0</td></tr><tr><td>I would have no objects to the article becoming a redirect, at the moment it seems to fail WP:CFORK.</td><td>I would have no objects to the article becoming a redirect , at the moment it seems to fail WP : CFORK . <<PAD>> <<PAD>> <<PAD>> <<PAD>> <<PAD>> <<PAD>> <<PAD>> <<PAD>> <<PAD>> <<PAD>> <<PAD>> <<PAD>> <<PAD>> <<PAD>></td><td>0</td><td>0</td><td>0</td><td>0</td><td>0</td><td>0</td></tr><tr><td> </td><td>  </td><td>0</td><td>0</td><td>0</td><td>1</td><td>1</td><td>0</td></tr><tr><td>What the hell?\n",
       "My anti-american american article was still in progress. I demand it is brought back.</td><td>What the hell ? My anti-american american article was still in progress . I demand it is brought back . <<PAD>> <<PAD>> <<PAD>> <<PAD>> <<PAD>> <<PAD>> <<PAD>> <<PAD>> <<PAD>> <<PAD>> <<PAD>> <<PAD>> <<PAD>> <<PAD>> <<PAD>> <<PAD>> <<PAD>></td><td>0</td><td>0</td><td>0</td><td>0</td><td>0</td><td>0</td></tr><tr><td> </td><td>  </td><td>0</td><td>0</td><td>0</td><td>1</td><td>1</td><td>0</td></tr><tr><td>First performance date\n",
       "\n",
       "I've changed the first performance date based on Grove. Hope that's correct.</td><td>First performance date I 've changed the first performance date based on Grove . Hope that 's correct . <<PAD>> <<PAD>> <<PAD>> <<PAD>> <<PAD>> <<PAD>> <<PAD>> <<PAD>> <<PAD>> <<PAD>> <<PAD>> <<PAD>> <<PAD>> <<PAD>> <<PAD>> <<PAD>> <<PAD>> <<PAD>></td><td>0</td><td>0</td><td>0</td><td>0</td><td>0</td><td>0</td></tr><tr><td> </td><td>  </td><td>0</td><td>0</td><td>0</td><td>1</td><td>1</td><td>0</td></tr><tr><td>There is Eisenhower as well.  I have a reference book on them so we might want to join forces again.</td><td>There is Eisenhower as well . I have a reference book on them so we might want to join forces again . <<PAD>> <<PAD>> <<PAD>> <<PAD>> <<PAD>> <<PAD>> <<PAD>> <<PAD>> <<PAD>> <<PAD>> <<PAD>> <<PAD>> <<PAD>> <<PAD>> <<PAD>></td><td>0</td><td>0</td><td>0</td><td>0</td><td>0</td><td>0</td></tr><tr><td> </td><td>  </td><td>0</td><td>0</td><td>0</td><td>1</td><td>1</td><td>0</td></tr><tr><td>\"\n",
       "An entry from  appeared on Wikipedia's Main Page in the Did you know? column on 1 December, 2006.\"</td><td>`` An entry from appeared on Wikipedia 's Main Page in the Did you know ? column on 1 December , 2006 . '' <<PAD>> <<PAD>> <<PAD>> <<PAD>> <<PAD>> <<PAD>> <<PAD>> <<PAD>> <<PAD>> <<PAD>> <<PAD>> <<PAD>> <<PAD>></td><td>0</td><td>0</td><td>0</td><td>0</td><td>0</td><td>0</td></tr><tr><td> </td><td>  </td><td>0</td><td>0</td><td>0</td><td>1</td><td>1</td><td>0</td></tr><tr><td>After looking into it, it does say on quite a few sites that she graduated from high school in 1979.</td><td>After looking into it , it does say on quite a few sites that she graduated from high school in 1979 . <<PAD>> <<PAD>> <<PAD>> <<PAD>> <<PAD>> <<PAD>> <<PAD>> <<PAD>> <<PAD>> <<PAD>> <<PAD>> <<PAD>> <<PAD>> <<PAD>> <<PAD>></td><td>0</td><td>0</td><td>0</td><td>0</td><td>0</td><td>0</td></tr><tr><td> </td><td>  </td><td>0</td><td>0</td><td>0</td><td>1</td><td>1</td><td>0</td></tr><tr><td>Not to mention that the change made was not even the same as what was proposed in the non-consensus.</td><td>Not to mention that the change made was not even the same as what was proposed in the non-consensus . <<PAD>> <<PAD>> <<PAD>> <<PAD>> <<PAD>> <<PAD>> <<PAD>> <<PAD>> <<PAD>> <<PAD>> <<PAD>> <<PAD>> <<PAD>> <<PAD>> <<PAD>> <<PAD>> <<PAD>></td><td>0</td><td>0</td><td>0</td><td>0</td><td>0</td><td>0</td></tr><tr><td> </td><td>  </td><td>0</td><td>0</td><td>0</td><td>1</td><td>1</td><td>0</td></tr><tr><td>\"| class=\"\"infobox\"\" width=\"\"150\"\" |- align=\"\"center\"\" |  Archives  |- align=\"\"center\"\" | 1 2 |}\n",
       "\n",
       "{\"</td><td>`` | class= '' '' infobox '' '' width= '' '' 150 '' '' |- align= '' '' center '' '' | Archives |- align= '' '' center '' '' | 1 2 | } { ``</td><td>0</td><td>0</td><td>0</td><td>0</td><td>0</td><td>0</td></tr><tr><td> </td><td>  </td><td>0</td><td>1</td><td>0</td><td>1</td><td>0</td><td>0</td></tr><tr><td>Was it really necessary to list all these luxury outlets here? \n",
       "\n",
       "Oh, and you forgot the Lamborghini.</td><td>Was it really necessary to list all these luxury outlets here ? Oh , and you forgot the Lamborghini . <<PAD>> <<PAD>> <<PAD>> <<PAD>> <<PAD>> <<PAD>> <<PAD>> <<PAD>> <<PAD>> <<PAD>> <<PAD>> <<PAD>> <<PAD>> <<PAD>> <<PAD>> <<PAD>> <<PAD>></td><td>0</td><td>0</td><td>0</td><td>0</td><td>0</td><td>0</td></tr><tr><td> </td><td>  </td><td>0</td><td>0</td><td>0</td><td>1</td><td>1</td><td>0</td></tr><tr><td>\"\n",
       " more examples of competence, he said that \"\"police departments are ineligible for deletion.\"\"   \"</td><td>`` more examples of competence , he said that `` '' police departments are ineligible for deletion . '' '' `` <<PAD>> <<PAD>> <<PAD>> <<PAD>> <<PAD>> <<PAD>> <<PAD>> <<PAD>> <<PAD>> <<PAD>> <<PAD>> <<PAD>> <<PAD>> <<PAD>> <<PAD>> <<PAD>></td><td>0</td><td>0</td><td>0</td><td>0</td><td>0</td><td>0</td></tr><tr><td> </td><td>  </td><td>0</td><td>0</td><td>0</td><td>1</td><td>1</td><td>0</td></tr><tr><td>\"\n",
       "\n",
       " When leaveing a messsage \n",
       "\n",
       "Don't post it on my user page I have a talk page for a reason.eagle \"</td><td>`` When leaveing a messsage Do n't post it on my user page I have a talk page for a reason.eagle `` <<PAD>> <<PAD>> <<PAD>> <<PAD>> <<PAD>> <<PAD>> <<PAD>> <<PAD>> <<PAD>> <<PAD>> <<PAD>> <<PAD>> <<PAD>> <<PAD>> <<PAD>></td><td>0</td><td>0</td><td>0</td><td>0</td><td>0</td><td>0</td></tr><tr><td> </td><td>  </td><td>0</td><td>0</td><td>0</td><td>1</td><td>1</td><td>0</td></tr><tr><td>Yes, but I wonder if you realize the implications of taking official actions based on invalid proof.</td><td>Yes , but I wonder if you realize the implications of taking official actions based on invalid proof . <<PAD>> <<PAD>> <<PAD>> <<PAD>> <<PAD>> <<PAD>> <<PAD>> <<PAD>> <<PAD>> <<PAD>> <<PAD>> <<PAD>> <<PAD>> <<PAD>> <<PAD>> <<PAD>> <<PAD>> <<PAD>></td><td>0</td><td>0</td><td>0</td><td>0</td><td>0</td><td>0</td></tr><tr><td> </td><td>  </td><td>0</td><td>0</td><td>0</td><td>1</td><td>1</td><td>0</td></tr><tr><td>Another award for you! \n",
       "\n",
       "It's a pair of pliers, so you can remove the pole from your ass. Way to go!</td><td>Another award for you ! It 's a pair of pliers , so you can remove the pole from your ass . Way to go ! <<PAD>> <<PAD>> <<PAD>> <<PAD>> <<PAD>> <<PAD>> <<PAD>> <<PAD>> <<PAD>> <<PAD>> <<PAD>></td><td>0</td><td>0</td><td>1</td><td>0</td><td>0</td><td>0</td></tr><tr><td> </td><td>  </td><td>0</td><td>0</td><td>0</td><td>1</td><td>1</td><td>0</td></tr><tr><td>How is it described in reliable sources?  Our opinions of the words don't really matter, sources do.</td><td>How is it described in reliable sources ? Our opinions of the words do n't really matter , sources do . <<PAD>> <<PAD>> <<PAD>> <<PAD>> <<PAD>> <<PAD>> <<PAD>> <<PAD>> <<PAD>> <<PAD>> <<PAD>> <<PAD>> <<PAD>> <<PAD>> <<PAD>> <<PAD>></td><td>0</td><td>0</td><td>0</td><td>0</td><td>0</td><td>0</td></tr><tr><td> </td><td>  </td><td>0</td><td>0</td><td>0</td><td>1</td><td>1</td><td>0</td></tr><tr><td>I'm afraid I can't verify it as his myspace account has been deleted \n",
       "\n",
       "I fucking hate you. Honestly.</td><td>I 'm afraid I ca n't verify it as his myspace account has been deleted I fucking hate you . Honestly . <<PAD>> <<PAD>> <<PAD>> <<PAD>> <<PAD>> <<PAD>> <<PAD>> <<PAD>> <<PAD>> <<PAD>> <<PAD>> <<PAD>> <<PAD>> <<PAD>> <<PAD>></td><td>0</td><td>0</td><td>0</td><td>0</td><td>0</td><td>0</td></tr><tr><td> </td><td>  </td><td>0</td><td>0</td><td>0</td><td>1</td><td>1</td><td>0</td></tr><tr><td>MCR Announce finishing new album and i brought you my bullets film\n",
       "should be under recent happenings</td><td>MCR Announce finishing new album and i brought you my bullets film should be under recent happenings <<PAD>> <<PAD>> <<PAD>> <<PAD>> <<PAD>> <<PAD>> <<PAD>> <<PAD>> <<PAD>> <<PAD>> <<PAD>> <<PAD>> <<PAD>> <<PAD>> <<PAD>> <<PAD>> <<PAD>> <<PAD>> <<PAD>> <<PAD>></td><td>0</td><td>0</td><td>0</td><td>0</td><td>0</td><td>0</td></tr><tr><td> </td><td>  </td><td>0</td><td>0</td><td>0</td><td>1</td><td>1</td><td>0</td></tr><tr><td>\"\n",
       "\n",
       "...so do you intend on taking any of your concerns to the article's talk page?  (talk/contribs) \"</td><td>`` ... so do you intend on taking any of your concerns to the article 's talk page ? ( talk/contribs ) `` <<PAD>> <<PAD>> <<PAD>> <<PAD>> <<PAD>> <<PAD>> <<PAD>> <<PAD>> <<PAD>> <<PAD>> <<PAD>> <<PAD>> <<PAD>> <<PAD>></td><td>0</td><td>0</td><td>0</td><td>0</td><td>0</td><td>0</td></tr><tr><td> </td><td>  </td><td>0</td><td>0</td><td>0</td><td>1</td><td>1</td><td>0</td></tr><tr><td>even requested we wait to get your opinion on this and on Southeast Africa before we did anything. I</td><td>even requested we wait to get your opinion on this and on Southeast Africa before we did anything . I <<PAD>> <<PAD>> <<PAD>> <<PAD>> <<PAD>> <<PAD>> <<PAD>> <<PAD>> <<PAD>> <<PAD>> <<PAD>> <<PAD>> <<PAD>> <<PAD>> <<PAD>> <<PAD>> <<PAD>></td><td>0</td><td>0</td><td>0</td><td>0</td><td>0</td><td>0</td></tr><tr><td> </td><td>  </td><td>0</td><td>0</td><td>0</td><td>1</td><td>1</td><td>0</td></tr><tr><td>Oh, and by the way, IP address, don't be giving me orders and threats. You're a nobody from nowhere.</td><td>Oh , and by the way , IP address , do n't be giving me orders and threats . You 're a nobody from nowhere . <<PAD>> <<PAD>> <<PAD>> <<PAD>> <<PAD>> <<PAD>> <<PAD>> <<PAD>> <<PAD>> <<PAD>> <<PAD>></td><td>0</td><td>0</td><td>0</td><td>0</td><td>0</td><td>0</td></tr><tr><td> </td><td>  </td><td>0</td><td>0</td><td>0</td><td>1</td><td>1</td><td>0</td></tr><tr><td>\"\n",
       "\n",
       "Oppose because in my view, \"\"lead\"\" in the context of \"\"lead paragraph\"\" is unambiguous. (talk) \"</td><td>`` Oppose because in my view , `` '' lead '' '' in the context of `` '' lead paragraph '' '' is unambiguous . ( talk ) `` <<PAD>> <<PAD>> <<PAD>> <<PAD>> <<PAD>> <<PAD>> <<PAD>> <<PAD>></td><td>0</td><td>0</td><td>0</td><td>0</td><td>0</td><td>0</td></tr><tr><td> </td><td>  </td><td>0</td><td>0</td><td>0</td><td>1</td><td>1</td><td>0</td></tr><tr><td>. It picks up on weasel words when they are present, so this criteria seems to be cleared at present</td><td>. It picks up on weasel words when they are present , so this criteria seems to be cleared at present <<PAD>> <<PAD>> <<PAD>> <<PAD>> <<PAD>> <<PAD>> <<PAD>> <<PAD>> <<PAD>> <<PAD>> <<PAD>> <<PAD>> <<PAD>> <<PAD>> <<PAD>> <<PAD>></td><td>0</td><td>0</td><td>0</td><td>0</td><td>0</td><td>0</td></tr><tr><td> </td><td>  </td><td>0</td><td>0</td><td>0</td><td>1</td><td>1</td><td>0</td></tr><tr><td>IPA sounds \n",
       "\n",
       "What is the difference between the following?:\n",
       "\n",
       "/ts/ and /ts/\n",
       "\n",
       "/t/ and /t/\n",
       "\n",
       "/d/ and /d/</td><td>IPA sounds What is the difference between the following ? : /ts/ and /ts/ /t/ and /t/ /d/ and /d/ <<PAD>> <<PAD>> <<PAD>> <<PAD>> <<PAD>> <<PAD>> <<PAD>> <<PAD>> <<PAD>> <<PAD>> <<PAD>> <<PAD>> <<PAD>> <<PAD>> <<PAD>> <<PAD>> <<PAD>></td><td>0</td><td>0</td><td>0</td><td>0</td><td>0</td><td>0</td></tr><tr><td> </td><td>  </td><td>0</td><td>0</td><td>0</td><td>1</td><td>1</td><td>0</td></tr><tr><td>\"And when we get there, I'll write \"\"Free At Last, Free At Last, Thank God, We're Free at Last!\"\"\n",
       "\n",
       "\"</td><td>`` And when we get there , I 'll write `` '' Free At Last , Free At Last , Thank God , We 're Free at Last ! '' '' `` <<PAD>> <<PAD>> <<PAD>> <<PAD>> <<PAD>></td><td>0</td><td>0</td><td>0</td><td>0</td><td>0</td><td>0</td></tr><tr><td> </td><td>  </td><td>0</td><td>0</td><td>0</td><td>1</td><td>1</td><td>0</td></tr><tr><td>=Good work\n",
       "You've been doing very good work on creating articles related to Amelia goes to the Ball.</td><td>=Good work You 've been doing very good work on creating articles related to Amelia goes to the Ball . <<PAD>> <<PAD>> <<PAD>> <<PAD>> <<PAD>> <<PAD>> <<PAD>> <<PAD>> <<PAD>> <<PAD>> <<PAD>> <<PAD>> <<PAD>> <<PAD>> <<PAD>> <<PAD>> <<PAD>></td><td>0</td><td>0</td><td>0</td><td>0</td><td>0</td><td>0</td></tr><tr><td> </td><td>  </td><td>0</td><td>0</td><td>0</td><td>1</td><td>1</td><td>0</td></tr><tr><td>what happened, is the protocol of the Zionist, don't let you speak goodly about Jews?\n",
       "77.126.147.117</td><td>what happened , is the protocol of the Zionist , do n't let you speak goodly about Jews ? 77.126.147.117 <<PAD>> <<PAD>> <<PAD>> <<PAD>> <<PAD>> <<PAD>> <<PAD>> <<PAD>> <<PAD>> <<PAD>> <<PAD>> <<PAD>> <<PAD>> <<PAD>> <<PAD>> <<PAD>> <<PAD>></td><td>0</td><td>0</td><td>0</td><td>0</td><td>0</td><td>0</td></tr><tr><td> </td><td>  </td><td>0</td><td>0</td><td>0</td><td>1</td><td>1</td><td>0</td></tr><tr><td>Limbaugh bears a strong physical resemblance to notorious Illinois serial killer John Wayne Gacy Jr.</td><td>Limbaugh bears a strong physical resemblance to notorious Illinois serial killer John Wayne Gacy Jr . <<PAD>> <<PAD>> <<PAD>> <<PAD>> <<PAD>> <<PAD>> <<PAD>> <<PAD>> <<PAD>> <<PAD>> <<PAD>> <<PAD>> <<PAD>> <<PAD>> <<PAD>> <<PAD>> <<PAD>> <<PAD>> <<PAD>> <<PAD>> <<PAD>></td><td>0</td><td>0</td><td>0</td><td>0</td><td>0</td><td>0</td></tr><tr><td> </td><td>  </td><td>0</td><td>0</td><td>0</td><td>1</td><td>1</td><td>0</td></tr><tr><td>Thanks Jim! \n",
       "\n",
       "Thanks for your offer, I would be happy to learn anything you are willing to teach me.</td><td>Thanks Jim ! Thanks for your offer , I would be happy to learn anything you are willing to teach me . <<PAD>> <<PAD>> <<PAD>> <<PAD>> <<PAD>> <<PAD>> <<PAD>> <<PAD>> <<PAD>> <<PAD>> <<PAD>> <<PAD>> <<PAD>> <<PAD>> <<PAD>></td><td>0</td><td>0</td><td>0</td><td>0</td><td>0</td><td>0</td></tr><tr><td> </td><td>  </td><td>0</td><td>0</td><td>0</td><td>1</td><td>1</td><td>0</td></tr><tr><td>\"\n",
       " \"\"All users on wikipedia are to be polite and helpful to each other and you lack that\"\", sure.  \"</td><td>`` `` '' All users on wikipedia are to be polite and helpful to each other and you lack that '' '' , sure. `` <<PAD>> <<PAD>> <<PAD>> <<PAD>> <<PAD>> <<PAD>> <<PAD>> <<PAD>> <<PAD>> <<PAD>> <<PAD>> <<PAD>></td><td>0</td><td>0</td><td>0</td><td>0</td><td>0</td><td>0</td></tr><tr><td> </td><td>  </td><td>0</td><td>0</td><td>0</td><td>1</td><td>1</td><td>0</td></tr><tr><td>\"Bad external link \"\"Info on SMPP development (Croatian language) T-Mobile Croatia Dev. Portal\"\".  \"</td><td>`` Bad external link `` '' Info on SMPP development ( Croatian language ) T-Mobile Croatia Dev . Portal '' '' . `` <<PAD>> <<PAD>> <<PAD>> <<PAD>> <<PAD>> <<PAD>> <<PAD>> <<PAD>> <<PAD>> <<PAD>> <<PAD>> <<PAD>> <<PAD>> <<PAD>></td><td>0</td><td>0</td><td>0</td><td>0</td><td>0</td><td>0</td></tr><tr><td> </td><td>  </td><td>0</td><td>0</td><td>0</td><td>1</td><td>1</td><td>0</td></tr><tr><td>\"\n",
       "\n",
       "Please stop. If you continue to vandalize pages, you will be blocked from editing Wikipedia.  R \"</td><td>`` Please stop . If you continue to vandalize pages , you will be blocked from editing Wikipedia . R `` <<PAD>> <<PAD>> <<PAD>> <<PAD>> <<PAD>> <<PAD>> <<PAD>> <<PAD>> <<PAD>> <<PAD>> <<PAD>> <<PAD>> <<PAD>> <<PAD>> <<PAD>> <<PAD>></td><td>0</td><td>0</td><td>0</td><td>0</td><td>0</td><td>0</td></tr><tr><td> </td><td>  </td><td>0</td><td>0</td><td>0</td><td>1</td><td>1</td><td>0</td></tr><tr><td>\"\n",
       "OK, that right there just sounded like something  would say. Kinda creepy there Zarbon...   3:16 \"</td><td>`` OK , that right there just sounded like something would say . Kinda creepy there Zarbon ... 3:16 `` <<PAD>> <<PAD>> <<PAD>> <<PAD>> <<PAD>> <<PAD>> <<PAD>> <<PAD>> <<PAD>> <<PAD>> <<PAD>> <<PAD>> <<PAD>> <<PAD>> <<PAD>> <<PAD>> <<PAD>></td><td>0</td><td>0</td><td>0</td><td>0</td><td>0</td><td>0</td></tr><tr><td> </td><td>  </td><td>0</td><td>0</td><td>0</td><td>1</td><td>1</td><td>0</td></tr><tr><td>I'm NOT vandalising or harrassing, how am I harasshaign, I have made sensible comments. 83.67.56.138</td><td>I 'm NOT vandalising or harrassing , how am I harasshaign , I have made sensible comments . 83.67.56.138 <<PAD>> <<PAD>> <<PAD>> <<PAD>> <<PAD>> <<PAD>> <<PAD>> <<PAD>> <<PAD>> <<PAD>> <<PAD>> <<PAD>> <<PAD>> <<PAD>> <<PAD>> <<PAD>> <<PAD>> <<PAD>></td><td>0</td><td>0</td><td>0</td><td>0</td><td>0</td><td>0</td></tr><tr><td> </td><td>  </td><td>0</td><td>0</td><td>0</td><td>1</td><td>1</td><td>0</td></tr><tr><td>well im not going to have the internet for a year or more. so could you please just ban the account?</td><td>well im not going to have the internet for a year or more . so could you please just ban the account ? <<PAD>> <<PAD>> <<PAD>> <<PAD>> <<PAD>> <<PAD>> <<PAD>> <<PAD>> <<PAD>> <<PAD>> <<PAD>> <<PAD>> <<PAD>> <<PAD>></td><td>0</td><td>0</td><td>0</td><td>0</td><td>0</td><td>0</td></tr><tr><td> </td><td>  </td><td>0</td><td>0</td><td>0</td><td>1</td><td>1</td><td>0</td></tr><tr><td>Hmm, I am not surpriused. But what we need for inclusion in the article is reliable sources. Thanks,</td><td>Hmm , I am not surpriused . But what we need for inclusion in the article is reliable sources . Thanks , <<PAD>> <<PAD>> <<PAD>> <<PAD>> <<PAD>> <<PAD>> <<PAD>> <<PAD>> <<PAD>> <<PAD>> <<PAD>> <<PAD>> <<PAD>> <<PAD>> <<PAD>></td><td>0</td><td>0</td><td>0</td><td>0</td><td>0</td><td>0</td></tr><tr><td> </td><td>  </td><td>0</td><td>0</td><td>0</td><td>1</td><td>1</td><td>0</td></tr><tr><td>Please change the first sentence back to reflect the material actually in the reference. 89.100.0.70</td><td>Please change the first sentence back to reflect the material actually in the reference . 89.100.0.70 <<PAD>> <<PAD>> <<PAD>> <<PAD>> <<PAD>> <<PAD>> <<PAD>> <<PAD>> <<PAD>> <<PAD>> <<PAD>> <<PAD>> <<PAD>> <<PAD>> <<PAD>> <<PAD>> <<PAD>> <<PAD>> <<PAD>> <<PAD>> <<PAD>></td><td>0</td><td>0</td><td>0</td><td>0</td><td>0</td><td>0</td></tr><tr><td> </td><td>  </td><td>0</td><td>0</td><td>0</td><td>1</td><td>1</td><td>0</td></tr><tr><td>2014 (UTC)\n",
       "\n",
       "For the record: all of the copyvio content was removed by me, just now.   23:26, 28 June</td><td>2014 ( UTC ) For the record : all of the copyvio content was removed by me , just now . 23:26 , 28 June <<PAD>> <<PAD>> <<PAD>> <<PAD>> <<PAD>> <<PAD>> <<PAD>> <<PAD>> <<PAD>> <<PAD>> <<PAD>> <<PAD>></td><td>0</td><td>0</td><td>0</td><td>0</td><td>0</td><td>0</td></tr><tr><td> </td><td>  </td><td>0</td><td>0</td><td>0</td><td>1</td><td>1</td><td>0</td></tr><tr><td>\" (UTC)\n",
       "That is very rich coming from you. Don't fucking call me \"\"pathetic\"\".  17:00, 14 July 2005\"</td><td>`` ( UTC ) That is very rich coming from you . Do n't fucking call me `` '' pathetic '' '' . 17:00 , 14 July 2005 '' <<PAD>> <<PAD>> <<PAD>> <<PAD>> <<PAD>> <<PAD>> <<PAD>> <<PAD>></td><td>0</td><td>0</td><td>1</td><td>0</td><td>0</td><td>0</td></tr><tr><td> </td><td>  </td><td>0</td><td>0</td><td>0</td><td>1</td><td>1</td><td>0</td></tr><tr><td>See User talk:Hollow Wilerding\n",
       "That's right. And continue mocking us all you want. Goodbye, bastard.</td><td>See User talk : Hollow Wilerding That 's right . And continue mocking us all you want . Goodbye , bastard . <<PAD>> <<PAD>> <<PAD>> <<PAD>> <<PAD>> <<PAD>> <<PAD>> <<PAD>> <<PAD>> <<PAD>> <<PAD>> <<PAD>> <<PAD>> <<PAD>> <<PAD>></td><td>0</td><td>0</td><td>0</td><td>0</td><td>0</td><td>0</td></tr><tr><td> </td><td>  </td><td>0</td><td>0</td><td>0</td><td>1</td><td>1</td><td>0</td></tr><tr><td>Well Bretonbanquet, you appeared to be changing the wording yourself. Do you have any reason to why?</td><td>Well Bretonbanquet , you appeared to be changing the wording yourself . Do you have any reason to why ? <<PAD>> <<PAD>> <<PAD>> <<PAD>> <<PAD>> <<PAD>> <<PAD>> <<PAD>> <<PAD>> <<PAD>> <<PAD>> <<PAD>> <<PAD>> <<PAD>> <<PAD>> <<PAD>> <<PAD>></td><td>0</td><td>0</td><td>0</td><td>0</td><td>0</td><td>0</td></tr><tr><td> </td><td>  </td><td>0</td><td>0</td><td>0</td><td>1</td><td>1</td><td>0</td></tr><tr><td>DJsuckafree also did most of the artwork, Trouble a.k.a. Rob Ellis did the art for Guaparation canal</td><td>DJsuckafree also did most of the artwork , Trouble a.k.a . Rob Ellis did the art for Guaparation canal <<PAD>> <<PAD>> <<PAD>> <<PAD>> <<PAD>> <<PAD>> <<PAD>> <<PAD>> <<PAD>> <<PAD>> <<PAD>> <<PAD>> <<PAD>> <<PAD>> <<PAD>> <<PAD>> <<PAD>> <<PAD>></td><td>0</td><td>0</td><td>0</td><td>0</td><td>0</td><td>0</td></tr><tr><td> </td><td>  </td><td>0</td><td>0</td><td>0</td><td>1</td><td>1</td><td>0</td></tr><tr><td>\" I have also provided a few more arguments in the \"\"reasons for edit\"\" box, on the Leviathan page.\"</td><td>`` I have also provided a few more arguments in the `` '' reasons for edit '' '' box , on the Leviathan page . '' <<PAD>> <<PAD>> <<PAD>> <<PAD>> <<PAD>> <<PAD>> <<PAD>> <<PAD>> <<PAD>> <<PAD>> <<PAD>></td><td>0</td><td>0</td><td>0</td><td>0</td><td>0</td><td>0</td></tr><tr><td> </td><td>  </td><td>0</td><td>0</td><td>0</td><td>1</td><td>1</td><td>0</td></tr><tr><td>\"\n",
       "\n",
       "dave thomas\n",
       "just to tell you that i'll be fair with you if you'll be fair with me!\n",
       "\n",
       "Thank you.  \"</td><td>`` dave thomas just to tell you that i 'll be fair with you if you 'll be fair with me ! Thank you. `` <<PAD>> <<PAD>> <<PAD>> <<PAD>> <<PAD>> <<PAD>> <<PAD>> <<PAD>> <<PAD>> <<PAD>> <<PAD>> <<PAD>></td><td>0</td><td>0</td><td>0</td><td>0</td><td>0</td><td>0</td></tr><tr><td> </td><td>  </td><td>0</td><td>0</td><td>0</td><td>1</td><td>1</td><td>0</td></tr><tr><td>Dear Mr Warrior cyber bullying is not funny. I am sorry if I have hurt your feelings over the years.</td><td>Dear Mr Warrior cyber bullying is not funny . I am sorry if I have hurt your feelings over the years . <<PAD>> <<PAD>> <<PAD>> <<PAD>> <<PAD>> <<PAD>> <<PAD>> <<PAD>> <<PAD>> <<PAD>> <<PAD>> <<PAD>> <<PAD>> <<PAD>> <<PAD>></td><td>0</td><td>0</td><td>0</td><td>0</td><td>0</td><td>0</td></tr><tr><td> </td><td>  </td><td>0</td><td>0</td><td>0</td><td>1</td><td>1</td><td>0</td></tr><tr><td>Please stop.  If you continue to vandalize pages, you will be blocked from editing Wikipedia.  (t/c)</td><td>Please stop . If you continue to vandalize pages , you will be blocked from editing Wikipedia . ( t/c ) <<PAD>> <<PAD>> <<PAD>> <<PAD>> <<PAD>> <<PAD>> <<PAD>> <<PAD>> <<PAD>> <<PAD>> <<PAD>> <<PAD>> <<PAD>> <<PAD>> <<PAD>> <<PAD>></td><td>0</td><td>0</td><td>0</td><td>0</td><td>0</td><td>0</td></tr><tr><td> </td><td>  </td><td>0</td><td>0</td><td>0</td><td>1</td><td>1</td><td>0</td></tr><tr><td>I'm in a school you bitch fuck. I have like 20 computers. If you want a war you spic, you've got it.</td><td>I 'm in a school you bitch fuck . I have like 20 computers . If you want a war you spic , you 've got it . <<PAD>> <<PAD>> <<PAD>> <<PAD>> <<PAD>> <<PAD>> <<PAD>> <<PAD>> <<PAD>></td><td>0</td><td>0</td><td>1</td><td>0</td><td>1</td><td>0</td></tr><tr><td> </td><td>  </td><td>0</td><td>0</td><td>0</td><td>1</td><td>1</td><td>0</td></tr><tr><td>\"\n",
       "I like messing around with your talk page. Can I do it every day?  Nearly Headless Nick  {C} {L} \"</td><td>`` I like messing around with your talk page . Can I do it every day ? Nearly Headless Nick { C } { L } `` <<PAD>> <<PAD>> <<PAD>> <<PAD>> <<PAD>> <<PAD>> <<PAD>> <<PAD>> <<PAD>> <<PAD>></td><td>0</td><td>0</td><td>0</td><td>0</td><td>0</td><td>0</td></tr><tr><td> </td><td>  </td><td>0</td><td>0</td><td>0</td><td>1</td><td>1</td><td>0</td></tr><tr><td>Contributions: \n",
       "Added much info to Sellersville Pennsylvannia  \n",
       "Authored Transgenic Plant Production</td><td>Contributions : Added much info to Sellersville Pennsylvannia Authored Transgenic Plant Production <<PAD>> <<PAD>> <<PAD>> <<PAD>> <<PAD>> <<PAD>> <<PAD>> <<PAD>> <<PAD>> <<PAD>> <<PAD>> <<PAD>> <<PAD>> <<PAD>> <<PAD>> <<PAD>> <<PAD>> <<PAD>> <<PAD>> <<PAD>> <<PAD>> <<PAD>> <<PAD>> <<PAD>> <<PAD>></td><td>0</td><td>0</td><td>0</td><td>0</td><td>0</td><td>0</td></tr><tr><td> </td><td>  </td><td>0</td><td>0</td><td>0</td><td>1</td><td>1</td><td>0</td></tr><tr><td>Please stop. If you continue to vandalize pages, you will be blocked from editing Wikipedia.   Jklin</td><td>Please stop . If you continue to vandalize pages , you will be blocked from editing Wikipedia . Jklin <<PAD>> <<PAD>> <<PAD>> <<PAD>> <<PAD>> <<PAD>> <<PAD>> <<PAD>> <<PAD>> <<PAD>> <<PAD>> <<PAD>> <<PAD>> <<PAD>> <<PAD>> <<PAD>> <<PAD>> <<PAD>></td><td>0</td><td>0</td><td>0</td><td>0</td><td>0</td><td>0</td></tr><tr><td> </td><td>  </td><td>0</td><td>0</td><td>0</td><td>1</td><td>1</td><td>0</td></tr><tr><td>The article is rubbish, but it's not wrong to describe him as a fascist - or at least he became one.</td><td>The article is rubbish , but it 's not wrong to describe him as a fascist - or at least he became one . <<PAD>> <<PAD>> <<PAD>> <<PAD>> <<PAD>> <<PAD>> <<PAD>> <<PAD>> <<PAD>> <<PAD>> <<PAD>> <<PAD>> <<PAD>></td><td>0</td><td>0</td><td>0</td><td>0</td><td>0</td><td>0</td></tr><tr><td> </td><td>  </td><td>0</td><td>0</td><td>0</td><td>1</td><td>1</td><td>0</td></tr><tr><td>Fastest star fleeing \n",
       "\n",
       "http://news.sciencemag.org/space/2015/03/fastest-unbound-star-flee-our-galaxy</td><td>Fastest star fleeing http : //news.sciencemag.org/space/2015/03/fastest-unbound-star-flee-our-galaxy <<PAD>> <<PAD>> <<PAD>> <<PAD>> <<PAD>> <<PAD>> <<PAD>> <<PAD>> <<PAD>> <<PAD>> <<PAD>> <<PAD>> <<PAD>> <<PAD>> <<PAD>> <<PAD>> <<PAD>> <<PAD>> <<PAD>> <<PAD>> <<PAD>> <<PAD>> <<PAD>> <<PAD>> <<PAD>> <<PAD>> <<PAD>> <<PAD>> <<PAD>> <<PAD>> <<PAD>></td><td>0</td><td>0</td><td>0</td><td>0</td><td>0</td><td>0</td></tr><tr><td> </td><td>  </td><td>0</td><td>0</td><td>0</td><td>1</td><td>1</td><td>0</td></tr><tr><td>\"\n",
       "\n",
       "Note also section 1 in the main page lists \"\"R(t+1).\"\"  Shouldn't this be \"\"R(t)\"\" as well?  RDK\"</td><td>`` Note also section 1 in the main page lists `` '' R ( t+1 ) . '' '' Should n't this be `` '' R ( t ) '' '' as well ? RDK '' <<PAD>></td><td>0</td><td>0</td><td>0</td><td>0</td><td>0</td><td>0</td></tr><tr><td> </td><td>  </td><td>0</td><td>0</td><td>0</td><td>0</td><td>1</td><td>0</td></tr><tr><td>I hve been blocked for an unjust reason. This is a share computer, punish not the whole for the few.</td><td>I hve been blocked for an unjust reason . This is a share computer , punish not the whole for the few . <<PAD>> <<PAD>> <<PAD>> <<PAD>> <<PAD>> <<PAD>> <<PAD>> <<PAD>> <<PAD>> <<PAD>> <<PAD>> <<PAD>> <<PAD>> <<PAD>></td><td>0</td><td>0</td><td>0</td><td>0</td><td>0</td><td>0</td></tr><tr><td> </td><td>  </td><td>0</td><td>0</td><td>0</td><td>1</td><td>1</td><td>0</td></tr><tr><td>Sounds nice to.But don't you think we should wait a little it?Find more info is an option-TehBazzard</td><td>Sounds nice to.But do n't you think we should wait a little it ? Find more info is an option-TehBazzard <<PAD>> <<PAD>> <<PAD>> <<PAD>> <<PAD>> <<PAD>> <<PAD>> <<PAD>> <<PAD>> <<PAD>> <<PAD>> <<PAD>> <<PAD>> <<PAD>> <<PAD>> <<PAD>> <<PAD>></td><td>0</td><td>0</td><td>0</td><td>0</td><td>0</td><td>0</td></tr><tr><td> </td><td>  </td><td>0</td><td>0</td><td>0</td><td>1</td><td>1</td><td>0</td></tr><tr><td>Some guy's blog is not a WP:RS.  Find a reliable source, then we can discuss if it merits inclusion.</td><td>Some guy 's blog is not a WP : RS . Find a reliable source , then we can discuss if it merits inclusion . <<PAD>> <<PAD>> <<PAD>> <<PAD>> <<PAD>> <<PAD>> <<PAD>> <<PAD>> <<PAD>> <<PAD>> <<PAD>> <<PAD>></td><td>0</td><td>0</td><td>0</td><td>0</td><td>0</td><td>0</td></tr><tr><td> </td><td>  </td><td>0</td><td>0</td><td>0</td><td>1</td><td>1</td><td>0</td></tr><tr><td>Assume? You are the first part of the word, yes. The WKRC edit was cited. Now bite me\n",
       "\n",
       "71.64.155.216</td><td>Assume ? You are the first part of the word , yes . The WKRC edit was cited . Now bite me 71.64.155.216 <<PAD>> <<PAD>> <<PAD>> <<PAD>> <<PAD>> <<PAD>> <<PAD>> <<PAD>> <<PAD>> <<PAD>> <<PAD>> <<PAD>> <<PAD>> <<PAD>></td><td>0</td><td>0</td><td>0</td><td>0</td><td>0</td><td>0</td></tr><tr><td> </td><td>  </td><td>0</td><td>0</td><td>0</td><td>1</td><td>1</td><td>0</td></tr><tr><td>Ja, ik ben een Nederlander (though currently transplanted to the USA). We're not the only ones here:</td><td>Ja , ik ben een Nederlander ( though currently transplanted to the USA ) . We 're not the only ones here : <<PAD>> <<PAD>> <<PAD>> <<PAD>> <<PAD>> <<PAD>> <<PAD>> <<PAD>> <<PAD>> <<PAD>> <<PAD>> <<PAD>> <<PAD>> <<PAD>></td><td>0</td><td>0</td><td>0</td><td>0</td><td>0</td><td>0</td></tr><tr><td> </td><td>  </td><td>0</td><td>0</td><td>0</td><td>1</td><td>1</td><td>0</td></tr><tr><td>follow the money to wikipedia from the  circumcision lobby \n",
       "\n",
       "Jimbo sold out.  mankind 78.108.108.254</td><td>follow the money to wikipedia from the circumcision lobby Jimbo sold out . mankind 78.108.108.254 <<PAD>> <<PAD>> <<PAD>> <<PAD>> <<PAD>> <<PAD>> <<PAD>> <<PAD>> <<PAD>> <<PAD>> <<PAD>> <<PAD>> <<PAD>> <<PAD>> <<PAD>> <<PAD>> <<PAD>> <<PAD>> <<PAD>> <<PAD>> <<PAD>> <<PAD>></td><td>0</td><td>0</td><td>0</td><td>0</td><td>0</td><td>0</td></tr><tr><td> </td><td>  </td><td>0</td><td>0</td><td>0</td><td>1</td><td>1</td><td>0</td></tr><tr><td>Love & Rockets\n",
       "Hey I was wondering why you refer to the Love and Rockets trade paperbacks as albums?</td><td>Love & Rockets Hey I was wondering why you refer to the Love and Rockets trade paperbacks as albums ? <<PAD>> <<PAD>> <<PAD>> <<PAD>> <<PAD>> <<PAD>> <<PAD>> <<PAD>> <<PAD>> <<PAD>> <<PAD>> <<PAD>> <<PAD>> <<PAD>> <<PAD>> <<PAD>> <<PAD>></td><td>0</td><td>0</td><td>0</td><td>0</td><td>0</td><td>0</td></tr><tr><td> </td><td>  </td><td>0</td><td>0</td><td>0</td><td>1</td><td>1</td><td>0</td></tr><tr><td>Yes it has just this kind small blueish i banner. I appreciate the automatism than, too!  Thank you!</td><td>Yes it has just this kind small blueish i banner . I appreciate the automatism than , too ! Thank you ! <<PAD>> <<PAD>> <<PAD>> <<PAD>> <<PAD>> <<PAD>> <<PAD>> <<PAD>> <<PAD>> <<PAD>> <<PAD>> <<PAD>> <<PAD>> <<PAD>> <<PAD>></td><td>0</td><td>0</td><td>0</td><td>0</td><td>0</td><td>0</td></tr><tr><td> </td><td>  </td><td>0</td><td>0</td><td>0</td><td>1</td><td>1</td><td>0</td></tr><tr><td>\"\n",
       "An entry from  appeared on Wikipedia's Main Page in the Did you know? column on 30 January, 2007.\"</td><td>`` An entry from appeared on Wikipedia 's Main Page in the Did you know ? column on 30 January , 2007 . '' <<PAD>> <<PAD>> <<PAD>> <<PAD>> <<PAD>> <<PAD>> <<PAD>> <<PAD>> <<PAD>> <<PAD>> <<PAD>> <<PAD>> <<PAD>></td><td>0</td><td>0</td><td>0</td><td>0</td><td>0</td><td>0</td></tr><tr><td> </td><td>  </td><td>0</td><td>0</td><td>0</td><td>1</td><td>1</td><td>0</td></tr><tr><td>I've also warned this person, in detail, at several IP addresses.  He pops up every two weeks or so.</td><td>I 've also warned this person , in detail , at several IP addresses . He pops up every two weeks or so . <<PAD>> <<PAD>> <<PAD>> <<PAD>> <<PAD>> <<PAD>> <<PAD>> <<PAD>> <<PAD>> <<PAD>> <<PAD>> <<PAD>> <<PAD>></td><td>0</td><td>0</td><td>0</td><td>0</td><td>0</td><td>0</td></tr><tr><td> </td><td>  </td><td>0</td><td>0</td><td>0</td><td>1</td><td>1</td><td>0</td></tr><tr><td>Reversion Seat > See \n",
       "\n",
       "Reverted change of See to Seat: bishops properly do have a See ~   Talk + new</td><td>Reversion Seat > See Reverted change of See to Seat : bishops properly do have a See ~ Talk + new <<PAD>> <<PAD>> <<PAD>> <<PAD>> <<PAD>> <<PAD>> <<PAD>> <<PAD>> <<PAD>> <<PAD>> <<PAD>> <<PAD>> <<PAD>> <<PAD>> <<PAD>> <<PAD>></td><td>0</td><td>0</td><td>0</td><td>0</td><td>0</td><td>0</td></tr><tr><td> </td><td>  </td><td>0</td><td>0</td><td>0</td><td>1</td><td>1</td><td>0</td></tr><tr><td>You can check Grey's Anatomy Music Guide as it even says what part of the episode songs were played.</td><td>You can check Grey 's Anatomy Music Guide as it even says what part of the episode songs were played . <<PAD>> <<PAD>> <<PAD>> <<PAD>> <<PAD>> <<PAD>> <<PAD>> <<PAD>> <<PAD>> <<PAD>> <<PAD>> <<PAD>> <<PAD>> <<PAD>> <<PAD>> <<PAD>></td><td>0</td><td>0</td><td>0</td><td>0</td><td>0</td><td>0</td></tr><tr><td> </td><td>  </td><td>0</td><td>0</td><td>0</td><td>1</td><td>1</td><td>0</td></tr><tr><td>I was always keeping an eye on the page. I was just staying away during the blocks. mail me any time</td><td>I was always keeping an eye on the page . I was just staying away during the blocks . mail me any time <<PAD>> <<PAD>> <<PAD>> <<PAD>> <<PAD>> <<PAD>> <<PAD>> <<PAD>> <<PAD>> <<PAD>> <<PAD>> <<PAD>> <<PAD>> <<PAD>></td><td>0</td><td>0</td><td>0</td><td>0</td><td>0</td><td>0</td></tr><tr><td> </td><td>  </td><td>0</td><td>0</td><td>0</td><td>1</td><td>1</td><td>0</td></tr><tr><td>\"\n",
       "\n",
       " captain america \n",
       "\n",
       "since he is the new cap, should this article be renamed?  communicator/kills \"</td><td>`` captain america since he is the new cap , should this article be renamed ? communicator/kills `` <<PAD>> <<PAD>> <<PAD>> <<PAD>> <<PAD>> <<PAD>> <<PAD>> <<PAD>> <<PAD>> <<PAD>> <<PAD>> <<PAD>> <<PAD>> <<PAD>> <<PAD>> <<PAD>> <<PAD>> <<PAD>> <<PAD>></td><td>0</td><td>0</td><td>0</td><td>0</td><td>0</td><td>0</td></tr><tr><td> </td><td>  </td><td>0</td><td>0</td><td>0</td><td>1</td><td>1</td><td>0</td></tr><tr><td>It's pretty much proven that I'm not Wagner, I don't really see how this is really a problem.   talk</td><td>It 's pretty much proven that I 'm not Wagner , I do n't really see how this is really a problem . talk <<PAD>> <<PAD>> <<PAD>> <<PAD>> <<PAD>> <<PAD>> <<PAD>> <<PAD>> <<PAD>> <<PAD>> <<PAD>> <<PAD>> <<PAD>></td><td>0</td><td>0</td><td>0</td><td>0</td><td>0</td><td>0</td></tr><tr><td> </td><td>  </td><td>0</td><td>0</td><td>0</td><td>1</td><td>1</td><td>0</td></tr><tr><td>Last post\n",
       "I'm posting this here so that you know I will no longer write here. This is the last post.</td><td>Last post I 'm posting this here so that you know I will no longer write here . This is the last post . <<PAD>> <<PAD>> <<PAD>> <<PAD>> <<PAD>> <<PAD>> <<PAD>> <<PAD>> <<PAD>> <<PAD>> <<PAD>> <<PAD>> <<PAD>></td><td>0</td><td>0</td><td>0</td><td>0</td><td>0</td><td>0</td></tr><tr><td> </td><td>  </td><td>0</td><td>0</td><td>0</td><td>1</td><td>1</td><td>0</td></tr><tr><td>I have moved the article to main (article) space. You're welcome to continue working on the article.</td><td>I have moved the article to main ( article ) space . You 're welcome to continue working on the article . <<PAD>> <<PAD>> <<PAD>> <<PAD>> <<PAD>> <<PAD>> <<PAD>> <<PAD>> <<PAD>> <<PAD>> <<PAD>> <<PAD>> <<PAD>> <<PAD>> <<PAD>></td><td>0</td><td>0</td><td>0</td><td>0</td><td>0</td><td>0</td></tr><tr><td> </td><td>  </td><td>0</td><td>0</td><td>0</td><td>1</td><td>1</td><td>0</td></tr><tr><td>You just fucked with the wrong dude \n",
       "\n",
       "You messed with the real law now and you fucked up175.38.160.39</td><td>You just fucked with the wrong dude You messed with the real law now and you fucked up175.38.160.39 <<PAD>> <<PAD>> <<PAD>> <<PAD>> <<PAD>> <<PAD>> <<PAD>> <<PAD>> <<PAD>> <<PAD>> <<PAD>> <<PAD>> <<PAD>> <<PAD>> <<PAD>> <<PAD>> <<PAD>> <<PAD>> <<PAD>></td><td>0</td><td>0</td><td>1</td><td>0</td><td>1</td><td>0</td></tr><tr><td> </td><td>  </td><td>0</td><td>0</td><td>0</td><td>1</td><td>1</td><td>0</td></tr><tr><td>Moreover, none of the sources identify COCOF Assembly as a body required to vote on the ratification.</td><td>Moreover , none of the sources identify COCOF Assembly as a body required to vote on the ratification . <<PAD>> <<PAD>> <<PAD>> <<PAD>> <<PAD>> <<PAD>> <<PAD>> <<PAD>> <<PAD>> <<PAD>> <<PAD>> <<PAD>> <<PAD>> <<PAD>> <<PAD>> <<PAD>> <<PAD>> <<PAD>></td><td>0</td><td>0</td><td>0</td><td>0</td><td>0</td><td>0</td></tr><tr><td> </td><td>  </td><td>0</td><td>0</td><td>0</td><td>1</td><td>1</td><td>0</td></tr></table>"
      ],
      "text/plain": [
       "<IPython.core.display.HTML object>"
      ]
     },
     "metadata": {},
     "output_type": "display_data"
    },
    {
     "name": "stderr",
     "output_type": "stream",
     "text": [
      "2018-01-29 11:29:29,424:TRAINER.main:CRITICAL:               train:: memory consumed : 2462363648\n",
      " 83%|████████▎ | 882/1059 [04:25<01:43,  1.71it/s]"
     ]
    }
   ],
   "source": [
    "import random\n",
    "def  experiment(epochs=10, checkpoint=1):\n",
    "    model =  Model(Config(), len(INPUT_VOCAB), len(OUTPUT_VOCAB))\n",
    "    if Config().cuda:  model = model.cuda()\n",
    "        \n",
    "    split_index = int( len(train_datapoints) * 0.85 )\n",
    "    train_feed = DataFeed(train_datapoints[:split_index], batchop=batchop, batch_size=128)\n",
    "    test_feed = DataFeed(train_datapoints[split_index:], batchop=batchop, batch_size=120)\n",
    "\n",
    "    trainer = Trainer(model=model, loss_function=loss, accuracy_function=accuracy, \n",
    "                    checkpoint=checkpoint, epochs=epochs,\n",
    "                    feeder = Feeder(train_feed, test_feed))\n",
    "\n",
    "    predictor = Predictor(model=model, repr_function=repr_function, feed=test_feed)\n",
    "    output, results = predictor.predict(random.choice(range(test_feed.num_batch)))\n",
    "\n",
    "    for e in range(10000):\n",
    "        output, results = predictor.predict(random.choice(range(test_feed.num_batch)))\n",
    "        display(HTML(results._repr_html_()))\n",
    "        trainer.train()\n",
    "        \n",
    "experiment()"
   ]
  },
  {
   "cell_type": "markdown",
   "metadata": {},
   "source": [
    "## Experiment on model using attention"
   ]
  },
  {
   "cell_type": "code",
   "execution_count": null,
   "metadata": {
    "collapsed": true
   },
   "outputs": [],
   "source": [
    "import random\n",
    "def  experiment(epochs=10, checkpoint=1):\n",
    "    model =  Model(Config(), len(INPUT_VOCAB), len(OUTPUT_VOCAB))\n",
    "    if Config().cuda:  model = model.cuda()\n",
    "        \n",
    "    split_index = int( len(train_datapoints) * 0.85 )\n",
    "    train_feed = DataFeed(train_datapoints[:split_index], batchop=batchop, batch_size=128)\n",
    "    test_feed = DataFeed(train_datapoints[split_index:], batchop=batchop, batch_size=120)\n",
    "\n",
    "    trainer = Trainer(model=model, loss_function=loss, accuracy_function=accuracy, \n",
    "                    checkpoint=checkpoint, epochs=epochs,\n",
    "                    feeder = Feeder(train_feed, test_feed))\n",
    "\n",
    "    predictor = Predictor(model=model, repr_function=repr_function, feed=test_feed)\n",
    "    output, results = predictor.predict(random.choice(range(test_feed.num_batch)))\n",
    "\n",
    "    for e in range(10000):\n",
    "        output, results = predictor.predict(random.choice(range(test_feed.num_batch)))\n",
    "        display(HTML(results._repr_html_()))\n",
    "        trainer.train()\n",
    "        \n",
    "experiment()"
   ]
  },
  {
   "cell_type": "code",
   "execution_count": null,
   "metadata": {
    "collapsed": true
   },
   "outputs": [],
   "source": []
  },
  {
   "cell_type": "code",
   "execution_count": null,
   "metadata": {},
   "outputs": [],
   "source": [
    "dummy_feed = DataFeed(train_datapoints[:100], batchop=batchop, batch_size=1)\n",
    "indices, (seq,), (target,) = dummy_feed.nth_batch(random.choice(range(dummy_feed.num_batch)))\n",
    "print(dummy_feed.data_dict[indices[0]])\n",
    "print([INPUT_VOCAB[i] for i in seq[0]])"
   ]
  }
 ],
 "metadata": {
  "kernelspec": {
   "display_name": "pytorch-py35",
   "language": "python",
   "name": "pytorch-py35"
  },
  "language_info": {
   "codemirror_mode": {
    "name": "ipython",
    "version": 3
   },
   "file_extension": ".py",
   "mimetype": "text/x-python",
   "name": "python",
   "nbconvert_exporter": "python",
   "pygments_lexer": "ipython3",
   "version": "3.5.2"
  }
 },
 "nbformat": 4,
 "nbformat_minor": 2
}
